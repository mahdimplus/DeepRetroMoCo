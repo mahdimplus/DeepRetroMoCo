{
 "cells": [
  {
   "cell_type": "code",
   "execution_count": 1,
   "metadata": {},
   "outputs": [],
   "source": [
    "import nbimporter\n",
    "from functions import *\n",
    "import glob, os\n",
    "\n"
   ]
  },
  {
   "cell_type": "code",
   "execution_count": null,
   "metadata": {},
   "outputs": [],
   "source": [
    "output_direction='/home/mahdi/python codes/start/s21_RND_another_ref'\n",
    "input_direction='/home/mahdi/Desktop/data_selection_D7/S28_MSL.nii.gz'\n",
    "reference=136\n",
    "maximum_intensity=1705\n",
    "model='200epoch_with_val.h5'\n",
    "\n",
    "main(input_direction,reference,output_direction,maximum_intensity,model)\n"
   ]
  },
  {
   "cell_type": "code",
   "execution_count": null,
   "metadata": {},
   "outputs": [],
   "source": [
    "output_direction='/home/mahdi/python codes/start/3_out'\n",
    "input_direction='/home/mahdi/Desktop/data_selection_D7/S02_MSL.nii.gz'\n",
    "reference=0\n",
    "maximum_intensity=1705\n",
    "model='200epoch_with_val.h5'\n",
    "main(input_direction,reference,output_direction,maximum_intensity,model)"
   ]
  },
  {
   "cell_type": "code",
   "execution_count": null,
   "metadata": {},
   "outputs": [],
   "source": [
    "output_direction='/home/mahdi/python codes/start/2_with_mean'\n",
    "input_direction='/home/mahdi/Desktop/data_selection_D7/S02_MSL.nii.gz'\n",
    "reference='/home/mahdi/Desktop/data_selection_D7/mean.nii'\n",
    "maximum_intensity=1705\n",
    "model='200epoch_with_val.h5'\n",
    "\n",
    "main(input_direction,reference,output_direction,maximum_intensity,model)\n"
   ]
  },
  {
   "cell_type": "code",
   "execution_count": null,
   "metadata": {},
   "outputs": [],
   "source": [
    "output_direction='/home/mahdi/python codes/start/2_with_zero'\n",
    "input_direction='/home/mahdi/Desktop/data_selection_D7/S02_MSL.nii.gz'\n",
    "reference='0'\n",
    "maximum_intensity=1705\n",
    "model='200epoch_with_val.h5'\n",
    "\n",
    "main(input_direction,reference,output_direction,maximum_intensity,model)\n"
   ]
  },
  {
   "cell_type": "code",
   "execution_count": 2,
   "metadata": {},
   "outputs": [
    {
     "name": "stdout",
     "output_type": "stream",
     "text": [
      "--- 33.105462312698364 second ---\n"
     ]
    }
   ],
   "source": [
    "output_direction='/home/mahdi/python codes/start/2_with_mid'\n",
    "input_direction='/home/mahdi/Desktop/data_selection_D7/S02_MSL.nii.gz'\n",
    "n=int(nib.load(input_direction).shape[3]/2)\n",
    "reference='102'\n",
    "maximum_intensity=1705\n",
    "model='200epoch_with_val.h5'\n",
    "\n",
    "main(input_direction,reference,output_direction,maximum_intensity,model)\n"
   ]
  }
 ],
 "metadata": {
  "kernelspec": {
   "display_name": "Python 3",
   "language": "python",
   "name": "python3"
  },
  "language_info": {
   "codemirror_mode": {
    "name": "ipython",
    "version": 3
   },
   "file_extension": ".py",
   "mimetype": "text/x-python",
   "name": "python",
   "nbconvert_exporter": "python",
   "pygments_lexer": "ipython3",
   "version": "3.7.9"
  }
 },
 "nbformat": 4,
 "nbformat_minor": 4
}
