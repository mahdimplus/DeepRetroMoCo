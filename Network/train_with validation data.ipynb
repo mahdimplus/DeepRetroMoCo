{
  "cells": [
    {
      "cell_type": "markdown",
      "source": [
        "[![Open In Colab](https://colab.research.google.com/assets/colab-badge.svg)](https://colab.research.google.com/github/mahdimplus/DeepRetroMoco/blob/main/network/train_with_validtiondatafunctions.ipynb)"
      ],
      "metadata": {
        "id": "CouPttSA0YgZ"
      }
    },
    {
      "cell_type": "code",
      "source": [
        "from google.colab import drive\n",
        "drive.mount('/content/drive')\n",
        "\n"
      ],
      "metadata": {
        "id": "-rzBTKnjJmAs",
        "outputId": "9ecfe1c1-0b38-433b-bd28-eabe16348556",
        "colab": {
          "base_uri": "https://localhost:8080/"
        }
      },
      "execution_count": 1,
      "outputs": [
        {
          "output_type": "stream",
          "name": "stdout",
          "text": [
            "Drive already mounted at /content/drive; to attempt to forcibly remount, call drive.mount(\"/content/drive\", force_remount=True).\n"
          ]
        }
      ]
    },
    {
      "cell_type": "code",
      "source": [
        "!apt-get install -y -qq software-properties-common python-software-properties module-init-tools\n",
        "!add-apt-repository -y ppa:alessandro-strada/ppa 2>&1 > /dev/null\n",
        "!apt-get update -qq 2>&1 > /dev/null\n",
        "!apt-get -y install -qq google-drive-ocamlfuse fuse\n",
        "from google.colab import auth\n",
        "auth.authenticate_user()\n",
        "from oauth2client.client import GoogleCredentials\n",
        "creds = GoogleCredentials.get_application_default()\n",
        "import getpass\n",
        "!google-drive-ocamlfuse -headless -id={creds.client_id} -secret={creds.client_secret} < /dev/null 2>&1 | grep URL\n",
        "vcode = getpass.getpass()\n",
        "!echo {vcode} | google-drive-ocamlfuse -headless -id={creds.client_id} -secret={creds.client_secret}\n",
        "%cd /content\n",
        "!mkdir drive\n",
        "%cd drive\n",
        "!mkdir MyDrive\n",
        "%cd ..\n",
        "%cd ..\n",
        "!google-drive-ocamlfuse /content/drive/MyDrive"
      ],
      "metadata": {
        "id": "sMjV-kBrjccB"
      },
      "execution_count": null,
      "outputs": []
    },
    {
      "cell_type": "code",
      "source": [
        "d1='/content/drive/MyDrive/data/data selection_D1/S02_MSL.nii.gz'\n",
        "import nibabel as nib\n",
        "\n",
        "def load_m (file_path):\n",
        "    \n",
        "    img = nib.load(file_path)\n",
        "    img_data = img.get_fdata()\n",
        "    \n",
        "    if img.shape[0:2]!=(64,64):\n",
        "    \n",
        "        img_data = img_data[23:87,23:87,:,:]\n",
        "        \n",
        "    if not (file_path.endswith(\".nii\") or file_path.endswith(\".nii.gz\")):\n",
        "        raise ValueError(\n",
        "              f\"Nifti file path must end with .nii or .nii.gz, got {file_path}.\"\n",
        "                        )\n",
        "    return img_data\n",
        "z=load_m(d1)\n",
        "\n"
      ],
      "metadata": {
        "id": "CRLfsbqM_SvR"
      },
      "execution_count": 2,
      "outputs": []
    },
    {
      "cell_type": "code",
      "source": [
        "z1=z[...,4,0]\n",
        "z2=z[...,4,80]"
      ],
      "metadata": {
        "id": "rskkpBk5jrO8"
      },
      "execution_count": 3,
      "outputs": []
    },
    {
      "cell_type": "code",
      "source": [
        "import numpy as np\n",
        "import keras.backend as K"
      ],
      "metadata": {
        "id": "_u9zQUmJCRKW"
      },
      "execution_count": 4,
      "outputs": []
    },
    {
      "cell_type": "code",
      "source": [
        "pip install voxelmorph\n"
      ],
      "metadata": {
        "id": "80X4he9ILFFL",
        "outputId": "50619b2b-d6da-4ecd-9110-78037833a795",
        "colab": {
          "base_uri": "https://localhost:8080/"
        }
      },
      "execution_count": 5,
      "outputs": [
        {
          "output_type": "stream",
          "name": "stdout",
          "text": [
            "Requirement already satisfied: voxelmorph in /usr/local/lib/python3.7/dist-packages (0.1)\n",
            "Requirement already satisfied: scipy in /usr/local/lib/python3.7/dist-packages (from voxelmorph) (1.4.1)\n",
            "Requirement already satisfied: h5py in /usr/local/lib/python3.7/dist-packages (from voxelmorph) (3.1.0)\n",
            "Requirement already satisfied: nibabel in /usr/local/lib/python3.7/dist-packages (from voxelmorph) (3.0.2)\n",
            "Requirement already satisfied: scikit-image in /usr/local/lib/python3.7/dist-packages (from voxelmorph) (0.18.3)\n",
            "Requirement already satisfied: neurite in /usr/local/lib/python3.7/dist-packages (from voxelmorph) (0.1)\n",
            "Requirement already satisfied: numpy in /usr/local/lib/python3.7/dist-packages (from voxelmorph) (1.21.5)\n",
            "Requirement already satisfied: cached-property in /usr/local/lib/python3.7/dist-packages (from h5py->voxelmorph) (1.5.2)\n",
            "Requirement already satisfied: matplotlib in /usr/local/lib/python3.7/dist-packages (from neurite->voxelmorph) (3.2.2)\n",
            "Requirement already satisfied: scikit-learn in /usr/local/lib/python3.7/dist-packages (from neurite->voxelmorph) (1.0.2)\n",
            "Requirement already satisfied: six in /usr/local/lib/python3.7/dist-packages (from neurite->voxelmorph) (1.15.0)\n",
            "Requirement already satisfied: pystrum in /usr/local/lib/python3.7/dist-packages (from neurite->voxelmorph) (0.1)\n",
            "Requirement already satisfied: tqdm in /usr/local/lib/python3.7/dist-packages (from neurite->voxelmorph) (4.63.0)\n",
            "Requirement already satisfied: cycler>=0.10 in /usr/local/lib/python3.7/dist-packages (from matplotlib->neurite->voxelmorph) (0.11.0)\n",
            "Requirement already satisfied: kiwisolver>=1.0.1 in /usr/local/lib/python3.7/dist-packages (from matplotlib->neurite->voxelmorph) (1.3.2)\n",
            "Requirement already satisfied: python-dateutil>=2.1 in /usr/local/lib/python3.7/dist-packages (from matplotlib->neurite->voxelmorph) (2.8.2)\n",
            "Requirement already satisfied: pyparsing!=2.0.4,!=2.1.2,!=2.1.6,>=2.0.1 in /usr/local/lib/python3.7/dist-packages (from matplotlib->neurite->voxelmorph) (3.0.7)\n",
            "Requirement already satisfied: networkx>=2.0 in /usr/local/lib/python3.7/dist-packages (from scikit-image->voxelmorph) (2.6.3)\n",
            "Requirement already satisfied: tifffile>=2019.7.26 in /usr/local/lib/python3.7/dist-packages (from scikit-image->voxelmorph) (2021.11.2)\n",
            "Requirement already satisfied: imageio>=2.3.0 in /usr/local/lib/python3.7/dist-packages (from scikit-image->voxelmorph) (2.4.1)\n",
            "Requirement already satisfied: PyWavelets>=1.1.1 in /usr/local/lib/python3.7/dist-packages (from scikit-image->voxelmorph) (1.2.0)\n",
            "Requirement already satisfied: pillow!=7.1.0,!=7.1.1,>=4.3.0 in /usr/local/lib/python3.7/dist-packages (from scikit-image->voxelmorph) (7.1.2)\n",
            "Requirement already satisfied: joblib>=0.11 in /usr/local/lib/python3.7/dist-packages (from scikit-learn->neurite->voxelmorph) (1.1.0)\n",
            "Requirement already satisfied: threadpoolctl>=2.0.0 in /usr/local/lib/python3.7/dist-packages (from scikit-learn->neurite->voxelmorph) (3.1.0)\n"
          ]
        }
      ]
    },
    {
      "cell_type": "code",
      "execution_count": 6,
      "metadata": {
        "id": "mXdTYidN0Tac"
      },
      "outputs": [],
      "source": [
        "# imports\n",
        "# local imports\n",
        "import voxelmorph as vxm\n",
        "import neurite as ne\n",
        "import os, sys\n",
        "\n",
        "# third party imports\n",
        "import numpy as np\n",
        "import tensorflow as tf\n",
        "assert tf.__version__.startswith('2.'), 'This tutorial assumes Tensorflow 2.0+'\n",
        "import matplotlib.pyplot as plt\n",
        "import cv2\n",
        "\n",
        "%matplotlib inline\n",
        "import nibabel as nib\n",
        "\n",
        "#import nbimporter\n",
        "#from functions import *\n"
      ]
    },
    {
      "cell_type": "code",
      "execution_count": 7,
      "metadata": {
        "id": "fzES90Vp0Tai"
      },
      "outputs": [],
      "source": [
        "#m=maxx(data_dir)\n",
        "m=1584 "
      ]
    },
    {
      "cell_type": "code",
      "source": [
        "import random\n",
        "def load_m (file_path):\n",
        "    \n",
        "    img = nib.load(file_path)\n",
        "    img_data = img.get_fdata()\n",
        "    \n",
        "    if img.shape[0:2]!=(64,64):\n",
        "    \n",
        "        img_data = img_data[23:87,23:87,:,:]\n",
        "        \n",
        "    if not (file_path.endswith(\".nii\") or file_path.endswith(\".nii.gz\")):\n",
        "        raise ValueError(\n",
        "              f\"Nifti file path must end with .nii or .nii.gz, got {file_path}.\"\n",
        "                        )\n",
        "    return img_data \n",
        "def count (data_dir):\n",
        "    train_dir = os.path.join(data_dir)\n",
        "\n",
        "    train_data_num = []\n",
        "    for file in os.listdir(train_dir):\n",
        "            train_data_num.append([file])\n",
        "    train_data_num=np.array(train_data_num) \n",
        "    n=train_data_num.shape[0] \n",
        "\n",
        "    return n,train_data_num"
      ],
      "metadata": {
        "id": "B4ghNO6uS9Fw"
      },
      "execution_count": 8,
      "outputs": []
    },
    {
      "cell_type": "code",
      "source": [
        "def data_generator(data_dir, batch_size,m,split):\n",
        "    \"\"\"4\n",
        "    Generator that takes in data of size [N, H, W], and yields data for\n",
        "    our custom vxm model. Note that we need to provide numpy data for each\n",
        "    input, and each output.\n",
        "\n",
        "    inputs:  moving [bs, H, W, 1], fixed image [bs, H, W, 1]\n",
        "    outputs: moved image [bs, H, W, 1], zero-gradient [bs, H, W, 2]\n",
        "    \n",
        "    m= maximum between all subject \n",
        "    split= percent of validation data\n",
        "    \n",
        "    \n",
        "    \"\"\"\n",
        "    \n",
        "    n,train_data_num=count(data_dir)\n",
        "    n_train=n-int(split*n)\n",
        " \n",
        "    \n",
        "    subject_ID=random.randint(0,n_train-1)\n",
        "    d=load_m(data_dir+'/'+str(train_data_num[subject_ID][0]))\n",
        "\n",
        "    \n",
        "    s=d.shape[2]\n",
        "    slice_ID =random.randint(0,s-1)\n",
        "    v=d.shape[3]\n",
        "    \n",
        " # preliminary sizing\n",
        "    vol_shape = d.shape[:2] # extract data shape\n",
        "    ndims = len(vol_shape)\n",
        "    \n",
        "    \n",
        "    d=d[:,:,slice_ID,:]\n",
        "    d = np.einsum('jki->ijk', d)\n",
        "\n",
        "    \n",
        "    \n",
        "   \n",
        "    \n",
        "    # prepare a zero array the size of the deformation\n",
        "    # we'll explain this below\n",
        "    zero_phi = np.zeros([batch_size, *vol_shape, ndims])\n",
        "    \n",
        "    while True:\n",
        "        # prepare inputs:\n",
        "        # images need to be of the size [batch_size, H, W, 1]\n",
        "        idx1 = np.random.randint(0, v, size=batch_size)\n",
        "        moving_images = d[idx1, ..., np.newaxis]\n",
        "        moving_images=moving_images/m\n",
        "        \n",
        "        idx2 = np.random.randint(0, v, size=batch_size)\n",
        "        fixed_images = d[idx2, ..., np.newaxis]\n",
        "        fixed_images=fixed_images/m\n",
        "        \n",
        "        inputs = [moving_images, fixed_images]\n",
        "        \n",
        "        # prepare outputs (the 'true' moved image):\n",
        "        # of course, we don't have this, but we know we want to compare \n",
        "        # the resulting moved image with the fixed image. \n",
        "        # we also wish to penalize the deformation field. \n",
        "        outputs = [fixed_images, zero_phi]\n",
        "        \n",
        "        yield (inputs, outputs)\n",
        "\n",
        "\n",
        "\n",
        "def val_generator(data_dir, batch_size,m,split):\n",
        "  \n",
        "    n,train_data_num=count(data_dir)\n",
        "    n_train=n-int(split*n)\n",
        "    a=n_train\n",
        "    \n",
        "    \n",
        "    subject_ID=random.randint(a,n-1)\n",
        "    d=load_m(data_dir+'/'+str(train_data_num[subject_ID][0]))\n",
        "\n",
        "    \n",
        "    s=d.shape[2]\n",
        "    slice_ID =random.randint(0,s-1)\n",
        "    v=d.shape[3]\n",
        "    \n",
        "    # preliminary sizing\n",
        "    vol_shape = d.shape[:2] # extract data shape\n",
        "    ndims = len(vol_shape)\n",
        "    \n",
        "    \n",
        "    d=d[:,:,slice_ID,:]\n",
        "    d = np.einsum('jki->ijk', d)\n",
        "\n",
        " \n",
        "    # prepare a zero array the size of the deformation\n",
        "    # we'll explain this below\n",
        "    zero_phi = np.zeros([batch_size, *vol_shape, ndims])\n",
        "    \n",
        "    # prepare inputs:\n",
        "    # images need to be of the size [batch_size, H, W, 1]\n",
        "    idx1 = np.random.randint(0, v, size=batch_size)\n",
        "    moving_images = d[idx1, ..., np.newaxis]\n",
        "    moving_images=moving_images/m\n",
        "\n",
        "    idx2 = np.random.randint(0, v, size=batch_size)\n",
        "    fixed_images = d[idx2, ..., np.newaxis]\n",
        "    fixed_images=fixed_images/m\n",
        "\n",
        "    inputs = [moving_images, fixed_images]\n",
        "\n",
        "    # prepare outputs (the 'true' moved image):\n",
        "    # of course, we don't have this, but we know we want to compare \n",
        "    # the resulting moved image with the fixed image. \n",
        "    # we also wish to penalize the deformation field. \n",
        "    outputs = [fixed_images,zero_phi]\n",
        "\n",
        "    return (inputs, outputs)\n",
        "\n",
        "\n",
        "\n",
        "\n",
        "\n"
      ],
      "metadata": {
        "id": "KPxDR9SZSxxi"
      },
      "execution_count": 9,
      "outputs": []
    },
    {
      "cell_type": "code",
      "source": [
        "data_dir='/content/drive/MyDrive/data/data selection_D1'"
      ],
      "metadata": {
        "id": "SSerd10qT06W"
      },
      "execution_count": 10,
      "outputs": []
    },
    {
      "cell_type": "code",
      "execution_count": 11,
      "metadata": {
        "id": "I9b6tv3m0Taj",
        "outputId": "116356db-46b2-43f5-a9f7-45e083452edf",
        "colab": {
          "base_uri": "https://localhost:8080/",
          "height": 262
        }
      },
      "outputs": [
        {
          "output_type": "display_data",
          "data": {
            "text/plain": [
              "<Figure size 1080x270 with 8 Axes>"
            ],
            "image/png": "[encoded data removed]"
          },
          "metadata": {
            "needs_background": "light"
          }
        }
      ],
      "source": [
        "split=0.3  # it means 70% for train and 30% for validation\n",
        "\n",
        "\n",
        "train_generator = data_generator(data_dir,100,m,split)\n",
        "in_sample, out_sample = next(train_generator)\n",
        "\n",
        "# visualize\n",
        "images = [img[0, :, :, 0] for img in in_sample + out_sample] \n",
        "titles = ['moving', 'fixed', 'moved ground-truth (fixed)', 'zeros']\n",
        "ne.plot.slices(images, titles=titles, cmaps=['gray'], do_colorbars=True);\n"
      ]
    },
    {
      "cell_type": "code",
      "source": [
        "split=0.3  # it means 70% for train and 30% for validation\n",
        "\n",
        "\n",
        "v_generator = val_generator(data_dir,100,m,split)\n",
        "in_sample, out_sample = next(train_generator)\n",
        "\n",
        "# visualize\n",
        "images = [img[0, :, :, 0] for img in in_sample + out_sample] \n",
        "titles = ['moving', 'fixed', 'moved ground-truth (fixed)', 'zeros']\n",
        "ne.plot.slices(images, titles=titles, cmaps=['gray'], do_colorbars=True);"
      ],
      "metadata": {
        "id": "zKpRpbqGifzO",
        "outputId": "2b91e2a6-51d0-4fd5-d5f6-2580ca1dbd05",
        "colab": {
          "base_uri": "https://localhost:8080/",
          "height": 262
        }
      },
      "execution_count": 12,
      "outputs": [
        {
          "output_type": "display_data",
          "data": {
            "text/plain": [
              "<Figure size 1080x270 with 8 Axes>"
            ],
            "image/png": "[encoded data removed]"
          },
          "metadata": {
            "needs_background": "light"
          }
        }
      ]
    },
    {
      "cell_type": "code",
      "execution_count": 13,
      "metadata": {
        "id": "bwSxd8fu0Tal"
      },
      "outputs": [],
      "source": [
        "# configure unet input shape (concatenation of moving and fixed images)\n",
        "ndim = 2\n",
        "unet_input_features = 2\n",
        "# data shape 64*64\n",
        "s=in_sample[0].shape[1:3]\n",
        "inshape = (*s, unet_input_features)\n",
        "\n",
        "# configure unet features \n",
        "nb_features = [\n",
        "    [64, 64, 64, 64],         # encoder features\n",
        "    [64, 64, 64, 64, 64, 32,16]  # decoder features\n",
        "]\n",
        "\n",
        "#nb_features = [\n",
        "#    [32, 32, 32, 32],         # encoder features\n",
        "#    [32, 32, 32, 32, 32,16]  # decoder features\n",
        "#           ]"
      ]
    },
    {
      "cell_type": "code",
      "execution_count": 14,
      "metadata": {
        "id": "6JVD05Hx0Tan",
        "outputId": "b97976b8-7b0a-49f7-edd3-60c92abceea8",
        "colab": {
          "base_uri": "https://localhost:8080/"
        }
      },
      "outputs": [
        {
          "output_type": "stream",
          "name": "stdout",
          "text": [
            "WARNING:tensorflow:From /usr/local/lib/python3.7/dist-packages/tensorflow/python/util/deprecation.py:616: calling map_fn_v2 (from tensorflow.python.ops.map_fn) with dtype is deprecated and will be removed in a future version.\n",
            "Instructions for updating:\n",
            "Use fn_output_signature instead\n"
          ]
        }
      ],
      "source": [
        "# build model using VxmDense\n",
        "inshape =s\n",
        "vxm_model = vxm.networks.VxmDense(inshape, nb_features, int_steps=0)"
      ]
    },
    {
      "cell_type": "code",
      "execution_count": 15,
      "metadata": {
        "id": "4_aLG24o0Taq"
      },
      "outputs": [],
      "source": [
        "# voxelmorph has a variety of custom loss classes\n",
        "losses = [vxm.losses.NCC().loss, vxm.losses.Grad('l2').loss]\n",
        "\n",
        "# usually, we have to balance the two losses by a hyper-parameter\n",
        "lambda_param = 0\n",
        "loss_weights = [1, lambda_param]"
      ]
    },
    {
      "cell_type": "code",
      "source": [
        "import numpy as np\n",
        "import tensorflow as tf\n",
        "from keras import backend as K\n",
        "def recall(y_true, y_pred):\n",
        "    true_positives = K.sum(K.round(K.clip(y_true * y_pred, 0, 1)))\n",
        "    possible_positives = K.sum(K.round(K.clip(y_true, 0, 1)))\n",
        "    recall_keras = true_positives / (possible_positives + K.epsilon())\n",
        "    return recall_keras\n",
        "\n",
        "\n",
        "def precision(y_true, y_pred):\n",
        "    true_positives = K.sum(K.round(K.clip(y_true * y_pred, 0, 1)))\n",
        "    predicted_positives = K.sum(K.round(K.clip(y_pred, 0, 1)))\n",
        "    precision_keras = true_positives / (predicted_positives + K.epsilon())\n",
        "    return precision_keras\n",
        "def f1(y_true, y_pred):\n",
        "    p = precision(y_true, y_pred)\n",
        "    r = recall(y_true, y_pred)\n",
        "    return 2 * ((p * r) / (p + r + K.epsilon()))"
      ],
      "metadata": {
        "id": "NJ1rPVPrfx14"
      },
      "execution_count": 16,
      "outputs": []
    },
    {
      "cell_type": "code",
      "source": [
        "def dice_coef(y_true, y_pred, smooth=1):\n",
        "  intersection = K.sum(y_true * y_pred, axis=[1,2,3])\n",
        "  union = K.sum(y_true, axis=[1,2,3]) + K.sum(y_pred, axis=[1,2,3])\n",
        "  dice = K.mean((2. * intersection + smooth)/(union + smooth), axis=0)\n",
        "  return dice"
      ],
      "metadata": {
        "id": "CR9O3fpMsg5Y"
      },
      "execution_count": 17,
      "outputs": []
    },
    {
      "cell_type": "code",
      "source": [
        "def signaltonoise(a, axis=None, ddof=0):\n",
        "    a = np.asanyarray(a)\n",
        "    m = a.mean(axis)\n",
        "    sd = a.std(axis=axis, ddof=ddof)\n",
        "    return np.where(sd == 0, 0, m/sd)\n"
      ],
      "metadata": {
        "id": "gzv8qcIZBBJC"
      },
      "execution_count": 18,
      "outputs": []
    },
    {
      "cell_type": "code",
      "source": [
        "def TSNRR(source_input,transformer):\n",
        "    M=(source_input+transformer)/2\n",
        "    std1=(source_input-M)**2\n",
        "    std2=(transformer-M)**2\n",
        "    std=K.sqrt((std1+std2)/2)\n",
        "    f=(M/std)\n",
        "    #f[f >1000000]=0\n",
        "\n",
        "    final= K.sum(f[f <1000000])\n",
        "    final=final/4096\n",
        "    return final"
      ],
      "metadata": {
        "id": "BBRKwW1vrvHQ"
      },
      "execution_count": 19,
      "outputs": []
    },
    {
      "cell_type": "code",
      "execution_count": 20,
      "metadata": {
        "id": "iLSulsKn0Tar"
      },
      "outputs": [],
      "source": [
        "vxm_model.compile(optimizer='Adam', loss=losses, loss_weights=loss_weights, metrics=[TSNRR,dic])"
      ]
    },
    {
      "cell_type": "code",
      "execution_count": 21,
      "metadata": {
        "id": "PwmPqwEA0Tar"
      },
      "outputs": [],
      "source": [
        "from keras.callbacks import ModelCheckpoint, ReduceLROnPlateau,EarlyStopping\n",
        "#es = EarlyStopping(monitor='transformer_TSNR', mode='max', min_delta=1, patience=5, verbose=1)\n",
        "#annealer = ReduceLROnPlateau(monitor=['val_accuracy','val_mse'] ,factor=0.5, patience=5, verbose=1, min_lr=1e-3)\n",
        "checkpoint = ModelCheckpoint('model.h5', verbose=1, save_best_only=True)"
      ]
    },
    {
      "cell_type": "code",
      "execution_count": 22,
      "metadata": {
        "scrolled": true,
        "id": "Mwpi1kcX0Tas",
        "outputId": "e760a513-32cf-4bbc-c64a-3dbf7e38d542",
        "colab": {
          "base_uri": "https://localhost:8080/"
        }
      },
      "outputs": [
        {
          "output_type": "stream",
          "name": "stdout",
          "text": [
            "Epoch 1/10\n",
            "\n",
            "Epoch 1: val_loss improved from inf to -0.58014, saving model to model.h5\n",
            "100/100 - 60s - loss: -3.9326e-01 - transformer_loss: -3.9326e-01 - flow_loss: 6.4090e-04 - transformer_TSNRR: 15763.3848 - flow_TSNRR: -4.6213e+00 - val_loss: -5.8014e-01 - val_transformer_loss: -5.8014e-01 - val_flow_loss: 0.0011 - val_transformer_TSNRR: 1595.6327 - val_flow_TSNRR: -5.6011e+00 - 60s/epoch - 598ms/step\n",
            "Epoch 2/10\n",
            "\n",
            "Epoch 2: val_loss improved from -0.58014 to -0.61049, saving model to model.h5\n",
            "100/100 - 48s - loss: -4.1106e-01 - transformer_loss: -4.1106e-01 - flow_loss: 0.0031 - transformer_TSNRR: 7145.7827 - flow_TSNRR: -3.6680e+01 - val_loss: -6.1049e-01 - val_transformer_loss: -6.1049e-01 - val_flow_loss: 0.0091 - val_transformer_TSNRR: 1561.3568 - val_flow_TSNRR: -6.6312e+00 - 48s/epoch - 482ms/step\n",
            "Epoch 3/10\n",
            "\n",
            "Epoch 3: val_loss improved from -0.61049 to -0.62853, saving model to model.h5\n",
            "100/100 - 48s - loss: -4.2218e-01 - transformer_loss: -4.2218e-01 - flow_loss: 0.0176 - transformer_TSNRR: 7332.1338 - flow_TSNRR: -3.0759e+01 - val_loss: -6.2853e-01 - val_transformer_loss: -6.2853e-01 - val_flow_loss: 0.0363 - val_transformer_TSNRR: 1582.2562 - val_flow_TSNRR: -1.5155e+00 - 48s/epoch - 480ms/step\n",
            "Epoch 4/10\n",
            "\n",
            "Epoch 4: val_loss improved from -0.62853 to -0.65564, saving model to model.h5\n",
            "100/100 - 48s - loss: -4.3573e-01 - transformer_loss: -4.3573e-01 - flow_loss: 0.1106 - transformer_TSNRR: 7510.7593 - flow_TSNRR: -1.9167e+01 - val_loss: -6.5564e-01 - val_transformer_loss: -6.5564e-01 - val_flow_loss: 0.0906 - val_transformer_TSNRR: 1777.0496 - val_flow_TSNRR: -8.4570e-01 - 48s/epoch - 484ms/step\n",
            "Epoch 5/10\n",
            "\n",
            "Epoch 5: val_loss improved from -0.65564 to -0.67801, saving model to model.h5\n",
            "100/100 - 48s - loss: -4.5296e-01 - transformer_loss: -4.5296e-01 - flow_loss: 0.2121 - transformer_TSNRR: 8058.7168 - flow_TSNRR: -1.7073e+00 - val_loss: -6.7801e-01 - val_transformer_loss: -6.7801e-01 - val_flow_loss: 0.2320 - val_transformer_TSNRR: 1927.0353 - val_flow_TSNRR: 3.2496 - 48s/epoch - 484ms/step\n",
            "Epoch 6/10\n",
            "\n",
            "Epoch 6: val_loss improved from -0.67801 to -0.70946, saving model to model.h5\n",
            "100/100 - 48s - loss: -4.7223e-01 - transformer_loss: -4.7223e-01 - flow_loss: 0.3232 - transformer_TSNRR: 8805.8135 - flow_TSNRR: 12.1352 - val_loss: -7.0946e-01 - val_transformer_loss: -7.0946e-01 - val_flow_loss: 0.3737 - val_transformer_TSNRR: 2166.7625 - val_flow_TSNRR: 1.1235 - 48s/epoch - 481ms/step\n",
            "Epoch 7/10\n",
            "\n",
            "Epoch 7: val_loss improved from -0.70946 to -0.74033, saving model to model.h5\n",
            "100/100 - 48s - loss: -4.8998e-01 - transformer_loss: -4.8998e-01 - flow_loss: 0.4255 - transformer_TSNRR: 9658.3535 - flow_TSNRR: 9.2830 - val_loss: -7.4033e-01 - val_transformer_loss: -7.4033e-01 - val_flow_loss: 0.4049 - val_transformer_TSNRR: 2267.6392 - val_flow_TSNRR: 0.0752 - 48s/epoch - 481ms/step\n",
            "Epoch 8/10\n",
            "\n",
            "Epoch 8: val_loss improved from -0.74033 to -0.75019, saving model to model.h5\n",
            "100/100 - 48s - loss: -5.0245e-01 - transformer_loss: -5.0245e-01 - flow_loss: 0.5139 - transformer_TSNRR: 10352.2822 - flow_TSNRR: 5.6310 - val_loss: -7.5019e-01 - val_transformer_loss: -7.5019e-01 - val_flow_loss: 0.4983 - val_transformer_TSNRR: 2327.9421 - val_flow_TSNRR: 1.9066 - 48s/epoch - 482ms/step\n",
            "Epoch 9/10\n",
            "\n",
            "Epoch 9: val_loss improved from -0.75019 to -0.75852, saving model to model.h5\n",
            "100/100 - 48s - loss: -5.1303e-01 - transformer_loss: -5.1303e-01 - flow_loss: 0.6117 - transformer_TSNRR: 10664.6729 - flow_TSNRR: 1.4437 - val_loss: -7.5852e-01 - val_transformer_loss: -7.5852e-01 - val_flow_loss: 0.5725 - val_transformer_TSNRR: 2331.0542 - val_flow_TSNRR: 0.3120 - 48s/epoch - 484ms/step\n",
            "Epoch 10/10\n",
            "\n",
            "Epoch 10: val_loss improved from -0.75852 to -0.77148, saving model to model.h5\n",
            "100/100 - 48s - loss: -5.1976e-01 - transformer_loss: -5.1976e-01 - flow_loss: 0.6921 - transformer_TSNRR: 10880.1992 - flow_TSNRR: -7.7394e-01 - val_loss: -7.7148e-01 - val_transformer_loss: -7.7148e-01 - val_flow_loss: 0.5616 - val_transformer_TSNRR: 2378.9402 - val_flow_TSNRR: 0.3153 - 48s/epoch - 482ms/step\n",
            "Training Time:506.65039324760437s\n"
          ]
        }
      ],
      "source": [
        "nb_epochs =10\n",
        "steps_per_epoch =100\n",
        "import time\n",
        "start=time.time()\n",
        "hist = vxm_model.fit(train_generator,\n",
        "                               epochs=nb_epochs,\n",
        "                               steps_per_epoch=steps_per_epoch,\n",
        "                               verbose=2,\n",
        "                               callbacks=[checkpoint],\n",
        "                               validation_data=v_generator\n",
        "                               #val_step=5\n",
        "                    );\n",
        "stop=time.time()\n",
        "print(f\"Training Time:{stop-start}s\")"
      ]
    },
    {
      "cell_type": "code",
      "source": [
        "plt.plot(hist.history['val_transformer_TSNRR'])"
      ],
      "metadata": {
        "id": "6YNxp-lT59Md",
        "outputId": "53afaacd-9cab-4844-fb86-39b689d1afe2",
        "colab": {
          "base_uri": "https://localhost:8080/",
          "height": 282
        }
      },
      "execution_count": 23,
      "outputs": [
        {
          "output_type": "execute_result",
          "data": {
            "text/plain": [
              "[<matplotlib.lines.Line2D at 0x7fb7b70a8710>]"
            ]
          },
          "metadata": {},
          "execution_count": 23
        },
        {
          "output_type": "display_data",
          "data": {
            "text/plain": [
              "<Figure size 432x288 with 1 Axes>"
            ],
            "image/png": "[encoded data removed]"
          },
          "metadata": {
            "needs_background": "light"
          }
        }
      ]
    },
    {
      "cell_type": "code",
      "source": [
        "plt.plot(hist.history['loss'])"
      ],
      "metadata": {
        "id": "ww-QECUd-x69",
        "outputId": "ea5dd731-1c98-4a55-aff6-041cef3731df",
        "colab": {
          "base_uri": "https://localhost:8080/",
          "height": 282
        }
      },
      "execution_count": 24,
      "outputs": [
        {
          "output_type": "execute_result",
          "data": {
            "text/plain": [
              "[<matplotlib.lines.Line2D at 0x7fb7b70820d0>]"
            ]
          },
          "metadata": {},
          "execution_count": 24
        },
        {
          "output_type": "display_data",
          "data": {
            "text/plain": [
              "<Figure size 432x288 with 1 Axes>"
            ],
            "image/png": "[encoded data removed]"
          },
          "metadata": {
            "needs_background": "light"
          }
        }
      ]
    },
    {
      "cell_type": "code",
      "execution_count": null,
      "metadata": {
        "id": "9TpdYEVf0Tas"
      },
      "outputs": [],
      "source": [
        "vxm_model.save(\"/content/drive/MyDrive/final/new/NCC_la0_METRIC_model.h5\")"
      ]
    },
    {
      "cell_type": "markdown",
      "source": [
        ""
      ],
      "metadata": {
        "id": "Df6kx0BDLEWQ"
      }
    },
    {
      "cell_type": "code",
      "source": [
        "vxm_model.save_weights(\"/content/drive/MyDrive/data/final/NCC_la0_METRIC_weight1.h5\")"
      ],
      "metadata": {
        "id": "-jgJrCcGdfei"
      },
      "execution_count": null,
      "outputs": []
    },
    {
      "cell_type": "code",
      "source": [
        "import pickle"
      ],
      "metadata": {
        "id": "QpCyFLYxYxG0"
      },
      "execution_count": null,
      "outputs": []
    },
    {
      "cell_type": "code",
      "source": [
        "with open('/content/drive/MyDrive/data/final/M01_METRIC', 'wb') as file_pi:\n",
        "     pickle.dump(hist.history, file_pi)"
      ],
      "metadata": {
        "id": "os3ZIIP7uoI7"
      },
      "execution_count": null,
      "outputs": []
    },
    {
      "cell_type": "code",
      "source": [
        "history = pickle.load(open('/trainHistoryDict', \"rb\"))"
      ],
      "metadata": {
        "id": "tjdgEQ9iZK9a"
      },
      "execution_count": null,
      "outputs": []
    },
    {
      "cell_type": "code",
      "execution_count": null,
      "metadata": {
        "id": "flVUoksh0Tat"
      },
      "outputs": [],
      "source": [
        "def plot_history(hist, loss_name='loss'):\n",
        "    # Simple function to plot training history.\n",
        "    plt.figure()\n",
        "    plt.plot(hist.epoch, hist.history[loss_name], '.-')\n",
        "    plt.ylabel('loss')\n",
        "    plt.xlabel('epoch')\n",
        "    plt.show()\n"
      ]
    },
    {
      "cell_type": "code",
      "execution_count": null,
      "metadata": {
        "id": "M_Navfe80Tat"
      },
      "outputs": [],
      "source": [
        "print(history.history.keys())"
      ]
    },
    {
      "cell_type": "code",
      "execution_count": null,
      "metadata": {
        "id": "GyidT-ng0Tau",
        "outputId": "5df308d6-395e-4867-d28c-f41ee478e353",
        "colab": {
          "base_uri": "https://localhost:8080/",
          "height": 283
        }
      },
      "outputs": [
        {
          "output_type": "display_data",
          "data": {
            "image/png": "[encoded data removed]",
            "text/plain": [
              "<Figure size 432x288 with 1 Axes>"
            ]
          },
          "metadata": {
            "needs_background": "light"
          }
        }
      ],
      "source": [
        "plot_history(hist)"
      ]
    },
    {
      "cell_type": "code",
      "source": [
        "import matplotlib.pyplot as plt\n"
      ],
      "metadata": {
        "id": "l-G0TRPI17-J"
      },
      "execution_count": null,
      "outputs": []
    },
    {
      "cell_type": "code",
      "source": [
        "d='/content/drive/MyDrive/data/final/C01_MAE'\n",
        "d1='/content/drive/MyDrive/data/final/M01_MAE'\n",
        "\n",
        "history = pickle.load(open(d, \"rb\"))\n",
        "history1 = pickle.load(open(d1, \"rb\"))\n"
      ],
      "metadata": {
        "id": "YJQnUY5_ykdF"
      },
      "execution_count": null,
      "outputs": []
    },
    {
      "cell_type": "code",
      "source": [
        "d2='/content/drive/MyDrive/data/final/C01_TSNR'\n",
        "d3='/content/drive/MyDrive/data/final/M01_TSNR'\n",
        "\n",
        "history2 = pickle.load(open(d2, \"rb\"))\n",
        "history3 = pickle.load(open(d3, \"rb\"))\n"
      ],
      "metadata": {
        "id": "9nma35528dgo"
      },
      "execution_count": null,
      "outputs": []
    },
    {
      "cell_type": "code",
      "source": [
        "d4='/content/drive/MyDrive/data/final/C01_DIC'\n",
        "d5='/content/drive/MyDrive/data/final/M01_DIC'\n",
        "\n",
        "history4 = pickle.load(open(d4, \"rb\"))\n",
        "history5 = pickle.load(open(d5, \"rb\"))\n"
      ],
      "metadata": {
        "id": "H952wUwhdby0"
      },
      "execution_count": null,
      "outputs": []
    },
    {
      "cell_type": "code",
      "source": [
        "plt.plot(history['val_transformer_MAE'],label='ncc')\n",
        "\n",
        "plt.plot(history1['val_transformer_MAE'],label='mse')\n",
        "plt.legend()"
      ],
      "metadata": {
        "colab": {
          "base_uri": "https://localhost:8080/",
          "height": 282
        },
        "id": "M_u-DkxGy3KP",
        "outputId": "0c74359c-d74e-4536-e625-7df926104933"
      },
      "execution_count": null,
      "outputs": [
        {
          "output_type": "execute_result",
          "data": {
            "text/plain": [
              "<matplotlib.legend.Legend at 0x7f51adcddc90>"
            ]
          },
          "metadata": {},
          "execution_count": 20
        },
        {
          "output_type": "display_data",
          "data": {
            "image/png": "[encoded data removed]",
            "text/plain": [
              "<Figure size 432x288 with 1 Axes>"
            ]
          },
          "metadata": {
            "needs_background": "light"
          }
        }
      ]
    },
    {
      "cell_type": "code",
      "source": [
        "plt.plot(history2['val_transformer_TSNR'],label='ncc')\n",
        "\n",
        "plt.plot(history3['val_transformer_TSNR'],label='mse')\n",
        "plt.legend()"
      ],
      "metadata": {
        "id": "sYw198Xq8rOi",
        "outputId": "645c3dcf-e0fb-4601-e0ba-a4b1765cd804",
        "colab": {
          "base_uri": "https://localhost:8080/",
          "height": 294
        }
      },
      "execution_count": null,
      "outputs": [
        {
          "output_type": "execute_result",
          "data": {
            "text/plain": [
              "<matplotlib.legend.Legend at 0x7f51ada38dd0>"
            ]
          },
          "metadata": {},
          "execution_count": 27
        },
        {
          "output_type": "display_data",
          "data": {
            "image/png": "[encoded data removed]",
            "text/plain": [
              "<Figure size 432x288 with 1 Axes>"
            ]
          },
          "metadata": {
            "needs_background": "light"
          }
        }
      ]
    },
    {
      "cell_type": "code",
      "source": [
        "plt.plot(history4['val_transformer_dice_coef'],label='ncc')\n",
        "\n",
        "plt.plot(history5['val_transformer_dice_coef'],label='mse')\n",
        "plt.legend()"
      ],
      "metadata": {
        "id": "d7Fv8pz1dawN",
        "outputId": "efc44676-663a-4b7a-f598-8eebae17eb93",
        "colab": {
          "base_uri": "https://localhost:8080/",
          "height": 282
        }
      },
      "execution_count": null,
      "outputs": [
        {
          "output_type": "execute_result",
          "data": {
            "text/plain": [
              "<matplotlib.legend.Legend at 0x7f87c1573c10>"
            ]
          },
          "metadata": {},
          "execution_count": 17
        },
        {
          "output_type": "display_data",
          "data": {
            "image/png": "[encoded data removed]",
            "text/plain": [
              "<Figure size 432x288 with 1 Axes>"
            ]
          },
          "metadata": {
            "needs_background": "light"
          }
        }
      ]
    },
    {
      "cell_type": "code",
      "source": [
        "history4['val_transformer_dice_coef']"
      ],
      "metadata": {
        "id": "XHZRpqBdijHM",
        "outputId": "6af81d57-94ed-49f4-d572-8782a291b06a",
        "colab": {
          "base_uri": "https://localhost:8080/"
        }
      },
      "execution_count": null,
      "outputs": [
        {
          "output_type": "execute_result",
          "data": {
            "text/plain": [
              "[0.11011544615030289,\n",
              " 0.11067008972167969,\n",
              " 0.11046791821718216,\n",
              " 0.10987195372581482,\n",
              " 0.11013314872980118,\n",
              " 0.11031591147184372,\n",
              " 0.11084514111280441,\n",
              " 0.1107102483510971,\n",
              " 0.11106111109256744,\n",
              " 0.11103644222021103,\n",
              " 0.11045269668102264,\n",
              " 0.1107877716422081,\n",
              " 0.11075813323259354,\n",
              " 0.11134137958288193,\n",
              " 0.11120651662349701,\n",
              " 0.11121653765439987,\n",
              " 0.10999584197998047,\n",
              " 0.11003081500530243,\n",
              " 0.11130668222904205,\n",
              " 0.11061154305934906,\n",
              " 0.11092354357242584,\n",
              " 0.11078725755214691,\n",
              " 0.11148987710475922,\n",
              " 0.11081115901470184,\n",
              " 0.1099289059638977,\n",
              " 0.11166669428348541,\n",
              " 0.11150234192609787,\n",
              " 0.11060431599617004,\n",
              " 0.110811747610569,\n",
              " 0.11057154089212418,\n",
              " 0.1109965592622757,\n",
              " 0.11109762638807297,\n",
              " 0.11057010293006897,\n",
              " 0.11073993146419525,\n",
              " 0.11074242740869522,\n",
              " 0.11093039810657501,\n",
              " 0.11100035905838013,\n",
              " 0.11002515256404877,\n",
              " 0.110215924680233,\n",
              " 0.11173664033412933,\n",
              " 0.10975708067417145,\n",
              " 0.11045346409082413,\n",
              " 0.11020075529813766,\n",
              " 0.11093712598085403,\n",
              " 0.11035999655723572,\n",
              " 0.10976184159517288,\n",
              " 0.11086837202310562,\n",
              " 0.11002666503190994,\n",
              " 0.11084708571434021,\n",
              " 0.11074270308017731,\n",
              " 0.1102558970451355,\n",
              " 0.11049854755401611,\n",
              " 0.11091481894254684,\n",
              " 0.11009594053030014,\n",
              " 0.11010903120040894,\n",
              " 0.11089698225259781,\n",
              " 0.1107509583234787,\n",
              " 0.11030491441488266,\n",
              " 0.10976596921682358,\n",
              " 0.1110944077372551,\n",
              " 0.11002796143293381,\n",
              " 0.10964825749397278,\n",
              " 0.10931417346000671,\n",
              " 0.11092758923768997,\n",
              " 0.11119682341814041,\n",
              " 0.11156419664621353,\n",
              " 0.11090312153100967,\n",
              " 0.11038541048765182,\n",
              " 0.11108116060495377,\n",
              " 0.11041188985109329,\n",
              " 0.1115136370062828,\n",
              " 0.11117389053106308,\n",
              " 0.11016162484884262,\n",
              " 0.11139338463544846,\n",
              " 0.11020965129137039,\n",
              " 0.1114358901977539,\n",
              " 0.11036273837089539,\n",
              " 0.11121884733438492,\n",
              " 0.11117678135633469,\n",
              " 0.11077867448329926,\n",
              " 0.11121906340122223,\n",
              " 0.1111789271235466,\n",
              " 0.11024611443281174,\n",
              " 0.10981403291225433,\n",
              " 0.11078610271215439,\n",
              " 0.11134278774261475,\n",
              " 0.11053438484668732,\n",
              " 0.10995304584503174,\n",
              " 0.10953497886657715,\n",
              " 0.11042572557926178,\n",
              " 0.11005226522684097,\n",
              " 0.1096661388874054,\n",
              " 0.11079549789428711,\n",
              " 0.11154987663030624,\n",
              " 0.11014391481876373,\n",
              " 0.11060583591461182,\n",
              " 0.11081058531999588,\n",
              " 0.11110363900661469,\n",
              " 0.11053010076284409,\n",
              " 0.11037551611661911,\n",
              " 0.1097431629896164,\n",
              " 0.11085876822471619,\n",
              " 0.1100616455078125,\n",
              " 0.1108676940202713,\n",
              " 0.11054925620555878,\n",
              " 0.11036018282175064,\n",
              " 0.11048846691846848,\n",
              " 0.1107831597328186,\n",
              " 0.1097644716501236,\n",
              " 0.11070243269205093,\n",
              " 0.11100024729967117,\n",
              " 0.10957946628332138,\n",
              " 0.11031653732061386,\n",
              " 0.11130346357822418,\n",
              " 0.11047198623418808,\n",
              " 0.11050400882959366,\n",
              " 0.11099451035261154,\n",
              " 0.11119228601455688,\n",
              " 0.11052782833576202,\n",
              " 0.11087647080421448,\n",
              " 0.11111157387495041,\n",
              " 0.11138836294412613,\n",
              " 0.11028576642274857,\n",
              " 0.11040319502353668,\n",
              " 0.11060202121734619,\n",
              " 0.11115724593400955,\n",
              " 0.11031599342823029,\n",
              " 0.11136909574270248,\n",
              " 0.11137163639068604,\n",
              " 0.11053537577390671,\n",
              " 0.11170012503862381,\n",
              " 0.1111108735203743,\n",
              " 0.1103796735405922,\n",
              " 0.11085987091064453,\n",
              " 0.10995745658874512,\n",
              " 0.11054681241512299,\n",
              " 0.11041104048490524,\n",
              " 0.11018578708171844,\n",
              " 0.109592966735363,\n",
              " 0.11118457466363907,\n",
              " 0.11004102975130081,\n",
              " 0.11052178591489792,\n",
              " 0.11117555946111679,\n",
              " 0.1093921959400177,\n",
              " 0.11009319126605988,\n",
              " 0.11058230698108673,\n",
              " 0.11000633984804153,\n",
              " 0.11093670129776001,\n",
              " 0.11053244024515152,\n",
              " 0.1106553003191948,\n",
              " 0.11010867357254028,\n",
              " 0.11103086173534393,\n",
              " 0.11106708645820618,\n",
              " 0.11097274720668793,\n",
              " 0.11118843406438828,\n",
              " 0.11092881113290787,\n",
              " 0.1108325868844986,\n",
              " 0.10939917713403702,\n",
              " 0.10976827144622803,\n",
              " 0.11069659143686295,\n",
              " 0.11104924231767654,\n",
              " 0.11175891011953354,\n",
              " 0.11102685332298279,\n",
              " 0.10966488718986511,\n",
              " 0.11119237542152405,\n",
              " 0.11047200858592987,\n",
              " 0.11010600626468658,\n",
              " 0.10957048088312149,\n",
              " 0.11058883368968964,\n",
              " 0.10909920930862427,\n",
              " 0.11036980152130127,\n",
              " 0.11063224077224731,\n",
              " 0.10950495302677155,\n",
              " 0.11042594909667969,\n",
              " 0.11064556986093521,\n",
              " 0.11087584495544434,\n",
              " 0.11005616933107376,\n",
              " 0.10991892218589783,\n",
              " 0.10960409790277481,\n",
              " 0.11008336395025253,\n",
              " 0.11096607893705368,\n",
              " 0.11148510873317719,\n",
              " 0.11055300384759903,\n",
              " 0.11043373495340347,\n",
              " 0.11025159060955048,\n",
              " 0.1099972277879715,\n",
              " 0.11000789701938629,\n",
              " 0.10981908440589905,\n",
              " 0.11037983000278473,\n",
              " 0.11019037663936615,\n",
              " 0.10975378751754761,\n",
              " 0.110112763941288,\n",
              " 0.11038671433925629,\n",
              " 0.1105370745062828,\n",
              " 0.1099439188838005,\n",
              " 0.10990888625383377,\n",
              " 0.11060705035924911,\n",
              " 0.1095917746424675,\n",
              " 0.1099284216761589,\n",
              " 0.11042467504739761]"
            ]
          },
          "metadata": {},
          "execution_count": 16
        }
      ]
    },
    {
      "cell_type": "code",
      "source": [
        "import numpy as np\n",
        "\n",
        "np.mean(history4['val_transformer_dice_coef'])"
      ],
      "metadata": {
        "id": "ksTPVEfAiA7z",
        "outputId": "f1b371ff-b185-48c3-f7c2-dfa364141e2d",
        "colab": {
          "base_uri": "https://localhost:8080/"
        }
      },
      "execution_count": null,
      "outputs": [
        {
          "output_type": "execute_result",
          "data": {
            "text/plain": [
              "0.11055777467787266"
            ]
          },
          "metadata": {},
          "execution_count": 14
        }
      ]
    },
    {
      "cell_type": "code",
      "source": [
        "np.mean(history5['val_transformer_dice_coef'])"
      ],
      "metadata": {
        "id": "OX72DJ1riNDQ",
        "outputId": "e6cf4eca-ba4f-4551-d238-0314a1882eb0",
        "colab": {
          "base_uri": "https://localhost:8080/"
        }
      },
      "execution_count": null,
      "outputs": [
        {
          "output_type": "execute_result",
          "data": {
            "text/plain": [
              "0.1412785918265581"
            ]
          },
          "metadata": {},
          "execution_count": 15
        }
      ]
    },
    {
      "cell_type": "code",
      "execution_count": null,
      "metadata": {
        "id": "OS_d7ebW0Tau"
      },
      "outputs": [],
      "source": [
        "data_dir_TEST='/home/mahdi/Desktop/data_selection_D7'"
      ]
    },
    {
      "cell_type": "code",
      "execution_count": null,
      "metadata": {
        "id": "lyGKUTue0Tau"
      },
      "outputs": [],
      "source": [
        "# let's get some data\n",
        "val_generator = data_generator(data_dir_TEST,32,m,.3)\n",
        "val_input, _ = next(val_generator)"
      ]
    },
    {
      "cell_type": "code",
      "execution_count": null,
      "metadata": {
        "id": "6qJXWceq0Tav"
      },
      "outputs": [],
      "source": [
        "val_pred = vxm_model.predict(val_input)"
      ]
    },
    {
      "cell_type": "code",
      "execution_count": null,
      "metadata": {
        "id": "9qQMN3v10Tav"
      },
      "outputs": [],
      "source": [
        "# visualize\n",
        "images = [img[18, :, :, 0] for img in val_input + val_pred] \n",
        "titles = ['moving', 'fixed', 'moved', 'flow']\n",
        "ne.plot.slices(images, titles=titles, cmaps=['gray'], do_colorbars=True);"
      ]
    },
    {
      "cell_type": "code",
      "execution_count": null,
      "metadata": {
        "id": "CWsn84Ux0Tav"
      },
      "outputs": [],
      "source": [
        "ne.plot.flow([val_pred[1][18].squeeze()], width=10)"
      ]
    },
    {
      "cell_type": "code",
      "execution_count": null,
      "metadata": {
        "id": "KwXQkGbB0Taw"
      },
      "outputs": [],
      "source": [
        ""
      ]
    }
  ],
  "metadata": {
    "kernelspec": {
      "display_name": "Python 3",
      "language": "python",
      "name": "python3"
    },
    "language_info": {
      "codemirror_mode": {
        "name": "ipython",
        "version": 3
      },
      "file_extension": ".py",
      "mimetype": "text/x-python",
      "name": "python",
      "nbconvert_exporter": "python",
      "pygments_lexer": "ipython3",
      "version": "3.7.9"
    },
    "colab": {
      "name": "train_with validation data.ipynb",
      "provenance": []
    },
    "accelerator": "GPU"
  },
  "nbformat": 4,
  "nbformat_minor": 0
}