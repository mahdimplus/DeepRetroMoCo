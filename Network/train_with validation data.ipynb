{
  "cells": [
    {
      "cell_type": "markdown",
      "source": [
        "[![Open In Colab](https://colab.research.google.com/assets/colab-badge.svg)](https://colab.research.google.com/github/mahdimplus/DeepRetroMoco/blob/main/network/train_with_validtiondatafunctions.ipynb)"
      ],
      "metadata": {
        "id": "CouPttSA0YgZ"
      }
    },
    {
      "cell_type": "code",
      "source": [
        "from google.colab import drive\n",
        "drive.mount('/content/drive')\n",
        "\n"
      ],
      "metadata": {
        "id": "-rzBTKnjJmAs",
        "outputId": "db984bdc-17ec-4e8e-a95c-c1409d717588",
        "colab": {
          "base_uri": "https://localhost:8080/"
        }
      },
      "execution_count": 1,
      "outputs": [
        {
          "output_type": "stream",
          "name": "stdout",
          "text": [
            "Mounted at /content/drive\n"
          ]
        }
      ]
    },
    {
      "cell_type": "code",
      "source": [
        "!apt-get install -y -qq software-properties-common python-software-properties module-init-tools\n",
        "!add-apt-repository -y ppa:alessandro-strada/ppa 2>&1 > /dev/null\n",
        "!apt-get update -qq 2>&1 > /dev/null\n",
        "!apt-get -y install -qq google-drive-ocamlfuse fuse\n",
        "from google.colab import auth\n",
        "auth.authenticate_user()\n",
        "from oauth2client.client import GoogleCredentials\n",
        "creds = GoogleCredentials.get_application_default()\n",
        "import getpass\n",
        "!google-drive-ocamlfuse -headless -id={creds.client_id} -secret={creds.client_secret} < /dev/null 2>&1 | grep URL\n",
        "vcode = getpass.getpass()\n",
        "!echo {vcode} | google-drive-ocamlfuse -headless -id={creds.client_id} -secret={creds.client_secret}\n",
        "%cd /content\n",
        "!mkdir drive\n",
        "%cd drive\n",
        "!mkdir MyDrive\n",
        "%cd ..\n",
        "%cd ..\n",
        "!google-drive-ocamlfuse /content/drive/MyDrive"
      ],
      "metadata": {
        "id": "sMjV-kBrjccB"
      },
      "execution_count": null,
      "outputs": []
    },
    {
      "cell_type": "code",
      "source": [
        "d1='/content/drive/MyDrive/data/data selection_D1/S02_MSL.nii.gz'\n",
        "import nibabel as nib\n",
        "\n",
        "def load_m (file_path):\n",
        "    \n",
        "    img = nib.load(file_path)\n",
        "    img_data = img.get_fdata()\n",
        "    \n",
        "    if img.shape[0:2]!=(64,64):\n",
        "    \n",
        "        img_data = img_data[23:87,23:87,:,:]\n",
        "        \n",
        "    if not (file_path.endswith(\".nii\") or file_path.endswith(\".nii.gz\")):\n",
        "        raise ValueError(\n",
        "              f\"Nifti file path must end with .nii or .nii.gz, got {file_path}.\"\n",
        "                        )\n",
        "    return img_data\n",
        "z=load_m(d1)\n",
        "\n"
      ],
      "metadata": {
        "id": "CRLfsbqM_SvR"
      },
      "execution_count": 2,
      "outputs": []
    },
    {
      "cell_type": "code",
      "source": [
        "z1=z[...,4,0]\n",
        "z2=z[...,4,80]"
      ],
      "metadata": {
        "id": "rskkpBk5jrO8"
      },
      "execution_count": null,
      "outputs": []
    },
    {
      "cell_type": "code",
      "source": [
        "import numpy as np\n",
        "import keras.backend as K"
      ],
      "metadata": {
        "id": "_u9zQUmJCRKW"
      },
      "execution_count": 3,
      "outputs": []
    },
    {
      "cell_type": "code",
      "source": [
        "pip install voxelmorph\n"
      ],
      "metadata": {
        "id": "80X4he9ILFFL",
        "outputId": "3f93a970-612c-423e-9134-ddeb40f32cb9",
        "colab": {
          "base_uri": "https://localhost:8080/"
        }
      },
      "execution_count": 2,
      "outputs": [
        {
          "output_type": "stream",
          "name": "stdout",
          "text": [
            "Collecting voxelmorph\n",
            "  Downloading voxelmorph-0.1-py3-none-any.whl (75 kB)\n",
            "\u001b[?25l\r\u001b[K     |████▍                           | 10 kB 22.9 MB/s eta 0:00:01\r\u001b[K     |████████▊                       | 20 kB 11.1 MB/s eta 0:00:01\r\u001b[K     |█████████████                   | 30 kB 9.1 MB/s eta 0:00:01\r\u001b[K     |█████████████████▌              | 40 kB 8.4 MB/s eta 0:00:01\r\u001b[K     |█████████████████████▉          | 51 kB 4.2 MB/s eta 0:00:01\r\u001b[K     |██████████████████████████▏     | 61 kB 5.0 MB/s eta 0:00:01\r\u001b[K     |██████████████████████████████▌ | 71 kB 5.4 MB/s eta 0:00:01\r\u001b[K     |████████████████████████████████| 75 kB 2.6 MB/s \n",
            "\u001b[?25hRequirement already satisfied: scikit-image in /usr/local/lib/python3.7/dist-packages (from voxelmorph) (0.18.3)\n",
            "Requirement already satisfied: nibabel in /usr/local/lib/python3.7/dist-packages (from voxelmorph) (3.0.2)\n",
            "Requirement already satisfied: h5py in /usr/local/lib/python3.7/dist-packages (from voxelmorph) (3.1.0)\n",
            "Requirement already satisfied: numpy in /usr/local/lib/python3.7/dist-packages (from voxelmorph) (1.21.5)\n",
            "Requirement already satisfied: scipy in /usr/local/lib/python3.7/dist-packages (from voxelmorph) (1.4.1)\n",
            "Collecting neurite\n",
            "  Downloading neurite-0.1-py3-none-any.whl (86 kB)\n",
            "\u001b[K     |████████████████████████████████| 86 kB 6.1 MB/s \n",
            "\u001b[?25hRequirement already satisfied: cached-property in /usr/local/lib/python3.7/dist-packages (from h5py->voxelmorph) (1.5.2)\n",
            "Requirement already satisfied: scikit-learn in /usr/local/lib/python3.7/dist-packages (from neurite->voxelmorph) (1.0.2)\n",
            "Collecting pystrum\n",
            "  Downloading pystrum-0.1-py3-none-any.whl (18 kB)\n",
            "Requirement already satisfied: matplotlib in /usr/local/lib/python3.7/dist-packages (from neurite->voxelmorph) (3.2.2)\n",
            "Requirement already satisfied: tqdm in /usr/local/lib/python3.7/dist-packages (from neurite->voxelmorph) (4.63.0)\n",
            "Requirement already satisfied: six in /usr/local/lib/python3.7/dist-packages (from neurite->voxelmorph) (1.15.0)\n",
            "Requirement already satisfied: python-dateutil>=2.1 in /usr/local/lib/python3.7/dist-packages (from matplotlib->neurite->voxelmorph) (2.8.2)\n",
            "Requirement already satisfied: kiwisolver>=1.0.1 in /usr/local/lib/python3.7/dist-packages (from matplotlib->neurite->voxelmorph) (1.4.0)\n",
            "Requirement already satisfied: cycler>=0.10 in /usr/local/lib/python3.7/dist-packages (from matplotlib->neurite->voxelmorph) (0.11.0)\n",
            "Requirement already satisfied: pyparsing!=2.0.4,!=2.1.2,!=2.1.6,>=2.0.1 in /usr/local/lib/python3.7/dist-packages (from matplotlib->neurite->voxelmorph) (3.0.7)\n",
            "Requirement already satisfied: typing-extensions in /usr/local/lib/python3.7/dist-packages (from kiwisolver>=1.0.1->matplotlib->neurite->voxelmorph) (3.10.0.2)\n",
            "Requirement already satisfied: tifffile>=2019.7.26 in /usr/local/lib/python3.7/dist-packages (from scikit-image->voxelmorph) (2021.11.2)\n",
            "Requirement already satisfied: networkx>=2.0 in /usr/local/lib/python3.7/dist-packages (from scikit-image->voxelmorph) (2.6.3)\n",
            "Requirement already satisfied: imageio>=2.3.0 in /usr/local/lib/python3.7/dist-packages (from scikit-image->voxelmorph) (2.4.1)\n",
            "Requirement already satisfied: pillow!=7.1.0,!=7.1.1,>=4.3.0 in /usr/local/lib/python3.7/dist-packages (from scikit-image->voxelmorph) (7.1.2)\n",
            "Requirement already satisfied: PyWavelets>=1.1.1 in /usr/local/lib/python3.7/dist-packages (from scikit-image->voxelmorph) (1.3.0)\n",
            "Requirement already satisfied: joblib>=0.11 in /usr/local/lib/python3.7/dist-packages (from scikit-learn->neurite->voxelmorph) (1.1.0)\n",
            "Requirement already satisfied: threadpoolctl>=2.0.0 in /usr/local/lib/python3.7/dist-packages (from scikit-learn->neurite->voxelmorph) (3.1.0)\n",
            "Installing collected packages: pystrum, neurite, voxelmorph\n",
            "Successfully installed neurite-0.1 pystrum-0.1 voxelmorph-0.1\n"
          ]
        }
      ]
    },
    {
      "cell_type": "code",
      "execution_count": 3,
      "metadata": {
        "id": "mXdTYidN0Tac"
      },
      "outputs": [],
      "source": [
        "# imports\n",
        "# local imports\n",
        "import voxelmorph as vxm\n",
        "import neurite as ne\n",
        "import os, sys\n",
        "\n",
        "# third party imports\n",
        "import numpy as np\n",
        "import tensorflow as tf\n",
        "assert tf.__version__.startswith('2.'), 'This tutorial assumes Tensorflow 2.0+'\n",
        "import matplotlib.pyplot as plt\n",
        "import cv2\n",
        "\n",
        "%matplotlib inline\n",
        "import nibabel as nib\n",
        "\n",
        "#import nbimporter\n",
        "#from functions import *\n"
      ]
    },
    {
      "cell_type": "code",
      "execution_count": 6,
      "metadata": {
        "id": "fzES90Vp0Tai"
      },
      "outputs": [],
      "source": [
        "#m=maxx(data_dir)\n",
        "m=1584 "
      ]
    },
    {
      "cell_type": "code",
      "source": [
        "import random\n",
        "def load_m (file_path):\n",
        "    \n",
        "    img = nib.load(file_path)\n",
        "    img_data = img.get_fdata()\n",
        "    \n",
        "    if img.shape[0:2]!=(64,64):\n",
        "    \n",
        "        img_data = img_data[23:87,23:87,:,:]\n",
        "        \n",
        "    if not (file_path.endswith(\".nii\") or file_path.endswith(\".nii.gz\")):\n",
        "        raise ValueError(\n",
        "              f\"Nifti file path must end with .nii or .nii.gz, got {file_path}.\"\n",
        "                        )\n",
        "    return img_data \n",
        "def count (data_dir):\n",
        "    train_dir = os.path.join(data_dir)\n",
        "\n",
        "    train_data_num = []\n",
        "    for file in os.listdir(train_dir):\n",
        "            train_data_num.append([file])\n",
        "    train_data_num=np.array(train_data_num) \n",
        "    n=train_data_num.shape[0] \n",
        "\n",
        "    return n,train_data_num"
      ],
      "metadata": {
        "id": "B4ghNO6uS9Fw"
      },
      "execution_count": 7,
      "outputs": []
    },
    {
      "cell_type": "code",
      "source": [
        "def data_generator(data_dir, batch_size,m,split):\n",
        "    \"\"\"4\n",
        "    Generator that takes in data of size [N, H, W], and yields data for\n",
        "    our custom vxm model. Note that we need to provide numpy data for each\n",
        "    input, and each output.\n",
        "\n",
        "    inputs:  moving [bs, H, W, 1], fixed image [bs, H, W, 1]\n",
        "    outputs: moved image [bs, H, W, 1], zero-gradient [bs, H, W, 2]\n",
        "    \n",
        "    m= maximum between all subject \n",
        "    split= percent of validation data\n",
        "    \n",
        "    \n",
        "    \"\"\"\n",
        "    \n",
        "    n,train_data_num=count(data_dir)\n",
        "    n_train=n-int(split*n)\n",
        " \n",
        "    \n",
        "    subject_ID=random.randint(0,n_train-1)\n",
        "    d=load_m(data_dir+'/'+str(train_data_num[subject_ID][0]))\n",
        "\n",
        "    \n",
        "    s=d.shape[2]\n",
        "    slice_ID =random.randint(0,s-1)\n",
        "    v=d.shape[3]\n",
        "    \n",
        " # preliminary sizing\n",
        "    vol_shape = d.shape[:2] # extract data shape\n",
        "    ndims = len(vol_shape)\n",
        "    \n",
        "    \n",
        "    d=d[:,:,slice_ID,:]\n",
        "    d = np.einsum('jki->ijk', d)\n",
        "\n",
        "    \n",
        "    \n",
        "   \n",
        "    \n",
        "    # prepare a zero array the size of the deformation\n",
        "    # we'll explain this below\n",
        "    zero_phi = np.zeros([batch_size, *vol_shape, ndims])\n",
        "    \n",
        "    while True:\n",
        "        # prepare inputs:\n",
        "        # images need to be of the size [batch_size, H, W, 1]\n",
        "        idx1 = np.random.randint(0, v, size=batch_size)\n",
        "        moving_images = d[idx1, ..., np.newaxis]\n",
        "        moving_images=moving_images/m\n",
        "        \n",
        "        idx2 = np.random.randint(0, v, size=batch_size)\n",
        "        fixed_images = d[idx2, ..., np.newaxis]\n",
        "        fixed_images=fixed_images/m\n",
        "        \n",
        "        inputs = [moving_images, fixed_images]\n",
        "        \n",
        "        # prepare outputs (the 'true' moved image):\n",
        "        # of course, we don't have this, but we know we want to compare \n",
        "        # the resulting moved image with the fixed image. \n",
        "        # we also wish to penalize the deformation field. \n",
        "        outputs = [fixed_images, zero_phi]\n",
        "        \n",
        "        yield (inputs, outputs)\n",
        "\n",
        "\n",
        "\n",
        "def val_generator(data_dir, batch_size,m,split):\n",
        "  \n",
        "    n,train_data_num=count(data_dir)\n",
        "    n_train=n-int(split*n)\n",
        "    a=n_train\n",
        "    \n",
        "    \n",
        "    subject_ID=random.randint(a,n-1)\n",
        "    d=load_m(data_dir+'/'+str(train_data_num[subject_ID][0]))\n",
        "\n",
        "    \n",
        "    s=d.shape[2]\n",
        "    slice_ID =random.randint(0,s-1)\n",
        "    v=d.shape[3]\n",
        "    \n",
        "    # preliminary sizing\n",
        "    vol_shape = d.shape[:2] # extract data shape\n",
        "    ndims = len(vol_shape)\n",
        "    \n",
        "    \n",
        "    d=d[:,:,slice_ID,:]\n",
        "    d = np.einsum('jki->ijk', d)\n",
        "\n",
        " \n",
        "    # prepare a zero array the size of the deformation\n",
        "    # we'll explain this below\n",
        "    zero_phi = np.zeros([batch_size, *vol_shape, ndims])\n",
        "    \n",
        "    # prepare inputs:\n",
        "    # images need to be of the size [batch_size, H, W, 1]\n",
        "    idx1 = np.random.randint(0, v, size=batch_size)\n",
        "    moving_images = d[idx1, ..., np.newaxis]\n",
        "    moving_images=moving_images/m\n",
        "\n",
        "    idx2 = np.random.randint(0, v, size=batch_size)\n",
        "    fixed_images = d[idx2, ..., np.newaxis]\n",
        "    fixed_images=fixed_images/m\n",
        "\n",
        "    inputs = [moving_images, fixed_images]\n",
        "\n",
        "    # prepare outputs (the 'true' moved image):\n",
        "    # of course, we don't have this, but we know we want to compare \n",
        "    # the resulting moved image with the fixed image. \n",
        "    # we also wish to penalize the deformation field. \n",
        "    outputs = [fixed_images,zero_phi]\n",
        "\n",
        "    return (inputs, outputs)\n",
        "\n",
        "\n",
        "\n",
        "\n",
        "\n"
      ],
      "metadata": {
        "id": "KPxDR9SZSxxi"
      },
      "execution_count": 8,
      "outputs": []
    },
    {
      "cell_type": "code",
      "source": [
        "data_dir='/content/drive/MyDrive/data/data selection_D1'"
      ],
      "metadata": {
        "id": "SSerd10qT06W"
      },
      "execution_count": 9,
      "outputs": []
    },
    {
      "cell_type": "code",
      "execution_count": 10,
      "metadata": {
        "id": "I9b6tv3m0Taj",
        "outputId": "ede71faf-e2ab-47d9-d004-9e56f1d71390",
        "colab": {
          "base_uri": "https://localhost:8080/",
          "height": 262
        }
      },
      "outputs": [
        {
          "output_type": "display_data",
          "data": {
            "text/plain": [
              "<Figure size 1080x270 with 8 Axes>"
            ],
            "image/png": "[encoded data removed]"
          },
          "metadata": {
            "needs_background": "light"
          }
        }
      ],
      "source": [
        "split=0.3  # it means 70% for train and 30% for validation\n",
        "\n",
        "\n",
        "train_generator = data_generator(data_dir,100,m,split)\n",
        "in_sample, out_sample = next(train_generator)\n",
        "\n",
        "# visualize\n",
        "images = [img[0, :, :, 0] for img in in_sample + out_sample] \n",
        "titles = ['moving', 'fixed', 'moved ground-truth (fixed)', 'zeros']\n",
        "ne.plot.slices(images, titles=titles, cmaps=['gray'], do_colorbars=True);\n"
      ]
    },
    {
      "cell_type": "code",
      "source": [
        "def validation_gen(data_dir, batch_size,m,split):\n",
        "    s=[]\n",
        "    v=[]\n",
        "    n,train_data_num=count(data_dir)\n",
        "    n_train=n-int(split*n)\n",
        "    a=n_train\n",
        "\n",
        "    for subject_ID in range(a,n-1):\n",
        "            d=load_m(data_dir+'/'+str(train_data_num[subject_ID][0]))\n",
        "            s.append(d.shape[2])\n",
        "            v.append(d.shape[3])\n",
        "    slice_sum=np.sum(s)\n",
        "    #subject_ID=random.randint(a,n-1)\n",
        "    vol_shape=(64, 64)\n",
        "    ndims = len(vol_shape)\n",
        "    \n",
        "    zero_phi = np.zeros([batch_size*slice_sum, *vol_shape, ndims])\n",
        "    moving_images = np.zeros([batch_size*slice_sum, *vol_shape, 1])\n",
        "    fixed_images=np.zeros([batch_size*slice_sum, *vol_shape, 1])\n",
        "    c=0\n",
        "    for subject_ID in range(a,n-1):\n",
        "        d1=load_m(data_dir+'/'+str(train_data_num[subject_ID][0]))\n",
        "        s=d1.shape[2]\n",
        "        v=d1.shape[3]\n",
        "        for slice_ID in range(s):\n",
        "            #slice_ID =random.randint(0,s-1)\n",
        "            d=d1[:,:,slice_ID,:]\n",
        "            d = np.einsum('jki->ijk', d)\n",
        "\n",
        "            idx1 = np.random.randint(0, v, size=batch_size)\n",
        "            moving_images[c:c+batch_size,...] = d[idx1, ..., np.newaxis]\n",
        "            moving_images=moving_images/m\n",
        "\n",
        "            idx2 = np.random.randint(0, v, size=batch_size)\n",
        "            fixed_images[c:c+batch_size,...] = d[idx2, ..., np.newaxis]\n",
        "            fixed_images=fixed_images/m\n",
        "            c=c+batch_size\n",
        "\n",
        "    inputs = [moving_images, fixed_images]\n",
        "\n",
        "    # prepare outputs (the 'true' moved image):\n",
        "    # of course, we don't have this, but we know we want to compare \n",
        "    # the resulting moved image with the fixed image. \n",
        "    # we also wish to penalize the deformation field. \n",
        "    outputs = [fixed_images,zero_phi]\n",
        "    return (inputs, outputs)"
      ],
      "metadata": {
        "id": "lJmpDXuo5VKp"
      },
      "execution_count": 11,
      "outputs": []
    },
    {
      "cell_type": "code",
      "source": [
        "split=0.3  # it means 70% for train and 30% for validation\n",
        "\n",
        "\n",
        "v_generator = validation_gen(data_dir,10,m,split)"
      ],
      "metadata": {
        "id": "f8PsTGLs5dq5"
      },
      "execution_count": 12,
      "outputs": []
    },
    {
      "cell_type": "code",
      "source": [
        ""
      ],
      "metadata": {
        "id": "2sd86XjB8ur_"
      },
      "execution_count": null,
      "outputs": []
    },
    {
      "cell_type": "code",
      "source": [
        "split=0.3  # it means 70% for train and 30% for validation\n",
        "\n",
        "\n",
        "vv_generator = val_generator(data_dir,100,m,split)\n"
      ],
      "metadata": {
        "id": "zKpRpbqGifzO"
      },
      "execution_count": null,
      "outputs": []
    },
    {
      "cell_type": "code",
      "execution_count": 13,
      "metadata": {
        "id": "bwSxd8fu0Tal"
      },
      "outputs": [],
      "source": [
        "# configure unet input shape (concatenation of moving and fixed images)\n",
        "ndim = 2\n",
        "unet_input_features = 2\n",
        "# data shape 64*64\n",
        "s=in_sample[0].shape[1:3]\n",
        "inshape = (*s, unet_input_features)\n",
        "\n",
        "# configure unet features \n",
        "nb_features = [\n",
        "    [64, 64, 64, 64],         # encoder features\n",
        "    [64, 64, 64, 64, 64, 32,16]  # decoder features\n",
        "]\n",
        "\n",
        "#nb_features = [\n",
        "#    [32, 32, 32, 32],         # encoder features\n",
        "#    [32, 32, 32, 32, 32,16]  # decoder features\n",
        "#           ]"
      ]
    },
    {
      "cell_type": "code",
      "execution_count": 14,
      "metadata": {
        "id": "6JVD05Hx0Tan",
        "outputId": "6dc68f37-ffb1-4abc-c9d0-d2567623ed95",
        "colab": {
          "base_uri": "https://localhost:8080/"
        }
      },
      "outputs": [
        {
          "output_type": "stream",
          "name": "stdout",
          "text": [
            "WARNING:tensorflow:From /usr/local/lib/python3.7/dist-packages/tensorflow/python/util/deprecation.py:616: calling map_fn_v2 (from tensorflow.python.ops.map_fn) with dtype is deprecated and will be removed in a future version.\n",
            "Instructions for updating:\n",
            "Use fn_output_signature instead\n"
          ]
        }
      ],
      "source": [
        "# build model using VxmDense\n",
        "inshape =s\n",
        "vxm_model = vxm.networks.VxmDense(inshape, nb_features, int_steps=0)"
      ]
    },
    {
      "cell_type": "code",
      "execution_count": 23,
      "metadata": {
        "id": "4_aLG24o0Taq"
      },
      "outputs": [],
      "source": [
        "# voxelmorph has a variety of custom loss classes\n",
        "losses = [vxm.losses.NCC().loss, vxm.losses.Grad('l2').loss]\n",
        "\n",
        "# usually, we have to balance the two losses by a hyper-parameter\n",
        "lambda_param = 0.01\n",
        "loss_weights = [1, lambda_param]"
      ]
    },
    {
      "cell_type": "code",
      "source": [
        "import numpy as np\n",
        "import tensorflow as tf\n",
        "from keras import backend as K\n",
        "def recall(y_true, y_pred):\n",
        "    true_positives = K.sum(K.round(K.clip(y_true * y_pred, 0, 1)))\n",
        "    possible_positives = K.sum(K.round(K.clip(y_true, 0, 1)))\n",
        "    recall_keras = true_positives / (possible_positives + K.epsilon())\n",
        "    return recall_keras\n",
        "\n",
        "\n",
        "def precision(y_true, y_pred):\n",
        "    true_positives = K.sum(K.round(K.clip(y_true * y_pred, 0, 1)))\n",
        "    predicted_positives = K.sum(K.round(K.clip(y_pred, 0, 1)))\n",
        "    precision_keras = true_positives / (predicted_positives + K.epsilon())\n",
        "    return precision_keras\n",
        "def f1(y_true, y_pred):\n",
        "    p = precision(y_true, y_pred)\n",
        "    r = recall(y_true, y_pred)\n",
        "    return 2 * ((p * r) / (p + r + K.epsilon()))"
      ],
      "metadata": {
        "id": "NJ1rPVPrfx14"
      },
      "execution_count": 16,
      "outputs": []
    },
    {
      "cell_type": "code",
      "source": [
        "def dice_coef(y_true, y_pred, smooth=1):\n",
        "  intersection = K.sum(y_true * y_pred, axis=[1,2,3])\n",
        "  union = K.sum(y_true, axis=[1,2,3]) + K.sum(y_pred, axis=[1,2,3])\n",
        "  dice = K.mean((2. * intersection + smooth)/(union + smooth), axis=0)\n",
        "  return dice"
      ],
      "metadata": {
        "id": "CR9O3fpMsg5Y"
      },
      "execution_count": 17,
      "outputs": []
    },
    {
      "cell_type": "code",
      "source": [
        "def signaltonoise(a, axis=None, ddof=0):\n",
        "    a = np.asanyarray(a)\n",
        "    m = a.mean(axis)\n",
        "    sd = a.std(axis=axis, ddof=ddof)\n",
        "    return np.where(sd == 0, 0, m/sd)\n"
      ],
      "metadata": {
        "id": "gzv8qcIZBBJC"
      },
      "execution_count": 18,
      "outputs": []
    },
    {
      "cell_type": "code",
      "source": [
        "def TSNRR(source_input,transformer):\n",
        "    M=(source_input+transformer)/2\n",
        "    std1=(source_input-M)**2\n",
        "    std2=(transformer-M)**2\n",
        "    std=K.sqrt((std1+std2)/2)\n",
        "    f=(M/std)\n",
        "    #f[f >1000000]=0\n",
        "\n",
        "    final= K.sum(f[f <1000000])\n",
        "    final=final/4096\n",
        "    return final"
      ],
      "metadata": {
        "id": "BBRKwW1vrvHQ"
      },
      "execution_count": 19,
      "outputs": []
    },
    {
      "cell_type": "code",
      "execution_count": 20,
      "metadata": {
        "id": "iLSulsKn0Tar"
      },
      "outputs": [],
      "source": [
        "vxm_model.compile(optimizer='Adam', loss=losses, loss_weights=loss_weights, metrics=[TSNRR,dice_coef,'MSE'])"
      ]
    },
    {
      "cell_type": "code",
      "execution_count": 21,
      "metadata": {
        "id": "PwmPqwEA0Tar"
      },
      "outputs": [],
      "source": [
        "from keras.callbacks import ModelCheckpoint, ReduceLROnPlateau,EarlyStopping\n",
        "#es = EarlyStopping(monitor='transformer_TSNR', mode='max', min_delta=1, patience=5, verbose=1)\n",
        "#annealer = ReduceLROnPlateau(monitor=['val_accuracy','val_mse'] ,factor=0.5, patience=5, verbose=1, min_lr=1e-3)\n",
        "checkpoint = ModelCheckpoint('model.h5', verbose=1, save_best_only=True)"
      ]
    },
    {
      "cell_type": "code",
      "source": [
        "data_generator(data_dir,100,m,split)"
      ],
      "metadata": {
        "id": "X65H3_vP7u02",
        "outputId": "8e97859c-296c-4078-a999-ccd8e9bae171",
        "colab": {
          "base_uri": "https://localhost:8080/"
        }
      },
      "execution_count": null,
      "outputs": [
        {
          "output_type": "execute_result",
          "data": {
            "text/plain": [
              "<generator object data_generator at 0x7fe072868b50>"
            ]
          },
          "metadata": {},
          "execution_count": 24
        }
      ]
    },
    {
      "cell_type": "code",
      "execution_count": 24,
      "metadata": {
        "scrolled": true,
        "id": "Mwpi1kcX0Tas",
        "outputId": "da00214e-9d48-4f25-c700-99f7c1489836",
        "colab": {
          "base_uri": "https://localhost:8080/"
        }
      },
      "outputs": [
        {
          "output_type": "stream",
          "name": "stdout",
          "text": [
            "Epoch 1/200\n",
            "\n",
            "Epoch 1: val_loss improved from -0.00144 to -0.00167, saving model to model.h5\n",
            "100/100 - 75s - loss: -5.8611e-01 - transformer_loss: -5.8611e-01 - flow_loss: 0.1150 - transformer_TSNRR: 7013.6436 - transformer_dice_coef: 0.0939 - transformer_MSE: 3.3053e-04 - flow_TSNRR: 43.8475 - flow_dice_coef: 4.8206e-04 - flow_MSE: 0.5605 - val_loss: -1.6718e-03 - val_transformer_loss: -1.6718e-03 - val_flow_loss: 0.0046 - val_transformer_TSNRR: 28.2028 - val_transformer_dice_coef: 0.9967 - val_transformer_MSE: 1.4756e-06 - val_flow_TSNRR: 54.7627 - val_flow_dice_coef: 7.0585e-04 - val_flow_MSE: 0.0498 - 75s/epoch - 751ms/step\n",
            "Epoch 2/200\n",
            "\n",
            "Epoch 2: val_loss improved from -0.00167 to -0.00183, saving model to model.h5\n",
            "100/100 - 71s - loss: -6.6545e-01 - transformer_loss: -6.6545e-01 - flow_loss: 0.2978 - transformer_TSNRR: 8412.1494 - transformer_dice_coef: 0.0942 - transformer_MSE: 2.6533e-04 - flow_TSNRR: 54.2981 - flow_dice_coef: 0.0014 - flow_MSE: 0.5161 - val_loss: -1.8303e-03 - val_transformer_loss: -1.8303e-03 - val_flow_loss: 0.0067 - val_transformer_TSNRR: 25.5178 - val_transformer_dice_coef: 0.9967 - val_transformer_MSE: 1.1931e-06 - val_flow_TSNRR: 57.5342 - val_flow_dice_coef: 7.4697e-04 - val_flow_MSE: 0.0402 - 71s/epoch - 709ms/step\n",
            "Epoch 3/200\n",
            "\n",
            "Epoch 3: val_loss improved from -0.00183 to -0.00189, saving model to model.h5\n",
            "100/100 - 65s - loss: -7.1926e-01 - transformer_loss: -7.1926e-01 - flow_loss: 0.4380 - transformer_TSNRR: 9827.7578 - transformer_dice_coef: 0.0944 - transformer_MSE: 2.2129e-04 - flow_TSNRR: 59.9593 - flow_dice_coef: 9.3335e-04 - flow_MSE: 0.4868 - val_loss: -1.8887e-03 - val_transformer_loss: -1.8887e-03 - val_flow_loss: 0.0081 - val_transformer_TSNRR: 27.0647 - val_transformer_dice_coef: 0.9967 - val_transformer_MSE: 1.0894e-06 - val_flow_TSNRR: 55.2461 - val_flow_dice_coef: 9.5944e-04 - val_flow_MSE: 0.0323 - 65s/epoch - 652ms/step\n",
            "Epoch 4/200\n",
            "\n",
            "Epoch 4: val_loss improved from -0.00189 to -0.00193, saving model to model.h5\n",
            "100/100 - 64s - loss: -7.4601e-01 - transformer_loss: -7.4601e-01 - flow_loss: 0.4806 - transformer_TSNRR: 10515.9248 - transformer_dice_coef: 0.0945 - transformer_MSE: 2.0048e-04 - flow_TSNRR: 59.7140 - flow_dice_coef: 0.0025 - flow_MSE: 0.4802 - val_loss: -1.9302e-03 - val_transformer_loss: -1.9302e-03 - val_flow_loss: 0.0081 - val_transformer_TSNRR: 26.6704 - val_transformer_dice_coef: 0.9967 - val_transformer_MSE: 9.9751e-07 - val_flow_TSNRR: 58.2542 - val_flow_dice_coef: 7.0806e-04 - val_flow_MSE: 0.0522 - 64s/epoch - 645ms/step\n",
            "Epoch 5/200\n",
            "\n",
            "Epoch 5: val_loss improved from -0.00193 to -0.00196, saving model to model.h5\n",
            "100/100 - 65s - loss: -7.6510e-01 - transformer_loss: -7.6510e-01 - flow_loss: 0.5005 - transformer_TSNRR: 11087.8291 - transformer_dice_coef: 0.0944 - transformer_MSE: 1.8575e-04 - flow_TSNRR: 59.3407 - flow_dice_coef: 6.7760e-04 - flow_MSE: 0.4696 - val_loss: -1.9642e-03 - val_transformer_loss: -1.9642e-03 - val_flow_loss: 0.0095 - val_transformer_TSNRR: 29.9093 - val_transformer_dice_coef: 0.9967 - val_transformer_MSE: 9.1825e-07 - val_flow_TSNRR: 58.7407 - val_flow_dice_coef: 5.7817e-04 - val_flow_MSE: 0.0596 - 65s/epoch - 654ms/step\n",
            "Epoch 6/200\n",
            "\n",
            "Epoch 6: val_loss improved from -0.00196 to -0.00199, saving model to model.h5\n",
            "100/100 - 64s - loss: -7.7989e-01 - transformer_loss: -7.7989e-01 - flow_loss: 0.5131 - transformer_TSNRR: 11736.4551 - transformer_dice_coef: 0.0944 - transformer_MSE: 1.7394e-04 - flow_TSNRR: 59.1294 - flow_dice_coef: 0.0017 - flow_MSE: 0.4655 - val_loss: -1.9854e-03 - val_transformer_loss: -1.9854e-03 - val_flow_loss: 0.0110 - val_transformer_TSNRR: 25.6752 - val_transformer_dice_coef: 0.9967 - val_transformer_MSE: 9.7097e-07 - val_flow_TSNRR: 53.9062 - val_flow_dice_coef: 6.2694e-04 - val_flow_MSE: 0.0637 - 64s/epoch - 643ms/step\n",
            "Epoch 7/200\n",
            "\n",
            "Epoch 7: val_loss improved from -0.00199 to -0.00201, saving model to model.h5\n",
            "100/100 - 64s - loss: -7.9023e-01 - transformer_loss: -7.9023e-01 - flow_loss: 0.5245 - transformer_TSNRR: 12102.4102 - transformer_dice_coef: 0.0944 - transformer_MSE: 1.6640e-04 - flow_TSNRR: 58.7308 - flow_dice_coef: 0.0011 - flow_MSE: 0.4695 - val_loss: -2.0079e-03 - val_transformer_loss: -2.0079e-03 - val_flow_loss: 0.0104 - val_transformer_TSNRR: 26.8170 - val_transformer_dice_coef: 0.9967 - val_transformer_MSE: 8.3528e-07 - val_flow_TSNRR: 49.5691 - val_flow_dice_coef: 7.1699e-04 - val_flow_MSE: 0.0588 - 64s/epoch - 642ms/step\n",
            "Epoch 8/200\n",
            "\n",
            "Epoch 8: val_loss improved from -0.00201 to -0.00201, saving model to model.h5\n",
            "100/100 - 64s - loss: -7.9834e-01 - transformer_loss: -7.9834e-01 - flow_loss: 0.5354 - transformer_TSNRR: 12470.7891 - transformer_dice_coef: 0.0945 - transformer_MSE: 1.6081e-04 - flow_TSNRR: 58.7270 - flow_dice_coef: 0.0013 - flow_MSE: 0.4704 - val_loss: -2.0140e-03 - val_transformer_loss: -2.0140e-03 - val_flow_loss: 0.0126 - val_transformer_TSNRR: 27.7785 - val_transformer_dice_coef: 0.9967 - val_transformer_MSE: 8.5974e-07 - val_flow_TSNRR: 50.7688 - val_flow_dice_coef: 5.9087e-04 - val_flow_MSE: 0.0813 - 64s/epoch - 643ms/step\n",
            "Epoch 9/200\n",
            "\n",
            "Epoch 9: val_loss improved from -0.00201 to -0.00203, saving model to model.h5\n",
            "100/100 - 65s - loss: -8.0519e-01 - transformer_loss: -8.0519e-01 - flow_loss: 0.5415 - transformer_TSNRR: 12718.9658 - transformer_dice_coef: 0.0943 - transformer_MSE: 1.5523e-04 - flow_TSNRR: 58.4487 - flow_dice_coef: 0.0011 - flow_MSE: 0.4713 - val_loss: -2.0319e-03 - val_transformer_loss: -2.0319e-03 - val_flow_loss: 0.0122 - val_transformer_TSNRR: 28.2110 - val_transformer_dice_coef: 0.9967 - val_transformer_MSE: 8.2371e-07 - val_flow_TSNRR: 47.0880 - val_flow_dice_coef: 9.1499e-04 - val_flow_MSE: 0.0460 - 65s/epoch - 646ms/step\n",
            "Epoch 10/200\n",
            "\n",
            "Epoch 10: val_loss improved from -0.00203 to -0.00204, saving model to model.h5\n",
            "100/100 - 64s - loss: -8.1041e-01 - transformer_loss: -8.1041e-01 - flow_loss: 0.5488 - transformer_TSNRR: 12818.4648 - transformer_dice_coef: 0.0943 - transformer_MSE: 1.5178e-04 - flow_TSNRR: 58.3236 - flow_dice_coef: 4.2218e-04 - flow_MSE: 0.4745 - val_loss: -2.0393e-03 - val_transformer_loss: -2.0393e-03 - val_flow_loss: 0.0117 - val_transformer_TSNRR: 29.9654 - val_transformer_dice_coef: 0.9967 - val_transformer_MSE: 7.8113e-07 - val_flow_TSNRR: 44.0545 - val_flow_dice_coef: 6.8935e-04 - val_flow_MSE: 0.0806 - 64s/epoch - 639ms/step\n",
            "Epoch 11/200\n",
            "\n",
            "Epoch 11: val_loss improved from -0.00204 to -0.00205, saving model to model.h5\n",
            "100/100 - 64s - loss: -8.1544e-01 - transformer_loss: -8.1544e-01 - flow_loss: 0.5546 - transformer_TSNRR: 13074.9688 - transformer_dice_coef: 0.0943 - transformer_MSE: 1.4788e-04 - flow_TSNRR: 58.3840 - flow_dice_coef: 0.0013 - flow_MSE: 0.4756 - val_loss: -2.0536e-03 - val_transformer_loss: -2.0536e-03 - val_flow_loss: 0.0130 - val_transformer_TSNRR: 26.1594 - val_transformer_dice_coef: 0.9967 - val_transformer_MSE: 7.5899e-07 - val_flow_TSNRR: 14.0337 - val_flow_dice_coef: 8.8080e-04 - val_flow_MSE: 0.0694 - 64s/epoch - 641ms/step\n",
            "Epoch 12/200\n",
            "\n",
            "Epoch 12: val_loss did not improve from -0.00205\n",
            "100/100 - 64s - loss: -8.1904e-01 - transformer_loss: -8.1904e-01 - flow_loss: 0.5639 - transformer_TSNRR: 13182.2158 - transformer_dice_coef: 0.0943 - transformer_MSE: 1.4608e-04 - flow_TSNRR: 58.1124 - flow_dice_coef: 8.5397e-04 - flow_MSE: 0.4819 - val_loss: -2.0497e-03 - val_transformer_loss: -2.0497e-03 - val_flow_loss: 0.0140 - val_transformer_TSNRR: 28.2805 - val_transformer_dice_coef: 0.9967 - val_transformer_MSE: 8.1399e-07 - val_flow_TSNRR: 3.3485 - val_flow_dice_coef: 0.0022 - val_flow_MSE: 0.0590 - 64s/epoch - 639ms/step\n",
            "Epoch 13/200\n",
            "\n",
            "Epoch 13: val_loss improved from -0.00205 to -0.00206, saving model to model.h5\n",
            "100/100 - 64s - loss: -8.2308e-01 - transformer_loss: -8.2308e-01 - flow_loss: 0.5692 - transformer_TSNRR: 13366.8242 - transformer_dice_coef: 0.0943 - transformer_MSE: 1.4324e-04 - flow_TSNRR: 57.9023 - flow_dice_coef: 7.0037e-04 - flow_MSE: 0.4840 - val_loss: -2.0637e-03 - val_transformer_loss: -2.0637e-03 - val_flow_loss: 0.0155 - val_transformer_TSNRR: 28.0469 - val_transformer_dice_coef: 0.9967 - val_transformer_MSE: 6.9766e-07 - val_flow_TSNRR: 5.7440 - val_flow_dice_coef: 9.6818e-04 - val_flow_MSE: 0.0880 - 64s/epoch - 639ms/step\n",
            "Epoch 14/200\n",
            "\n",
            "Epoch 14: val_loss improved from -0.00206 to -0.00207, saving model to model.h5\n",
            "100/100 - 64s - loss: -8.2688e-01 - transformer_loss: -8.2688e-01 - flow_loss: 0.5728 - transformer_TSNRR: 13607.8926 - transformer_dice_coef: 0.0942 - transformer_MSE: 1.3960e-04 - flow_TSNRR: 57.7545 - flow_dice_coef: 0.0015 - flow_MSE: 0.4843 - val_loss: -2.0693e-03 - val_transformer_loss: -2.0693e-03 - val_flow_loss: 0.0162 - val_transformer_TSNRR: 28.6335 - val_transformer_dice_coef: 0.9967 - val_transformer_MSE: 6.9280e-07 - val_flow_TSNRR: 8.7146 - val_flow_dice_coef: 0.0011 - val_flow_MSE: 0.0785 - 64s/epoch - 638ms/step\n",
            "Epoch 15/200\n",
            "\n",
            "Epoch 15: val_loss improved from -0.00207 to -0.00208, saving model to model.h5\n",
            "100/100 - 64s - loss: -8.2987e-01 - transformer_loss: -8.2987e-01 - flow_loss: 0.5797 - transformer_TSNRR: 13738.2910 - transformer_dice_coef: 0.0942 - transformer_MSE: 1.3871e-04 - flow_TSNRR: 58.0009 - flow_dice_coef: 0.0010 - flow_MSE: 0.4886 - val_loss: -2.0765e-03 - val_transformer_loss: -2.0765e-03 - val_flow_loss: 0.0172 - val_transformer_TSNRR: 28.9561 - val_transformer_dice_coef: 0.9967 - val_transformer_MSE: 7.2837e-07 - val_flow_TSNRR: 10.6615 - val_flow_dice_coef: 0.0012 - val_flow_MSE: 0.0650 - 64s/epoch - 640ms/step\n",
            "Epoch 16/200\n",
            "\n",
            "Epoch 16: val_loss improved from -0.00208 to -0.00208, saving model to model.h5\n",
            "100/100 - 64s - loss: -8.3294e-01 - transformer_loss: -8.3294e-01 - flow_loss: 0.5813 - transformer_TSNRR: 13872.9785 - transformer_dice_coef: 0.0943 - transformer_MSE: 1.3554e-04 - flow_TSNRR: 57.9123 - flow_dice_coef: 0.0016 - flow_MSE: 0.4876 - val_loss: -2.0838e-03 - val_transformer_loss: -2.0838e-03 - val_flow_loss: 0.0168 - val_transformer_TSNRR: 28.6878 - val_transformer_dice_coef: 0.9967 - val_transformer_MSE: 6.9610e-07 - val_flow_TSNRR: 2.0953 - val_flow_dice_coef: 0.0025 - val_flow_MSE: 0.0855 - 64s/epoch - 641ms/step\n",
            "Epoch 17/200\n",
            "\n",
            "Epoch 17: val_loss improved from -0.00208 to -0.00209, saving model to model.h5\n",
            "100/100 - 64s - loss: -8.3594e-01 - transformer_loss: -8.3594e-01 - flow_loss: 0.5858 - transformer_TSNRR: 13957.4775 - transformer_dice_coef: 0.0943 - transformer_MSE: 1.3405e-04 - flow_TSNRR: 58.0482 - flow_dice_coef: 0.0023 - flow_MSE: 0.4902 - val_loss: -2.0863e-03 - val_transformer_loss: -2.0863e-03 - val_flow_loss: 0.0181 - val_transformer_TSNRR: 29.9410 - val_transformer_dice_coef: 0.9967 - val_transformer_MSE: 6.9008e-07 - val_flow_TSNRR: 4.4114 - val_flow_dice_coef: 0.0014 - val_flow_MSE: 0.0580 - 64s/epoch - 639ms/step\n",
            "Epoch 18/200\n",
            "\n",
            "Epoch 18: val_loss improved from -0.00209 to -0.00209, saving model to model.h5\n",
            "100/100 - 64s - loss: -8.3828e-01 - transformer_loss: -8.3828e-01 - flow_loss: 0.5878 - transformer_TSNRR: 14125.3799 - transformer_dice_coef: 0.0943 - transformer_MSE: 1.3279e-04 - flow_TSNRR: 58.2074 - flow_dice_coef: 8.7679e-04 - flow_MSE: 0.4877 - val_loss: -2.0903e-03 - val_transformer_loss: -2.0903e-03 - val_flow_loss: 0.0190 - val_transformer_TSNRR: 29.3583 - val_transformer_dice_coef: 0.9967 - val_transformer_MSE: 6.4706e-07 - val_flow_TSNRR: 7.4435 - val_flow_dice_coef: 0.0013 - val_flow_MSE: 0.0684 - 64s/epoch - 641ms/step\n",
            "Epoch 19/200\n",
            "\n",
            "Epoch 19: val_loss improved from -0.00209 to -0.00209, saving model to model.h5\n",
            "100/100 - 64s - loss: -8.4066e-01 - transformer_loss: -8.4066e-01 - flow_loss: 0.5926 - transformer_TSNRR: 14151.8516 - transformer_dice_coef: 0.0942 - transformer_MSE: 1.3079e-04 - flow_TSNRR: 58.0453 - flow_dice_coef: -3.2262e-04 - flow_MSE: 0.4912 - val_loss: -2.0915e-03 - val_transformer_loss: -2.0915e-03 - val_flow_loss: 0.0202 - val_transformer_TSNRR: 35.8760 - val_transformer_dice_coef: 0.9967 - val_transformer_MSE: 7.4155e-07 - val_flow_TSNRR: 5.5228 - val_flow_dice_coef: 0.0019 - val_flow_MSE: 0.0602 - 64s/epoch - 638ms/step\n",
            "Epoch 20/200\n",
            "\n",
            "Epoch 20: val_loss improved from -0.00209 to -0.00209, saving model to model.h5\n",
            "100/100 - 64s - loss: -8.4241e-01 - transformer_loss: -8.4241e-01 - flow_loss: 0.5966 - transformer_TSNRR: 14223.7324 - transformer_dice_coef: 0.0942 - transformer_MSE: 1.2983e-04 - flow_TSNRR: 57.8320 - flow_dice_coef: 8.3722e-04 - flow_MSE: 0.4928 - val_loss: -2.0945e-03 - val_transformer_loss: -2.0945e-03 - val_flow_loss: 0.0185 - val_transformer_TSNRR: 32.6132 - val_transformer_dice_coef: 0.9967 - val_transformer_MSE: 6.4330e-07 - val_flow_TSNRR: 8.6773 - val_flow_dice_coef: 8.8025e-04 - val_flow_MSE: 0.0755 - 64s/epoch - 640ms/step\n",
            "Epoch 21/200\n",
            "\n",
            "Epoch 21: val_loss improved from -0.00209 to -0.00210, saving model to model.h5\n",
            "100/100 - 64s - loss: -8.4486e-01 - transformer_loss: -8.4486e-01 - flow_loss: 0.6015 - transformer_TSNRR: 14418.9785 - transformer_dice_coef: 0.0942 - transformer_MSE: 1.2789e-04 - flow_TSNRR: 57.9583 - flow_dice_coef: 9.5954e-04 - flow_MSE: 0.4962 - val_loss: -2.0965e-03 - val_transformer_loss: -2.0965e-03 - val_flow_loss: 0.0210 - val_transformer_TSNRR: 30.6319 - val_transformer_dice_coef: 0.9967 - val_transformer_MSE: 6.8696e-07 - val_flow_TSNRR: 21.2065 - val_flow_dice_coef: 8.9212e-04 - val_flow_MSE: 0.0634 - 64s/epoch - 638ms/step\n",
            "Epoch 22/200\n",
            "\n",
            "Epoch 22: val_loss did not improve from -0.00210\n",
            "100/100 - 64s - loss: -8.4609e-01 - transformer_loss: -8.4609e-01 - flow_loss: 0.6058 - transformer_TSNRR: 14494.1084 - transformer_dice_coef: 0.0943 - transformer_MSE: 1.2722e-04 - flow_TSNRR: 57.7951 - flow_dice_coef: 5.9640e-04 - flow_MSE: 0.4976 - val_loss: -2.0929e-03 - val_transformer_loss: -2.0929e-03 - val_flow_loss: 0.0203 - val_transformer_TSNRR: 29.9718 - val_transformer_dice_coef: 0.9967 - val_transformer_MSE: 6.9879e-07 - val_flow_TSNRR: 54.8290 - val_flow_dice_coef: 5.8005e-04 - val_flow_MSE: 0.0853 - 64s/epoch - 639ms/step\n",
            "Epoch 23/200\n",
            "\n",
            "Epoch 23: val_loss improved from -0.00210 to -0.00210, saving model to model.h5\n",
            "100/100 - 64s - loss: -8.4867e-01 - transformer_loss: -8.4867e-01 - flow_loss: 0.6051 - transformer_TSNRR: 14563.5176 - transformer_dice_coef: 0.0942 - transformer_MSE: 1.2535e-04 - flow_TSNRR: 58.3144 - flow_dice_coef: 0.0011 - flow_MSE: 0.4943 - val_loss: -2.1014e-03 - val_transformer_loss: -2.1014e-03 - val_flow_loss: 0.0206 - val_transformer_TSNRR: 32.1827 - val_transformer_dice_coef: 0.9967 - val_transformer_MSE: 7.0296e-07 - val_flow_TSNRR: 3.6940 - val_flow_dice_coef: 0.0021 - val_flow_MSE: 0.0666 - 64s/epoch - 640ms/step\n",
            "Epoch 24/200\n",
            "\n",
            "Epoch 24: val_loss improved from -0.00210 to -0.00211, saving model to model.h5\n",
            "100/100 - 64s - loss: -8.4969e-01 - transformer_loss: -8.4969e-01 - flow_loss: 0.6109 - transformer_TSNRR: 14548.8867 - transformer_dice_coef: 0.0942 - transformer_MSE: 1.2506e-04 - flow_TSNRR: 58.4199 - flow_dice_coef: 0.0012 - flow_MSE: 0.4970 - val_loss: -2.1094e-03 - val_transformer_loss: -2.1094e-03 - val_flow_loss: 0.0224 - val_transformer_TSNRR: 30.7119 - val_transformer_dice_coef: 0.9967 - val_transformer_MSE: 6.9378e-07 - val_flow_TSNRR: 3.3883 - val_flow_dice_coef: 0.0024 - val_flow_MSE: 0.0599 - 64s/epoch - 644ms/step\n",
            "Epoch 25/200\n",
            "\n",
            "Epoch 25: val_loss improved from -0.00211 to -0.00212, saving model to model.h5\n",
            "100/100 - 64s - loss: -8.5106e-01 - transformer_loss: -8.5106e-01 - flow_loss: 0.6145 - transformer_TSNRR: 14563.5410 - transformer_dice_coef: 0.0942 - transformer_MSE: 1.2383e-04 - flow_TSNRR: 58.3488 - flow_dice_coef: 5.7117e-04 - flow_MSE: 0.4996 - val_loss: -2.1167e-03 - val_transformer_loss: -2.1167e-03 - val_flow_loss: 0.0257 - val_transformer_TSNRR: 27.2432 - val_transformer_dice_coef: 0.9967 - val_transformer_MSE: 6.7895e-07 - val_flow_TSNRR: 4.8214 - val_flow_dice_coef: 0.0034 - val_flow_MSE: 0.0511 - 64s/epoch - 641ms/step\n",
            "Epoch 26/200\n",
            "\n",
            "Epoch 26: val_loss did not improve from -0.00212\n",
            "100/100 - 64s - loss: -8.5255e-01 - transformer_loss: -8.5255e-01 - flow_loss: 0.6186 - transformer_TSNRR: 14715.1777 - transformer_dice_coef: 0.0942 - transformer_MSE: 1.2307e-04 - flow_TSNRR: 58.5886 - flow_dice_coef: 9.6035e-04 - flow_MSE: 0.5027 - val_loss: -2.1146e-03 - val_transformer_loss: -2.1146e-03 - val_flow_loss: 0.0240 - val_transformer_TSNRR: 29.7044 - val_transformer_dice_coef: 0.9967 - val_transformer_MSE: 6.2728e-07 - val_flow_TSNRR: 4.4393 - val_flow_dice_coef: 0.0016 - val_flow_MSE: 0.0642 - 64s/epoch - 641ms/step\n",
            "Epoch 27/200\n",
            "\n",
            "Epoch 27: val_loss improved from -0.00212 to -0.00212, saving model to model.h5\n",
            "100/100 - 64s - loss: -8.5388e-01 - transformer_loss: -8.5388e-01 - flow_loss: 0.6211 - transformer_TSNRR: 14803.3604 - transformer_dice_coef: 0.0942 - transformer_MSE: 1.2188e-04 - flow_TSNRR: 58.5855 - flow_dice_coef: 9.2544e-04 - flow_MSE: 0.5036 - val_loss: -2.1200e-03 - val_transformer_loss: -2.1200e-03 - val_flow_loss: 0.0264 - val_transformer_TSNRR: 29.0973 - val_transformer_dice_coef: 0.9967 - val_transformer_MSE: 6.2226e-07 - val_flow_TSNRR: 2.8346 - val_flow_dice_coef: 0.0017 - val_flow_MSE: 0.0828 - 64s/epoch - 640ms/step\n",
            "Epoch 28/200\n",
            "\n",
            "Epoch 28: val_loss did not improve from -0.00212\n",
            "100/100 - 64s - loss: -8.5586e-01 - transformer_loss: -8.5586e-01 - flow_loss: 0.6191 - transformer_TSNRR: 14790.4736 - transformer_dice_coef: 0.0942 - transformer_MSE: 1.2007e-04 - flow_TSNRR: 58.5730 - flow_dice_coef: 9.2550e-04 - flow_MSE: 0.4993 - val_loss: -2.1172e-03 - val_transformer_loss: -2.1172e-03 - val_flow_loss: 0.0237 - val_transformer_TSNRR: 30.5428 - val_transformer_dice_coef: 0.9967 - val_transformer_MSE: 7.1412e-07 - val_flow_TSNRR: 3.8548 - val_flow_dice_coef: 0.0014 - val_flow_MSE: 0.0610 - 64s/epoch - 642ms/step\n",
            "Epoch 29/200\n",
            "\n",
            "Epoch 29: val_loss improved from -0.00212 to -0.00212, saving model to model.h5\n",
            "100/100 - 64s - loss: -8.5649e-01 - transformer_loss: -8.5649e-01 - flow_loss: 0.6250 - transformer_TSNRR: 15040.5859 - transformer_dice_coef: 0.0942 - transformer_MSE: 1.2032e-04 - flow_TSNRR: 58.5135 - flow_dice_coef: 0.0011 - flow_MSE: 0.5029 - val_loss: -2.1217e-03 - val_transformer_loss: -2.1217e-03 - val_flow_loss: 0.0290 - val_transformer_TSNRR: 27.8649 - val_transformer_dice_coef: 0.9967 - val_transformer_MSE: 6.0823e-07 - val_flow_TSNRR: 53.2491 - val_flow_dice_coef: 6.0385e-04 - val_flow_MSE: 0.0863 - 64s/epoch - 642ms/step\n",
            "Epoch 30/200\n",
            "\n",
            "Epoch 30: val_loss improved from -0.00212 to -0.00213, saving model to model.h5\n",
            "100/100 - 64s - loss: -8.5788e-01 - transformer_loss: -8.5788e-01 - flow_loss: 0.6255 - transformer_TSNRR: 14970.4121 - transformer_dice_coef: 0.0942 - transformer_MSE: 1.1929e-04 - flow_TSNRR: 58.7556 - flow_dice_coef: 0.0013 - flow_MSE: 0.5036 - val_loss: -2.1284e-03 - val_transformer_loss: -2.1284e-03 - val_flow_loss: 0.0264 - val_transformer_TSNRR: 32.0811 - val_transformer_dice_coef: 0.9967 - val_transformer_MSE: 6.2499e-07 - val_flow_TSNRR: 35.1801 - val_flow_dice_coef: 0.0011 - val_flow_MSE: 0.0515 - 64s/epoch - 645ms/step\n",
            "Epoch 31/200\n",
            "\n",
            "Epoch 31: val_loss did not improve from -0.00213\n",
            "100/100 - 64s - loss: -8.5945e-01 - transformer_loss: -8.5945e-01 - flow_loss: 0.6270 - transformer_TSNRR: 14947.2363 - transformer_dice_coef: 0.0942 - transformer_MSE: 1.1860e-04 - flow_TSNRR: 59.1918 - flow_dice_coef: 9.7303e-04 - flow_MSE: 0.5041 - val_loss: -2.1254e-03 - val_transformer_loss: -2.1254e-03 - val_flow_loss: 0.0266 - val_transformer_TSNRR: 27.8672 - val_transformer_dice_coef: 0.9967 - val_transformer_MSE: 6.0689e-07 - val_flow_TSNRR: 5.3763 - val_flow_dice_coef: 0.0043 - val_flow_MSE: 0.0541 - 64s/epoch - 642ms/step\n",
            "Epoch 32/200\n",
            "\n",
            "Epoch 32: val_loss improved from -0.00213 to -0.00213, saving model to model.h5\n",
            "100/100 - 64s - loss: -8.6047e-01 - transformer_loss: -8.6047e-01 - flow_loss: 0.6283 - transformer_TSNRR: 15082.1816 - transformer_dice_coef: 0.0941 - transformer_MSE: 1.1759e-04 - flow_TSNRR: 58.9355 - flow_dice_coef: 0.0011 - flow_MSE: 0.5024 - val_loss: -2.1302e-03 - val_transformer_loss: -2.1302e-03 - val_flow_loss: 0.0238 - val_transformer_TSNRR: 30.7294 - val_transformer_dice_coef: 0.9967 - val_transformer_MSE: 5.8832e-07 - val_flow_TSNRR: 55.6157 - val_flow_dice_coef: 7.0544e-04 - val_flow_MSE: 0.0621 - 64s/epoch - 644ms/step\n",
            "Epoch 33/200\n",
            "\n",
            "Epoch 33: val_loss improved from -0.00213 to -0.00213, saving model to model.h5\n",
            "100/100 - 64s - loss: -8.6154e-01 - transformer_loss: -8.6154e-01 - flow_loss: 0.6315 - transformer_TSNRR: 15189.6826 - transformer_dice_coef: 0.0942 - transformer_MSE: 1.1675e-04 - flow_TSNRR: 59.2648 - flow_dice_coef: 0.0011 - flow_MSE: 0.5039 - val_loss: -2.1306e-03 - val_transformer_loss: -2.1306e-03 - val_flow_loss: 0.0273 - val_transformer_TSNRR: 26.4339 - val_transformer_dice_coef: 0.9967 - val_transformer_MSE: 6.2628e-07 - val_flow_TSNRR: 2.6551 - val_flow_dice_coef: 0.0021 - val_flow_MSE: 0.0822 - 64s/epoch - 645ms/step\n",
            "Epoch 34/200\n",
            "\n",
            "Epoch 34: val_loss improved from -0.00213 to -0.00214, saving model to model.h5\n",
            "100/100 - 64s - loss: -8.6254e-01 - transformer_loss: -8.6254e-01 - flow_loss: 0.6341 - transformer_TSNRR: 15091.4600 - transformer_dice_coef: 0.0941 - transformer_MSE: 1.1633e-04 - flow_TSNRR: 59.5350 - flow_dice_coef: 9.7898e-04 - flow_MSE: 0.5060 - val_loss: -2.1350e-03 - val_transformer_loss: -2.1350e-03 - val_flow_loss: 0.0257 - val_transformer_TSNRR: 29.7643 - val_transformer_dice_coef: 0.9967 - val_transformer_MSE: 6.0300e-07 - val_flow_TSNRR: 57.3096 - val_flow_dice_coef: 8.5863e-04 - val_flow_MSE: 0.0550 - 64s/epoch - 639ms/step\n",
            "Epoch 35/200\n",
            "\n",
            "Epoch 35: val_loss improved from -0.00214 to -0.00214, saving model to model.h5\n",
            "100/100 - 64s - loss: -8.6303e-01 - transformer_loss: -8.6303e-01 - flow_loss: 0.6384 - transformer_TSNRR: 15228.2588 - transformer_dice_coef: 0.0942 - transformer_MSE: 1.1620e-04 - flow_TSNRR: 59.5929 - flow_dice_coef: 7.7312e-04 - flow_MSE: 0.5102 - val_loss: -2.1354e-03 - val_transformer_loss: -2.1354e-03 - val_flow_loss: 0.0318 - val_transformer_TSNRR: 33.1716 - val_transformer_dice_coef: 0.9967 - val_transformer_MSE: 5.9914e-07 - val_flow_TSNRR: 57.0805 - val_flow_dice_coef: 4.9181e-04 - val_flow_MSE: 0.1126 - 64s/epoch - 639ms/step\n",
            "Epoch 36/200\n",
            "\n",
            "Epoch 36: val_loss improved from -0.00214 to -0.00214, saving model to model.h5\n",
            "100/100 - 64s - loss: -8.6382e-01 - transformer_loss: -8.6382e-01 - flow_loss: 0.6397 - transformer_TSNRR: 15245.9062 - transformer_dice_coef: 0.0941 - transformer_MSE: 1.1600e-04 - flow_TSNRR: 59.6128 - flow_dice_coef: 9.2039e-04 - flow_MSE: 0.5089 - val_loss: -2.1363e-03 - val_transformer_loss: -2.1363e-03 - val_flow_loss: 0.0262 - val_transformer_TSNRR: 32.3917 - val_transformer_dice_coef: 0.9967 - val_transformer_MSE: 6.0735e-07 - val_flow_TSNRR: 56.4833 - val_flow_dice_coef: 4.2543e-04 - val_flow_MSE: 0.1274 - 64s/epoch - 636ms/step\n",
            "Epoch 37/200\n",
            "\n",
            "Epoch 37: val_loss improved from -0.00214 to -0.00214, saving model to model.h5\n",
            "100/100 - 64s - loss: -8.6524e-01 - transformer_loss: -8.6524e-01 - flow_loss: 0.6401 - transformer_TSNRR: 15325.5195 - transformer_dice_coef: 0.0941 - transformer_MSE: 1.1418e-04 - flow_TSNRR: 59.6788 - flow_dice_coef: 8.4880e-04 - flow_MSE: 0.5081 - val_loss: -2.1426e-03 - val_transformer_loss: -2.1426e-03 - val_flow_loss: 0.0305 - val_transformer_TSNRR: 26.9272 - val_transformer_dice_coef: 0.9967 - val_transformer_MSE: 6.0778e-07 - val_flow_TSNRR: 56.4853 - val_flow_dice_coef: 7.7700e-04 - val_flow_MSE: 0.0662 - 64s/epoch - 642ms/step\n",
            "Epoch 38/200\n",
            "\n",
            "Epoch 38: val_loss did not improve from -0.00214\n",
            "100/100 - 64s - loss: -8.6589e-01 - transformer_loss: -8.6589e-01 - flow_loss: 0.6425 - transformer_TSNRR: 15375.4951 - transformer_dice_coef: 0.0942 - transformer_MSE: 1.1482e-04 - flow_TSNRR: 59.7180 - flow_dice_coef: 0.0011 - flow_MSE: 0.5093 - val_loss: -2.1425e-03 - val_transformer_loss: -2.1425e-03 - val_flow_loss: 0.0294 - val_transformer_TSNRR: 29.1461 - val_transformer_dice_coef: 0.9967 - val_transformer_MSE: 6.1922e-07 - val_flow_TSNRR: 39.5100 - val_flow_dice_coef: 0.0011 - val_flow_MSE: 0.0587 - 64s/epoch - 639ms/step\n",
            "Epoch 39/200\n",
            "\n",
            "Epoch 39: val_loss improved from -0.00214 to -0.00214, saving model to model.h5\n",
            "100/100 - 64s - loss: -8.6741e-01 - transformer_loss: -8.6741e-01 - flow_loss: 0.6408 - transformer_TSNRR: 15409.1504 - transformer_dice_coef: 0.0942 - transformer_MSE: 1.1322e-04 - flow_TSNRR: 59.7639 - flow_dice_coef: 9.0164e-04 - flow_MSE: 0.5055 - val_loss: -2.1431e-03 - val_transformer_loss: -2.1431e-03 - val_flow_loss: 0.0371 - val_transformer_TSNRR: 27.5535 - val_transformer_dice_coef: 0.9967 - val_transformer_MSE: 5.7646e-07 - val_flow_TSNRR: 58.0299 - val_flow_dice_coef: 5.3202e-04 - val_flow_MSE: 0.0945 - 64s/epoch - 638ms/step\n",
            "Epoch 40/200\n",
            "\n",
            "Epoch 40: val_loss did not improve from -0.00214\n",
            "100/100 - 64s - loss: -8.6864e-01 - transformer_loss: -8.6864e-01 - flow_loss: 0.6394 - transformer_TSNRR: 15555.2061 - transformer_dice_coef: 0.0941 - transformer_MSE: 1.1230e-04 - flow_TSNRR: 60.1458 - flow_dice_coef: 0.0012 - flow_MSE: 0.5031 - val_loss: -2.1396e-03 - val_transformer_loss: -2.1396e-03 - val_flow_loss: 0.0292 - val_transformer_TSNRR: 30.6020 - val_transformer_dice_coef: 0.9967 - val_transformer_MSE: 5.9598e-07 - val_flow_TSNRR: 58.7581 - val_flow_dice_coef: 4.7604e-04 - val_flow_MSE: 0.1043 - 64s/epoch - 639ms/step\n",
            "Epoch 41/200\n",
            "\n",
            "Epoch 41: val_loss did not improve from -0.00214\n",
            "100/100 - 64s - loss: -8.6861e-01 - transformer_loss: -8.6861e-01 - flow_loss: 0.6475 - transformer_TSNRR: 15410.4385 - transformer_dice_coef: 0.0941 - transformer_MSE: 1.1269e-04 - flow_TSNRR: 60.2721 - flow_dice_coef: 0.0036 - flow_MSE: 0.5108 - val_loss: -2.1421e-03 - val_transformer_loss: -2.1421e-03 - val_flow_loss: 0.0280 - val_transformer_TSNRR: 27.7569 - val_transformer_dice_coef: 0.9967 - val_transformer_MSE: 6.1814e-07 - val_flow_TSNRR: 26.6325 - val_flow_dice_coef: 9.4071e-04 - val_flow_MSE: 0.0735 - 64s/epoch - 640ms/step\n",
            "Epoch 42/200\n",
            "\n",
            "Epoch 42: val_loss improved from -0.00214 to -0.00215, saving model to model.h5\n",
            "100/100 - 63s - loss: -8.6992e-01 - transformer_loss: -8.6992e-01 - flow_loss: 0.6447 - transformer_TSNRR: 15427.6172 - transformer_dice_coef: 0.0941 - transformer_MSE: 1.1124e-04 - flow_TSNRR: 60.2766 - flow_dice_coef: 8.7040e-04 - flow_MSE: 0.5067 - val_loss: -2.1482e-03 - val_transformer_loss: -2.1482e-03 - val_flow_loss: 0.0302 - val_transformer_TSNRR: 30.3531 - val_transformer_dice_coef: 0.9967 - val_transformer_MSE: 5.9913e-07 - val_flow_TSNRR: 52.8071 - val_flow_dice_coef: 8.5094e-04 - val_flow_MSE: 0.0641 - 63s/epoch - 634ms/step\n",
            "Epoch 43/200\n",
            "\n",
            "Epoch 43: val_loss did not improve from -0.00215\n",
            "100/100 - 64s - loss: -8.6986e-01 - transformer_loss: -8.6986e-01 - flow_loss: 0.6495 - transformer_TSNRR: 15488.7285 - transformer_dice_coef: 0.0941 - transformer_MSE: 1.1135e-04 - flow_TSNRR: 60.1950 - flow_dice_coef: 9.7528e-04 - flow_MSE: 0.5098 - val_loss: -2.1473e-03 - val_transformer_loss: -2.1473e-03 - val_flow_loss: 0.0317 - val_transformer_TSNRR: 31.0672 - val_transformer_dice_coef: 0.9967 - val_transformer_MSE: 6.1172e-07 - val_flow_TSNRR: 56.6072 - val_flow_dice_coef: 6.2452e-04 - val_flow_MSE: 0.0812 - 64s/epoch - 637ms/step\n",
            "Epoch 44/200\n",
            "\n",
            "Epoch 44: val_loss improved from -0.00215 to -0.00215, saving model to model.h5\n",
            "100/100 - 64s - loss: -8.7109e-01 - transformer_loss: -8.7109e-01 - flow_loss: 0.6525 - transformer_TSNRR: 15555.4160 - transformer_dice_coef: 0.0941 - transformer_MSE: 1.1076e-04 - flow_TSNRR: 60.0894 - flow_dice_coef: 8.4369e-04 - flow_MSE: 0.5129 - val_loss: -2.1515e-03 - val_transformer_loss: -2.1515e-03 - val_flow_loss: 0.0307 - val_transformer_TSNRR: 31.7271 - val_transformer_dice_coef: 0.9967 - val_transformer_MSE: 5.5943e-07 - val_flow_TSNRR: 57.7137 - val_flow_dice_coef: 4.1143e-04 - val_flow_MSE: 0.1256 - 64s/epoch - 639ms/step\n",
            "Epoch 45/200\n",
            "\n",
            "Epoch 45: val_loss improved from -0.00215 to -0.00215, saving model to model.h5\n",
            "100/100 - 64s - loss: -8.7183e-01 - transformer_loss: -8.7183e-01 - flow_loss: 0.6519 - transformer_TSNRR: 15589.4551 - transformer_dice_coef: 0.0941 - transformer_MSE: 1.1049e-04 - flow_TSNRR: 60.3581 - flow_dice_coef: 0.0010 - flow_MSE: 0.5102 - val_loss: -2.1521e-03 - val_transformer_loss: -2.1521e-03 - val_flow_loss: 0.0305 - val_transformer_TSNRR: 29.6433 - val_transformer_dice_coef: 0.9967 - val_transformer_MSE: 6.0923e-07 - val_flow_TSNRR: 57.1819 - val_flow_dice_coef: 5.5040e-04 - val_flow_MSE: 0.0892 - 64s/epoch - 640ms/step\n",
            "Epoch 46/200\n",
            "\n",
            "Epoch 46: val_loss improved from -0.00215 to -0.00216, saving model to model.h5\n",
            "100/100 - 64s - loss: -8.7246e-01 - transformer_loss: -8.7246e-01 - flow_loss: 0.6531 - transformer_TSNRR: 15553.2334 - transformer_dice_coef: 0.0941 - transformer_MSE: 1.0989e-04 - flow_TSNRR: 60.4608 - flow_dice_coef: 0.0011 - flow_MSE: 0.5105 - val_loss: -2.1572e-03 - val_transformer_loss: -2.1572e-03 - val_flow_loss: 0.0314 - val_transformer_TSNRR: 31.7046 - val_transformer_dice_coef: 0.9967 - val_transformer_MSE: 5.9386e-07 - val_flow_TSNRR: 53.3664 - val_flow_dice_coef: 6.8053e-04 - val_flow_MSE: 0.0911 - 64s/epoch - 644ms/step\n",
            "Epoch 47/200\n",
            "\n",
            "Epoch 47: val_loss did not improve from -0.00216\n",
            "100/100 - 64s - loss: -8.7264e-01 - transformer_loss: -8.7264e-01 - flow_loss: 0.6568 - transformer_TSNRR: 15678.1699 - transformer_dice_coef: 0.0941 - transformer_MSE: 1.1054e-04 - flow_TSNRR: 60.5568 - flow_dice_coef: 0.0012 - flow_MSE: 0.5127 - val_loss: -2.1549e-03 - val_transformer_loss: -2.1549e-03 - val_flow_loss: 0.0354 - val_transformer_TSNRR: 29.3967 - val_transformer_dice_coef: 0.9967 - val_transformer_MSE: 5.8001e-07 - val_flow_TSNRR: 59.0651 - val_flow_dice_coef: 3.1400e-04 - val_flow_MSE: 0.2065 - 64s/epoch - 642ms/step\n",
            "Epoch 48/200\n",
            "\n",
            "Epoch 48: val_loss improved from -0.00216 to -0.00216, saving model to model.h5\n",
            "100/100 - 64s - loss: -8.7456e-01 - transformer_loss: -8.7456e-01 - flow_loss: 0.6527 - transformer_TSNRR: 15784.0742 - transformer_dice_coef: 0.0941 - transformer_MSE: 1.0842e-04 - flow_TSNRR: 60.6694 - flow_dice_coef: 0.0010 - flow_MSE: 0.5069 - val_loss: -2.1613e-03 - val_transformer_loss: -2.1613e-03 - val_flow_loss: 0.0308 - val_transformer_TSNRR: 30.3423 - val_transformer_dice_coef: 0.9967 - val_transformer_MSE: 5.7626e-07 - val_flow_TSNRR: 55.6382 - val_flow_dice_coef: 6.9504e-04 - val_flow_MSE: 0.0718 - 64s/epoch - 644ms/step\n",
            "Epoch 49/200\n",
            "\n",
            "Epoch 49: val_loss did not improve from -0.00216\n",
            "100/100 - 64s - loss: -8.7481e-01 - transformer_loss: -8.7481e-01 - flow_loss: 0.6560 - transformer_TSNRR: 15769.1738 - transformer_dice_coef: 0.0941 - transformer_MSE: 1.0857e-04 - flow_TSNRR: 60.8083 - flow_dice_coef: 0.0010 - flow_MSE: 0.5098 - val_loss: -2.1550e-03 - val_transformer_loss: -2.1550e-03 - val_flow_loss: 0.0318 - val_transformer_TSNRR: 29.8748 - val_transformer_dice_coef: 0.9967 - val_transformer_MSE: 6.0697e-07 - val_flow_TSNRR: 53.3712 - val_flow_dice_coef: 4.7881e-04 - val_flow_MSE: 0.1260 - 64s/epoch - 642ms/step\n",
            "Epoch 50/200\n",
            "\n",
            "Epoch 50: val_loss did not improve from -0.00216\n",
            "100/100 - 64s - loss: -8.7534e-01 - transformer_loss: -8.7534e-01 - flow_loss: 0.6599 - transformer_TSNRR: 15732.6953 - transformer_dice_coef: 0.0941 - transformer_MSE: 1.0822e-04 - flow_TSNRR: 60.6018 - flow_dice_coef: 0.0022 - flow_MSE: 0.5135 - val_loss: -2.1564e-03 - val_transformer_loss: -2.1564e-03 - val_flow_loss: 0.0285 - val_transformer_TSNRR: 32.3721 - val_transformer_dice_coef: 0.9967 - val_transformer_MSE: 5.7460e-07 - val_flow_TSNRR: 56.2601 - val_flow_dice_coef: 5.4928e-04 - val_flow_MSE: 0.0885 - 64s/epoch - 644ms/step\n",
            "Epoch 51/200\n",
            "\n",
            "Epoch 51: val_loss did not improve from -0.00216\n",
            "100/100 - 64s - loss: -8.7584e-01 - transformer_loss: -8.7584e-01 - flow_loss: 0.6593 - transformer_TSNRR: 15701.6729 - transformer_dice_coef: 0.0941 - transformer_MSE: 1.0786e-04 - flow_TSNRR: 60.7097 - flow_dice_coef: 0.0010 - flow_MSE: 0.5115 - val_loss: -2.1600e-03 - val_transformer_loss: -2.1600e-03 - val_flow_loss: 0.0311 - val_transformer_TSNRR: 31.2686 - val_transformer_dice_coef: 0.9967 - val_transformer_MSE: 6.2881e-07 - val_flow_TSNRR: 58.3846 - val_flow_dice_coef: 3.2090e-04 - val_flow_MSE: 0.1551 - 64s/epoch - 643ms/step\n",
            "Epoch 52/200\n",
            "\n",
            "Epoch 52: val_loss did not improve from -0.00216\n",
            "100/100 - 65s - loss: -8.7716e-01 - transformer_loss: -8.7716e-01 - flow_loss: 0.6574 - transformer_TSNRR: 15811.1084 - transformer_dice_coef: 0.0941 - transformer_MSE: 1.0660e-04 - flow_TSNRR: 60.8760 - flow_dice_coef: 0.0012 - flow_MSE: 0.5082 - val_loss: -2.1605e-03 - val_transformer_loss: -2.1605e-03 - val_flow_loss: 0.0276 - val_transformer_TSNRR: 28.3459 - val_transformer_dice_coef: 0.9967 - val_transformer_MSE: 5.8608e-07 - val_flow_TSNRR: 57.9619 - val_flow_dice_coef: 4.0336e-04 - val_flow_MSE: 0.1248 - 65s/epoch - 645ms/step\n",
            "Epoch 53/200\n",
            "\n",
            "Epoch 53: val_loss improved from -0.00216 to -0.00216, saving model to model.h5\n",
            "100/100 - 64s - loss: -8.7721e-01 - transformer_loss: -8.7721e-01 - flow_loss: 0.6613 - transformer_TSNRR: 15848.4961 - transformer_dice_coef: 0.0941 - transformer_MSE: 1.0706e-04 - flow_TSNRR: 60.6786 - flow_dice_coef: 0.0012 - flow_MSE: 0.5115 - val_loss: -2.1647e-03 - val_transformer_loss: -2.1647e-03 - val_flow_loss: 0.0291 - val_transformer_TSNRR: 30.0301 - val_transformer_dice_coef: 0.9967 - val_transformer_MSE: 5.5990e-07 - val_flow_TSNRR: 57.5300 - val_flow_dice_coef: 3.8239e-04 - val_flow_MSE: 0.1555 - 64s/epoch - 643ms/step\n",
            "Epoch 54/200\n",
            "\n",
            "Epoch 54: val_loss did not improve from -0.00216\n",
            "100/100 - 64s - loss: -8.7796e-01 - transformer_loss: -8.7796e-01 - flow_loss: 0.6634 - transformer_TSNRR: 15851.0576 - transformer_dice_coef: 0.0941 - transformer_MSE: 1.0691e-04 - flow_TSNRR: 60.9379 - flow_dice_coef: -1.4150e-04 - flow_MSE: 0.5139 - val_loss: -2.1646e-03 - val_transformer_loss: -2.1646e-03 - val_flow_loss: 0.0306 - val_transformer_TSNRR: 28.0858 - val_transformer_dice_coef: 0.9967 - val_transformer_MSE: 5.3663e-07 - val_flow_TSNRR: 57.1564 - val_flow_dice_coef: 4.3291e-04 - val_flow_MSE: 0.1320 - 64s/epoch - 639ms/step\n",
            "Epoch 55/200\n",
            "\n",
            "Epoch 55: val_loss improved from -0.00216 to -0.00217, saving model to model.h5\n",
            "100/100 - 64s - loss: -8.7768e-01 - transformer_loss: -8.7768e-01 - flow_loss: 0.6622 - transformer_TSNRR: 15822.2822 - transformer_dice_coef: 0.0941 - transformer_MSE: 1.0714e-04 - flow_TSNRR: 60.6828 - flow_dice_coef: 8.1061e-04 - flow_MSE: 0.5107 - val_loss: -2.1652e-03 - val_transformer_loss: -2.1652e-03 - val_flow_loss: 0.0280 - val_transformer_TSNRR: 30.3606 - val_transformer_dice_coef: 0.9967 - val_transformer_MSE: 5.6892e-07 - val_flow_TSNRR: 55.6554 - val_flow_dice_coef: 3.5426e-04 - val_flow_MSE: 0.1784 - 64s/epoch - 640ms/step\n",
            "Epoch 56/200\n",
            "\n",
            "Epoch 56: val_loss improved from -0.00217 to -0.00217, saving model to model.h5\n",
            "100/100 - 64s - loss: -8.7922e-01 - transformer_loss: -8.7922e-01 - flow_loss: 0.6617 - transformer_TSNRR: 15923.1777 - transformer_dice_coef: 0.0941 - transformer_MSE: 1.0584e-04 - flow_TSNRR: 60.6300 - flow_dice_coef: 0.0011 - flow_MSE: 0.5086 - val_loss: -2.1663e-03 - val_transformer_loss: -2.1663e-03 - val_flow_loss: 0.0287 - val_transformer_TSNRR: 32.8500 - val_transformer_dice_coef: 0.9967 - val_transformer_MSE: 5.7411e-07 - val_flow_TSNRR: 55.9998 - val_flow_dice_coef: 3.6910e-04 - val_flow_MSE: 0.1635 - 64s/epoch - 642ms/step\n",
            "Epoch 57/200\n",
            "\n",
            "Epoch 57: val_loss did not improve from -0.00217\n",
            "100/100 - 64s - loss: -8.7994e-01 - transformer_loss: -8.7994e-01 - flow_loss: 0.6631 - transformer_TSNRR: 15941.7129 - transformer_dice_coef: 0.0941 - transformer_MSE: 1.0518e-04 - flow_TSNRR: 60.7418 - flow_dice_coef: 0.0012 - flow_MSE: 0.5112 - val_loss: -2.1656e-03 - val_transformer_loss: -2.1656e-03 - val_flow_loss: 0.0286 - val_transformer_TSNRR: 34.9442 - val_transformer_dice_coef: 0.9967 - val_transformer_MSE: 5.9344e-07 - val_flow_TSNRR: 58.5369 - val_flow_dice_coef: 4.3183e-04 - val_flow_MSE: 0.1259 - 64s/epoch - 639ms/step\n",
            "Epoch 58/200\n",
            "\n",
            "Epoch 58: val_loss improved from -0.00217 to -0.00217, saving model to model.h5\n",
            "100/100 - 64s - loss: -8.8045e-01 - transformer_loss: -8.8045e-01 - flow_loss: 0.6637 - transformer_TSNRR: 16084.3037 - transformer_dice_coef: 0.0941 - transformer_MSE: 1.0451e-04 - flow_TSNRR: 60.7177 - flow_dice_coef: 0.0010 - flow_MSE: 0.5099 - val_loss: -2.1674e-03 - val_transformer_loss: -2.1674e-03 - val_flow_loss: 0.0262 - val_transformer_TSNRR: 30.4969 - val_transformer_dice_coef: 0.9967 - val_transformer_MSE: 5.7763e-07 - val_flow_TSNRR: 58.5586 - val_flow_dice_coef: 3.1281e-04 - val_flow_MSE: 0.2118 - 64s/epoch - 636ms/step\n",
            "Epoch 59/200\n",
            "\n",
            "Epoch 59: val_loss improved from -0.00217 to -0.00217, saving model to model.h5\n",
            "100/100 - 63s - loss: -8.8047e-01 - transformer_loss: -8.8047e-01 - flow_loss: 0.6677 - transformer_TSNRR: 15948.9883 - transformer_dice_coef: 0.0941 - transformer_MSE: 1.0481e-04 - flow_TSNRR: 60.6998 - flow_dice_coef: 0.0010 - flow_MSE: 0.5144 - val_loss: -2.1690e-03 - val_transformer_loss: -2.1690e-03 - val_flow_loss: 0.0258 - val_transformer_TSNRR: 32.8395 - val_transformer_dice_coef: 0.9967 - val_transformer_MSE: 6.1706e-07 - val_flow_TSNRR: 57.2557 - val_flow_dice_coef: 4.2316e-04 - val_flow_MSE: 0.1289 - 63s/epoch - 630ms/step\n",
            "Epoch 60/200\n",
            "\n",
            "Epoch 60: val_loss improved from -0.00217 to -0.00217, saving model to model.h5\n",
            "100/100 - 63s - loss: -8.8164e-01 - transformer_loss: -8.8164e-01 - flow_loss: 0.6657 - transformer_TSNRR: 15988.0879 - transformer_dice_coef: 0.0941 - transformer_MSE: 1.0405e-04 - flow_TSNRR: 60.5366 - flow_dice_coef: 9.2787e-04 - flow_MSE: 0.5118 - val_loss: -2.1703e-03 - val_transformer_loss: -2.1703e-03 - val_flow_loss: 0.0330 - val_transformer_TSNRR: 30.4855 - val_transformer_dice_coef: 0.9967 - val_transformer_MSE: 5.8054e-07 - val_flow_TSNRR: 51.2169 - val_flow_dice_coef: 7.2607e-04 - val_flow_MSE: 0.0800 - 63s/epoch - 630ms/step\n",
            "Epoch 61/200\n",
            "\n",
            "Epoch 61: val_loss improved from -0.00217 to -0.00217, saving model to model.h5\n",
            "100/100 - 64s - loss: -8.8093e-01 - transformer_loss: -8.8093e-01 - flow_loss: 0.6721 - transformer_TSNRR: 16077.1758 - transformer_dice_coef: 0.0941 - transformer_MSE: 1.0510e-04 - flow_TSNRR: 60.3897 - flow_dice_coef: 0.0012 - flow_MSE: 0.5168 - val_loss: -2.1707e-03 - val_transformer_loss: -2.1707e-03 - val_flow_loss: 0.0291 - val_transformer_TSNRR: 30.7627 - val_transformer_dice_coef: 0.9967 - val_transformer_MSE: 5.6785e-07 - val_flow_TSNRR: 50.5301 - val_flow_dice_coef: 5.8574e-04 - val_flow_MSE: 0.0949 - 64s/epoch - 637ms/step\n",
            "Epoch 62/200\n",
            "\n",
            "Epoch 62: val_loss improved from -0.00217 to -0.00217, saving model to model.h5\n",
            "100/100 - 64s - loss: -8.8293e-01 - transformer_loss: -8.8293e-01 - flow_loss: 0.6648 - transformer_TSNRR: 16222.3398 - transformer_dice_coef: 0.0941 - transformer_MSE: 1.0319e-04 - flow_TSNRR: 60.6020 - flow_dice_coef: 9.3003e-04 - flow_MSE: 0.5076 - val_loss: -2.1743e-03 - val_transformer_loss: -2.1743e-03 - val_flow_loss: 0.0265 - val_transformer_TSNRR: 33.2015 - val_transformer_dice_coef: 0.9967 - val_transformer_MSE: 5.3298e-07 - val_flow_TSNRR: 58.8496 - val_flow_dice_coef: 3.5062e-04 - val_flow_MSE: 0.1872 - 64s/epoch - 640ms/step\n",
            "Epoch 63/200\n",
            "\n",
            "Epoch 63: val_loss did not improve from -0.00217\n",
            "100/100 - 63s - loss: -8.8287e-01 - transformer_loss: -8.8287e-01 - flow_loss: 0.6683 - transformer_TSNRR: 16188.2197 - transformer_dice_coef: 0.0941 - transformer_MSE: 1.0312e-04 - flow_TSNRR: 60.7574 - flow_dice_coef: 0.0010 - flow_MSE: 0.5121 - val_loss: -2.1730e-03 - val_transformer_loss: -2.1730e-03 - val_flow_loss: 0.0316 - val_transformer_TSNRR: 27.7363 - val_transformer_dice_coef: 0.9967 - val_transformer_MSE: 5.4476e-07 - val_flow_TSNRR: 57.9798 - val_flow_dice_coef: 4.1619e-04 - val_flow_MSE: 0.1462 - 63s/epoch - 632ms/step\n",
            "Epoch 64/200\n",
            "\n",
            "Epoch 64: val_loss improved from -0.00217 to -0.00218, saving model to model.h5\n",
            "100/100 - 64s - loss: -8.8354e-01 - transformer_loss: -8.8354e-01 - flow_loss: 0.6694 - transformer_TSNRR: 16046.5791 - transformer_dice_coef: 0.0941 - transformer_MSE: 1.0293e-04 - flow_TSNRR: 60.2988 - flow_dice_coef: -1.3462e-03 - flow_MSE: 0.5120 - val_loss: -2.1762e-03 - val_transformer_loss: -2.1762e-03 - val_flow_loss: 0.0285 - val_transformer_TSNRR: 31.0063 - val_transformer_dice_coef: 0.9967 - val_transformer_MSE: 5.6433e-07 - val_flow_TSNRR: 55.2779 - val_flow_dice_coef: 4.9932e-04 - val_flow_MSE: 0.1110 - 64s/epoch - 637ms/step\n",
            "Epoch 65/200\n",
            "\n",
            "Epoch 65: val_loss improved from -0.00218 to -0.00218, saving model to model.h5\n",
            "100/100 - 64s - loss: -8.8345e-01 - transformer_loss: -8.8345e-01 - flow_loss: 0.6712 - transformer_TSNRR: 16030.7236 - transformer_dice_coef: 0.0941 - transformer_MSE: 1.0292e-04 - flow_TSNRR: 60.3471 - flow_dice_coef: 0.0011 - flow_MSE: 0.5142 - val_loss: -2.1769e-03 - val_transformer_loss: -2.1769e-03 - val_flow_loss: 0.0290 - val_transformer_TSNRR: 29.2246 - val_transformer_dice_coef: 0.9967 - val_transformer_MSE: 5.6399e-07 - val_flow_TSNRR: 57.2919 - val_flow_dice_coef: 5.3492e-04 - val_flow_MSE: 0.0918 - 64s/epoch - 638ms/step\n",
            "Epoch 66/200\n",
            "\n",
            "Epoch 66: val_loss improved from -0.00218 to -0.00218, saving model to model.h5\n",
            "100/100 - 64s - loss: -8.8442e-01 - transformer_loss: -8.8442e-01 - flow_loss: 0.6706 - transformer_TSNRR: 16032.9150 - transformer_dice_coef: 0.0940 - transformer_MSE: 1.0274e-04 - flow_TSNRR: 60.3362 - flow_dice_coef: 8.5194e-04 - flow_MSE: 0.5117 - val_loss: -2.1777e-03 - val_transformer_loss: -2.1777e-03 - val_flow_loss: 0.0300 - val_transformer_TSNRR: 34.3499 - val_transformer_dice_coef: 0.9967 - val_transformer_MSE: 5.4081e-07 - val_flow_TSNRR: 56.4188 - val_flow_dice_coef: 4.4117e-04 - val_flow_MSE: 0.1337 - 64s/epoch - 640ms/step\n",
            "Epoch 67/200\n",
            "\n",
            "Epoch 67: val_loss did not improve from -0.00218\n",
            "100/100 - 63s - loss: -8.8481e-01 - transformer_loss: -8.8481e-01 - flow_loss: 0.6709 - transformer_TSNRR: 16090.7158 - transformer_dice_coef: 0.0941 - transformer_MSE: 1.0204e-04 - flow_TSNRR: 60.2378 - flow_dice_coef: 8.6224e-04 - flow_MSE: 0.5120 - val_loss: -2.1752e-03 - val_transformer_loss: -2.1752e-03 - val_flow_loss: 0.0234 - val_transformer_TSNRR: 29.6448 - val_transformer_dice_coef: 0.9967 - val_transformer_MSE: 5.2559e-07 - val_flow_TSNRR: 55.5138 - val_flow_dice_coef: 5.6722e-04 - val_flow_MSE: 0.0965 - 63s/epoch - 633ms/step\n",
            "Epoch 68/200\n",
            "\n",
            "Epoch 68: val_loss improved from -0.00218 to -0.00218, saving model to model.h5\n",
            "100/100 - 64s - loss: -8.8505e-01 - transformer_loss: -8.8505e-01 - flow_loss: 0.6730 - transformer_TSNRR: 16265.6260 - transformer_dice_coef: 0.0941 - transformer_MSE: 1.0169e-04 - flow_TSNRR: 60.2250 - flow_dice_coef: 0.0013 - flow_MSE: 0.5135 - val_loss: -2.1790e-03 - val_transformer_loss: -2.1790e-03 - val_flow_loss: 0.0253 - val_transformer_TSNRR: 27.6217 - val_transformer_dice_coef: 0.9967 - val_transformer_MSE: 5.2553e-07 - val_flow_TSNRR: 49.7051 - val_flow_dice_coef: 7.9159e-04 - val_flow_MSE: 0.0691 - 64s/epoch - 640ms/step\n",
            "Epoch 69/200\n",
            "\n",
            "Epoch 69: val_loss did not improve from -0.00218\n",
            "100/100 - 63s - loss: -8.8544e-01 - transformer_loss: -8.8544e-01 - flow_loss: 0.6750 - transformer_TSNRR: 16267.8574 - transformer_dice_coef: 0.0941 - transformer_MSE: 1.0183e-04 - flow_TSNRR: 59.9195 - flow_dice_coef: 0.0010 - flow_MSE: 0.5155 - val_loss: -2.1778e-03 - val_transformer_loss: -2.1778e-03 - val_flow_loss: 0.0272 - val_transformer_TSNRR: 30.7793 - val_transformer_dice_coef: 0.9967 - val_transformer_MSE: 5.4033e-07 - val_flow_TSNRR: 58.3646 - val_flow_dice_coef: 4.9363e-04 - val_flow_MSE: 0.1035 - 63s/epoch - 633ms/step\n",
            "Epoch 70/200\n",
            "\n",
            "Epoch 70: val_loss did not improve from -0.00218\n",
            "100/100 - 72s - loss: -8.8617e-01 - transformer_loss: -8.8617e-01 - flow_loss: 0.6717 - transformer_TSNRR: 16203.8740 - transformer_dice_coef: 0.0941 - transformer_MSE: 1.0089e-04 - flow_TSNRR: 60.0637 - flow_dice_coef: 0.0011 - flow_MSE: 0.5107 - val_loss: -2.1757e-03 - val_transformer_loss: -2.1757e-03 - val_flow_loss: 0.0276 - val_transformer_TSNRR: 30.9316 - val_transformer_dice_coef: 0.9967 - val_transformer_MSE: 5.3878e-07 - val_flow_TSNRR: 52.2011 - val_flow_dice_coef: 4.5662e-04 - val_flow_MSE: 0.1404 - 72s/epoch - 718ms/step\n",
            "Epoch 71/200\n",
            "\n",
            "Epoch 71: val_loss did not improve from -0.00218\n",
            "100/100 - 63s - loss: -8.8696e-01 - transformer_loss: -8.8696e-01 - flow_loss: 0.6707 - transformer_TSNRR: 16325.9766 - transformer_dice_coef: 0.0941 - transformer_MSE: 1.0029e-04 - flow_TSNRR: 60.2117 - flow_dice_coef: 0.0012 - flow_MSE: 0.5102 - val_loss: -2.1754e-03 - val_transformer_loss: -2.1754e-03 - val_flow_loss: 0.0286 - val_transformer_TSNRR: 32.9379 - val_transformer_dice_coef: 0.9967 - val_transformer_MSE: 5.4737e-07 - val_flow_TSNRR: 50.0866 - val_flow_dice_coef: 9.8967e-04 - val_flow_MSE: 0.0602 - 63s/epoch - 627ms/step\n",
            "Epoch 72/200\n",
            "\n",
            "Epoch 72: val_loss improved from -0.00218 to -0.00218, saving model to model.h5\n",
            "100/100 - 62s - loss: -8.8667e-01 - transformer_loss: -8.8667e-01 - flow_loss: 0.6750 - transformer_TSNRR: 16211.2959 - transformer_dice_coef: 0.0942 - transformer_MSE: 1.0069e-04 - flow_TSNRR: 59.9262 - flow_dice_coef: 0.0013 - flow_MSE: 0.5131 - val_loss: -2.1811e-03 - val_transformer_loss: -2.1811e-03 - val_flow_loss: 0.0297 - val_transformer_TSNRR: 31.6943 - val_transformer_dice_coef: 0.9967 - val_transformer_MSE: 5.0924e-07 - val_flow_TSNRR: 58.2456 - val_flow_dice_coef: 4.6788e-04 - val_flow_MSE: 0.1180 - 62s/epoch - 623ms/step\n",
            "Epoch 73/200\n",
            "\n",
            "Epoch 73: val_loss did not improve from -0.00218\n",
            "100/100 - 62s - loss: -8.8790e-01 - transformer_loss: -8.8790e-01 - flow_loss: 0.6713 - transformer_TSNRR: 16346.8564 - transformer_dice_coef: 0.0940 - transformer_MSE: 9.9288e-05 - flow_TSNRR: 59.9631 - flow_dice_coef: 8.7339e-04 - flow_MSE: 0.5088 - val_loss: -2.1767e-03 - val_transformer_loss: -2.1767e-03 - val_flow_loss: 0.0316 - val_transformer_TSNRR: 31.3511 - val_transformer_dice_coef: 0.9967 - val_transformer_MSE: 5.3300e-07 - val_flow_TSNRR: 38.2062 - val_flow_dice_coef: 7.1441e-04 - val_flow_MSE: 0.0998 - 62s/epoch - 622ms/step\n",
            "Epoch 74/200\n",
            "\n",
            "Epoch 74: val_loss did not improve from -0.00218\n",
            "100/100 - 62s - loss: -8.8849e-01 - transformer_loss: -8.8849e-01 - flow_loss: 0.6720 - transformer_TSNRR: 16331.6133 - transformer_dice_coef: 0.0941 - transformer_MSE: 9.9525e-05 - flow_TSNRR: 60.0907 - flow_dice_coef: 8.7230e-04 - flow_MSE: 0.5091 - val_loss: -2.1787e-03 - val_transformer_loss: -2.1787e-03 - val_flow_loss: 0.0292 - val_transformer_TSNRR: 35.0383 - val_transformer_dice_coef: 0.9967 - val_transformer_MSE: 5.4416e-07 - val_flow_TSNRR: 56.6653 - val_flow_dice_coef: 4.7636e-04 - val_flow_MSE: 0.1214 - 62s/epoch - 616ms/step\n",
            "Epoch 75/200\n",
            "\n",
            "Epoch 75: val_loss improved from -0.00218 to -0.00218, saving model to model.h5\n",
            "100/100 - 62s - loss: -8.8812e-01 - transformer_loss: -8.8812e-01 - flow_loss: 0.6757 - transformer_TSNRR: 16342.3926 - transformer_dice_coef: 0.0940 - transformer_MSE: 1.0029e-04 - flow_TSNRR: 59.6681 - flow_dice_coef: 0.0026 - flow_MSE: 0.5129 - val_loss: -2.1846e-03 - val_transformer_loss: -2.1846e-03 - val_flow_loss: 0.0300 - val_transformer_TSNRR: 37.4893 - val_transformer_dice_coef: 0.9967 - val_transformer_MSE: 5.4907e-07 - val_flow_TSNRR: 58.0242 - val_flow_dice_coef: 5.0880e-04 - val_flow_MSE: 0.1003 - 62s/epoch - 621ms/step\n",
            "Epoch 76/200\n",
            "\n",
            "Epoch 76: val_loss did not improve from -0.00218\n",
            "100/100 - 63s - loss: -8.8848e-01 - transformer_loss: -8.8848e-01 - flow_loss: 0.6759 - transformer_TSNRR: 16369.4365 - transformer_dice_coef: 0.0941 - transformer_MSE: 9.9513e-05 - flow_TSNRR: 59.6269 - flow_dice_coef: 0.0010 - flow_MSE: 0.5126 - val_loss: -2.1827e-03 - val_transformer_loss: -2.1827e-03 - val_flow_loss: 0.0266 - val_transformer_TSNRR: 30.1247 - val_transformer_dice_coef: 0.9967 - val_transformer_MSE: 5.2625e-07 - val_flow_TSNRR: 57.8022 - val_flow_dice_coef: 4.6578e-04 - val_flow_MSE: 0.1132 - 63s/epoch - 635ms/step\n",
            "Epoch 77/200\n",
            "\n",
            "Epoch 77: val_loss did not improve from -0.00218\n",
            "100/100 - 63s - loss: -8.8848e-01 - transformer_loss: -8.8848e-01 - flow_loss: 0.6802 - transformer_TSNRR: 16267.0908 - transformer_dice_coef: 0.0941 - transformer_MSE: 9.9996e-05 - flow_TSNRR: 59.5346 - flow_dice_coef: 0.0036 - flow_MSE: 0.5170 - val_loss: -2.1838e-03 - val_transformer_loss: -2.1838e-03 - val_flow_loss: 0.0297 - val_transformer_TSNRR: 28.5100 - val_transformer_dice_coef: 0.9967 - val_transformer_MSE: 4.8847e-07 - val_flow_TSNRR: 55.8227 - val_flow_dice_coef: 5.7604e-04 - val_flow_MSE: 0.0934 - 63s/epoch - 628ms/step\n",
            "Epoch 78/200\n",
            "\n",
            "Epoch 78: val_loss improved from -0.00218 to -0.00219, saving model to model.h5\n",
            "100/100 - 62s - loss: -8.8959e-01 - transformer_loss: -8.8959e-01 - flow_loss: 0.6751 - transformer_TSNRR: 16385.9941 - transformer_dice_coef: 0.0940 - transformer_MSE: 9.8887e-05 - flow_TSNRR: 59.6687 - flow_dice_coef: 0.0012 - flow_MSE: 0.5109 - val_loss: -2.1869e-03 - val_transformer_loss: -2.1869e-03 - val_flow_loss: 0.0310 - val_transformer_TSNRR: 29.3171 - val_transformer_dice_coef: 0.9967 - val_transformer_MSE: 4.9298e-07 - val_flow_TSNRR: 56.0308 - val_flow_dice_coef: 3.6080e-04 - val_flow_MSE: 0.1716 - 62s/epoch - 624ms/step\n",
            "Epoch 79/200\n",
            "\n",
            "Epoch 79: val_loss improved from -0.00219 to -0.00219, saving model to model.h5\n",
            "100/100 - 62s - loss: -8.8959e-01 - transformer_loss: -8.8959e-01 - flow_loss: 0.6788 - transformer_TSNRR: 16398.8496 - transformer_dice_coef: 0.0940 - transformer_MSE: 9.9745e-05 - flow_TSNRR: 59.6083 - flow_dice_coef: 8.1265e-04 - flow_MSE: 0.5155 - val_loss: -2.1870e-03 - val_transformer_loss: -2.1870e-03 - val_flow_loss: 0.0331 - val_transformer_TSNRR: 30.5391 - val_transformer_dice_coef: 0.9967 - val_transformer_MSE: 4.7970e-07 - val_flow_TSNRR: 49.2046 - val_flow_dice_coef: 9.4686e-04 - val_flow_MSE: 0.0604 - 62s/epoch - 622ms/step\n",
            "Epoch 80/200\n",
            "\n",
            "Epoch 80: val_loss improved from -0.00219 to -0.00219, saving model to model.h5\n",
            "100/100 - 63s - loss: -8.9006e-01 - transformer_loss: -8.9006e-01 - flow_loss: 0.6768 - transformer_TSNRR: 16472.8730 - transformer_dice_coef: 0.0940 - transformer_MSE: 9.8727e-05 - flow_TSNRR: 59.4701 - flow_dice_coef: 7.4754e-04 - flow_MSE: 0.5124 - val_loss: -2.1875e-03 - val_transformer_loss: -2.1875e-03 - val_flow_loss: 0.0326 - val_transformer_TSNRR: 32.5992 - val_transformer_dice_coef: 0.9967 - val_transformer_MSE: 4.8915e-07 - val_flow_TSNRR: 45.7963 - val_flow_dice_coef: 8.2382e-04 - val_flow_MSE: 0.0743 - 63s/epoch - 626ms/step\n",
            "Epoch 81/200\n",
            "\n",
            "Epoch 81: val_loss did not improve from -0.00219\n",
            "100/100 - 63s - loss: -8.9048e-01 - transformer_loss: -8.9048e-01 - flow_loss: 0.6737 - transformer_TSNRR: 16412.8789 - transformer_dice_coef: 0.0940 - transformer_MSE: 9.8772e-05 - flow_TSNRR: 59.2956 - flow_dice_coef: 0.0010 - flow_MSE: 0.5083 - val_loss: -2.1868e-03 - val_transformer_loss: -2.1868e-03 - val_flow_loss: 0.0325 - val_transformer_TSNRR: 31.6453 - val_transformer_dice_coef: 0.9967 - val_transformer_MSE: 4.7242e-07 - val_flow_TSNRR: 57.6363 - val_flow_dice_coef: 4.7140e-04 - val_flow_MSE: 0.1356 - 63s/epoch - 629ms/step\n",
            "Epoch 82/200\n",
            "\n",
            "Epoch 82: val_loss did not improve from -0.00219\n",
            "100/100 - 63s - loss: -8.9077e-01 - transformer_loss: -8.9077e-01 - flow_loss: 0.6802 - transformer_TSNRR: 16546.9902 - transformer_dice_coef: 0.0940 - transformer_MSE: 9.8523e-05 - flow_TSNRR: 59.3177 - flow_dice_coef: 0.0090 - flow_MSE: 0.5156 - val_loss: -2.1699e-03 - val_transformer_loss: -2.1699e-03 - val_flow_loss: 0.0336 - val_transformer_TSNRR: 28.9393 - val_transformer_dice_coef: 0.9967 - val_transformer_MSE: 4.7712e-07 - val_flow_TSNRR: 61.2788 - val_flow_dice_coef: 2.4233e-04 - val_flow_MSE: 0.3334 - 63s/epoch - 628ms/step\n",
            "Epoch 83/200\n",
            "\n",
            "Epoch 83: val_loss improved from -0.00219 to -0.00219, saving model to model.h5\n",
            "100/100 - 63s - loss: -8.9120e-01 - transformer_loss: -8.9120e-01 - flow_loss: 0.6771 - transformer_TSNRR: 16442.7930 - transformer_dice_coef: 0.0940 - transformer_MSE: 9.8271e-05 - flow_TSNRR: 59.1850 - flow_dice_coef: 0.0011 - flow_MSE: 0.5122 - val_loss: -2.1935e-03 - val_transformer_loss: -2.1935e-03 - val_flow_loss: 0.0313 - val_transformer_TSNRR: 34.5110 - val_transformer_dice_coef: 0.9967 - val_transformer_MSE: 4.6808e-07 - val_flow_TSNRR: 58.6020 - val_flow_dice_coef: 4.4939e-04 - val_flow_MSE: 0.1223 - 63s/epoch - 626ms/step\n",
            "Epoch 84/200\n",
            "\n",
            "Epoch 84: val_loss did not improve from -0.00219\n",
            "100/100 - 62s - loss: -8.9111e-01 - transformer_loss: -8.9111e-01 - flow_loss: 0.6812 - transformer_TSNRR: 16373.9590 - transformer_dice_coef: 0.0940 - transformer_MSE: 9.8308e-05 - flow_TSNRR: 59.3698 - flow_dice_coef: 0.0011 - flow_MSE: 0.5161 - val_loss: -2.1928e-03 - val_transformer_loss: -2.1928e-03 - val_flow_loss: 0.0287 - val_transformer_TSNRR: 34.1857 - val_transformer_dice_coef: 0.9967 - val_transformer_MSE: 4.6316e-07 - val_flow_TSNRR: 53.5683 - val_flow_dice_coef: 6.3343e-04 - val_flow_MSE: 0.0879 - 62s/epoch - 622ms/step\n",
            "Epoch 85/200\n",
            "\n",
            "Epoch 85: val_loss did not improve from -0.00219\n",
            "100/100 - 63s - loss: -8.9269e-01 - transformer_loss: -8.9269e-01 - flow_loss: 0.6771 - transformer_TSNRR: 16474.1309 - transformer_dice_coef: 0.0940 - transformer_MSE: 9.7025e-05 - flow_TSNRR: 59.0912 - flow_dice_coef: 3.4372e-05 - flow_MSE: 0.5109 - val_loss: -2.1842e-03 - val_transformer_loss: -2.1842e-03 - val_flow_loss: 0.0315 - val_transformer_TSNRR: 31.8245 - val_transformer_dice_coef: 0.9967 - val_transformer_MSE: 4.8964e-07 - val_flow_TSNRR: 53.6541 - val_flow_dice_coef: 3.3723e-04 - val_flow_MSE: 0.2145 - 63s/epoch - 629ms/step\n",
            "Epoch 86/200\n",
            "\n",
            "Epoch 86: val_loss did not improve from -0.00219\n",
            "100/100 - 62s - loss: -8.9257e-01 - transformer_loss: -8.9257e-01 - flow_loss: 0.6784 - transformer_TSNRR: 16429.5723 - transformer_dice_coef: 0.0940 - transformer_MSE: 9.7542e-05 - flow_TSNRR: 59.3882 - flow_dice_coef: 0.0011 - flow_MSE: 0.5117 - val_loss: -2.1887e-03 - val_transformer_loss: -2.1887e-03 - val_flow_loss: 0.0370 - val_transformer_TSNRR: 34.5661 - val_transformer_dice_coef: 0.9967 - val_transformer_MSE: 4.7560e-07 - val_flow_TSNRR: 59.7416 - val_flow_dice_coef: 3.9779e-04 - val_flow_MSE: 0.1517 - 62s/epoch - 623ms/step\n",
            "Epoch 87/200\n",
            "\n",
            "Epoch 87: val_loss improved from -0.00219 to -0.00220, saving model to model.h5\n",
            "100/100 - 62s - loss: -8.9278e-01 - transformer_loss: -8.9278e-01 - flow_loss: 0.6795 - transformer_TSNRR: 16560.0293 - transformer_dice_coef: 0.0940 - transformer_MSE: 9.6873e-05 - flow_TSNRR: 59.3851 - flow_dice_coef: 0.0011 - flow_MSE: 0.5128 - val_loss: -2.1962e-03 - val_transformer_loss: -2.1962e-03 - val_flow_loss: 0.0304 - val_transformer_TSNRR: 32.3971 - val_transformer_dice_coef: 0.9967 - val_transformer_MSE: 4.5346e-07 - val_flow_TSNRR: 58.3563 - val_flow_dice_coef: 4.4025e-04 - val_flow_MSE: 0.1251 - 62s/epoch - 622ms/step\n",
            "Epoch 88/200\n",
            "\n",
            "Epoch 88: val_loss did not improve from -0.00220\n",
            "100/100 - 62s - loss: -8.9308e-01 - transformer_loss: -8.9308e-01 - flow_loss: 0.6815 - transformer_TSNRR: 16579.1289 - transformer_dice_coef: 0.0940 - transformer_MSE: 9.7296e-05 - flow_TSNRR: 59.0895 - flow_dice_coef: 9.5163e-04 - flow_MSE: 0.5151 - val_loss: -2.1921e-03 - val_transformer_loss: -2.1921e-03 - val_flow_loss: 0.0318 - val_transformer_TSNRR: 32.9513 - val_transformer_dice_coef: 0.9967 - val_transformer_MSE: 4.5387e-07 - val_flow_TSNRR: 59.8991 - val_flow_dice_coef: 3.3940e-04 - val_flow_MSE: 0.1894 - 62s/epoch - 620ms/step\n",
            "Epoch 89/200\n",
            "\n",
            "Epoch 89: val_loss did not improve from -0.00220\n",
            "100/100 - 62s - loss: -8.9336e-01 - transformer_loss: -8.9336e-01 - flow_loss: 0.6803 - transformer_TSNRR: 16676.6309 - transformer_dice_coef: 0.0940 - transformer_MSE: 9.6970e-05 - flow_TSNRR: 59.2363 - flow_dice_coef: 6.4508e-04 - flow_MSE: 0.5145 - val_loss: -2.1919e-03 - val_transformer_loss: -2.1919e-03 - val_flow_loss: 0.0340 - val_transformer_TSNRR: 32.7713 - val_transformer_dice_coef: 0.9967 - val_transformer_MSE: 5.0723e-07 - val_flow_TSNRR: 47.8227 - val_flow_dice_coef: 5.3763e-04 - val_flow_MSE: 0.1158 - 62s/epoch - 620ms/step\n",
            "Epoch 90/200\n",
            "\n",
            "Epoch 90: val_loss did not improve from -0.00220\n",
            "100/100 - 62s - loss: -8.9360e-01 - transformer_loss: -8.9360e-01 - flow_loss: 0.6823 - transformer_TSNRR: 16441.6055 - transformer_dice_coef: 0.0940 - transformer_MSE: 9.6956e-05 - flow_TSNRR: 59.1359 - flow_dice_coef: 0.0016 - flow_MSE: 0.5151 - val_loss: -2.1917e-03 - val_transformer_loss: -2.1917e-03 - val_flow_loss: 0.0270 - val_transformer_TSNRR: 30.5243 - val_transformer_dice_coef: 0.9967 - val_transformer_MSE: 4.7857e-07 - val_flow_TSNRR: 60.6268 - val_flow_dice_coef: 3.5739e-04 - val_flow_MSE: 0.1826 - 62s/epoch - 625ms/step\n",
            "Epoch 91/200\n",
            "\n",
            "Epoch 91: val_loss did not improve from -0.00220\n",
            "100/100 - 62s - loss: -8.9389e-01 - transformer_loss: -8.9389e-01 - flow_loss: 0.6806 - transformer_TSNRR: 16563.7012 - transformer_dice_coef: 0.0941 - transformer_MSE: 9.6368e-05 - flow_TSNRR: 59.0199 - flow_dice_coef: 0.0022 - flow_MSE: 0.5126 - val_loss: -2.1925e-03 - val_transformer_loss: -2.1925e-03 - val_flow_loss: 0.0381 - val_transformer_TSNRR: 32.3997 - val_transformer_dice_coef: 0.9967 - val_transformer_MSE: 5.1078e-07 - val_flow_TSNRR: 25.4324 - val_flow_dice_coef: 0.0015 - val_flow_MSE: 0.0664 - 62s/epoch - 622ms/step\n",
            "Epoch 92/200\n",
            "\n",
            "Epoch 92: val_loss did not improve from -0.00220\n",
            "100/100 - 63s - loss: -8.9442e-01 - transformer_loss: -8.9442e-01 - flow_loss: 0.6812 - transformer_TSNRR: 16533.7207 - transformer_dice_coef: 0.0940 - transformer_MSE: 9.6710e-05 - flow_TSNRR: 58.9002 - flow_dice_coef: 9.5390e-04 - flow_MSE: 0.5137 - val_loss: -2.1943e-03 - val_transformer_loss: -2.1943e-03 - val_flow_loss: 0.0342 - val_transformer_TSNRR: 31.1787 - val_transformer_dice_coef: 0.9967 - val_transformer_MSE: 5.4219e-07 - val_flow_TSNRR: 55.7160 - val_flow_dice_coef: 4.3292e-04 - val_flow_MSE: 0.1437 - 63s/epoch - 629ms/step\n",
            "Epoch 93/200\n",
            "\n",
            "Epoch 93: val_loss improved from -0.00220 to -0.00220, saving model to model.h5\n",
            "100/100 - 62s - loss: -8.9440e-01 - transformer_loss: -8.9440e-01 - flow_loss: 0.6810 - transformer_TSNRR: 16526.6758 - transformer_dice_coef: 0.0940 - transformer_MSE: 9.6159e-05 - flow_TSNRR: 58.9653 - flow_dice_coef: 0.0011 - flow_MSE: 0.5119 - val_loss: -2.1965e-03 - val_transformer_loss: -2.1965e-03 - val_flow_loss: 0.0325 - val_transformer_TSNRR: 33.4902 - val_transformer_dice_coef: 0.9967 - val_transformer_MSE: 4.7953e-07 - val_flow_TSNRR: 56.6204 - val_flow_dice_coef: 4.5797e-04 - val_flow_MSE: 0.1217 - 62s/epoch - 625ms/step\n",
            "Epoch 94/200\n",
            "\n",
            "Epoch 94: val_loss did not improve from -0.00220\n",
            "100/100 - 63s - loss: -8.9474e-01 - transformer_loss: -8.9474e-01 - flow_loss: 0.6822 - transformer_TSNRR: 16585.5332 - transformer_dice_coef: 0.0940 - transformer_MSE: 9.6373e-05 - flow_TSNRR: 59.0140 - flow_dice_coef: 0.0011 - flow_MSE: 0.5137 - val_loss: -2.1954e-03 - val_transformer_loss: -2.1954e-03 - val_flow_loss: 0.0350 - val_transformer_TSNRR: 31.1582 - val_transformer_dice_coef: 0.9967 - val_transformer_MSE: 4.9228e-07 - val_flow_TSNRR: 25.3821 - val_flow_dice_coef: 0.0011 - val_flow_MSE: 0.0743 - 63s/epoch - 625ms/step\n",
            "Epoch 95/200\n",
            "\n",
            "Epoch 95: val_loss improved from -0.00220 to -0.00220, saving model to model.h5\n",
            "100/100 - 62s - loss: -8.9472e-01 - transformer_loss: -8.9472e-01 - flow_loss: 0.6862 - transformer_TSNRR: 16555.6777 - transformer_dice_coef: 0.0940 - transformer_MSE: 9.6382e-05 - flow_TSNRR: 58.7028 - flow_dice_coef: 6.6761e-04 - flow_MSE: 0.5177 - val_loss: -2.1966e-03 - val_transformer_loss: -2.1966e-03 - val_flow_loss: 0.0345 - val_transformer_TSNRR: 29.9080 - val_transformer_dice_coef: 0.9967 - val_transformer_MSE: 4.7580e-07 - val_flow_TSNRR: 55.7334 - val_flow_dice_coef: 4.6347e-04 - val_flow_MSE: 0.1282 - 62s/epoch - 621ms/step\n",
            "Epoch 96/200\n",
            "\n",
            "Epoch 96: val_loss improved from -0.00220 to -0.00220, saving model to model.h5\n",
            "100/100 - 63s - loss: -8.9510e-01 - transformer_loss: -8.9510e-01 - flow_loss: 0.6838 - transformer_TSNRR: 16633.6934 - transformer_dice_coef: 0.0941 - transformer_MSE: 9.5851e-05 - flow_TSNRR: 58.7692 - flow_dice_coef: 0.0011 - flow_MSE: 0.5143 - val_loss: -2.1987e-03 - val_transformer_loss: -2.1987e-03 - val_flow_loss: 0.0351 - val_transformer_TSNRR: 28.8227 - val_transformer_dice_coef: 0.9967 - val_transformer_MSE: 4.5177e-07 - val_flow_TSNRR: 42.6269 - val_flow_dice_coef: 5.9075e-04 - val_flow_MSE: 0.1088 - 63s/epoch - 629ms/step\n",
            "Epoch 97/200\n",
            "\n",
            "Epoch 97: val_loss did not improve from -0.00220\n",
            "100/100 - 62s - loss: -8.9602e-01 - transformer_loss: -8.9602e-01 - flow_loss: 0.6826 - transformer_TSNRR: 16616.9141 - transformer_dice_coef: 0.0940 - transformer_MSE: 9.5315e-05 - flow_TSNRR: 58.9756 - flow_dice_coef: 0.0013 - flow_MSE: 0.5133 - val_loss: -2.1949e-03 - val_transformer_loss: -2.1949e-03 - val_flow_loss: 0.0309 - val_transformer_TSNRR: 28.9499 - val_transformer_dice_coef: 0.9967 - val_transformer_MSE: 4.5613e-07 - val_flow_TSNRR: 57.8100 - val_flow_dice_coef: 3.7750e-04 - val_flow_MSE: 0.1957 - 62s/epoch - 620ms/step\n",
            "Epoch 98/200\n",
            "\n",
            "Epoch 98: val_loss did not improve from -0.00220\n",
            "100/100 - 63s - loss: -8.9578e-01 - transformer_loss: -8.9578e-01 - flow_loss: 0.6837 - transformer_TSNRR: 16622.2734 - transformer_dice_coef: 0.0940 - transformer_MSE: 9.5193e-05 - flow_TSNRR: 58.7328 - flow_dice_coef: 0.0011 - flow_MSE: 0.5134 - val_loss: -2.1971e-03 - val_transformer_loss: -2.1971e-03 - val_flow_loss: 0.0292 - val_transformer_TSNRR: 36.5049 - val_transformer_dice_coef: 0.9967 - val_transformer_MSE: 4.5218e-07 - val_flow_TSNRR: 51.3280 - val_flow_dice_coef: 5.4478e-04 - val_flow_MSE: 0.1101 - 63s/epoch - 628ms/step\n",
            "Epoch 99/200\n",
            "\n",
            "Epoch 99: val_loss did not improve from -0.00220\n",
            "100/100 - 63s - loss: -8.9611e-01 - transformer_loss: -8.9611e-01 - flow_loss: 0.6850 - transformer_TSNRR: 16593.6230 - transformer_dice_coef: 0.0940 - transformer_MSE: 9.5613e-05 - flow_TSNRR: 58.7236 - flow_dice_coef: 9.3632e-04 - flow_MSE: 0.5155 - val_loss: -2.1946e-03 - val_transformer_loss: -2.1946e-03 - val_flow_loss: 0.0337 - val_transformer_TSNRR: 27.3259 - val_transformer_dice_coef: 0.9967 - val_transformer_MSE: 4.8864e-07 - val_flow_TSNRR: 49.3685 - val_flow_dice_coef: 4.5126e-04 - val_flow_MSE: 0.1891 - 63s/epoch - 630ms/step\n",
            "Epoch 100/200\n",
            "\n",
            "Epoch 100: val_loss did not improve from -0.00220\n",
            "100/100 - 62s - loss: -8.9659e-01 - transformer_loss: -8.9659e-01 - flow_loss: 0.6831 - transformer_TSNRR: 16709.9766 - transformer_dice_coef: 0.0940 - transformer_MSE: 9.5327e-05 - flow_TSNRR: 58.8584 - flow_dice_coef: 0.0013 - flow_MSE: 0.5132 - val_loss: -2.1984e-03 - val_transformer_loss: -2.1984e-03 - val_flow_loss: 0.0360 - val_transformer_TSNRR: 29.4651 - val_transformer_dice_coef: 0.9967 - val_transformer_MSE: 4.5856e-07 - val_flow_TSNRR: 58.6791 - val_flow_dice_coef: 2.9458e-04 - val_flow_MSE: 0.2610 - 62s/epoch - 624ms/step\n",
            "Epoch 101/200\n",
            "\n",
            "Epoch 101: val_loss did not improve from -0.00220\n",
            "100/100 - 63s - loss: -8.9604e-01 - transformer_loss: -8.9604e-01 - flow_loss: 0.6875 - transformer_TSNRR: 16516.9258 - transformer_dice_coef: 0.0939 - transformer_MSE: 9.5849e-05 - flow_TSNRR: 58.8904 - flow_dice_coef: 0.0011 - flow_MSE: 0.5171 - val_loss: -2.1974e-03 - val_transformer_loss: -2.1974e-03 - val_flow_loss: 0.0448 - val_transformer_TSNRR: 31.9136 - val_transformer_dice_coef: 0.9967 - val_transformer_MSE: 4.3742e-07 - val_flow_TSNRR: 42.2507 - val_flow_dice_coef: 5.5230e-04 - val_flow_MSE: 0.1371 - 63s/epoch - 628ms/step\n",
            "Epoch 102/200\n",
            "\n",
            "Epoch 102: val_loss did not improve from -0.00220\n",
            "100/100 - 62s - loss: -8.9700e-01 - transformer_loss: -8.9700e-01 - flow_loss: 0.6833 - transformer_TSNRR: 16709.9277 - transformer_dice_coef: 0.0940 - transformer_MSE: 9.4737e-05 - flow_TSNRR: 58.7764 - flow_dice_coef: 0.0011 - flow_MSE: 0.5123 - val_loss: -2.1982e-03 - val_transformer_loss: -2.1982e-03 - val_flow_loss: 0.0334 - val_transformer_TSNRR: 34.1420 - val_transformer_dice_coef: 0.9967 - val_transformer_MSE: 4.4377e-07 - val_flow_TSNRR: 44.0728 - val_flow_dice_coef: 5.2287e-04 - val_flow_MSE: 0.1294 - 62s/epoch - 625ms/step\n",
            "Epoch 103/200\n",
            "\n",
            "Epoch 103: val_loss did not improve from -0.00220\n",
            "100/100 - 63s - loss: -8.9760e-01 - transformer_loss: -8.9760e-01 - flow_loss: 0.6844 - transformer_TSNRR: 16698.7617 - transformer_dice_coef: 0.0940 - transformer_MSE: 9.4142e-05 - flow_TSNRR: 58.7985 - flow_dice_coef: 0.0011 - flow_MSE: 0.5134 - val_loss: -2.1985e-03 - val_transformer_loss: -2.1985e-03 - val_flow_loss: 0.0503 - val_transformer_TSNRR: 33.1248 - val_transformer_dice_coef: 0.9967 - val_transformer_MSE: 4.5404e-07 - val_flow_TSNRR: 35.1121 - val_flow_dice_coef: 6.0952e-04 - val_flow_MSE: 0.1392 - 63s/epoch - 631ms/step\n",
            "Epoch 104/200\n",
            "\n",
            "Epoch 104: val_loss improved from -0.00220 to -0.00220, saving model to model.h5\n",
            "100/100 - 63s - loss: -8.9793e-01 - transformer_loss: -8.9793e-01 - flow_loss: 0.6837 - transformer_TSNRR: 16723.7734 - transformer_dice_coef: 0.0939 - transformer_MSE: 9.4069e-05 - flow_TSNRR: 58.7022 - flow_dice_coef: 0.0013 - flow_MSE: 0.5133 - val_loss: -2.2004e-03 - val_transformer_loss: -2.2004e-03 - val_flow_loss: 0.0444 - val_transformer_TSNRR: 26.6155 - val_transformer_dice_coef: 0.9967 - val_transformer_MSE: 4.4765e-07 - val_flow_TSNRR: 13.0591 - val_flow_dice_coef: 0.0011 - val_flow_MSE: 0.1411 - 63s/epoch - 626ms/step\n",
            "Epoch 105/200\n",
            "\n",
            "Epoch 105: val_loss improved from -0.00220 to -0.00220, saving model to model.h5\n",
            "100/100 - 62s - loss: -8.9728e-01 - transformer_loss: -8.9728e-01 - flow_loss: 0.6882 - transformer_TSNRR: 16647.4316 - transformer_dice_coef: 0.0940 - transformer_MSE: 9.4945e-05 - flow_TSNRR: 58.4302 - flow_dice_coef: 8.3562e-04 - flow_MSE: 0.5167 - val_loss: -2.2006e-03 - val_transformer_loss: -2.2006e-03 - val_flow_loss: 0.0365 - val_transformer_TSNRR: 30.1936 - val_transformer_dice_coef: 0.9967 - val_transformer_MSE: 4.2607e-07 - val_flow_TSNRR: 35.9893 - val_flow_dice_coef: 7.4013e-04 - val_flow_MSE: 0.0959 - 62s/epoch - 625ms/step\n",
            "Epoch 106/200\n",
            "\n",
            "Epoch 106: val_loss did not improve from -0.00220\n",
            "100/100 - 63s - loss: -8.9785e-01 - transformer_loss: -8.9785e-01 - flow_loss: 0.6857 - transformer_TSNRR: 16735.7871 - transformer_dice_coef: 0.0940 - transformer_MSE: 9.4102e-05 - flow_TSNRR: 58.6100 - flow_dice_coef: 0.0012 - flow_MSE: 0.5142 - val_loss: -2.1992e-03 - val_transformer_loss: -2.1992e-03 - val_flow_loss: 0.0408 - val_transformer_TSNRR: 32.1834 - val_transformer_dice_coef: 0.9967 - val_transformer_MSE: 4.6400e-07 - val_flow_TSNRR: 27.5470 - val_flow_dice_coef: 8.5872e-04 - val_flow_MSE: 0.1093 - 63s/epoch - 631ms/step\n",
            "Epoch 107/200\n",
            "\n",
            "Epoch 107: val_loss improved from -0.00220 to -0.00220, saving model to model.h5\n",
            "100/100 - 63s - loss: -8.9771e-01 - transformer_loss: -8.9771e-01 - flow_loss: 0.6876 - transformer_TSNRR: 16619.0781 - transformer_dice_coef: 0.0940 - transformer_MSE: 9.4834e-05 - flow_TSNRR: 58.4895 - flow_dice_coef: 8.1100e-04 - flow_MSE: 0.5159 - val_loss: -2.2016e-03 - val_transformer_loss: -2.2016e-03 - val_flow_loss: 0.0480 - val_transformer_TSNRR: 32.7383 - val_transformer_dice_coef: 0.9967 - val_transformer_MSE: 4.9214e-07 - val_flow_TSNRR: 33.2491 - val_flow_dice_coef: 5.9795e-04 - val_flow_MSE: 0.1416 - 63s/epoch - 630ms/step\n",
            "Epoch 108/200\n",
            "\n",
            "Epoch 108: val_loss did not improve from -0.00220\n",
            "100/100 - 63s - loss: -8.9824e-01 - transformer_loss: -8.9824e-01 - flow_loss: 0.6890 - transformer_TSNRR: 16720.6758 - transformer_dice_coef: 0.0940 - transformer_MSE: 9.4465e-05 - flow_TSNRR: 58.5053 - flow_dice_coef: 0.0018 - flow_MSE: 0.5165 - val_loss: -2.1996e-03 - val_transformer_loss: -2.1996e-03 - val_flow_loss: 0.0467 - val_transformer_TSNRR: 31.8521 - val_transformer_dice_coef: 0.9967 - val_transformer_MSE: 4.1775e-07 - val_flow_TSNRR: 24.6100 - val_flow_dice_coef: 7.2286e-04 - val_flow_MSE: 0.1310 - 63s/epoch - 628ms/step\n",
            "Epoch 109/200\n",
            "\n",
            "Epoch 109: val_loss improved from -0.00220 to -0.00220, saving model to model.h5\n",
            "100/100 - 63s - loss: -8.9880e-01 - transformer_loss: -8.9880e-01 - flow_loss: 0.6879 - transformer_TSNRR: 16784.9297 - transformer_dice_coef: 0.0940 - transformer_MSE: 9.4080e-05 - flow_TSNRR: 58.3211 - flow_dice_coef: 9.4557e-04 - flow_MSE: 0.5156 - val_loss: -2.2046e-03 - val_transformer_loss: -2.2046e-03 - val_flow_loss: 0.0327 - val_transformer_TSNRR: 31.7441 - val_transformer_dice_coef: 0.9967 - val_transformer_MSE: 4.3898e-07 - val_flow_TSNRR: 55.7522 - val_flow_dice_coef: 4.6216e-04 - val_flow_MSE: 0.1290 - 63s/epoch - 625ms/step\n",
            "Epoch 110/200\n",
            "\n",
            "Epoch 110: val_loss did not improve from -0.00220\n",
            "100/100 - 63s - loss: -8.9882e-01 - transformer_loss: -8.9882e-01 - flow_loss: 0.6901 - transformer_TSNRR: 16747.2324 - transformer_dice_coef: 0.0940 - transformer_MSE: 9.4193e-05 - flow_TSNRR: 58.6260 - flow_dice_coef: 0.0011 - flow_MSE: 0.5182 - val_loss: -2.2011e-03 - val_transformer_loss: -2.2011e-03 - val_flow_loss: 0.0356 - val_transformer_TSNRR: 35.7113 - val_transformer_dice_coef: 0.9967 - val_transformer_MSE: 4.4233e-07 - val_flow_TSNRR: 24.2153 - val_flow_dice_coef: 0.0015 - val_flow_MSE: 0.0663 - 63s/epoch - 627ms/step\n",
            "Epoch 111/200\n",
            "\n",
            "Epoch 111: val_loss did not improve from -0.00220\n",
            "100/100 - 63s - loss: -8.9855e-01 - transformer_loss: -8.9855e-01 - flow_loss: 0.6898 - transformer_TSNRR: 16709.7852 - transformer_dice_coef: 0.0940 - transformer_MSE: 9.4222e-05 - flow_TSNRR: 58.2712 - flow_dice_coef: 0.0011 - flow_MSE: 0.5177 - val_loss: -2.2013e-03 - val_transformer_loss: -2.2013e-03 - val_flow_loss: 0.0366 - val_transformer_TSNRR: 32.3136 - val_transformer_dice_coef: 0.9967 - val_transformer_MSE: 4.4650e-07 - val_flow_TSNRR: 59.1339 - val_flow_dice_coef: 2.7267e-04 - val_flow_MSE: 0.2841 - 63s/epoch - 630ms/step\n",
            "Epoch 112/200\n",
            "\n",
            "Epoch 112: val_loss improved from -0.00220 to -0.00221, saving model to model.h5\n",
            "100/100 - 63s - loss: -8.9961e-01 - transformer_loss: -8.9961e-01 - flow_loss: 0.6873 - transformer_TSNRR: 16784.7656 - transformer_dice_coef: 0.0939 - transformer_MSE: 9.3603e-05 - flow_TSNRR: 58.4271 - flow_dice_coef: 0.0066 - flow_MSE: 0.5143 - val_loss: -2.2065e-03 - val_transformer_loss: -2.2065e-03 - val_flow_loss: 0.0421 - val_transformer_TSNRR: 32.6349 - val_transformer_dice_coef: 0.9967 - val_transformer_MSE: 4.9384e-07 - val_flow_TSNRR: 46.9374 - val_flow_dice_coef: 4.6430e-04 - val_flow_MSE: 0.1520 - 63s/epoch - 632ms/step\n",
            "Epoch 113/200\n",
            "\n",
            "Epoch 113: val_loss did not improve from -0.00221\n",
            "100/100 - 62s - loss: -8.9956e-01 - transformer_loss: -8.9956e-01 - flow_loss: 0.6889 - transformer_TSNRR: 16730.7266 - transformer_dice_coef: 0.0939 - transformer_MSE: 9.3875e-05 - flow_TSNRR: 58.5204 - flow_dice_coef: 0.0014 - flow_MSE: 0.5159 - val_loss: -2.2028e-03 - val_transformer_loss: -2.2028e-03 - val_flow_loss: 0.0401 - val_transformer_TSNRR: 32.2531 - val_transformer_dice_coef: 0.9967 - val_transformer_MSE: 4.2142e-07 - val_flow_TSNRR: 36.4863 - val_flow_dice_coef: 6.4510e-04 - val_flow_MSE: 0.1208 - 62s/epoch - 624ms/step\n",
            "Epoch 114/200\n",
            "\n",
            "Epoch 114: val_loss did not improve from -0.00221\n",
            "100/100 - 62s - loss: -8.9972e-01 - transformer_loss: -8.9972e-01 - flow_loss: 0.6885 - transformer_TSNRR: 16879.8262 - transformer_dice_coef: 0.0940 - transformer_MSE: 9.3414e-05 - flow_TSNRR: 58.2716 - flow_dice_coef: 0.0012 - flow_MSE: 0.5159 - val_loss: -2.2045e-03 - val_transformer_loss: -2.2045e-03 - val_flow_loss: 0.0507 - val_transformer_TSNRR: 30.0769 - val_transformer_dice_coef: 0.9967 - val_transformer_MSE: 4.3921e-07 - val_flow_TSNRR: 38.7977 - val_flow_dice_coef: 5.8627e-04 - val_flow_MSE: 0.1331 - 62s/epoch - 623ms/step\n",
            "Epoch 115/200\n",
            "\n",
            "Epoch 115: val_loss improved from -0.00221 to -0.00221, saving model to model.h5\n",
            "100/100 - 63s - loss: -8.9953e-01 - transformer_loss: -8.9953e-01 - flow_loss: 0.6907 - transformer_TSNRR: 16830.2305 - transformer_dice_coef: 0.0940 - transformer_MSE: 9.3398e-05 - flow_TSNRR: 58.3536 - flow_dice_coef: 0.0012 - flow_MSE: 0.5178 - val_loss: -2.2069e-03 - val_transformer_loss: -2.2069e-03 - val_flow_loss: 0.0395 - val_transformer_TSNRR: 34.0054 - val_transformer_dice_coef: 0.9967 - val_transformer_MSE: 4.5899e-07 - val_flow_TSNRR: 40.3961 - val_flow_dice_coef: 6.8762e-04 - val_flow_MSE: 0.1034 - 63s/epoch - 628ms/step\n",
            "Epoch 116/200\n",
            "\n",
            "Epoch 116: val_loss did not improve from -0.00221\n",
            "100/100 - 63s - loss: -8.9975e-01 - transformer_loss: -8.9975e-01 - flow_loss: 0.6920 - transformer_TSNRR: 16775.1230 - transformer_dice_coef: 0.0939 - transformer_MSE: 9.3727e-05 - flow_TSNRR: 58.0260 - flow_dice_coef: 0.0023 - flow_MSE: 0.5185 - val_loss: -2.1980e-03 - val_transformer_loss: -2.1980e-03 - val_flow_loss: 0.0554 - val_transformer_TSNRR: 31.4386 - val_transformer_dice_coef: 0.9967 - val_transformer_MSE: 5.2474e-07 - val_flow_TSNRR: 35.6885 - val_flow_dice_coef: 5.1340e-04 - val_flow_MSE: 0.1872 - 63s/epoch - 629ms/step\n",
            "Epoch 117/200\n",
            "\n",
            "Epoch 117: val_loss did not improve from -0.00221\n",
            "100/100 - 63s - loss: -9.0015e-01 - transformer_loss: -9.0015e-01 - flow_loss: 0.6912 - transformer_TSNRR: 16813.3008 - transformer_dice_coef: 0.0940 - transformer_MSE: 9.3372e-05 - flow_TSNRR: 58.3776 - flow_dice_coef: 0.0010 - flow_MSE: 0.5176 - val_loss: -2.2051e-03 - val_transformer_loss: -2.2051e-03 - val_flow_loss: 0.0407 - val_transformer_TSNRR: 31.7035 - val_transformer_dice_coef: 0.9967 - val_transformer_MSE: 4.7540e-07 - val_flow_TSNRR: 51.5487 - val_flow_dice_coef: 3.4064e-04 - val_flow_MSE: 0.2408 - 63s/epoch - 628ms/step\n",
            "Epoch 118/200\n",
            "\n",
            "Epoch 118: val_loss did not improve from -0.00221\n",
            "100/100 - 63s - loss: -9.0035e-01 - transformer_loss: -9.0035e-01 - flow_loss: 0.6939 - transformer_TSNRR: 16780.5020 - transformer_dice_coef: 0.0940 - transformer_MSE: 9.3025e-05 - flow_TSNRR: 58.1040 - flow_dice_coef: 0.0015 - flow_MSE: 0.5192 - val_loss: -2.2036e-03 - val_transformer_loss: -2.2036e-03 - val_flow_loss: 0.0521 - val_transformer_TSNRR: 30.7292 - val_transformer_dice_coef: 0.9967 - val_transformer_MSE: 4.2405e-07 - val_flow_TSNRR: 49.8703 - val_flow_dice_coef: 3.8162e-04 - val_flow_MSE: 0.2024 - 63s/epoch - 631ms/step\n",
            "Epoch 119/200\n",
            "\n",
            "Epoch 119: val_loss improved from -0.00221 to -0.00221, saving model to model.h5\n",
            "100/100 - 72s - loss: -9.0109e-01 - transformer_loss: -9.0109e-01 - flow_loss: 0.6905 - transformer_TSNRR: 16971.2910 - transformer_dice_coef: 0.0940 - transformer_MSE: 9.2293e-05 - flow_TSNRR: 58.4586 - flow_dice_coef: 0.0012 - flow_MSE: 0.5153 - val_loss: -2.2109e-03 - val_transformer_loss: -2.2109e-03 - val_flow_loss: 0.0469 - val_transformer_TSNRR: 31.2341 - val_transformer_dice_coef: 0.9967 - val_transformer_MSE: 4.8005e-07 - val_flow_TSNRR: 37.8624 - val_flow_dice_coef: 6.5178e-04 - val_flow_MSE: 0.1205 - 72s/epoch - 723ms/step\n",
            "Epoch 120/200\n",
            "\n",
            "Epoch 120: val_loss did not improve from -0.00221\n",
            "100/100 - 63s - loss: -9.0072e-01 - transformer_loss: -9.0072e-01 - flow_loss: 0.6912 - transformer_TSNRR: 16840.2676 - transformer_dice_coef: 0.0939 - transformer_MSE: 9.2630e-05 - flow_TSNRR: 58.4282 - flow_dice_coef: 0.0016 - flow_MSE: 0.5179 - val_loss: -2.2080e-03 - val_transformer_loss: -2.2080e-03 - val_flow_loss: 0.0439 - val_transformer_TSNRR: 34.0463 - val_transformer_dice_coef: 0.9967 - val_transformer_MSE: 4.7279e-07 - val_flow_TSNRR: 32.1101 - val_flow_dice_coef: 8.5624e-04 - val_flow_MSE: 0.0956 - 63s/epoch - 627ms/step\n",
            "Epoch 121/200\n",
            "\n",
            "Epoch 121: val_loss did not improve from -0.00221\n",
            "100/100 - 62s - loss: -9.0100e-01 - transformer_loss: -9.0100e-01 - flow_loss: 0.6934 - transformer_TSNRR: 16772.9453 - transformer_dice_coef: 0.0939 - transformer_MSE: 9.2811e-05 - flow_TSNRR: 58.2641 - flow_dice_coef: 0.0012 - flow_MSE: 0.5192 - val_loss: -2.2078e-03 - val_transformer_loss: -2.2078e-03 - val_flow_loss: 0.0538 - val_transformer_TSNRR: 34.0676 - val_transformer_dice_coef: 0.9967 - val_transformer_MSE: 4.7558e-07 - val_flow_TSNRR: 27.2694 - val_flow_dice_coef: 8.3651e-04 - val_flow_MSE: 0.1137 - 62s/epoch - 623ms/step\n",
            "Epoch 122/200\n",
            "\n",
            "Epoch 122: val_loss did not improve from -0.00221\n",
            "100/100 - 63s - loss: -9.0141e-01 - transformer_loss: -9.0141e-01 - flow_loss: 0.6931 - transformer_TSNRR: 16836.8574 - transformer_dice_coef: 0.0940 - transformer_MSE: 9.2081e-05 - flow_TSNRR: 58.1201 - flow_dice_coef: 0.0031 - flow_MSE: 0.5187 - val_loss: -2.2027e-03 - val_transformer_loss: -2.2027e-03 - val_flow_loss: 0.0449 - val_transformer_TSNRR: 31.0979 - val_transformer_dice_coef: 0.9967 - val_transformer_MSE: 5.2306e-07 - val_flow_TSNRR: 52.7165 - val_flow_dice_coef: 3.4010e-04 - val_flow_MSE: 0.2201 - 63s/epoch - 631ms/step\n",
            "Epoch 123/200\n",
            "\n",
            "Epoch 123: val_loss did not improve from -0.00221\n",
            "100/100 - 62s - loss: -9.0165e-01 - transformer_loss: -9.0165e-01 - flow_loss: 0.6930 - transformer_TSNRR: 16797.3867 - transformer_dice_coef: 0.0939 - transformer_MSE: 9.2342e-05 - flow_TSNRR: 58.3413 - flow_dice_coef: 0.0012 - flow_MSE: 0.5181 - val_loss: -2.2094e-03 - val_transformer_loss: -2.2094e-03 - val_flow_loss: 0.0342 - val_transformer_TSNRR: 35.0978 - val_transformer_dice_coef: 0.9967 - val_transformer_MSE: 4.5243e-07 - val_flow_TSNRR: 50.9957 - val_flow_dice_coef: 5.5341e-04 - val_flow_MSE: 0.1048 - 62s/epoch - 624ms/step\n",
            "Epoch 124/200\n",
            "\n",
            "Epoch 124: val_loss did not improve from -0.00221\n",
            "100/100 - 62s - loss: -9.0145e-01 - transformer_loss: -9.0145e-01 - flow_loss: 0.6926 - transformer_TSNRR: 16806.6895 - transformer_dice_coef: 0.0940 - transformer_MSE: 9.2151e-05 - flow_TSNRR: 58.2216 - flow_dice_coef: 0.0011 - flow_MSE: 0.5182 - val_loss: -2.2068e-03 - val_transformer_loss: -2.2068e-03 - val_flow_loss: 0.0357 - val_transformer_TSNRR: 32.0540 - val_transformer_dice_coef: 0.9967 - val_transformer_MSE: 5.1869e-07 - val_flow_TSNRR: 44.0690 - val_flow_dice_coef: 6.4726e-04 - val_flow_MSE: 0.0975 - 62s/epoch - 622ms/step\n",
            "Epoch 125/200\n",
            "\n",
            "Epoch 125: val_loss did not improve from -0.00221\n",
            "100/100 - 63s - loss: -9.0196e-01 - transformer_loss: -9.0196e-01 - flow_loss: 0.6930 - transformer_TSNRR: 16834.9883 - transformer_dice_coef: 0.0940 - transformer_MSE: 9.1931e-05 - flow_TSNRR: 58.3267 - flow_dice_coef: 0.0014 - flow_MSE: 0.5180 - val_loss: -2.2013e-03 - val_transformer_loss: -2.2013e-03 - val_flow_loss: 0.0412 - val_transformer_TSNRR: 34.6021 - val_transformer_dice_coef: 0.9967 - val_transformer_MSE: 4.8491e-07 - val_flow_TSNRR: 15.8334 - val_flow_dice_coef: 0.0016 - val_flow_MSE: 0.0939 - 63s/epoch - 625ms/step\n",
            "Epoch 126/200\n",
            "\n",
            "Epoch 126: val_loss did not improve from -0.00221\n",
            "100/100 - 62s - loss: -9.0157e-01 - transformer_loss: -9.0157e-01 - flow_loss: 0.6966 - transformer_TSNRR: 16875.6289 - transformer_dice_coef: 0.0940 - transformer_MSE: 9.2359e-05 - flow_TSNRR: 58.1563 - flow_dice_coef: 0.0015 - flow_MSE: 0.5214 - val_loss: -2.2088e-03 - val_transformer_loss: -2.2088e-03 - val_flow_loss: 0.0373 - val_transformer_TSNRR: 28.6860 - val_transformer_dice_coef: 0.9967 - val_transformer_MSE: 4.1475e-07 - val_flow_TSNRR: 55.3966 - val_flow_dice_coef: 3.9590e-04 - val_flow_MSE: 0.1668 - 62s/epoch - 622ms/step\n",
            "Epoch 127/200\n",
            "\n",
            "Epoch 127: val_loss did not improve from -0.00221\n",
            "100/100 - 63s - loss: -9.0224e-01 - transformer_loss: -9.0224e-01 - flow_loss: 0.6968 - transformer_TSNRR: 16945.2910 - transformer_dice_coef: 0.0939 - transformer_MSE: 9.2059e-05 - flow_TSNRR: 58.0758 - flow_dice_coef: 0.0012 - flow_MSE: 0.5211 - val_loss: -2.2083e-03 - val_transformer_loss: -2.2083e-03 - val_flow_loss: 0.0425 - val_transformer_TSNRR: 29.1717 - val_transformer_dice_coef: 0.9967 - val_transformer_MSE: 4.6118e-07 - val_flow_TSNRR: 50.7067 - val_flow_dice_coef: 4.3910e-04 - val_flow_MSE: 0.1509 - 63s/epoch - 628ms/step\n",
            "Epoch 128/200\n",
            "\n",
            "Epoch 128: val_loss did not improve from -0.00221\n",
            "100/100 - 63s - loss: -9.0265e-01 - transformer_loss: -9.0265e-01 - flow_loss: 0.6949 - transformer_TSNRR: 16990.9414 - transformer_dice_coef: 0.0940 - transformer_MSE: 9.1315e-05 - flow_TSNRR: 58.4821 - flow_dice_coef: 9.2676e-04 - flow_MSE: 0.5196 - val_loss: -2.2057e-03 - val_transformer_loss: -2.2057e-03 - val_flow_loss: 0.0448 - val_transformer_TSNRR: 34.3317 - val_transformer_dice_coef: 0.9967 - val_transformer_MSE: 4.2317e-07 - val_flow_TSNRR: 42.5037 - val_flow_dice_coef: 4.6369e-04 - val_flow_MSE: 0.1631 - 63s/epoch - 630ms/step\n",
            "Epoch 129/200\n",
            "\n",
            "Epoch 129: val_loss improved from -0.00221 to -0.00221, saving model to model.h5\n",
            "100/100 - 63s - loss: -9.0252e-01 - transformer_loss: -9.0252e-01 - flow_loss: 0.6939 - transformer_TSNRR: 16848.8945 - transformer_dice_coef: 0.0940 - transformer_MSE: 9.2012e-05 - flow_TSNRR: 58.2249 - flow_dice_coef: 0.0012 - flow_MSE: 0.5176 - val_loss: -2.2135e-03 - val_transformer_loss: -2.2135e-03 - val_flow_loss: 0.0356 - val_transformer_TSNRR: 29.9409 - val_transformer_dice_coef: 0.9967 - val_transformer_MSE: 4.5161e-07 - val_flow_TSNRR: 55.5334 - val_flow_dice_coef: 4.6991e-04 - val_flow_MSE: 0.1320 - 63s/epoch - 630ms/step\n",
            "Epoch 130/200\n",
            "\n",
            "Epoch 130: val_loss did not improve from -0.00221\n",
            "100/100 - 63s - loss: -9.0285e-01 - transformer_loss: -9.0285e-01 - flow_loss: 0.6951 - transformer_TSNRR: 16959.7109 - transformer_dice_coef: 0.0940 - transformer_MSE: 9.1431e-05 - flow_TSNRR: 58.2725 - flow_dice_coef: 0.0014 - flow_MSE: 0.5186 - val_loss: -2.2083e-03 - val_transformer_loss: -2.2083e-03 - val_flow_loss: 0.0610 - val_transformer_TSNRR: 32.2155 - val_transformer_dice_coef: 0.9967 - val_transformer_MSE: 4.5382e-07 - val_flow_TSNRR: 46.6008 - val_flow_dice_coef: 3.3334e-04 - val_flow_MSE: 0.2662 - 63s/epoch - 626ms/step\n",
            "Epoch 131/200\n",
            "\n",
            "Epoch 131: val_loss did not improve from -0.00221\n",
            "100/100 - 63s - loss: -9.0339e-01 - transformer_loss: -9.0339e-01 - flow_loss: 0.6921 - transformer_TSNRR: 16902.0371 - transformer_dice_coef: 0.0939 - transformer_MSE: 9.1196e-05 - flow_TSNRR: 58.1884 - flow_dice_coef: 0.0012 - flow_MSE: 0.5159 - val_loss: -2.2059e-03 - val_transformer_loss: -2.2059e-03 - val_flow_loss: 0.0429 - val_transformer_TSNRR: 31.3052 - val_transformer_dice_coef: 0.9967 - val_transformer_MSE: 4.8197e-07 - val_flow_TSNRR: 52.6840 - val_flow_dice_coef: 4.3302e-04 - val_flow_MSE: 0.1795 - 63s/epoch - 625ms/step\n",
            "Epoch 132/200\n",
            "\n",
            "Epoch 132: val_loss did not improve from -0.00221\n",
            "100/100 - 62s - loss: -9.0321e-01 - transformer_loss: -9.0321e-01 - flow_loss: 0.6948 - transformer_TSNRR: 16845.8594 - transformer_dice_coef: 0.0939 - transformer_MSE: 9.0741e-05 - flow_TSNRR: 58.1491 - flow_dice_coef: 9.9766e-04 - flow_MSE: 0.5187 - val_loss: -2.2032e-03 - val_transformer_loss: -2.2032e-03 - val_flow_loss: 0.0322 - val_transformer_TSNRR: 35.2552 - val_transformer_dice_coef: 0.9967 - val_transformer_MSE: 4.7625e-07 - val_flow_TSNRR: 51.5447 - val_flow_dice_coef: 3.7784e-04 - val_flow_MSE: 0.1874 - 62s/epoch - 623ms/step\n",
            "Epoch 133/200\n",
            "\n",
            "Epoch 133: val_loss did not improve from -0.00221\n",
            "100/100 - 63s - loss: -9.0323e-01 - transformer_loss: -9.0323e-01 - flow_loss: 0.6959 - transformer_TSNRR: 16881.0645 - transformer_dice_coef: 0.0940 - transformer_MSE: 9.1324e-05 - flow_TSNRR: 57.8502 - flow_dice_coef: 0.0015 - flow_MSE: 0.5191 - val_loss: -2.2000e-03 - val_transformer_loss: -2.2000e-03 - val_flow_loss: 0.0572 - val_transformer_TSNRR: 28.8214 - val_transformer_dice_coef: 0.9967 - val_transformer_MSE: 4.6089e-07 - val_flow_TSNRR: 56.7871 - val_flow_dice_coef: 2.6203e-04 - val_flow_MSE: 0.3725 - 63s/epoch - 626ms/step\n",
            "Epoch 134/200\n",
            "\n",
            "Epoch 134: val_loss did not improve from -0.00221\n",
            "100/100 - 62s - loss: -9.0335e-01 - transformer_loss: -9.0335e-01 - flow_loss: 0.6965 - transformer_TSNRR: 16839.1934 - transformer_dice_coef: 0.0939 - transformer_MSE: 9.1261e-05 - flow_TSNRR: 58.0554 - flow_dice_coef: 0.0028 - flow_MSE: 0.5195 - val_loss: -2.2109e-03 - val_transformer_loss: -2.2109e-03 - val_flow_loss: 0.0500 - val_transformer_TSNRR: 28.1427 - val_transformer_dice_coef: 0.9967 - val_transformer_MSE: 4.4829e-07 - val_flow_TSNRR: 41.0205 - val_flow_dice_coef: 5.0453e-04 - val_flow_MSE: 0.1620 - 62s/epoch - 623ms/step\n",
            "Epoch 135/200\n",
            "\n",
            "Epoch 135: val_loss did not improve from -0.00221\n",
            "100/100 - 62s - loss: -9.0332e-01 - transformer_loss: -9.0332e-01 - flow_loss: 0.6993 - transformer_TSNRR: 17042.6621 - transformer_dice_coef: 0.0939 - transformer_MSE: 9.1499e-05 - flow_TSNRR: 58.1011 - flow_dice_coef: 9.5203e-04 - flow_MSE: 0.5219 - val_loss: -2.2101e-03 - val_transformer_loss: -2.2101e-03 - val_flow_loss: 0.0547 - val_transformer_TSNRR: 30.8449 - val_transformer_dice_coef: 0.9967 - val_transformer_MSE: 3.9831e-07 - val_flow_TSNRR: 48.5131 - val_flow_dice_coef: 3.6221e-04 - val_flow_MSE: 0.2270 - 62s/epoch - 620ms/step\n",
            "Epoch 136/200\n",
            "\n",
            "Epoch 136: val_loss improved from -0.00221 to -0.00222, saving model to model.h5\n",
            "100/100 - 63s - loss: -9.0355e-01 - transformer_loss: -9.0355e-01 - flow_loss: 0.6965 - transformer_TSNRR: 16936.5820 - transformer_dice_coef: 0.0939 - transformer_MSE: 9.1291e-05 - flow_TSNRR: 57.9813 - flow_dice_coef: 9.4681e-04 - flow_MSE: 0.5193 - val_loss: -2.2163e-03 - val_transformer_loss: -2.2163e-03 - val_flow_loss: 0.0438 - val_transformer_TSNRR: 29.2083 - val_transformer_dice_coef: 0.9967 - val_transformer_MSE: 4.2760e-07 - val_flow_TSNRR: 52.3711 - val_flow_dice_coef: 3.1061e-04 - val_flow_MSE: 0.2665 - 63s/epoch - 633ms/step\n",
            "Epoch 137/200\n",
            "\n",
            "Epoch 137: val_loss did not improve from -0.00222\n",
            "100/100 - 63s - loss: -9.0399e-01 - transformer_loss: -9.0399e-01 - flow_loss: 0.6966 - transformer_TSNRR: 16993.2344 - transformer_dice_coef: 0.0939 - transformer_MSE: 9.0723e-05 - flow_TSNRR: 57.7634 - flow_dice_coef: 0.0012 - flow_MSE: 0.5182 - val_loss: -2.2129e-03 - val_transformer_loss: -2.2129e-03 - val_flow_loss: 0.0373 - val_transformer_TSNRR: 32.3307 - val_transformer_dice_coef: 0.9967 - val_transformer_MSE: 4.4304e-07 - val_flow_TSNRR: 51.9827 - val_flow_dice_coef: 4.2924e-04 - val_flow_MSE: 0.1611 - 63s/epoch - 631ms/step\n",
            "Epoch 138/200\n",
            "\n",
            "Epoch 138: val_loss did not improve from -0.00222\n",
            "100/100 - 63s - loss: -9.0347e-01 - transformer_loss: -9.0347e-01 - flow_loss: 0.6987 - transformer_TSNRR: 16968.8496 - transformer_dice_coef: 0.0939 - transformer_MSE: 9.1272e-05 - flow_TSNRR: 58.1151 - flow_dice_coef: 0.0013 - flow_MSE: 0.5210 - val_loss: -2.2111e-03 - val_transformer_loss: -2.2111e-03 - val_flow_loss: 0.0712 - val_transformer_TSNRR: 33.9255 - val_transformer_dice_coef: 0.9967 - val_transformer_MSE: 4.8674e-07 - val_flow_TSNRR: 26.6576 - val_flow_dice_coef: 8.1328e-04 - val_flow_MSE: 0.1791 - 63s/epoch - 628ms/step\n",
            "Epoch 139/200\n",
            "\n",
            "Epoch 139: val_loss did not improve from -0.00222\n",
            "100/100 - 62s - loss: -9.0428e-01 - transformer_loss: -9.0428e-01 - flow_loss: 0.6990 - transformer_TSNRR: 16951.5156 - transformer_dice_coef: 0.0939 - transformer_MSE: 9.0889e-05 - flow_TSNRR: 58.0478 - flow_dice_coef: 0.0014 - flow_MSE: 0.5201 - val_loss: -2.2122e-03 - val_transformer_loss: -2.2122e-03 - val_flow_loss: 0.0396 - val_transformer_TSNRR: 31.9920 - val_transformer_dice_coef: 0.9967 - val_transformer_MSE: 4.8124e-07 - val_flow_TSNRR: 49.6906 - val_flow_dice_coef: 3.8826e-04 - val_flow_MSE: 0.1867 - 62s/epoch - 624ms/step\n",
            "Epoch 140/200\n",
            "\n",
            "Epoch 140: val_loss improved from -0.00222 to -0.00222, saving model to model.h5\n",
            "100/100 - 62s - loss: -9.0479e-01 - transformer_loss: -9.0479e-01 - flow_loss: 0.6965 - transformer_TSNRR: 16908.0117 - transformer_dice_coef: 0.0939 - transformer_MSE: 9.0039e-05 - flow_TSNRR: 57.9030 - flow_dice_coef: 8.7204e-04 - flow_MSE: 0.5176 - val_loss: -2.2167e-03 - val_transformer_loss: -2.2167e-03 - val_flow_loss: 0.0415 - val_transformer_TSNRR: 32.9551 - val_transformer_dice_coef: 0.9967 - val_transformer_MSE: 4.4492e-07 - val_flow_TSNRR: 49.4897 - val_flow_dice_coef: 4.8351e-04 - val_flow_MSE: 0.1333 - 62s/epoch - 624ms/step\n",
            "Epoch 141/200\n",
            "\n",
            "Epoch 141: val_loss did not improve from -0.00222\n",
            "100/100 - 62s - loss: -9.0422e-01 - transformer_loss: -9.0422e-01 - flow_loss: 0.6981 - transformer_TSNRR: 17001.1016 - transformer_dice_coef: 0.0939 - transformer_MSE: 9.0787e-05 - flow_TSNRR: 58.1608 - flow_dice_coef: 0.0012 - flow_MSE: 0.5194 - val_loss: -2.2143e-03 - val_transformer_loss: -2.2143e-03 - val_flow_loss: 0.0610 - val_transformer_TSNRR: 35.6181 - val_transformer_dice_coef: 0.9967 - val_transformer_MSE: 4.1767e-07 - val_flow_TSNRR: 23.8915 - val_flow_dice_coef: 6.9201e-04 - val_flow_MSE: 0.1660 - 62s/epoch - 623ms/step\n",
            "Epoch 142/200\n",
            "\n",
            "Epoch 142: val_loss did not improve from -0.00222\n",
            "100/100 - 63s - loss: -9.0461e-01 - transformer_loss: -9.0461e-01 - flow_loss: 0.7013 - transformer_TSNRR: 16955.2031 - transformer_dice_coef: 0.0939 - transformer_MSE: 9.0223e-05 - flow_TSNRR: 58.0090 - flow_dice_coef: 0.0011 - flow_MSE: 0.5230 - val_loss: -2.2129e-03 - val_transformer_loss: -2.2129e-03 - val_flow_loss: 0.0483 - val_transformer_TSNRR: 30.5483 - val_transformer_dice_coef: 0.9967 - val_transformer_MSE: 4.4230e-07 - val_flow_TSNRR: 46.5050 - val_flow_dice_coef: 4.6791e-04 - val_flow_MSE: 0.1572 - 63s/epoch - 627ms/step\n",
            "Epoch 143/200\n",
            "\n",
            "Epoch 143: val_loss improved from -0.00222 to -0.00222, saving model to model.h5\n",
            "100/100 - 62s - loss: -9.0516e-01 - transformer_loss: -9.0516e-01 - flow_loss: 0.6996 - transformer_TSNRR: 17016.3262 - transformer_dice_coef: 0.0939 - transformer_MSE: 9.0629e-05 - flow_TSNRR: 58.2769 - flow_dice_coef: -6.1013e-05 - flow_MSE: 0.5211 - val_loss: -2.2187e-03 - val_transformer_loss: -2.2187e-03 - val_flow_loss: 0.0511 - val_transformer_TSNRR: 29.4492 - val_transformer_dice_coef: 0.9967 - val_transformer_MSE: 4.3891e-07 - val_flow_TSNRR: 49.0083 - val_flow_dice_coef: 3.7525e-04 - val_flow_MSE: 0.2024 - 62s/epoch - 623ms/step\n",
            "Epoch 144/200\n",
            "\n",
            "Epoch 144: val_loss did not improve from -0.00222\n",
            "100/100 - 62s - loss: -9.0481e-01 - transformer_loss: -9.0481e-01 - flow_loss: 0.6994 - transformer_TSNRR: 17060.1230 - transformer_dice_coef: 0.0939 - transformer_MSE: 9.0638e-05 - flow_TSNRR: 58.0213 - flow_dice_coef: 0.0017 - flow_MSE: 0.5207 - val_loss: -2.2114e-03 - val_transformer_loss: -2.2114e-03 - val_flow_loss: 0.0366 - val_transformer_TSNRR: 34.2263 - val_transformer_dice_coef: 0.9967 - val_transformer_MSE: 4.4057e-07 - val_flow_TSNRR: 42.6067 - val_flow_dice_coef: 5.5552e-04 - val_flow_MSE: 0.1302 - 62s/epoch - 620ms/step\n",
            "Epoch 145/200\n",
            "\n",
            "Epoch 145: val_loss improved from -0.00222 to -0.00222, saving model to model.h5\n",
            "100/100 - 63s - loss: -9.0523e-01 - transformer_loss: -9.0523e-01 - flow_loss: 0.6985 - transformer_TSNRR: 17117.9805 - transformer_dice_coef: 0.0939 - transformer_MSE: 9.0182e-05 - flow_TSNRR: 58.1349 - flow_dice_coef: 9.4197e-04 - flow_MSE: 0.5195 - val_loss: -2.2188e-03 - val_transformer_loss: -2.2188e-03 - val_flow_loss: 0.0418 - val_transformer_TSNRR: 31.3610 - val_transformer_dice_coef: 0.9967 - val_transformer_MSE: 4.2539e-07 - val_flow_TSNRR: 54.3193 - val_flow_dice_coef: 4.9793e-04 - val_flow_MSE: 0.1693 - 63s/epoch - 626ms/step\n",
            "Epoch 146/200\n",
            "\n",
            "Epoch 146: val_loss did not improve from -0.00222\n",
            "100/100 - 63s - loss: -9.0364e-01 - transformer_loss: -9.0364e-01 - flow_loss: 0.7044 - transformer_TSNRR: 16786.4746 - transformer_dice_coef: 0.0939 - transformer_MSE: 9.1446e-05 - flow_TSNRR: 57.9239 - flow_dice_coef: 9.5684e-04 - flow_MSE: 0.5254 - val_loss: -2.2126e-03 - val_transformer_loss: -2.2126e-03 - val_flow_loss: 0.0580 - val_transformer_TSNRR: 32.3435 - val_transformer_dice_coef: 0.9967 - val_transformer_MSE: 4.7545e-07 - val_flow_TSNRR: 44.4128 - val_flow_dice_coef: 4.4559e-04 - val_flow_MSE: 0.1721 - 63s/epoch - 626ms/step\n",
            "Epoch 147/200\n",
            "\n",
            "Epoch 147: val_loss did not improve from -0.00222\n",
            "100/100 - 63s - loss: -9.0569e-01 - transformer_loss: -9.0569e-01 - flow_loss: 0.6999 - transformer_TSNRR: 17063.6172 - transformer_dice_coef: 0.0939 - transformer_MSE: 9.0219e-05 - flow_TSNRR: 57.9623 - flow_dice_coef: 0.0011 - flow_MSE: 0.5206 - val_loss: -2.2141e-03 - val_transformer_loss: -2.2141e-03 - val_flow_loss: 0.0563 - val_transformer_TSNRR: 29.3918 - val_transformer_dice_coef: 0.9967 - val_transformer_MSE: 5.0613e-07 - val_flow_TSNRR: 41.1463 - val_flow_dice_coef: 4.9734e-04 - val_flow_MSE: 0.1553 - 63s/epoch - 629ms/step\n",
            "Epoch 148/200\n",
            "\n",
            "Epoch 148: val_loss did not improve from -0.00222\n",
            "100/100 - 62s - loss: -9.0561e-01 - transformer_loss: -9.0561e-01 - flow_loss: 0.7004 - transformer_TSNRR: 17023.7598 - transformer_dice_coef: 0.0939 - transformer_MSE: 9.0258e-05 - flow_TSNRR: 58.2100 - flow_dice_coef: 0.0010 - flow_MSE: 0.5212 - val_loss: -2.2164e-03 - val_transformer_loss: -2.2164e-03 - val_flow_loss: 0.0739 - val_transformer_TSNRR: 32.2265 - val_transformer_dice_coef: 0.9967 - val_transformer_MSE: 4.5735e-07 - val_flow_TSNRR: 42.1460 - val_flow_dice_coef: 4.1785e-04 - val_flow_MSE: 0.2052 - 62s/epoch - 624ms/step\n",
            "Epoch 149/200\n",
            "\n",
            "Epoch 149: val_loss improved from -0.00222 to -0.00222, saving model to model.h5\n",
            "100/100 - 63s - loss: -9.0595e-01 - transformer_loss: -9.0595e-01 - flow_loss: 0.6988 - transformer_TSNRR: 17092.2031 - transformer_dice_coef: 0.0939 - transformer_MSE: 8.9757e-05 - flow_TSNRR: 58.1265 - flow_dice_coef: 0.0014 - flow_MSE: 0.5191 - val_loss: -2.2199e-03 - val_transformer_loss: -2.2199e-03 - val_flow_loss: 0.0425 - val_transformer_TSNRR: 35.8095 - val_transformer_dice_coef: 0.9967 - val_transformer_MSE: 4.1919e-07 - val_flow_TSNRR: 54.1648 - val_flow_dice_coef: 3.4389e-04 - val_flow_MSE: 0.2153 - 63s/epoch - 630ms/step\n",
            "Epoch 150/200\n",
            "\n",
            "Epoch 150: val_loss did not improve from -0.00222\n",
            "100/100 - 63s - loss: -9.0570e-01 - transformer_loss: -9.0570e-01 - flow_loss: 0.7015 - transformer_TSNRR: 16929.5664 - transformer_dice_coef: 0.0939 - transformer_MSE: 9.0201e-05 - flow_TSNRR: 58.2479 - flow_dice_coef: 0.0023 - flow_MSE: 0.5216 - val_loss: -2.2133e-03 - val_transformer_loss: -2.2133e-03 - val_flow_loss: 0.0423 - val_transformer_TSNRR: 33.1697 - val_transformer_dice_coef: 0.9967 - val_transformer_MSE: 5.2126e-07 - val_flow_TSNRR: 52.3991 - val_flow_dice_coef: 3.8153e-04 - val_flow_MSE: 0.1852 - 63s/epoch - 627ms/step\n",
            "Epoch 151/200\n",
            "\n",
            "Epoch 151: val_loss did not improve from -0.00222\n",
            "100/100 - 63s - loss: -9.0615e-01 - transformer_loss: -9.0615e-01 - flow_loss: 0.7014 - transformer_TSNRR: 17118.1543 - transformer_dice_coef: 0.0939 - transformer_MSE: 8.9662e-05 - flow_TSNRR: 57.9984 - flow_dice_coef: 0.0011 - flow_MSE: 0.5206 - val_loss: -2.2176e-03 - val_transformer_loss: -2.2176e-03 - val_flow_loss: 0.0575 - val_transformer_TSNRR: 31.0302 - val_transformer_dice_coef: 0.9967 - val_transformer_MSE: 4.7357e-07 - val_flow_TSNRR: 46.0027 - val_flow_dice_coef: 4.4058e-04 - val_flow_MSE: 0.1678 - 63s/epoch - 628ms/step\n",
            "Epoch 152/200\n",
            "\n",
            "Epoch 152: val_loss improved from -0.00222 to -0.00222, saving model to model.h5\n",
            "100/100 - 63s - loss: -9.0592e-01 - transformer_loss: -9.0592e-01 - flow_loss: 0.7007 - transformer_TSNRR: 16952.7734 - transformer_dice_coef: 0.0938 - transformer_MSE: 9.0014e-05 - flow_TSNRR: 57.9041 - flow_dice_coef: 0.0020 - flow_MSE: 0.5197 - val_loss: -2.2200e-03 - val_transformer_loss: -2.2200e-03 - val_flow_loss: 0.0573 - val_transformer_TSNRR: 29.7274 - val_transformer_dice_coef: 0.9967 - val_transformer_MSE: 4.5296e-07 - val_flow_TSNRR: 27.1274 - val_flow_dice_coef: 0.0010 - val_flow_MSE: 0.1092 - 63s/epoch - 630ms/step\n",
            "Epoch 153/200\n",
            "\n",
            "Epoch 153: val_loss did not improve from -0.00222\n",
            "100/100 - 63s - loss: -9.0590e-01 - transformer_loss: -9.0590e-01 - flow_loss: 0.7054 - transformer_TSNRR: 17076.9473 - transformer_dice_coef: 0.0939 - transformer_MSE: 9.0110e-05 - flow_TSNRR: 57.8130 - flow_dice_coef: 0.0011 - flow_MSE: 0.5247 - val_loss: -2.2185e-03 - val_transformer_loss: -2.2185e-03 - val_flow_loss: 0.0566 - val_transformer_TSNRR: 30.3975 - val_transformer_dice_coef: 0.9967 - val_transformer_MSE: 4.3408e-07 - val_flow_TSNRR: 42.9982 - val_flow_dice_coef: 5.0092e-04 - val_flow_MSE: 0.1565 - 63s/epoch - 627ms/step\n",
            "Epoch 154/200\n",
            "\n",
            "Epoch 154: val_loss did not improve from -0.00222\n",
            "100/100 - 62s - loss: -9.0572e-01 - transformer_loss: -9.0572e-01 - flow_loss: 0.7062 - transformer_TSNRR: 17056.7266 - transformer_dice_coef: 0.0939 - transformer_MSE: 9.0482e-05 - flow_TSNRR: 57.7803 - flow_dice_coef: 0.0012 - flow_MSE: 0.5250 - val_loss: -2.2196e-03 - val_transformer_loss: -2.2196e-03 - val_flow_loss: 0.0386 - val_transformer_TSNRR: 31.2342 - val_transformer_dice_coef: 0.9967 - val_transformer_MSE: 4.5074e-07 - val_flow_TSNRR: 49.5059 - val_flow_dice_coef: 4.1597e-04 - val_flow_MSE: 0.1692 - 62s/epoch - 625ms/step\n",
            "Epoch 155/200\n",
            "\n",
            "Epoch 155: val_loss improved from -0.00222 to -0.00222, saving model to model.h5\n",
            "100/100 - 63s - loss: -9.0703e-01 - transformer_loss: -9.0703e-01 - flow_loss: 0.7015 - transformer_TSNRR: 17170.7070 - transformer_dice_coef: 0.0939 - transformer_MSE: 8.8950e-05 - flow_TSNRR: 58.0143 - flow_dice_coef: 8.4498e-04 - flow_MSE: 0.5210 - val_loss: -2.2212e-03 - val_transformer_loss: -2.2212e-03 - val_flow_loss: 0.0554 - val_transformer_TSNRR: 33.6311 - val_transformer_dice_coef: 0.9967 - val_transformer_MSE: 4.3257e-07 - val_flow_TSNRR: 40.3654 - val_flow_dice_coef: 5.9078e-04 - val_flow_MSE: 0.1284 - 63s/epoch - 625ms/step\n",
            "Epoch 156/200\n",
            "\n",
            "Epoch 156: val_loss did not improve from -0.00222\n",
            "100/100 - 63s - loss: -9.0626e-01 - transformer_loss: -9.0626e-01 - flow_loss: 0.7040 - transformer_TSNRR: 16836.9746 - transformer_dice_coef: 0.0938 - transformer_MSE: 8.9530e-05 - flow_TSNRR: 58.0301 - flow_dice_coef: 0.0015 - flow_MSE: 0.5228 - val_loss: -2.2147e-03 - val_transformer_loss: -2.2147e-03 - val_flow_loss: 0.0382 - val_transformer_TSNRR: 31.0223 - val_transformer_dice_coef: 0.9967 - val_transformer_MSE: 4.7976e-07 - val_flow_TSNRR: 48.3651 - val_flow_dice_coef: 4.1356e-04 - val_flow_MSE: 0.1715 - 63s/epoch - 627ms/step\n",
            "Epoch 157/200\n",
            "\n",
            "Epoch 157: val_loss did not improve from -0.00222\n",
            "100/100 - 62s - loss: -9.0609e-01 - transformer_loss: -9.0609e-01 - flow_loss: 0.7057 - transformer_TSNRR: 16900.9844 - transformer_dice_coef: 0.0939 - transformer_MSE: 9.0132e-05 - flow_TSNRR: 58.1533 - flow_dice_coef: 9.5892e-04 - flow_MSE: 0.5243 - val_loss: -2.2195e-03 - val_transformer_loss: -2.2195e-03 - val_flow_loss: 0.0321 - val_transformer_TSNRR: 31.2659 - val_transformer_dice_coef: 0.9967 - val_transformer_MSE: 4.4558e-07 - val_flow_TSNRR: 51.4668 - val_flow_dice_coef: 4.2465e-04 - val_flow_MSE: 0.1453 - 62s/epoch - 624ms/step\n",
            "Epoch 158/200\n",
            "\n",
            "Epoch 158: val_loss did not improve from -0.00222\n",
            "100/100 - 62s - loss: -9.0690e-01 - transformer_loss: -9.0690e-01 - flow_loss: 0.7038 - transformer_TSNRR: 17030.4863 - transformer_dice_coef: 0.0939 - transformer_MSE: 8.9572e-05 - flow_TSNRR: 58.1354 - flow_dice_coef: 0.0014 - flow_MSE: 0.5219 - val_loss: -2.2207e-03 - val_transformer_loss: -2.2207e-03 - val_flow_loss: 0.0323 - val_transformer_TSNRR: 31.8656 - val_transformer_dice_coef: 0.9967 - val_transformer_MSE: 4.5032e-07 - val_flow_TSNRR: 50.7993 - val_flow_dice_coef: 4.0934e-04 - val_flow_MSE: 0.1611 - 62s/epoch - 624ms/step\n",
            "Epoch 159/200\n",
            "\n",
            "Epoch 159: val_loss did not improve from -0.00222\n",
            "100/100 - 62s - loss: -9.0691e-01 - transformer_loss: -9.0691e-01 - flow_loss: 0.7051 - transformer_TSNRR: 17057.9102 - transformer_dice_coef: 0.0939 - transformer_MSE: 8.9047e-05 - flow_TSNRR: 57.9833 - flow_dice_coef: 0.0024 - flow_MSE: 0.5232 - val_loss: -2.2211e-03 - val_transformer_loss: -2.2211e-03 - val_flow_loss: 0.0352 - val_transformer_TSNRR: 28.0383 - val_transformer_dice_coef: 0.9967 - val_transformer_MSE: 4.6520e-07 - val_flow_TSNRR: 49.1000 - val_flow_dice_coef: 4.2172e-04 - val_flow_MSE: 0.1566 - 62s/epoch - 622ms/step\n",
            "Epoch 160/200\n",
            "\n",
            "Epoch 160: val_loss improved from -0.00222 to -0.00222, saving model to model.h5\n",
            "100/100 - 63s - loss: -9.0704e-01 - transformer_loss: -9.0704e-01 - flow_loss: 0.7061 - transformer_TSNRR: 17092.3184 - transformer_dice_coef: 0.0939 - transformer_MSE: 8.9623e-05 - flow_TSNRR: 57.9374 - flow_dice_coef: 0.0013 - flow_MSE: 0.5243 - val_loss: -2.2239e-03 - val_transformer_loss: -2.2239e-03 - val_flow_loss: 0.0441 - val_transformer_TSNRR: 33.6890 - val_transformer_dice_coef: 0.9967 - val_transformer_MSE: 4.0417e-07 - val_flow_TSNRR: 51.2804 - val_flow_dice_coef: 3.8973e-04 - val_flow_MSE: 0.1771 - 63s/epoch - 628ms/step\n",
            "Epoch 161/200\n",
            "\n",
            "Epoch 161: val_loss did not improve from -0.00222\n",
            "100/100 - 63s - loss: -9.0692e-01 - transformer_loss: -9.0692e-01 - flow_loss: 0.7071 - transformer_TSNRR: 17084.1152 - transformer_dice_coef: 0.0939 - transformer_MSE: 8.9199e-05 - flow_TSNRR: 58.1811 - flow_dice_coef: 0.0012 - flow_MSE: 0.5251 - val_loss: -2.2205e-03 - val_transformer_loss: -2.2205e-03 - val_flow_loss: 0.0789 - val_transformer_TSNRR: 32.8345 - val_transformer_dice_coef: 0.9967 - val_transformer_MSE: 4.4555e-07 - val_flow_TSNRR: 34.7791 - val_flow_dice_coef: 3.3537e-04 - val_flow_MSE: 0.2535 - 63s/epoch - 630ms/step\n",
            "Epoch 162/200\n",
            "\n",
            "Epoch 162: val_loss did not improve from -0.00222\n",
            "100/100 - 63s - loss: -9.0697e-01 - transformer_loss: -9.0697e-01 - flow_loss: 0.7090 - transformer_TSNRR: 16967.6191 - transformer_dice_coef: 0.0939 - transformer_MSE: 8.9066e-05 - flow_TSNRR: 57.9815 - flow_dice_coef: 0.0012 - flow_MSE: 0.5269 - val_loss: -2.2227e-03 - val_transformer_loss: -2.2227e-03 - val_flow_loss: 0.0537 - val_transformer_TSNRR: 31.2686 - val_transformer_dice_coef: 0.9967 - val_transformer_MSE: 4.4660e-07 - val_flow_TSNRR: 37.5292 - val_flow_dice_coef: 6.8911e-04 - val_flow_MSE: 0.1142 - 63s/epoch - 629ms/step\n",
            "Epoch 163/200\n",
            "\n",
            "Epoch 163: val_loss did not improve from -0.00222\n",
            "100/100 - 63s - loss: -9.0705e-01 - transformer_loss: -9.0705e-01 - flow_loss: 0.7079 - transformer_TSNRR: 16889.5820 - transformer_dice_coef: 0.0939 - transformer_MSE: 8.9735e-05 - flow_TSNRR: 57.9008 - flow_dice_coef: 0.0014 - flow_MSE: 0.5262 - val_loss: -2.2182e-03 - val_transformer_loss: -2.2182e-03 - val_flow_loss: 0.0572 - val_transformer_TSNRR: 30.0680 - val_transformer_dice_coef: 0.9967 - val_transformer_MSE: 4.6576e-07 - val_flow_TSNRR: 42.1597 - val_flow_dice_coef: 5.6725e-04 - val_flow_MSE: 0.1323 - 63s/epoch - 628ms/step\n",
            "Epoch 164/200\n",
            "\n",
            "Epoch 164: val_loss improved from -0.00222 to -0.00222, saving model to model.h5\n",
            "100/100 - 63s - loss: -9.0770e-01 - transformer_loss: -9.0770e-01 - flow_loss: 0.7085 - transformer_TSNRR: 17137.7246 - transformer_dice_coef: 0.0938 - transformer_MSE: 8.8907e-05 - flow_TSNRR: 58.1463 - flow_dice_coef: 0.0012 - flow_MSE: 0.5255 - val_loss: -2.2245e-03 - val_transformer_loss: -2.2245e-03 - val_flow_loss: 0.0711 - val_transformer_TSNRR: 33.2089 - val_transformer_dice_coef: 0.9967 - val_transformer_MSE: 4.3697e-07 - val_flow_TSNRR: 27.7680 - val_flow_dice_coef: 7.0749e-04 - val_flow_MSE: 0.1629 - 63s/epoch - 632ms/step\n",
            "Epoch 165/200\n",
            "\n",
            "Epoch 165: val_loss did not improve from -0.00222\n",
            "100/100 - 63s - loss: -9.0830e-01 - transformer_loss: -9.0830e-01 - flow_loss: 0.7045 - transformer_TSNRR: 17114.1328 - transformer_dice_coef: 0.0938 - transformer_MSE: 8.8029e-05 - flow_TSNRR: 57.9430 - flow_dice_coef: 0.0013 - flow_MSE: 0.5220 - val_loss: -2.2236e-03 - val_transformer_loss: -2.2236e-03 - val_flow_loss: 0.0561 - val_transformer_TSNRR: 30.2993 - val_transformer_dice_coef: 0.9967 - val_transformer_MSE: 3.8588e-07 - val_flow_TSNRR: 42.2640 - val_flow_dice_coef: 5.4234e-04 - val_flow_MSE: 0.1403 - 63s/epoch - 627ms/step\n",
            "Epoch 166/200\n",
            "\n",
            "Epoch 166: val_loss did not improve from -0.00222\n",
            "100/100 - 63s - loss: -9.0790e-01 - transformer_loss: -9.0790e-01 - flow_loss: 0.7075 - transformer_TSNRR: 17222.1504 - transformer_dice_coef: 0.0939 - transformer_MSE: 8.8641e-05 - flow_TSNRR: 57.9356 - flow_dice_coef: 6.7383e-04 - flow_MSE: 0.5248 - val_loss: -2.2222e-03 - val_transformer_loss: -2.2222e-03 - val_flow_loss: 0.0658 - val_transformer_TSNRR: 33.9878 - val_transformer_dice_coef: 0.9967 - val_transformer_MSE: 4.0626e-07 - val_flow_TSNRR: 33.2026 - val_flow_dice_coef: 6.5015e-04 - val_flow_MSE: 0.1463 - 63s/epoch - 630ms/step\n",
            "Epoch 167/200\n",
            "\n",
            "Epoch 167: val_loss did not improve from -0.00222\n",
            "100/100 - 63s - loss: -9.0817e-01 - transformer_loss: -9.0817e-01 - flow_loss: 0.7066 - transformer_TSNRR: 17097.7656 - transformer_dice_coef: 0.0939 - transformer_MSE: 8.8213e-05 - flow_TSNRR: 58.0852 - flow_dice_coef: 0.0011 - flow_MSE: 0.5234 - val_loss: -2.2160e-03 - val_transformer_loss: -2.2160e-03 - val_flow_loss: 0.0641 - val_transformer_TSNRR: 35.3575 - val_transformer_dice_coef: 0.9967 - val_transformer_MSE: 4.2952e-07 - val_flow_TSNRR: 39.6691 - val_flow_dice_coef: 5.4392e-04 - val_flow_MSE: 0.1491 - 63s/epoch - 627ms/step\n",
            "Epoch 168/200\n",
            "\n",
            "Epoch 168: val_loss did not improve from -0.00222\n",
            "100/100 - 63s - loss: -9.0785e-01 - transformer_loss: -9.0785e-01 - flow_loss: 0.7086 - transformer_TSNRR: 17064.0352 - transformer_dice_coef: 0.0939 - transformer_MSE: 8.8985e-05 - flow_TSNRR: 58.0333 - flow_dice_coef: 9.0204e-04 - flow_MSE: 0.5251 - val_loss: -2.2225e-03 - val_transformer_loss: -2.2225e-03 - val_flow_loss: 0.0415 - val_transformer_TSNRR: 34.8933 - val_transformer_dice_coef: 0.9967 - val_transformer_MSE: 4.8840e-07 - val_flow_TSNRR: 44.4580 - val_flow_dice_coef: 6.5951e-04 - val_flow_MSE: 0.1026 - 63s/epoch - 627ms/step\n",
            "Epoch 169/200\n",
            "\n",
            "Epoch 169: val_loss did not improve from -0.00222\n",
            "100/100 - 63s - loss: -9.0816e-01 - transformer_loss: -9.0816e-01 - flow_loss: 0.7073 - transformer_TSNRR: 17069.2695 - transformer_dice_coef: 0.0939 - transformer_MSE: 8.8692e-05 - flow_TSNRR: 58.1342 - flow_dice_coef: 9.5372e-04 - flow_MSE: 0.5229 - val_loss: -2.2239e-03 - val_transformer_loss: -2.2239e-03 - val_flow_loss: 0.0498 - val_transformer_TSNRR: 28.7705 - val_transformer_dice_coef: 0.9967 - val_transformer_MSE: 4.3828e-07 - val_flow_TSNRR: 48.3519 - val_flow_dice_coef: 3.6944e-04 - val_flow_MSE: 0.2113 - 63s/epoch - 626ms/step\n",
            "Epoch 170/200\n",
            "\n",
            "Epoch 170: val_loss did not improve from -0.00222\n",
            "100/100 - 63s - loss: -9.0803e-01 - transformer_loss: -9.0803e-01 - flow_loss: 0.7095 - transformer_TSNRR: 17047.3047 - transformer_dice_coef: 0.0938 - transformer_MSE: 8.8919e-05 - flow_TSNRR: 58.0464 - flow_dice_coef: 0.0011 - flow_MSE: 0.5254 - val_loss: -2.2225e-03 - val_transformer_loss: -2.2225e-03 - val_flow_loss: 0.0682 - val_transformer_TSNRR: 32.9778 - val_transformer_dice_coef: 0.9967 - val_transformer_MSE: 4.3071e-07 - val_flow_TSNRR: 28.4564 - val_flow_dice_coef: 7.7363e-04 - val_flow_MSE: 0.1557 - 63s/epoch - 629ms/step\n",
            "Epoch 171/200\n",
            "\n",
            "Epoch 171: val_loss did not improve from -0.00222\n",
            "100/100 - 62s - loss: -9.0853e-01 - transformer_loss: -9.0853e-01 - flow_loss: 0.7088 - transformer_TSNRR: 17099.5078 - transformer_dice_coef: 0.0938 - transformer_MSE: 8.8254e-05 - flow_TSNRR: 57.9556 - flow_dice_coef: 0.0011 - flow_MSE: 0.5242 - val_loss: -2.2208e-03 - val_transformer_loss: -2.2208e-03 - val_flow_loss: 0.0393 - val_transformer_TSNRR: 30.9757 - val_transformer_dice_coef: 0.9967 - val_transformer_MSE: 4.2769e-07 - val_flow_TSNRR: 52.2034 - val_flow_dice_coef: 4.0750e-04 - val_flow_MSE: 0.1625 - 62s/epoch - 623ms/step\n",
            "Epoch 172/200\n",
            "\n",
            "Epoch 172: val_loss did not improve from -0.00222\n",
            "100/100 - 62s - loss: -9.0748e-01 - transformer_loss: -9.0748e-01 - flow_loss: 0.7115 - transformer_TSNRR: 16915.7363 - transformer_dice_coef: 0.0938 - transformer_MSE: 8.9072e-05 - flow_TSNRR: 58.0179 - flow_dice_coef: 0.0013 - flow_MSE: 0.5277 - val_loss: -2.2222e-03 - val_transformer_loss: -2.2222e-03 - val_flow_loss: 0.0600 - val_transformer_TSNRR: 35.9855 - val_transformer_dice_coef: 0.9967 - val_transformer_MSE: 4.2065e-07 - val_flow_TSNRR: 43.9307 - val_flow_dice_coef: 4.8433e-04 - val_flow_MSE: 0.1565 - 62s/epoch - 625ms/step\n",
            "Epoch 173/200\n",
            "\n",
            "Epoch 173: val_loss did not improve from -0.00222\n",
            "100/100 - 62s - loss: -9.0879e-01 - transformer_loss: -9.0879e-01 - flow_loss: 0.7109 - transformer_TSNRR: 17123.8203 - transformer_dice_coef: 0.0939 - transformer_MSE: 8.8291e-05 - flow_TSNRR: 58.2615 - flow_dice_coef: 0.0012 - flow_MSE: 0.5274 - val_loss: -2.2193e-03 - val_transformer_loss: -2.2193e-03 - val_flow_loss: 0.0409 - val_transformer_TSNRR: 30.6033 - val_transformer_dice_coef: 0.9967 - val_transformer_MSE: 4.5190e-07 - val_flow_TSNRR: 27.2806 - val_flow_dice_coef: 0.0012 - val_flow_MSE: 0.0808 - 62s/epoch - 624ms/step\n",
            "Epoch 174/200\n",
            "\n",
            "Epoch 174: val_loss did not improve from -0.00222\n",
            "100/100 - 63s - loss: -9.0884e-01 - transformer_loss: -9.0884e-01 - flow_loss: 0.7100 - transformer_TSNRR: 17095.1055 - transformer_dice_coef: 0.0938 - transformer_MSE: 8.7795e-05 - flow_TSNRR: 58.0760 - flow_dice_coef: 7.8478e-04 - flow_MSE: 0.5264 - val_loss: -2.2218e-03 - val_transformer_loss: -2.2218e-03 - val_flow_loss: 0.0445 - val_transformer_TSNRR: 32.2648 - val_transformer_dice_coef: 0.9967 - val_transformer_MSE: 4.3062e-07 - val_flow_TSNRR: 47.5177 - val_flow_dice_coef: 4.1951e-04 - val_flow_MSE: 0.1756 - 63s/epoch - 625ms/step\n",
            "Epoch 175/200\n",
            "\n",
            "Epoch 175: val_loss did not improve from -0.00222\n",
            "100/100 - 62s - loss: -9.0908e-01 - transformer_loss: -9.0908e-01 - flow_loss: 0.7073 - transformer_TSNRR: 17229.3027 - transformer_dice_coef: 0.0939 - transformer_MSE: 8.7513e-05 - flow_TSNRR: 58.0187 - flow_dice_coef: 0.0012 - flow_MSE: 0.5220 - val_loss: -2.2218e-03 - val_transformer_loss: -2.2218e-03 - val_flow_loss: 0.0396 - val_transformer_TSNRR: 33.4760 - val_transformer_dice_coef: 0.9967 - val_transformer_MSE: 4.2361e-07 - val_flow_TSNRR: 47.0735 - val_flow_dice_coef: 4.1688e-04 - val_flow_MSE: 0.1754 - 62s/epoch - 623ms/step\n",
            "Epoch 176/200\n",
            "\n",
            "Epoch 176: val_loss did not improve from -0.00222\n",
            "100/100 - 63s - loss: -9.0902e-01 - transformer_loss: -9.0902e-01 - flow_loss: 0.7103 - transformer_TSNRR: 17183.3301 - transformer_dice_coef: 0.0938 - transformer_MSE: 8.8643e-05 - flow_TSNRR: 58.0814 - flow_dice_coef: 0.0012 - flow_MSE: 0.5256 - val_loss: -2.2213e-03 - val_transformer_loss: -2.2213e-03 - val_flow_loss: 0.0371 - val_transformer_TSNRR: 31.9065 - val_transformer_dice_coef: 0.9967 - val_transformer_MSE: 4.3526e-07 - val_flow_TSNRR: 53.3845 - val_flow_dice_coef: 4.2622e-04 - val_flow_MSE: 0.1526 - 63s/epoch - 626ms/step\n",
            "Epoch 177/200\n",
            "\n",
            "Epoch 177: val_loss did not improve from -0.00222\n",
            "100/100 - 63s - loss: -9.0891e-01 - transformer_loss: -9.0891e-01 - flow_loss: 0.7122 - transformer_TSNRR: 17127.9082 - transformer_dice_coef: 0.0938 - transformer_MSE: 8.8654e-05 - flow_TSNRR: 58.0197 - flow_dice_coef: 9.2777e-04 - flow_MSE: 0.5278 - val_loss: -2.2194e-03 - val_transformer_loss: -2.2194e-03 - val_flow_loss: 0.0424 - val_transformer_TSNRR: 29.4504 - val_transformer_dice_coef: 0.9967 - val_transformer_MSE: 4.3462e-07 - val_flow_TSNRR: 46.3465 - val_flow_dice_coef: 5.3334e-04 - val_flow_MSE: 0.1444 - 63s/epoch - 630ms/step\n",
            "Epoch 178/200\n",
            "\n",
            "Epoch 178: val_loss did not improve from -0.00222\n",
            "100/100 - 63s - loss: -9.0929e-01 - transformer_loss: -9.0929e-01 - flow_loss: 0.7098 - transformer_TSNRR: 17162.5605 - transformer_dice_coef: 0.0938 - transformer_MSE: 8.7901e-05 - flow_TSNRR: 57.8909 - flow_dice_coef: 0.0012 - flow_MSE: 0.5246 - val_loss: -2.2231e-03 - val_transformer_loss: -2.2231e-03 - val_flow_loss: 0.0739 - val_transformer_TSNRR: 29.9156 - val_transformer_dice_coef: 0.9967 - val_transformer_MSE: 4.4415e-07 - val_flow_TSNRR: 38.1720 - val_flow_dice_coef: 3.7942e-04 - val_flow_MSE: 0.2497 - 63s/epoch - 629ms/step\n",
            "Epoch 179/200\n",
            "\n",
            "Epoch 179: val_loss did not improve from -0.00222\n",
            "100/100 - 63s - loss: -9.0919e-01 - transformer_loss: -9.0919e-01 - flow_loss: 0.7115 - transformer_TSNRR: 17111.0020 - transformer_dice_coef: 0.0939 - transformer_MSE: 8.8470e-05 - flow_TSNRR: 58.0624 - flow_dice_coef: 0.0013 - flow_MSE: 0.5264 - val_loss: -2.2242e-03 - val_transformer_loss: -2.2242e-03 - val_flow_loss: 0.0676 - val_transformer_TSNRR: 30.2081 - val_transformer_dice_coef: 0.9967 - val_transformer_MSE: 4.3876e-07 - val_flow_TSNRR: 30.3081 - val_flow_dice_coef: 7.7282e-04 - val_flow_MSE: 0.1240 - 63s/epoch - 630ms/step\n",
            "Epoch 180/200\n",
            "\n",
            "Epoch 180: val_loss did not improve from -0.00222\n",
            "100/100 - 63s - loss: -9.0925e-01 - transformer_loss: -9.0925e-01 - flow_loss: 0.7121 - transformer_TSNRR: 17304.5586 - transformer_dice_coef: 0.0939 - transformer_MSE: 8.8193e-05 - flow_TSNRR: 58.1232 - flow_dice_coef: 0.1713 - flow_MSE: 0.5270 - val_loss: -2.2218e-03 - val_transformer_loss: -2.2218e-03 - val_flow_loss: 0.0469 - val_transformer_TSNRR: 31.1739 - val_transformer_dice_coef: 0.9967 - val_transformer_MSE: 5.1404e-07 - val_flow_TSNRR: 40.8932 - val_flow_dice_coef: 5.4242e-04 - val_flow_MSE: 0.1329 - 63s/epoch - 633ms/step\n",
            "Epoch 181/200\n",
            "\n",
            "Epoch 181: val_loss improved from -0.00222 to -0.00223, saving model to model.h5\n",
            "100/100 - 63s - loss: -9.0888e-01 - transformer_loss: -9.0888e-01 - flow_loss: 0.7126 - transformer_TSNRR: 17051.2539 - transformer_dice_coef: 0.0938 - transformer_MSE: 8.8320e-05 - flow_TSNRR: 58.0782 - flow_dice_coef: 0.0012 - flow_MSE: 0.5271 - val_loss: -2.2250e-03 - val_transformer_loss: -2.2250e-03 - val_flow_loss: 0.0526 - val_transformer_TSNRR: 30.0718 - val_transformer_dice_coef: 0.9967 - val_transformer_MSE: 4.3745e-07 - val_flow_TSNRR: 49.4480 - val_flow_dice_coef: 3.2565e-04 - val_flow_MSE: 0.2443 - 63s/epoch - 632ms/step\n",
            "Epoch 182/200\n",
            "\n",
            "Epoch 182: val_loss improved from -0.00223 to -0.00223, saving model to model.h5\n",
            "100/100 - 63s - loss: -9.0896e-01 - transformer_loss: -9.0896e-01 - flow_loss: 0.7148 - transformer_TSNRR: 17153.3809 - transformer_dice_coef: 0.0938 - transformer_MSE: 8.8925e-05 - flow_TSNRR: 58.4248 - flow_dice_coef: 0.0010 - flow_MSE: 0.5293 - val_loss: -2.2269e-03 - val_transformer_loss: -2.2269e-03 - val_flow_loss: 0.0642 - val_transformer_TSNRR: 33.4917 - val_transformer_dice_coef: 0.9967 - val_transformer_MSE: 4.2833e-07 - val_flow_TSNRR: 30.6028 - val_flow_dice_coef: 7.7522e-04 - val_flow_MSE: 0.1293 - 63s/epoch - 629ms/step\n",
            "Epoch 183/200\n",
            "\n",
            "Epoch 183: val_loss improved from -0.00223 to -0.00223, saving model to model.h5\n",
            "100/100 - 63s - loss: -9.0925e-01 - transformer_loss: -9.0925e-01 - flow_loss: 0.7129 - transformer_TSNRR: 17306.6816 - transformer_dice_coef: 0.0939 - transformer_MSE: 8.8401e-05 - flow_TSNRR: 57.9940 - flow_dice_coef: 0.0012 - flow_MSE: 0.5260 - val_loss: -2.2276e-03 - val_transformer_loss: -2.2276e-03 - val_flow_loss: 0.0412 - val_transformer_TSNRR: 35.4853 - val_transformer_dice_coef: 0.9967 - val_transformer_MSE: 4.4670e-07 - val_flow_TSNRR: 39.6638 - val_flow_dice_coef: 7.9449e-04 - val_flow_MSE: 0.0834 - 63s/epoch - 629ms/step\n",
            "Epoch 184/200\n",
            "\n",
            "Epoch 184: val_loss did not improve from -0.00223\n",
            "100/100 - 63s - loss: -9.1009e-01 - transformer_loss: -9.1009e-01 - flow_loss: 0.7124 - transformer_TSNRR: 17273.9199 - transformer_dice_coef: 0.0939 - transformer_MSE: 8.7767e-05 - flow_TSNRR: 58.3485 - flow_dice_coef: 8.0372e-04 - flow_MSE: 0.5267 - val_loss: -2.2235e-03 - val_transformer_loss: -2.2235e-03 - val_flow_loss: 0.0686 - val_transformer_TSNRR: 28.7238 - val_transformer_dice_coef: 0.9967 - val_transformer_MSE: 5.3006e-07 - val_flow_TSNRR: 24.6576 - val_flow_dice_coef: 8.1875e-04 - val_flow_MSE: 0.2516 - 63s/epoch - 628ms/step\n",
            "Epoch 185/200\n",
            "\n",
            "Epoch 185: val_loss did not improve from -0.00223\n",
            "100/100 - 63s - loss: -9.1010e-01 - transformer_loss: -9.1010e-01 - flow_loss: 0.7134 - transformer_TSNRR: 17145.3906 - transformer_dice_coef: 0.0939 - transformer_MSE: 8.7375e-05 - flow_TSNRR: 58.1532 - flow_dice_coef: 0.0011 - flow_MSE: 0.5281 - val_loss: -2.2092e-03 - val_transformer_loss: -2.2092e-03 - val_flow_loss: 0.0497 - val_transformer_TSNRR: 31.5999 - val_transformer_dice_coef: 0.9967 - val_transformer_MSE: 4.6309e-07 - val_flow_TSNRR: 6.2722 - val_flow_dice_coef: 0.0113 - val_flow_MSE: 0.0946 - 63s/epoch - 629ms/step\n",
            "Epoch 186/200\n",
            "\n",
            "Epoch 186: val_loss did not improve from -0.00223\n",
            "100/100 - 62s - loss: -9.0992e-01 - transformer_loss: -9.0992e-01 - flow_loss: 0.7121 - transformer_TSNRR: 17190.0977 - transformer_dice_coef: 0.0938 - transformer_MSE: 8.7624e-05 - flow_TSNRR: 57.6283 - flow_dice_coef: 0.0023 - flow_MSE: 0.5253 - val_loss: -2.2256e-03 - val_transformer_loss: -2.2256e-03 - val_flow_loss: 0.0423 - val_transformer_TSNRR: 29.8511 - val_transformer_dice_coef: 0.9967 - val_transformer_MSE: 4.2118e-07 - val_flow_TSNRR: 47.9620 - val_flow_dice_coef: 5.0255e-04 - val_flow_MSE: 0.1218 - 62s/epoch - 624ms/step\n",
            "Epoch 187/200\n",
            "\n",
            "Epoch 187: val_loss did not improve from -0.00223\n",
            "100/100 - 62s - loss: -9.1012e-01 - transformer_loss: -9.1012e-01 - flow_loss: 0.7130 - transformer_TSNRR: 17243.8320 - transformer_dice_coef: 0.0939 - transformer_MSE: 8.7325e-05 - flow_TSNRR: 58.2439 - flow_dice_coef: 0.0011 - flow_MSE: 0.5268 - val_loss: -2.2249e-03 - val_transformer_loss: -2.2249e-03 - val_flow_loss: 0.0357 - val_transformer_TSNRR: 31.8158 - val_transformer_dice_coef: 0.9967 - val_transformer_MSE: 4.5271e-07 - val_flow_TSNRR: 49.2895 - val_flow_dice_coef: 3.6390e-04 - val_flow_MSE: 0.1632 - 62s/epoch - 621ms/step\n",
            "Epoch 188/200\n",
            "\n",
            "Epoch 188: val_loss did not improve from -0.00223\n",
            "100/100 - 63s - loss: -9.0988e-01 - transformer_loss: -9.0988e-01 - flow_loss: 0.7154 - transformer_TSNRR: 17219.6094 - transformer_dice_coef: 0.0939 - transformer_MSE: 8.7783e-05 - flow_TSNRR: 58.0087 - flow_dice_coef: 7.1064e-04 - flow_MSE: 0.5292 - val_loss: -2.2268e-03 - val_transformer_loss: -2.2268e-03 - val_flow_loss: 0.0506 - val_transformer_TSNRR: 27.7013 - val_transformer_dice_coef: 0.9967 - val_transformer_MSE: 4.3849e-07 - val_flow_TSNRR: 37.2040 - val_flow_dice_coef: 4.8661e-04 - val_flow_MSE: 0.1644 - 63s/epoch - 628ms/step\n",
            "Epoch 189/200\n",
            "\n",
            "Epoch 189: val_loss did not improve from -0.00223\n",
            "100/100 - 62s - loss: -9.0940e-01 - transformer_loss: -9.0940e-01 - flow_loss: 0.7145 - transformer_TSNRR: 17263.8906 - transformer_dice_coef: 0.0939 - transformer_MSE: 8.8029e-05 - flow_TSNRR: 58.0217 - flow_dice_coef: 0.0015 - flow_MSE: 0.5271 - val_loss: -2.2265e-03 - val_transformer_loss: -2.2265e-03 - val_flow_loss: 0.0409 - val_transformer_TSNRR: 30.8103 - val_transformer_dice_coef: 0.9967 - val_transformer_MSE: 4.2709e-07 - val_flow_TSNRR: 44.9752 - val_flow_dice_coef: 5.4056e-04 - val_flow_MSE: 0.1153 - 62s/epoch - 622ms/step\n",
            "Epoch 190/200\n",
            "\n",
            "Epoch 190: val_loss did not improve from -0.00223\n",
            "100/100 - 62s - loss: -9.1020e-01 - transformer_loss: -9.1020e-01 - flow_loss: 0.7120 - transformer_TSNRR: 17295.4570 - transformer_dice_coef: 0.0938 - transformer_MSE: 8.7637e-05 - flow_TSNRR: 58.1540 - flow_dice_coef: 0.0011 - flow_MSE: 0.5255 - val_loss: -2.2253e-03 - val_transformer_loss: -2.2253e-03 - val_flow_loss: 0.0454 - val_transformer_TSNRR: 30.6930 - val_transformer_dice_coef: 0.9967 - val_transformer_MSE: 4.1751e-07 - val_flow_TSNRR: 47.5266 - val_flow_dice_coef: 5.0626e-04 - val_flow_MSE: 0.1293 - 62s/epoch - 621ms/step\n",
            "Epoch 191/200\n",
            "\n",
            "Epoch 191: val_loss improved from -0.00223 to -0.00223, saving model to model.h5\n",
            "100/100 - 62s - loss: -9.0915e-01 - transformer_loss: -9.0915e-01 - flow_loss: 0.7156 - transformer_TSNRR: 16954.5039 - transformer_dice_coef: 0.0939 - transformer_MSE: 8.8355e-05 - flow_TSNRR: 57.9614 - flow_dice_coef: 0.0010 - flow_MSE: 0.5287 - val_loss: -2.2277e-03 - val_transformer_loss: -2.2277e-03 - val_flow_loss: 0.0529 - val_transformer_TSNRR: 33.3243 - val_transformer_dice_coef: 0.9967 - val_transformer_MSE: 4.2817e-07 - val_flow_TSNRR: 40.3860 - val_flow_dice_coef: 5.6673e-04 - val_flow_MSE: 0.1312 - 62s/epoch - 622ms/step\n",
            "Epoch 192/200\n",
            "\n",
            "Epoch 192: val_loss did not improve from -0.00223\n",
            "100/100 - 63s - loss: -9.1092e-01 - transformer_loss: -9.1092e-01 - flow_loss: 0.7124 - transformer_TSNRR: 17266.2949 - transformer_dice_coef: 0.0938 - transformer_MSE: 8.7220e-05 - flow_TSNRR: 58.5491 - flow_dice_coef: 0.0014 - flow_MSE: 0.5256 - val_loss: -2.2277e-03 - val_transformer_loss: -2.2277e-03 - val_flow_loss: 0.0708 - val_transformer_TSNRR: 31.8320 - val_transformer_dice_coef: 0.9967 - val_transformer_MSE: 4.1546e-07 - val_flow_TSNRR: 23.4372 - val_flow_dice_coef: 9.8063e-04 - val_flow_MSE: 0.1162 - 63s/epoch - 626ms/step\n",
            "Epoch 193/200\n",
            "\n",
            "Epoch 193: val_loss did not improve from -0.00223\n",
            "100/100 - 62s - loss: -9.1010e-01 - transformer_loss: -9.1010e-01 - flow_loss: 0.7154 - transformer_TSNRR: 17268.6094 - transformer_dice_coef: 0.0938 - transformer_MSE: 8.7636e-05 - flow_TSNRR: 58.2845 - flow_dice_coef: 0.0013 - flow_MSE: 0.5277 - val_loss: -2.2270e-03 - val_transformer_loss: -2.2270e-03 - val_flow_loss: 0.0563 - val_transformer_TSNRR: 32.1624 - val_transformer_dice_coef: 0.9967 - val_transformer_MSE: 4.1918e-07 - val_flow_TSNRR: 40.5991 - val_flow_dice_coef: 6.1313e-04 - val_flow_MSE: 0.1202 - 62s/epoch - 624ms/step\n",
            "Epoch 194/200\n",
            "\n",
            "Epoch 194: val_loss did not improve from -0.00223\n",
            "100/100 - 62s - loss: -9.1000e-01 - transformer_loss: -9.1000e-01 - flow_loss: 0.7208 - transformer_TSNRR: 17164.7793 - transformer_dice_coef: 0.0938 - transformer_MSE: 8.7672e-05 - flow_TSNRR: 58.0767 - flow_dice_coef: 0.0011 - flow_MSE: 0.5340 - val_loss: -2.2226e-03 - val_transformer_loss: -2.2226e-03 - val_flow_loss: 0.0662 - val_transformer_TSNRR: 30.9950 - val_transformer_dice_coef: 0.9967 - val_transformer_MSE: 4.3280e-07 - val_flow_TSNRR: 32.1737 - val_flow_dice_coef: 6.4383e-04 - val_flow_MSE: 0.1604 - 62s/epoch - 623ms/step\n",
            "Epoch 195/200\n",
            "\n",
            "Epoch 195: val_loss improved from -0.00223 to -0.00223, saving model to model.h5\n",
            "100/100 - 62s - loss: -9.1069e-01 - transformer_loss: -9.1069e-01 - flow_loss: 0.7146 - transformer_TSNRR: 17314.7188 - transformer_dice_coef: 0.0939 - transformer_MSE: 8.6760e-05 - flow_TSNRR: 58.2781 - flow_dice_coef: 7.6957e-04 - flow_MSE: 0.5269 - val_loss: -2.2297e-03 - val_transformer_loss: -2.2297e-03 - val_flow_loss: 0.0737 - val_transformer_TSNRR: 34.2196 - val_transformer_dice_coef: 0.9967 - val_transformer_MSE: 4.1553e-07 - val_flow_TSNRR: 21.6211 - val_flow_dice_coef: 8.0988e-04 - val_flow_MSE: 0.1528 - 62s/epoch - 620ms/step\n",
            "Epoch 196/200\n",
            "\n",
            "Epoch 196: val_loss did not improve from -0.00223\n",
            "100/100 - 62s - loss: -9.0977e-01 - transformer_loss: -9.0977e-01 - flow_loss: 0.7145 - transformer_TSNRR: 17309.3770 - transformer_dice_coef: 0.0939 - transformer_MSE: 8.7639e-05 - flow_TSNRR: 58.4729 - flow_dice_coef: 0.0014 - flow_MSE: 0.5265 - val_loss: -2.2274e-03 - val_transformer_loss: -2.2274e-03 - val_flow_loss: 0.0758 - val_transformer_TSNRR: 31.8158 - val_transformer_dice_coef: 0.9967 - val_transformer_MSE: 4.3736e-07 - val_flow_TSNRR: 30.1501 - val_flow_dice_coef: 6.3624e-04 - val_flow_MSE: 0.1664 - 62s/epoch - 622ms/step\n",
            "Epoch 197/200\n",
            "\n",
            "Epoch 197: val_loss did not improve from -0.00223\n",
            "100/100 - 62s - loss: -9.1101e-01 - transformer_loss: -9.1101e-01 - flow_loss: 0.7150 - transformer_TSNRR: 17206.3730 - transformer_dice_coef: 0.0938 - transformer_MSE: 8.7146e-05 - flow_TSNRR: 58.2121 - flow_dice_coef: 0.0012 - flow_MSE: 0.5269 - val_loss: -2.2263e-03 - val_transformer_loss: -2.2263e-03 - val_flow_loss: 0.0699 - val_transformer_TSNRR: 30.6826 - val_transformer_dice_coef: 0.9967 - val_transformer_MSE: 4.2525e-07 - val_flow_TSNRR: 40.3630 - val_flow_dice_coef: 4.8393e-04 - val_flow_MSE: 0.1740 - 62s/epoch - 624ms/step\n",
            "Epoch 198/200\n",
            "\n",
            "Epoch 198: val_loss did not improve from -0.00223\n",
            "100/100 - 62s - loss: -9.1025e-01 - transformer_loss: -9.1025e-01 - flow_loss: 0.7153 - transformer_TSNRR: 17348.7930 - transformer_dice_coef: 0.0938 - transformer_MSE: 8.7071e-05 - flow_TSNRR: 58.4758 - flow_dice_coef: 0.0018 - flow_MSE: 0.5276 - val_loss: -2.2220e-03 - val_transformer_loss: -2.2220e-03 - val_flow_loss: 0.0624 - val_transformer_TSNRR: 41.6634 - val_transformer_dice_coef: 0.9967 - val_transformer_MSE: 4.9414e-07 - val_flow_TSNRR: 31.6777 - val_flow_dice_coef: 6.6801e-04 - val_flow_MSE: 0.1403 - 62s/epoch - 621ms/step\n",
            "Epoch 199/200\n",
            "\n",
            "Epoch 199: val_loss did not improve from -0.00223\n",
            "100/100 - 62s - loss: -9.1058e-01 - transformer_loss: -9.1058e-01 - flow_loss: 0.7173 - transformer_TSNRR: 17280.8086 - transformer_dice_coef: 0.0938 - transformer_MSE: 8.7322e-05 - flow_TSNRR: 58.2327 - flow_dice_coef: 0.0011 - flow_MSE: 0.5301 - val_loss: -2.2280e-03 - val_transformer_loss: -2.2280e-03 - val_flow_loss: 0.0890 - val_transformer_TSNRR: 29.8188 - val_transformer_dice_coef: 0.9967 - val_transformer_MSE: 4.0202e-07 - val_flow_TSNRR: 35.4663 - val_flow_dice_coef: 5.2799e-04 - val_flow_MSE: 0.1920 - 62s/epoch - 624ms/step\n",
            "Epoch 200/200\n",
            "\n",
            "Epoch 200: val_loss did not improve from -0.00223\n",
            "100/100 - 63s - loss: -9.1081e-01 - transformer_loss: -9.1081e-01 - flow_loss: 0.7180 - transformer_TSNRR: 17281.7051 - transformer_dice_coef: 0.0938 - transformer_MSE: 8.7428e-05 - flow_TSNRR: 58.1749 - flow_dice_coef: 0.0011 - flow_MSE: 0.5303 - val_loss: -2.2272e-03 - val_transformer_loss: -2.2272e-03 - val_flow_loss: 0.1015 - val_transformer_TSNRR: 33.8116 - val_transformer_dice_coef: 0.9967 - val_transformer_MSE: 4.6136e-07 - val_flow_TSNRR: 16.8983 - val_flow_dice_coef: 9.2048e-04 - val_flow_MSE: 0.1774 - 63s/epoch - 626ms/step\n",
            "Training Time:12682.018418550491s\n"
          ]
        }
      ],
      "source": [
        "nb_epochs =200\n",
        "steps_per_epoch =100\n",
        "import time\n",
        "start=time.time()\n",
        "hist = vxm_model.fit(train_generator,\n",
        "                               epochs=nb_epochs,\n",
        "                               steps_per_epoch=steps_per_epoch,\n",
        "                               verbose=2,\n",
        "                               callbacks=[checkpoint],\n",
        "                               validation_data=v_generator\n",
        "                               #val_step=5\n",
        "                    );\n",
        "stop=time.time()\n",
        "print(f\"Training Time:{stop-start}s\")"
      ]
    },
    {
      "cell_type": "code",
      "source": [
        "plt.plot(history['val_transformer_TSNRR'])"
      ],
      "metadata": {
        "id": "6YNxp-lT59Md",
        "outputId": "a07f68c5-4b52-4501-e0b2-29f48269f5ad",
        "colab": {
          "base_uri": "https://localhost:8080/",
          "height": 282
        }
      },
      "execution_count": 10,
      "outputs": [
        {
          "output_type": "execute_result",
          "data": {
            "text/plain": [
              "[<matplotlib.lines.Line2D at 0x7f4ddf8b9bd0>]"
            ]
          },
          "metadata": {},
          "execution_count": 10
        },
        {
          "output_type": "display_data",
          "data": {
            "text/plain": [
              "<Figure size 432x288 with 1 Axes>"
            ],
            "image/png": "[encoded data removed]"
          },
          "metadata": {
            "needs_background": "light"
          }
        }
      ]
    },
    {
      "cell_type": "code",
      "source": [
        "plt.plot(history['val_transformer_dice_coef'])"
      ],
      "metadata": {
        "id": "ww-QECUd-x69",
        "outputId": "185a6907-2f38-4ff3-87b5-a635b1d37032",
        "colab": {
          "base_uri": "https://localhost:8080/",
          "height": 282
        }
      },
      "execution_count": 11,
      "outputs": [
        {
          "output_type": "execute_result",
          "data": {
            "text/plain": [
              "[<matplotlib.lines.Line2D at 0x7f4ddf3092d0>]"
            ]
          },
          "metadata": {},
          "execution_count": 11
        },
        {
          "output_type": "display_data",
          "data": {
            "text/plain": [
              "<Figure size 432x288 with 1 Axes>"
            ],
            "image/png": "[encoded data removed]"
          },
          "metadata": {
            "needs_background": "light"
          }
        }
      ]
    },
    {
      "cell_type": "code",
      "source": [
        "plt.plot(history['val_transformer_MSE'])"
      ],
      "metadata": {
        "id": "SIAIw44AE8DA",
        "outputId": "c9c86273-42cb-4ed3-9336-bf5046e87b06",
        "colab": {
          "base_uri": "https://localhost:8080/",
          "height": 294
        }
      },
      "execution_count": 12,
      "outputs": [
        {
          "output_type": "execute_result",
          "data": {
            "text/plain": [
              "[<matplotlib.lines.Line2D at 0x7f4ddf293650>]"
            ]
          },
          "metadata": {},
          "execution_count": 12
        },
        {
          "output_type": "display_data",
          "data": {
            "text/plain": [
              "<Figure size 432x288 with 1 Axes>"
            ],
            "image/png": "[encoded data removed]"
          },
          "metadata": {
            "needs_background": "light"
          }
        }
      ]
    },
    {
      "cell_type": "code",
      "source": [
        "plt.plot(history['transformer_TSNRR'])"
      ],
      "metadata": {
        "id": "hYa2YFi7A_Gb",
        "outputId": "294245dd-8f0b-4250-b7be-454e4e4c3879",
        "colab": {
          "base_uri": "https://localhost:8080/",
          "height": 282
        }
      },
      "execution_count": 8,
      "outputs": [
        {
          "output_type": "execute_result",
          "data": {
            "text/plain": [
              "[<matplotlib.lines.Line2D at 0x7fd4837bc350>]"
            ]
          },
          "metadata": {},
          "execution_count": 8
        },
        {
          "output_type": "display_data",
          "data": {
            "text/plain": [
              "<Figure size 432x288 with 1 Axes>"
            ],
            "image/png": "[encoded data removed]"
          },
          "metadata": {
            "needs_background": "light"
          }
        }
      ]
    },
    {
      "cell_type": "code",
      "execution_count": 25,
      "metadata": {
        "id": "9TpdYEVf0Tas"
      },
      "outputs": [],
      "source": [
        "vxm_model.save(\"/content/drive/MyDrive/final/new/NCC_la0.01_T1_model.h5\")"
      ]
    },
    {
      "cell_type": "markdown",
      "source": [
        ""
      ],
      "metadata": {
        "id": "Df6kx0BDLEWQ"
      }
    },
    {
      "cell_type": "code",
      "source": [
        "vxm_model.save_weights(\"/content/drive/MyDrive/data/final/NCC_la0.01_T1_weight1.h5\")"
      ],
      "metadata": {
        "id": "-jgJrCcGdfei"
      },
      "execution_count": 26,
      "outputs": []
    },
    {
      "cell_type": "code",
      "source": [
        "import pickle"
      ],
      "metadata": {
        "id": "QpCyFLYxYxG0"
      },
      "execution_count": 4,
      "outputs": []
    },
    {
      "cell_type": "code",
      "source": [
        "with open('/content/drive/MyDrive/data/final/C0.011_T1', 'wb') as file_pi:\n",
        "     pickle.dump(hist.history, file_pi)"
      ],
      "metadata": {
        "id": "os3ZIIP7uoI7"
      },
      "execution_count": 28,
      "outputs": []
    },
    {
      "cell_type": "code",
      "source": [
        "history = pickle.load(open('/content/drive/MyDrive/data/final/C0.011_T1', \"rb\"))"
      ],
      "metadata": {
        "id": "tjdgEQ9iZK9a"
      },
      "execution_count": 5,
      "outputs": []
    },
    {
      "cell_type": "code",
      "execution_count": null,
      "metadata": {
        "id": "flVUoksh0Tat"
      },
      "outputs": [],
      "source": [
        "def plot_history(hist, loss_name='loss'):\n",
        "    # Simple function to plot training history.\n",
        "    plt.figure()\n",
        "    plt.plot(hist.epoch, hist.history[loss_name], '.-')\n",
        "    plt.ylabel('loss')\n",
        "    plt.xlabel('epoch')\n",
        "    plt.show()\n"
      ]
    },
    {
      "cell_type": "code",
      "execution_count": null,
      "metadata": {
        "id": "M_Navfe80Tat"
      },
      "outputs": [],
      "source": [
        "print(history.history.keys())"
      ]
    },
    {
      "cell_type": "code",
      "execution_count": null,
      "metadata": {
        "id": "GyidT-ng0Tau",
        "outputId": "5df308d6-395e-4867-d28c-f41ee478e353",
        "colab": {
          "base_uri": "https://localhost:8080/",
          "height": 283
        }
      },
      "outputs": [
        {
          "output_type": "display_data",
          "data": {
            "image/png": "[encoded data removed]",
            "text/plain": [
              "<Figure size 432x288 with 1 Axes>"
            ]
          },
          "metadata": {
            "needs_background": "light"
          }
        }
      ],
      "source": [
        "plot_history(hist)"
      ]
    },
    {
      "cell_type": "code",
      "source": [
        "import matplotlib.pyplot as plt\n"
      ],
      "metadata": {
        "id": "l-G0TRPI17-J"
      },
      "execution_count": null,
      "outputs": []
    },
    {
      "cell_type": "code",
      "source": [
        "d='/content/drive/MyDrive/data/final/C01_MAE'\n",
        "d1='/content/drive/MyDrive/data/final/M01_MAE'\n",
        "\n",
        "history = pickle.load(open(d, \"rb\"))\n",
        "history1 = pickle.load(open(d1, \"rb\"))\n"
      ],
      "metadata": {
        "id": "YJQnUY5_ykdF"
      },
      "execution_count": null,
      "outputs": []
    },
    {
      "cell_type": "code",
      "source": [
        "d2='/content/drive/MyDrive/data/final/C01_TSNR'\n",
        "d3='/content/drive/MyDrive/data/final/M01_TSNR'\n",
        "\n",
        "history2 = pickle.load(open(d2, \"rb\"))\n",
        "history3 = pickle.load(open(d3, \"rb\"))\n"
      ],
      "metadata": {
        "id": "9nma35528dgo"
      },
      "execution_count": null,
      "outputs": []
    },
    {
      "cell_type": "code",
      "source": [
        "d4='/content/drive/MyDrive/data/final/C01_DIC'\n",
        "d5='/content/drive/MyDrive/data/final/M01_DIC'\n",
        "\n",
        "history4 = pickle.load(open(d4, \"rb\"))\n",
        "history5 = pickle.load(open(d5, \"rb\"))\n"
      ],
      "metadata": {
        "id": "H952wUwhdby0"
      },
      "execution_count": null,
      "outputs": []
    },
    {
      "cell_type": "code",
      "source": [
        "plt.plot(history['val_transformer_MAE'],label='ncc')\n",
        "\n",
        "plt.plot(history1['val_transformer_MAE'],label='mse')\n",
        "plt.legend()"
      ],
      "metadata": {
        "colab": {
          "base_uri": "https://localhost:8080/",
          "height": 282
        },
        "id": "M_u-DkxGy3KP",
        "outputId": "0c74359c-d74e-4536-e625-7df926104933"
      },
      "execution_count": null,
      "outputs": [
        {
          "output_type": "execute_result",
          "data": {
            "text/plain": [
              "<matplotlib.legend.Legend at 0x7f51adcddc90>"
            ]
          },
          "metadata": {},
          "execution_count": 20
        },
        {
          "output_type": "display_data",
          "data": {
            "image/png": "[encoded data removed]",
            "text/plain": [
              "<Figure size 432x288 with 1 Axes>"
            ]
          },
          "metadata": {
            "needs_background": "light"
          }
        }
      ]
    },
    {
      "cell_type": "code",
      "source": [
        "plt.plot(history2['val_transformer_TSNR'],label='ncc')\n",
        "\n",
        "plt.plot(history3['val_transformer_TSNR'],label='mse')\n",
        "plt.legend()"
      ],
      "metadata": {
        "id": "sYw198Xq8rOi",
        "outputId": "645c3dcf-e0fb-4601-e0ba-a4b1765cd804",
        "colab": {
          "base_uri": "https://localhost:8080/",
          "height": 294
        }
      },
      "execution_count": null,
      "outputs": [
        {
          "output_type": "execute_result",
          "data": {
            "text/plain": [
              "<matplotlib.legend.Legend at 0x7f51ada38dd0>"
            ]
          },
          "metadata": {},
          "execution_count": 27
        },
        {
          "output_type": "display_data",
          "data": {
            "image/png": "[encoded data removed]",
            "text/plain": [
              "<Figure size 432x288 with 1 Axes>"
            ]
          },
          "metadata": {
            "needs_background": "light"
          }
        }
      ]
    },
    {
      "cell_type": "code",
      "source": [
        "plt.plot(history4['val_transformer_dice_coef'],label='ncc')\n",
        "\n",
        "plt.plot(history5['val_transformer_dice_coef'],label='mse')\n",
        "plt.legend()"
      ],
      "metadata": {
        "id": "d7Fv8pz1dawN",
        "outputId": "efc44676-663a-4b7a-f598-8eebae17eb93",
        "colab": {
          "base_uri": "https://localhost:8080/",
          "height": 282
        }
      },
      "execution_count": null,
      "outputs": [
        {
          "output_type": "execute_result",
          "data": {
            "text/plain": [
              "<matplotlib.legend.Legend at 0x7f87c1573c10>"
            ]
          },
          "metadata": {},
          "execution_count": 17
        },
        {
          "output_type": "display_data",
          "data": {
            "image/png": "[encoded data removed]",
            "text/plain": [
              "<Figure size 432x288 with 1 Axes>"
            ]
          },
          "metadata": {
            "needs_background": "light"
          }
        }
      ]
    },
    {
      "cell_type": "code",
      "source": [
        "history4['val_transformer_dice_coef']"
      ],
      "metadata": {
        "id": "XHZRpqBdijHM",
        "outputId": "6af81d57-94ed-49f4-d572-8782a291b06a",
        "colab": {
          "base_uri": "https://localhost:8080/"
        }
      },
      "execution_count": null,
      "outputs": [
        {
          "output_type": "execute_result",
          "data": {
            "text/plain": [
              "[0.11011544615030289,\n",
              " 0.11067008972167969,\n",
              " 0.11046791821718216,\n",
              " 0.10987195372581482,\n",
              " 0.11013314872980118,\n",
              " 0.11031591147184372,\n",
              " 0.11084514111280441,\n",
              " 0.1107102483510971,\n",
              " 0.11106111109256744,\n",
              " 0.11103644222021103,\n",
              " 0.11045269668102264,\n",
              " 0.1107877716422081,\n",
              " 0.11075813323259354,\n",
              " 0.11134137958288193,\n",
              " 0.11120651662349701,\n",
              " 0.11121653765439987,\n",
              " 0.10999584197998047,\n",
              " 0.11003081500530243,\n",
              " 0.11130668222904205,\n",
              " 0.11061154305934906,\n",
              " 0.11092354357242584,\n",
              " 0.11078725755214691,\n",
              " 0.11148987710475922,\n",
              " 0.11081115901470184,\n",
              " 0.1099289059638977,\n",
              " 0.11166669428348541,\n",
              " 0.11150234192609787,\n",
              " 0.11060431599617004,\n",
              " 0.110811747610569,\n",
              " 0.11057154089212418,\n",
              " 0.1109965592622757,\n",
              " 0.11109762638807297,\n",
              " 0.11057010293006897,\n",
              " 0.11073993146419525,\n",
              " 0.11074242740869522,\n",
              " 0.11093039810657501,\n",
              " 0.11100035905838013,\n",
              " 0.11002515256404877,\n",
              " 0.110215924680233,\n",
              " 0.11173664033412933,\n",
              " 0.10975708067417145,\n",
              " 0.11045346409082413,\n",
              " 0.11020075529813766,\n",
              " 0.11093712598085403,\n",
              " 0.11035999655723572,\n",
              " 0.10976184159517288,\n",
              " 0.11086837202310562,\n",
              " 0.11002666503190994,\n",
              " 0.11084708571434021,\n",
              " 0.11074270308017731,\n",
              " 0.1102558970451355,\n",
              " 0.11049854755401611,\n",
              " 0.11091481894254684,\n",
              " 0.11009594053030014,\n",
              " 0.11010903120040894,\n",
              " 0.11089698225259781,\n",
              " 0.1107509583234787,\n",
              " 0.11030491441488266,\n",
              " 0.10976596921682358,\n",
              " 0.1110944077372551,\n",
              " 0.11002796143293381,\n",
              " 0.10964825749397278,\n",
              " 0.10931417346000671,\n",
              " 0.11092758923768997,\n",
              " 0.11119682341814041,\n",
              " 0.11156419664621353,\n",
              " 0.11090312153100967,\n",
              " 0.11038541048765182,\n",
              " 0.11108116060495377,\n",
              " 0.11041188985109329,\n",
              " 0.1115136370062828,\n",
              " 0.11117389053106308,\n",
              " 0.11016162484884262,\n",
              " 0.11139338463544846,\n",
              " 0.11020965129137039,\n",
              " 0.1114358901977539,\n",
              " 0.11036273837089539,\n",
              " 0.11121884733438492,\n",
              " 0.11117678135633469,\n",
              " 0.11077867448329926,\n",
              " 0.11121906340122223,\n",
              " 0.1111789271235466,\n",
              " 0.11024611443281174,\n",
              " 0.10981403291225433,\n",
              " 0.11078610271215439,\n",
              " 0.11134278774261475,\n",
              " 0.11053438484668732,\n",
              " 0.10995304584503174,\n",
              " 0.10953497886657715,\n",
              " 0.11042572557926178,\n",
              " 0.11005226522684097,\n",
              " 0.1096661388874054,\n",
              " 0.11079549789428711,\n",
              " 0.11154987663030624,\n",
              " 0.11014391481876373,\n",
              " 0.11060583591461182,\n",
              " 0.11081058531999588,\n",
              " 0.11110363900661469,\n",
              " 0.11053010076284409,\n",
              " 0.11037551611661911,\n",
              " 0.1097431629896164,\n",
              " 0.11085876822471619,\n",
              " 0.1100616455078125,\n",
              " 0.1108676940202713,\n",
              " 0.11054925620555878,\n",
              " 0.11036018282175064,\n",
              " 0.11048846691846848,\n",
              " 0.1107831597328186,\n",
              " 0.1097644716501236,\n",
              " 0.11070243269205093,\n",
              " 0.11100024729967117,\n",
              " 0.10957946628332138,\n",
              " 0.11031653732061386,\n",
              " 0.11130346357822418,\n",
              " 0.11047198623418808,\n",
              " 0.11050400882959366,\n",
              " 0.11099451035261154,\n",
              " 0.11119228601455688,\n",
              " 0.11052782833576202,\n",
              " 0.11087647080421448,\n",
              " 0.11111157387495041,\n",
              " 0.11138836294412613,\n",
              " 0.11028576642274857,\n",
              " 0.11040319502353668,\n",
              " 0.11060202121734619,\n",
              " 0.11115724593400955,\n",
              " 0.11031599342823029,\n",
              " 0.11136909574270248,\n",
              " 0.11137163639068604,\n",
              " 0.11053537577390671,\n",
              " 0.11170012503862381,\n",
              " 0.1111108735203743,\n",
              " 0.1103796735405922,\n",
              " 0.11085987091064453,\n",
              " 0.10995745658874512,\n",
              " 0.11054681241512299,\n",
              " 0.11041104048490524,\n",
              " 0.11018578708171844,\n",
              " 0.109592966735363,\n",
              " 0.11118457466363907,\n",
              " 0.11004102975130081,\n",
              " 0.11052178591489792,\n",
              " 0.11117555946111679,\n",
              " 0.1093921959400177,\n",
              " 0.11009319126605988,\n",
              " 0.11058230698108673,\n",
              " 0.11000633984804153,\n",
              " 0.11093670129776001,\n",
              " 0.11053244024515152,\n",
              " 0.1106553003191948,\n",
              " 0.11010867357254028,\n",
              " 0.11103086173534393,\n",
              " 0.11106708645820618,\n",
              " 0.11097274720668793,\n",
              " 0.11118843406438828,\n",
              " 0.11092881113290787,\n",
              " 0.1108325868844986,\n",
              " 0.10939917713403702,\n",
              " 0.10976827144622803,\n",
              " 0.11069659143686295,\n",
              " 0.11104924231767654,\n",
              " 0.11175891011953354,\n",
              " 0.11102685332298279,\n",
              " 0.10966488718986511,\n",
              " 0.11119237542152405,\n",
              " 0.11047200858592987,\n",
              " 0.11010600626468658,\n",
              " 0.10957048088312149,\n",
              " 0.11058883368968964,\n",
              " 0.10909920930862427,\n",
              " 0.11036980152130127,\n",
              " 0.11063224077224731,\n",
              " 0.10950495302677155,\n",
              " 0.11042594909667969,\n",
              " 0.11064556986093521,\n",
              " 0.11087584495544434,\n",
              " 0.11005616933107376,\n",
              " 0.10991892218589783,\n",
              " 0.10960409790277481,\n",
              " 0.11008336395025253,\n",
              " 0.11096607893705368,\n",
              " 0.11148510873317719,\n",
              " 0.11055300384759903,\n",
              " 0.11043373495340347,\n",
              " 0.11025159060955048,\n",
              " 0.1099972277879715,\n",
              " 0.11000789701938629,\n",
              " 0.10981908440589905,\n",
              " 0.11037983000278473,\n",
              " 0.11019037663936615,\n",
              " 0.10975378751754761,\n",
              " 0.110112763941288,\n",
              " 0.11038671433925629,\n",
              " 0.1105370745062828,\n",
              " 0.1099439188838005,\n",
              " 0.10990888625383377,\n",
              " 0.11060705035924911,\n",
              " 0.1095917746424675,\n",
              " 0.1099284216761589,\n",
              " 0.11042467504739761]"
            ]
          },
          "metadata": {},
          "execution_count": 16
        }
      ]
    },
    {
      "cell_type": "code",
      "source": [
        "import numpy as np\n",
        "\n",
        "np.mean(history4['val_transformer_dice_coef'])"
      ],
      "metadata": {
        "id": "ksTPVEfAiA7z",
        "outputId": "f1b371ff-b185-48c3-f7c2-dfa364141e2d",
        "colab": {
          "base_uri": "https://localhost:8080/"
        }
      },
      "execution_count": null,
      "outputs": [
        {
          "output_type": "execute_result",
          "data": {
            "text/plain": [
              "0.11055777467787266"
            ]
          },
          "metadata": {},
          "execution_count": 14
        }
      ]
    },
    {
      "cell_type": "code",
      "source": [
        "np.mean(history5['val_transformer_dice_coef'])"
      ],
      "metadata": {
        "id": "OX72DJ1riNDQ",
        "outputId": "e6cf4eca-ba4f-4551-d238-0314a1882eb0",
        "colab": {
          "base_uri": "https://localhost:8080/"
        }
      },
      "execution_count": null,
      "outputs": [
        {
          "output_type": "execute_result",
          "data": {
            "text/plain": [
              "0.1412785918265581"
            ]
          },
          "metadata": {},
          "execution_count": 15
        }
      ]
    },
    {
      "cell_type": "code",
      "execution_count": null,
      "metadata": {
        "id": "OS_d7ebW0Tau"
      },
      "outputs": [],
      "source": [
        "data_dir_TEST='/home/mahdi/Desktop/data_selection_D7'"
      ]
    },
    {
      "cell_type": "code",
      "execution_count": null,
      "metadata": {
        "id": "lyGKUTue0Tau"
      },
      "outputs": [],
      "source": [
        "# let's get some data\n",
        "val_generator = data_generator(data_dir_TEST,32,m,.3)\n",
        "val_input, _ = next(val_generator)"
      ]
    },
    {
      "cell_type": "code",
      "execution_count": null,
      "metadata": {
        "id": "6qJXWceq0Tav"
      },
      "outputs": [],
      "source": [
        "val_pred = vxm_model.predict(val_input)"
      ]
    },
    {
      "cell_type": "code",
      "execution_count": null,
      "metadata": {
        "id": "9qQMN3v10Tav"
      },
      "outputs": [],
      "source": [
        "# visualize\n",
        "images = [img[18, :, :, 0] for img in val_input + val_pred] \n",
        "titles = ['moving', 'fixed', 'moved', 'flow']\n",
        "ne.plot.slices(images, titles=titles, cmaps=['gray'], do_colorbars=True);"
      ]
    },
    {
      "cell_type": "code",
      "execution_count": null,
      "metadata": {
        "id": "CWsn84Ux0Tav"
      },
      "outputs": [],
      "source": [
        "ne.plot.flow([val_pred[1][18].squeeze()], width=10)"
      ]
    },
    {
      "cell_type": "code",
      "execution_count": null,
      "metadata": {
        "id": "KwXQkGbB0Taw"
      },
      "outputs": [],
      "source": [
        ""
      ]
    }
  ],
  "metadata": {
    "kernelspec": {
      "display_name": "Python 3",
      "language": "python",
      "name": "python3"
    },
    "language_info": {
      "codemirror_mode": {
        "name": "ipython",
        "version": 3
      },
      "file_extension": ".py",
      "mimetype": "text/x-python",
      "name": "python",
      "nbconvert_exporter": "python",
      "pygments_lexer": "ipython3",
      "version": "3.7.9"
    },
    "colab": {
      "name": "train_with validation data.ipynb",
      "provenance": []
    },
    "accelerator": "GPU"
  },
  "nbformat": 4,
  "nbformat_minor": 0
}