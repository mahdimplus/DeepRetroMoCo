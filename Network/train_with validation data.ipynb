{
  "cells": [
    {
      "cell_type": "markdown",
      "source": [
        "[![Open In Colab](https://colab.research.google.com/assets/colab-badge.svg)](https://colab.research.google.com/github/mahdimplus/DeepRetroMoco/blob/main/network/train_with_validtiondatafunctions.ipynb)"
      ],
      "metadata": {
        "id": "CouPttSA0YgZ"
      }
    },
    {
      "cell_type": "code",
      "source": [
        "from google.colab import drive\n",
        "drive.mount('/content/drive')\n",
        "\n"
      ],
      "metadata": {
        "id": "-rzBTKnjJmAs",
        "outputId": "43c4f4ae-b9b9-4b40-cbe1-aa19533694aa",
        "colab": {
          "base_uri": "https://localhost:8080/"
        }
      },
      "execution_count": 1,
      "outputs": [
        {
          "output_type": "stream",
          "name": "stdout",
          "text": [
            "Mounted at /content/drive\n"
          ]
        }
      ]
    },
    {
      "cell_type": "code",
      "source": [
        "!apt-get install -y -qq software-properties-common python-software-properties module-init-tools\n",
        "!add-apt-repository -y ppa:alessandro-strada/ppa 2>&1 > /dev/null\n",
        "!apt-get update -qq 2>&1 > /dev/null\n",
        "!apt-get -y install -qq google-drive-ocamlfuse fuse\n",
        "from google.colab import auth\n",
        "auth.authenticate_user()\n",
        "from oauth2client.client import GoogleCredentials\n",
        "creds = GoogleCredentials.get_application_default()\n",
        "import getpass\n",
        "!google-drive-ocamlfuse -headless -id={creds.client_id} -secret={creds.client_secret} < /dev/null 2>&1 | grep URL\n",
        "vcode = getpass.getpass()\n",
        "!echo {vcode} | google-drive-ocamlfuse -headless -id={creds.client_id} -secret={creds.client_secret}\n",
        "%cd /content\n",
        "!mkdir drive\n",
        "%cd drive\n",
        "!mkdir MyDrive\n",
        "%cd ..\n",
        "%cd ..\n",
        "!google-drive-ocamlfuse /content/drive/MyDrive"
      ],
      "metadata": {
        "id": "sMjV-kBrjccB"
      },
      "execution_count": null,
      "outputs": []
    },
    {
      "cell_type": "code",
      "source": [
        "pip install voxelmorph\n"
      ],
      "metadata": {
        "id": "80X4he9ILFFL",
        "outputId": "36f61fa9-59c9-45fa-96f9-a59e836fa408",
        "colab": {
          "base_uri": "https://localhost:8080/"
        }
      },
      "execution_count": 2,
      "outputs": [
        {
          "output_type": "stream",
          "name": "stdout",
          "text": [
            "Collecting voxelmorph\n",
            "  Downloading voxelmorph-0.1-py3-none-any.whl (75 kB)\n",
            "\u001b[?25l\r\u001b[K     |████▍                           | 10 kB 23.8 MB/s eta 0:00:01\r\u001b[K     |████████▊                       | 20 kB 10.2 MB/s eta 0:00:01\r\u001b[K     |█████████████                   | 30 kB 6.1 MB/s eta 0:00:01\r\u001b[K     |█████████████████▌              | 40 kB 5.7 MB/s eta 0:00:01\r\u001b[K     |█████████████████████▉          | 51 kB 2.7 MB/s eta 0:00:01\r\u001b[K     |██████████████████████████▏     | 61 kB 3.2 MB/s eta 0:00:01\r\u001b[K     |██████████████████████████████▌ | 71 kB 3.5 MB/s eta 0:00:01\r\u001b[K     |████████████████████████████████| 75 kB 2.0 MB/s \n",
            "\u001b[?25hRequirement already satisfied: numpy in /usr/local/lib/python3.7/dist-packages (from voxelmorph) (1.21.5)\n",
            "Requirement already satisfied: scipy in /usr/local/lib/python3.7/dist-packages (from voxelmorph) (1.4.1)\n",
            "Requirement already satisfied: h5py in /usr/local/lib/python3.7/dist-packages (from voxelmorph) (3.1.0)\n",
            "Requirement already satisfied: scikit-image in /usr/local/lib/python3.7/dist-packages (from voxelmorph) (0.18.3)\n",
            "Collecting neurite\n",
            "  Downloading neurite-0.1-py3-none-any.whl (86 kB)\n",
            "\u001b[K     |████████████████████████████████| 86 kB 4.3 MB/s \n",
            "\u001b[?25hRequirement already satisfied: nibabel in /usr/local/lib/python3.7/dist-packages (from voxelmorph) (3.0.2)\n",
            "Requirement already satisfied: cached-property in /usr/local/lib/python3.7/dist-packages (from h5py->voxelmorph) (1.5.2)\n",
            "Requirement already satisfied: tqdm in /usr/local/lib/python3.7/dist-packages (from neurite->voxelmorph) (4.62.3)\n",
            "Requirement already satisfied: six in /usr/local/lib/python3.7/dist-packages (from neurite->voxelmorph) (1.15.0)\n",
            "Requirement already satisfied: scikit-learn in /usr/local/lib/python3.7/dist-packages (from neurite->voxelmorph) (1.0.2)\n",
            "Collecting pystrum\n",
            "  Downloading pystrum-0.1-py3-none-any.whl (18 kB)\n",
            "Requirement already satisfied: matplotlib in /usr/local/lib/python3.7/dist-packages (from neurite->voxelmorph) (3.2.2)\n",
            "Requirement already satisfied: cycler>=0.10 in /usr/local/lib/python3.7/dist-packages (from matplotlib->neurite->voxelmorph) (0.11.0)\n",
            "Requirement already satisfied: kiwisolver>=1.0.1 in /usr/local/lib/python3.7/dist-packages (from matplotlib->neurite->voxelmorph) (1.3.2)\n",
            "Requirement already satisfied: pyparsing!=2.0.4,!=2.1.2,!=2.1.6,>=2.0.1 in /usr/local/lib/python3.7/dist-packages (from matplotlib->neurite->voxelmorph) (3.0.7)\n",
            "Requirement already satisfied: python-dateutil>=2.1 in /usr/local/lib/python3.7/dist-packages (from matplotlib->neurite->voxelmorph) (2.8.2)\n",
            "Requirement already satisfied: tifffile>=2019.7.26 in /usr/local/lib/python3.7/dist-packages (from scikit-image->voxelmorph) (2021.11.2)\n",
            "Requirement already satisfied: pillow!=7.1.0,!=7.1.1,>=4.3.0 in /usr/local/lib/python3.7/dist-packages (from scikit-image->voxelmorph) (7.1.2)\n",
            "Requirement already satisfied: networkx>=2.0 in /usr/local/lib/python3.7/dist-packages (from scikit-image->voxelmorph) (2.6.3)\n",
            "Requirement already satisfied: imageio>=2.3.0 in /usr/local/lib/python3.7/dist-packages (from scikit-image->voxelmorph) (2.4.1)\n",
            "Requirement already satisfied: PyWavelets>=1.1.1 in /usr/local/lib/python3.7/dist-packages (from scikit-image->voxelmorph) (1.2.0)\n",
            "Requirement already satisfied: threadpoolctl>=2.0.0 in /usr/local/lib/python3.7/dist-packages (from scikit-learn->neurite->voxelmorph) (3.1.0)\n",
            "Requirement already satisfied: joblib>=0.11 in /usr/local/lib/python3.7/dist-packages (from scikit-learn->neurite->voxelmorph) (1.1.0)\n",
            "Installing collected packages: pystrum, neurite, voxelmorph\n",
            "Successfully installed neurite-0.1 pystrum-0.1 voxelmorph-0.1\n"
          ]
        }
      ]
    },
    {
      "cell_type": "code",
      "execution_count": 3,
      "metadata": {
        "id": "mXdTYidN0Tac"
      },
      "outputs": [],
      "source": [
        "# imports\n",
        "# local imports\n",
        "import voxelmorph as vxm\n",
        "import neurite as ne\n",
        "import os, sys\n",
        "\n",
        "# third party imports\n",
        "import numpy as np\n",
        "import tensorflow as tf\n",
        "assert tf.__version__.startswith('2.'), 'This tutorial assumes Tensorflow 2.0+'\n",
        "import matplotlib.pyplot as plt\n",
        "import cv2\n",
        "\n",
        "%matplotlib inline\n",
        "import nibabel as nib\n",
        "\n",
        "#import nbimporter\n",
        "#from functions import *\n"
      ]
    },
    {
      "cell_type": "code",
      "execution_count": 4,
      "metadata": {
        "id": "fzES90Vp0Tai"
      },
      "outputs": [],
      "source": [
        "#m=maxx(data_dir)\n",
        "m=1584 "
      ]
    },
    {
      "cell_type": "code",
      "source": [
        "import random\n",
        "def load_m (file_path):\n",
        "    \n",
        "    img = nib.load(file_path)\n",
        "    img_data = img.get_fdata()\n",
        "    \n",
        "    if img.shape[0:2]!=(64,64):\n",
        "    \n",
        "        img_data = img_data[23:87,23:87,:,:]\n",
        "        \n",
        "    if not (file_path.endswith(\".nii\") or file_path.endswith(\".nii.gz\")):\n",
        "        raise ValueError(\n",
        "              f\"Nifti file path must end with .nii or .nii.gz, got {file_path}.\"\n",
        "                        )\n",
        "    return img_data \n",
        "def count (data_dir):\n",
        "    train_dir = os.path.join(data_dir)\n",
        "\n",
        "    train_data_num = []\n",
        "    for file in os.listdir(train_dir):\n",
        "            train_data_num.append([file])\n",
        "    train_data_num=np.array(train_data_num) \n",
        "    n=train_data_num.shape[0] \n",
        "\n",
        "    return n,train_data_num"
      ],
      "metadata": {
        "id": "B4ghNO6uS9Fw"
      },
      "execution_count": 5,
      "outputs": []
    },
    {
      "cell_type": "code",
      "source": [
        "def data_generator(data_dir, batch_size,m,split):\n",
        "    \"\"\"4\n",
        "    Generator that takes in data of size [N, H, W], and yields data for\n",
        "    our custom vxm model. Note that we need to provide numpy data for each\n",
        "    input, and each output.\n",
        "\n",
        "    inputs:  moving [bs, H, W, 1], fixed image [bs, H, W, 1]\n",
        "    outputs: moved image [bs, H, W, 1], zero-gradient [bs, H, W, 2]\n",
        "    \n",
        "    m= maximum between all subject \n",
        "    split= percent of validation data\n",
        "    \n",
        "    \n",
        "    \"\"\"\n",
        "    \n",
        "    n,train_data_num=count(data_dir)\n",
        "    n_train=n-int(split*n)\n",
        " \n",
        "    \n",
        "    subject_ID=random.randint(0,n_train-1)\n",
        "    d=load_m(data_dir+'/'+str(train_data_num[subject_ID][0]))\n",
        "\n",
        "    \n",
        "    s=d.shape[2]\n",
        "    slice_ID =random.randint(0,s-1)\n",
        "    v=d.shape[3]\n",
        "    \n",
        " # preliminary sizing\n",
        "    vol_shape = d.shape[:2] # extract data shape\n",
        "    ndims = len(vol_shape)\n",
        "    \n",
        "    \n",
        "    d=d[:,:,slice_ID,:]\n",
        "    d = np.einsum('jki->ijk', d)\n",
        "\n",
        "    \n",
        "    \n",
        "   \n",
        "    \n",
        "    # prepare a zero array the size of the deformation\n",
        "    # we'll explain this below\n",
        "    zero_phi = np.zeros([batch_size, *vol_shape, ndims])\n",
        "    \n",
        "    while True:\n",
        "        # prepare inputs:\n",
        "        # images need to be of the size [batch_size, H, W, 1]\n",
        "        idx1 = np.random.randint(0, v, size=batch_size)\n",
        "        moving_images = d[idx1, ..., np.newaxis]\n",
        "        moving_images=moving_images/m\n",
        "        \n",
        "        idx2 = np.random.randint(0, v, size=batch_size)\n",
        "        fixed_images = d[idx2, ..., np.newaxis]\n",
        "        fixed_images=fixed_images/m\n",
        "        \n",
        "        inputs = [moving_images, fixed_images]\n",
        "        \n",
        "        # prepare outputs (the 'true' moved image):\n",
        "        # of course, we don't have this, but we know we want to compare \n",
        "        # the resulting moved image with the fixed image. \n",
        "        # we also wish to penalize the deformation field. \n",
        "        outputs = [fixed_images, zero_phi]\n",
        "        \n",
        "        yield (inputs, outputs)\n",
        "\n",
        "\n",
        "\n",
        "def val_generator(data_dir, batch_size,m,split):\n",
        "  \n",
        "    n,train_data_num=count(data_dir)\n",
        "    n_train=n-int(split*n)\n",
        "    a=n_train\n",
        "    \n",
        "    \n",
        "    subject_ID=random.randint(a,n-1)\n",
        "    d=load_m(data_dir+'/'+str(train_data_num[subject_ID][0]))\n",
        "\n",
        "    \n",
        "    s=d.shape[2]\n",
        "    slice_ID =random.randint(0,s-1)\n",
        "    v=d.shape[3]\n",
        "    \n",
        "    # preliminary sizing\n",
        "    vol_shape = d.shape[:2] # extract data shape\n",
        "    ndims = len(vol_shape)\n",
        "    \n",
        "    \n",
        "    d=d[:,:,slice_ID,:]\n",
        "    d = np.einsum('jki->ijk', d)\n",
        "\n",
        " \n",
        "    # prepare a zero array the size of the deformation\n",
        "    # we'll explain this below\n",
        "    zero_phi = np.zeros([batch_size, *vol_shape, ndims])\n",
        "    \n",
        "    # prepare inputs:\n",
        "    # images need to be of the size [batch_size, H, W, 1]\n",
        "    idx1 = np.random.randint(0, v, size=batch_size)\n",
        "    moving_images = d[idx1, ..., np.newaxis]\n",
        "    moving_images=moving_images/m\n",
        "\n",
        "    idx2 = np.random.randint(0, v, size=batch_size)\n",
        "    fixed_images = d[idx2, ..., np.newaxis]\n",
        "    fixed_images=fixed_images/m\n",
        "\n",
        "    inputs = [moving_images, fixed_images]\n",
        "\n",
        "    # prepare outputs (the 'true' moved image):\n",
        "    # of course, we don't have this, but we know we want to compare \n",
        "    # the resulting moved image with the fixed image. \n",
        "    # we also wish to penalize the deformation field. \n",
        "    outputs = [fixed_images,zero_phi]\n",
        "\n",
        "    return (inputs, outputs)\n",
        "\n",
        "\n",
        "\n",
        "\n",
        "\n"
      ],
      "metadata": {
        "id": "KPxDR9SZSxxi"
      },
      "execution_count": 6,
      "outputs": []
    },
    {
      "cell_type": "code",
      "source": [
        "data_dir='/content/drive/MyDrive/data/data selection_D1'"
      ],
      "metadata": {
        "id": "SSerd10qT06W"
      },
      "execution_count": 7,
      "outputs": []
    },
    {
      "cell_type": "code",
      "execution_count": 8,
      "metadata": {
        "id": "I9b6tv3m0Taj",
        "outputId": "6adb05a3-7869-4246-8513-eba054ebdf04",
        "colab": {
          "base_uri": "https://localhost:8080/",
          "height": 227
        }
      },
      "outputs": [
        {
          "output_type": "display_data",
          "data": {
            "image/png": "[encoded data removed]",
            "text/plain": [
              "<Figure size 1080x270 with 8 Axes>"
            ]
          },
          "metadata": {
            "needs_background": "light"
          }
        }
      ],
      "source": [
        "split=0.3  # it means 70% for train and 30% for validation\n",
        "\n",
        "\n",
        "train_generator = data_generator(data_dir,100,m,split)\n",
        "in_sample, out_sample = next(train_generator)\n",
        "\n",
        "# visualize\n",
        "images = [img[0, :, :, 0] for img in in_sample + out_sample] \n",
        "titles = ['moving', 'fixed', 'moved ground-truth (fixed)', 'zeros']\n",
        "ne.plot.slices(images, titles=titles, cmaps=['gray'], do_colorbars=True);\n"
      ]
    },
    {
      "cell_type": "code",
      "execution_count": 9,
      "metadata": {
        "id": "bwSxd8fu0Tal"
      },
      "outputs": [],
      "source": [
        "# configure unet input shape (concatenation of moving and fixed images)\n",
        "ndim = 2\n",
        "unet_input_features = 2\n",
        "# data shape 64*64\n",
        "s=in_sample[0].shape[1:3]\n",
        "inshape = (*s, unet_input_features)\n",
        "\n",
        "# configure unet features \n",
        "# nb_features = [\n",
        "#    [64, 64, 64, 64],         # encoder features\n",
        "#    [64, 64, 64, 64, 64, 32,16]  # decoder features\n",
        "#]\n",
        "\n",
        "nb_features = [\n",
        "    [32, 32, 32, 32],         # encoder features\n",
        "    [32, 32, 32, 32, 32,16]  # decoder features\n",
        "            ]"
      ]
    },
    {
      "cell_type": "code",
      "execution_count": 10,
      "metadata": {
        "id": "vN0tjwud0Tam",
        "outputId": "5ff83a93-7721-45fa-c743-221c178378f2",
        "colab": {
          "base_uri": "https://localhost:8080/"
        }
      },
      "outputs": [
        {
          "output_type": "execute_result",
          "data": {
            "text/plain": [
              "(64, 64)"
            ]
          },
          "metadata": {},
          "execution_count": 10
        }
      ],
      "source": [
        "s"
      ]
    },
    {
      "cell_type": "code",
      "execution_count": 11,
      "metadata": {
        "id": "6JVD05Hx0Tan",
        "outputId": "1c433e3b-89b3-4603-ac6a-94d29275fa2d",
        "colab": {
          "base_uri": "https://localhost:8080/"
        }
      },
      "outputs": [
        {
          "output_type": "stream",
          "name": "stdout",
          "text": [
            "WARNING:tensorflow:From /usr/local/lib/python3.7/dist-packages/tensorflow/python/util/deprecation.py:616: calling map_fn_v2 (from tensorflow.python.ops.map_fn) with dtype is deprecated and will be removed in a future version.\n",
            "Instructions for updating:\n",
            "Use fn_output_signature instead\n"
          ]
        }
      ],
      "source": [
        "# build model using VxmDense\n",
        "inshape =s\n",
        "vxm_model = vxm.networks.VxmDense(inshape, nb_features, int_steps=0)"
      ]
    },
    {
      "cell_type": "code",
      "execution_count": 12,
      "metadata": {
        "scrolled": true,
        "id": "U-dO1Opg0Tap",
        "outputId": "3d5d2db0-6f6d-494f-cd32-4b34a20f4da4",
        "colab": {
          "base_uri": "https://localhost:8080/"
        }
      },
      "outputs": [
        {
          "output_type": "stream",
          "name": "stdout",
          "text": [
            "Model: \"vxm_dense\"\n",
            "__________________________________________________________________________________________________\n",
            " Layer (type)                   Output Shape         Param #     Connected to                     \n",
            "==================================================================================================\n",
            " source_input (InputLayer)      [(None, 64, 64, 1)]  0           []                               \n",
            "                                                                                                  \n",
            " target_input (InputLayer)      [(None, 64, 64, 1)]  0           []                               \n",
            "                                                                                                  \n",
            " unet_input_concat (Concatenate  (None, 64, 64, 2)   0           ['source_input[0][0]',           \n",
            " )                                                                'target_input[0][0]']           \n",
            "                                                                                                  \n",
            " unet_enc_conv_0_0 (Conv2D)     (None, 64, 64, 32)   608         ['unet_input_concat[0][0]']      \n",
            "                                                                                                  \n",
            " unet_enc_conv_0_0_activation (  (None, 64, 64, 32)  0           ['unet_enc_conv_0_0[0][0]']      \n",
            " LeakyReLU)                                                                                       \n",
            "                                                                                                  \n",
            " unet_enc_pooling_0 (MaxPooling  (None, 32, 32, 32)  0           ['unet_enc_conv_0_0_activation[0]\n",
            " 2D)                                                             [0]']                            \n",
            "                                                                                                  \n",
            " unet_enc_conv_1_0 (Conv2D)     (None, 32, 32, 32)   9248        ['unet_enc_pooling_0[0][0]']     \n",
            "                                                                                                  \n",
            " unet_enc_conv_1_0_activation (  (None, 32, 32, 32)  0           ['unet_enc_conv_1_0[0][0]']      \n",
            " LeakyReLU)                                                                                       \n",
            "                                                                                                  \n",
            " unet_enc_pooling_1 (MaxPooling  (None, 16, 16, 32)  0           ['unet_enc_conv_1_0_activation[0]\n",
            " 2D)                                                             [0]']                            \n",
            "                                                                                                  \n",
            " unet_enc_conv_2_0 (Conv2D)     (None, 16, 16, 32)   9248        ['unet_enc_pooling_1[0][0]']     \n",
            "                                                                                                  \n",
            " unet_enc_conv_2_0_activation (  (None, 16, 16, 32)  0           ['unet_enc_conv_2_0[0][0]']      \n",
            " LeakyReLU)                                                                                       \n",
            "                                                                                                  \n",
            " unet_enc_pooling_2 (MaxPooling  (None, 8, 8, 32)    0           ['unet_enc_conv_2_0_activation[0]\n",
            " 2D)                                                             [0]']                            \n",
            "                                                                                                  \n",
            " unet_enc_conv_3_0 (Conv2D)     (None, 8, 8, 32)     9248        ['unet_enc_pooling_2[0][0]']     \n",
            "                                                                                                  \n",
            " unet_enc_conv_3_0_activation (  (None, 8, 8, 32)    0           ['unet_enc_conv_3_0[0][0]']      \n",
            " LeakyReLU)                                                                                       \n",
            "                                                                                                  \n",
            " unet_enc_pooling_3 (MaxPooling  (None, 4, 4, 32)    0           ['unet_enc_conv_3_0_activation[0]\n",
            " 2D)                                                             [0]']                            \n",
            "                                                                                                  \n",
            " unet_dec_conv_3_0 (Conv2D)     (None, 4, 4, 32)     9248        ['unet_enc_pooling_3[0][0]']     \n",
            "                                                                                                  \n",
            " unet_dec_conv_3_0_activation (  (None, 4, 4, 32)    0           ['unet_dec_conv_3_0[0][0]']      \n",
            " LeakyReLU)                                                                                       \n",
            "                                                                                                  \n",
            " unet_dec_upsample_3 (UpSamplin  (None, 8, 8, 32)    0           ['unet_dec_conv_3_0_activation[0]\n",
            " g2D)                                                            [0]']                            \n",
            "                                                                                                  \n",
            " unet_dec_upsample_3_concat (Co  (None, 8, 8, 64)    0           ['unet_dec_upsample_3[0][0]',    \n",
            " ncatenate)                                                       'unet_enc_conv_3_0_activation[0]\n",
            "                                                                 [0]']                            \n",
            "                                                                                                  \n",
            " unet_dec_conv_2_0 (Conv2D)     (None, 8, 8, 32)     18464       ['unet_dec_upsample_3_concat[0][0\n",
            "                                                                 ]']                              \n",
            "                                                                                                  \n",
            " unet_dec_conv_2_0_activation (  (None, 8, 8, 32)    0           ['unet_dec_conv_2_0[0][0]']      \n",
            " LeakyReLU)                                                                                       \n",
            "                                                                                                  \n",
            " unet_dec_upsample_2 (UpSamplin  (None, 16, 16, 32)  0           ['unet_dec_conv_2_0_activation[0]\n",
            " g2D)                                                            [0]']                            \n",
            "                                                                                                  \n",
            " unet_dec_upsample_2_concat (Co  (None, 16, 16, 64)  0           ['unet_dec_upsample_2[0][0]',    \n",
            " ncatenate)                                                       'unet_enc_conv_2_0_activation[0]\n",
            "                                                                 [0]']                            \n",
            "                                                                                                  \n",
            " unet_dec_conv_1_0 (Conv2D)     (None, 16, 16, 32)   18464       ['unet_dec_upsample_2_concat[0][0\n",
            "                                                                 ]']                              \n",
            "                                                                                                  \n",
            " unet_dec_conv_1_0_activation (  (None, 16, 16, 32)  0           ['unet_dec_conv_1_0[0][0]']      \n",
            " LeakyReLU)                                                                                       \n",
            "                                                                                                  \n",
            " unet_dec_upsample_1 (UpSamplin  (None, 32, 32, 32)  0           ['unet_dec_conv_1_0_activation[0]\n",
            " g2D)                                                            [0]']                            \n",
            "                                                                                                  \n",
            " unet_dec_upsample_1_concat (Co  (None, 32, 32, 64)  0           ['unet_dec_upsample_1[0][0]',    \n",
            " ncatenate)                                                       'unet_enc_conv_1_0_activation[0]\n",
            "                                                                 [0]']                            \n",
            "                                                                                                  \n",
            " unet_dec_conv_0_0 (Conv2D)     (None, 32, 32, 32)   18464       ['unet_dec_upsample_1_concat[0][0\n",
            "                                                                 ]']                              \n",
            "                                                                                                  \n",
            " unet_dec_conv_0_0_activation (  (None, 32, 32, 32)  0           ['unet_dec_conv_0_0[0][0]']      \n",
            " LeakyReLU)                                                                                       \n",
            "                                                                                                  \n",
            " unet_dec_upsample_0 (UpSamplin  (None, 64, 64, 32)  0           ['unet_dec_conv_0_0_activation[0]\n",
            " g2D)                                                            [0]']                            \n",
            "                                                                                                  \n",
            " unet_dec_upsample_0_concat (Co  (None, 64, 64, 64)  0           ['unet_dec_upsample_0[0][0]',    \n",
            " ncatenate)                                                       'unet_enc_conv_0_0_activation[0]\n",
            "                                                                 [0]']                            \n",
            "                                                                                                  \n",
            " unet_dec_final_conv_0 (Conv2D)  (None, 64, 64, 32)  18464       ['unet_dec_upsample_0_concat[0][0\n",
            "                                                                 ]']                              \n",
            "                                                                                                  \n",
            " unet_dec_final_conv_0_activati  (None, 64, 64, 32)  0           ['unet_dec_final_conv_0[0][0]']  \n",
            " on (LeakyReLU)                                                                                   \n",
            "                                                                                                  \n",
            " unet_dec_final_conv_1 (Conv2D)  (None, 64, 64, 16)  4624        ['unet_dec_final_conv_0_activatio\n",
            "                                                                 n[0][0]']                        \n",
            "                                                                                                  \n",
            " unet_dec_final_conv_1_activati  (None, 64, 64, 16)  0           ['unet_dec_final_conv_1[0][0]']  \n",
            " on (LeakyReLU)                                                                                   \n",
            "                                                                                                  \n",
            " flow (Conv2D)                  (None, 64, 64, 2)    290         ['unet_dec_final_conv_1_activatio\n",
            "                                                                 n[0][0]']                        \n",
            "                                                                                                  \n",
            " transformer (SpatialTransforme  (None, 64, 64, 1)   0           ['source_input[0][0]',           \n",
            " r)                                                               'flow[0][0]']                   \n",
            "                                                                                                  \n",
            "==================================================================================================\n",
            "Total params: 116,370\n",
            "Trainable params: 116,370\n",
            "Non-trainable params: 0\n",
            "__________________________________________________________________________________________________\n"
          ]
        }
      ],
      "source": [
        "vxm_model.summary()"
      ]
    },
    {
      "cell_type": "code",
      "execution_count": 13,
      "metadata": {
        "id": "4_aLG24o0Taq"
      },
      "outputs": [],
      "source": [
        "# voxelmorph has a variety of custom loss classes\n",
        "losses = [vxm.losses.NCC().loss, vxm.losses.Grad('l2').loss]\n",
        "\n",
        "# usually, we have to balance the two losses by a hyper-parameter\n",
        "lambda_param = 0.05\n",
        "loss_weights = [1, lambda_param]"
      ]
    },
    {
      "cell_type": "code",
      "execution_count": 14,
      "metadata": {
        "id": "iLSulsKn0Tar"
      },
      "outputs": [],
      "source": [
        "vxm_model.compile(optimizer='Adam', loss=losses, loss_weights=loss_weights, metrics=['accuracy'])"
      ]
    },
    {
      "cell_type": "code",
      "execution_count": 15,
      "metadata": {
        "id": "PwmPqwEA0Tar"
      },
      "outputs": [],
      "source": [
        "from keras.callbacks import ModelCheckpoint, ReduceLROnPlateau,EarlyStopping\n",
        "es = EarlyStopping(monitor='val_accuracy', mode='max', min_delta=1, patience=5, verbose=1)\n",
        "#annealer = ReduceLROnPlateau(monitor=['val_accuracy','val_mse'] ,factor=0.5, patience=5, verbose=1, min_lr=1e-3)\n",
        "checkpoint = ModelCheckpoint('model.h5', verbose=1, save_best_only=True)"
      ]
    },
    {
      "cell_type": "code",
      "execution_count": 16,
      "metadata": {
        "scrolled": true,
        "id": "Mwpi1kcX0Tas",
        "outputId": "864d5d5d-0aad-48b2-af86-4bc0078aa484",
        "colab": {
          "base_uri": "https://localhost:8080/",
          "height": 397
        }
      },
      "outputs": [
        {
          "metadata": {
            "tags": null
          },
          "name": "stdout",
          "output_type": "stream",
          "text": [
            "Epoch 1/2\n"
          ]
        },
        {
          "output_type": "error",
          "ename": "KeyboardInterrupt",
          "evalue": "ignored",
          "traceback": [
            "\u001b[0;31m---------------------------------------------------------------------------\u001b[0m",
            "\u001b[0;31mKeyboardInterrupt\u001b[0m                         Traceback (most recent call last)",
            "\u001b[0;32m<ipython-input-16-9bf95aa87198>\u001b[0m in \u001b[0;36m<module>\u001b[0;34m()\u001b[0m\n\u001b[1;32m      6\u001b[0m                                \u001b[0mverbose\u001b[0m\u001b[0;34m=\u001b[0m\u001b[0;36m2\u001b[0m\u001b[0;34m,\u001b[0m\u001b[0;34m\u001b[0m\u001b[0;34m\u001b[0m\u001b[0m\n\u001b[1;32m      7\u001b[0m                                \u001b[0mcallbacks\u001b[0m\u001b[0;34m=\u001b[0m\u001b[0;34m[\u001b[0m\u001b[0mes\u001b[0m\u001b[0;34m,\u001b[0m\u001b[0mcheckpoint\u001b[0m\u001b[0;34m]\u001b[0m\u001b[0;34m,\u001b[0m\u001b[0;34m\u001b[0m\u001b[0;34m\u001b[0m\u001b[0m\n\u001b[0;32m----> 8\u001b[0;31m                                \u001b[0mvalidation_data\u001b[0m\u001b[0;34m=\u001b[0m\u001b[0mval_generator\u001b[0m\u001b[0;34m(\u001b[0m\u001b[0mdata_dir\u001b[0m\u001b[0;34m,\u001b[0m\u001b[0;36m1\u001b[0m\u001b[0;34m,\u001b[0m\u001b[0;36m1584\u001b[0m\u001b[0;34m,\u001b[0m\u001b[0;36m.3\u001b[0m\u001b[0;34m)\u001b[0m\u001b[0;34m\u001b[0m\u001b[0;34m\u001b[0m\u001b[0m\n\u001b[0m\u001b[1;32m      9\u001b[0m                     );\n",
            "\u001b[0;32m/usr/local/lib/python3.7/dist-packages/keras/utils/traceback_utils.py\u001b[0m in \u001b[0;36merror_handler\u001b[0;34m(*args, **kwargs)\u001b[0m\n\u001b[1;32m     62\u001b[0m     \u001b[0mfiltered_tb\u001b[0m \u001b[0;34m=\u001b[0m \u001b[0;32mNone\u001b[0m\u001b[0;34m\u001b[0m\u001b[0;34m\u001b[0m\u001b[0m\n\u001b[1;32m     63\u001b[0m     \u001b[0;32mtry\u001b[0m\u001b[0;34m:\u001b[0m\u001b[0;34m\u001b[0m\u001b[0;34m\u001b[0m\u001b[0m\n\u001b[0;32m---> 64\u001b[0;31m       \u001b[0;32mreturn\u001b[0m \u001b[0mfn\u001b[0m\u001b[0;34m(\u001b[0m\u001b[0;34m*\u001b[0m\u001b[0margs\u001b[0m\u001b[0;34m,\u001b[0m \u001b[0;34m**\u001b[0m\u001b[0mkwargs\u001b[0m\u001b[0;34m)\u001b[0m\u001b[0;34m\u001b[0m\u001b[0;34m\u001b[0m\u001b[0m\n\u001b[0m\u001b[1;32m     65\u001b[0m     \u001b[0;32mexcept\u001b[0m \u001b[0mException\u001b[0m \u001b[0;32mas\u001b[0m \u001b[0me\u001b[0m\u001b[0;34m:\u001b[0m  \u001b[0;31m# pylint: disable=broad-except\u001b[0m\u001b[0;34m\u001b[0m\u001b[0;34m\u001b[0m\u001b[0m\n\u001b[1;32m     66\u001b[0m       \u001b[0mfiltered_tb\u001b[0m \u001b[0;34m=\u001b[0m \u001b[0m_process_traceback_frames\u001b[0m\u001b[0;34m(\u001b[0m\u001b[0me\u001b[0m\u001b[0;34m.\u001b[0m\u001b[0m__traceback__\u001b[0m\u001b[0;34m)\u001b[0m\u001b[0;34m\u001b[0m\u001b[0;34m\u001b[0m\u001b[0m\n",
            "\u001b[0;32m/usr/local/lib/python3.7/dist-packages/keras/engine/training.py\u001b[0m in \u001b[0;36mfit\u001b[0;34m(self, x, y, batch_size, epochs, verbose, callbacks, validation_split, validation_data, shuffle, class_weight, sample_weight, initial_epoch, steps_per_epoch, validation_steps, validation_batch_size, validation_freq, max_queue_size, workers, use_multiprocessing)\u001b[0m\n\u001b[1;32m   1382\u001b[0m                 _r=1):\n\u001b[1;32m   1383\u001b[0m               \u001b[0mcallbacks\u001b[0m\u001b[0;34m.\u001b[0m\u001b[0mon_train_batch_begin\u001b[0m\u001b[0;34m(\u001b[0m\u001b[0mstep\u001b[0m\u001b[0;34m)\u001b[0m\u001b[0;34m\u001b[0m\u001b[0;34m\u001b[0m\u001b[0m\n\u001b[0;32m-> 1384\u001b[0;31m               \u001b[0mtmp_logs\u001b[0m \u001b[0;34m=\u001b[0m \u001b[0mself\u001b[0m\u001b[0;34m.\u001b[0m\u001b[0mtrain_function\u001b[0m\u001b[0;34m(\u001b[0m\u001b[0miterator\u001b[0m\u001b[0;34m)\u001b[0m\u001b[0;34m\u001b[0m\u001b[0;34m\u001b[0m\u001b[0m\n\u001b[0m\u001b[1;32m   1385\u001b[0m               \u001b[0;32mif\u001b[0m \u001b[0mdata_handler\u001b[0m\u001b[0;34m.\u001b[0m\u001b[0mshould_sync\u001b[0m\u001b[0;34m:\u001b[0m\u001b[0;34m\u001b[0m\u001b[0;34m\u001b[0m\u001b[0m\n\u001b[1;32m   1386\u001b[0m                 \u001b[0mcontext\u001b[0m\u001b[0;34m.\u001b[0m\u001b[0masync_wait\u001b[0m\u001b[0;34m(\u001b[0m\u001b[0;34m)\u001b[0m\u001b[0;34m\u001b[0m\u001b[0;34m\u001b[0m\u001b[0m\n",
            "\u001b[0;32m/usr/local/lib/python3.7/dist-packages/tensorflow/python/util/traceback_utils.py\u001b[0m in \u001b[0;36merror_handler\u001b[0;34m(*args, **kwargs)\u001b[0m\n\u001b[1;32m    148\u001b[0m     \u001b[0mfiltered_tb\u001b[0m \u001b[0;34m=\u001b[0m \u001b[0;32mNone\u001b[0m\u001b[0;34m\u001b[0m\u001b[0;34m\u001b[0m\u001b[0m\n\u001b[1;32m    149\u001b[0m     \u001b[0;32mtry\u001b[0m\u001b[0;34m:\u001b[0m\u001b[0;34m\u001b[0m\u001b[0;34m\u001b[0m\u001b[0m\n\u001b[0;32m--> 150\u001b[0;31m       \u001b[0;32mreturn\u001b[0m \u001b[0mfn\u001b[0m\u001b[0;34m(\u001b[0m\u001b[0;34m*\u001b[0m\u001b[0margs\u001b[0m\u001b[0;34m,\u001b[0m \u001b[0;34m**\u001b[0m\u001b[0mkwargs\u001b[0m\u001b[0;34m)\u001b[0m\u001b[0;34m\u001b[0m\u001b[0;34m\u001b[0m\u001b[0m\n\u001b[0m\u001b[1;32m    151\u001b[0m     \u001b[0;32mexcept\u001b[0m \u001b[0mException\u001b[0m \u001b[0;32mas\u001b[0m \u001b[0me\u001b[0m\u001b[0;34m:\u001b[0m\u001b[0;34m\u001b[0m\u001b[0;34m\u001b[0m\u001b[0m\n\u001b[1;32m    152\u001b[0m       \u001b[0mfiltered_tb\u001b[0m \u001b[0;34m=\u001b[0m \u001b[0m_process_traceback_frames\u001b[0m\u001b[0;34m(\u001b[0m\u001b[0me\u001b[0m\u001b[0;34m.\u001b[0m\u001b[0m__traceback__\u001b[0m\u001b[0;34m)\u001b[0m\u001b[0;34m\u001b[0m\u001b[0;34m\u001b[0m\u001b[0m\n",
            "\u001b[0;32m/usr/local/lib/python3.7/dist-packages/tensorflow/python/eager/def_function.py\u001b[0m in \u001b[0;36m__call__\u001b[0;34m(self, *args, **kwds)\u001b[0m\n\u001b[1;32m    913\u001b[0m \u001b[0;34m\u001b[0m\u001b[0m\n\u001b[1;32m    914\u001b[0m       \u001b[0;32mwith\u001b[0m \u001b[0mOptionalXlaContext\u001b[0m\u001b[0;34m(\u001b[0m\u001b[0mself\u001b[0m\u001b[0;34m.\u001b[0m\u001b[0m_jit_compile\u001b[0m\u001b[0;34m)\u001b[0m\u001b[0;34m:\u001b[0m\u001b[0;34m\u001b[0m\u001b[0;34m\u001b[0m\u001b[0m\n\u001b[0;32m--> 915\u001b[0;31m         \u001b[0mresult\u001b[0m \u001b[0;34m=\u001b[0m \u001b[0mself\u001b[0m\u001b[0;34m.\u001b[0m\u001b[0m_call\u001b[0m\u001b[0;34m(\u001b[0m\u001b[0;34m*\u001b[0m\u001b[0margs\u001b[0m\u001b[0;34m,\u001b[0m \u001b[0;34m**\u001b[0m\u001b[0mkwds\u001b[0m\u001b[0;34m)\u001b[0m\u001b[0;34m\u001b[0m\u001b[0;34m\u001b[0m\u001b[0m\n\u001b[0m\u001b[1;32m    916\u001b[0m \u001b[0;34m\u001b[0m\u001b[0m\n\u001b[1;32m    917\u001b[0m       \u001b[0mnew_tracing_count\u001b[0m \u001b[0;34m=\u001b[0m \u001b[0mself\u001b[0m\u001b[0;34m.\u001b[0m\u001b[0mexperimental_get_tracing_count\u001b[0m\u001b[0;34m(\u001b[0m\u001b[0;34m)\u001b[0m\u001b[0;34m\u001b[0m\u001b[0;34m\u001b[0m\u001b[0m\n",
            "\u001b[0;32m/usr/local/lib/python3.7/dist-packages/tensorflow/python/eager/def_function.py\u001b[0m in \u001b[0;36m_call\u001b[0;34m(self, *args, **kwds)\u001b[0m\n\u001b[1;32m    945\u001b[0m       \u001b[0;31m# In this case we have created variables on the first call, so we run the\u001b[0m\u001b[0;34m\u001b[0m\u001b[0;34m\u001b[0m\u001b[0;34m\u001b[0m\u001b[0m\n\u001b[1;32m    946\u001b[0m       \u001b[0;31m# defunned version which is guaranteed to never create variables.\u001b[0m\u001b[0;34m\u001b[0m\u001b[0;34m\u001b[0m\u001b[0;34m\u001b[0m\u001b[0m\n\u001b[0;32m--> 947\u001b[0;31m       \u001b[0;32mreturn\u001b[0m \u001b[0mself\u001b[0m\u001b[0;34m.\u001b[0m\u001b[0m_stateless_fn\u001b[0m\u001b[0;34m(\u001b[0m\u001b[0;34m*\u001b[0m\u001b[0margs\u001b[0m\u001b[0;34m,\u001b[0m \u001b[0;34m**\u001b[0m\u001b[0mkwds\u001b[0m\u001b[0;34m)\u001b[0m  \u001b[0;31m# pylint: disable=not-callable\u001b[0m\u001b[0;34m\u001b[0m\u001b[0;34m\u001b[0m\u001b[0m\n\u001b[0m\u001b[1;32m    948\u001b[0m     \u001b[0;32melif\u001b[0m \u001b[0mself\u001b[0m\u001b[0;34m.\u001b[0m\u001b[0m_stateful_fn\u001b[0m \u001b[0;32mis\u001b[0m \u001b[0;32mnot\u001b[0m \u001b[0;32mNone\u001b[0m\u001b[0;34m:\u001b[0m\u001b[0;34m\u001b[0m\u001b[0;34m\u001b[0m\u001b[0m\n\u001b[1;32m    949\u001b[0m       \u001b[0;31m# Release the lock early so that multiple threads can perform the call\u001b[0m\u001b[0;34m\u001b[0m\u001b[0;34m\u001b[0m\u001b[0;34m\u001b[0m\u001b[0m\n",
            "\u001b[0;32m/usr/local/lib/python3.7/dist-packages/tensorflow/python/eager/function.py\u001b[0m in \u001b[0;36m__call__\u001b[0;34m(self, *args, **kwargs)\u001b[0m\n\u001b[1;32m   2955\u001b[0m        filtered_flat_args) = self._maybe_define_function(args, kwargs)\n\u001b[1;32m   2956\u001b[0m     return graph_function._call_flat(\n\u001b[0;32m-> 2957\u001b[0;31m         filtered_flat_args, captured_inputs=graph_function.captured_inputs)  # pylint: disable=protected-access\n\u001b[0m\u001b[1;32m   2958\u001b[0m \u001b[0;34m\u001b[0m\u001b[0m\n\u001b[1;32m   2959\u001b[0m   \u001b[0;34m@\u001b[0m\u001b[0mproperty\u001b[0m\u001b[0;34m\u001b[0m\u001b[0;34m\u001b[0m\u001b[0m\n",
            "\u001b[0;32m/usr/local/lib/python3.7/dist-packages/tensorflow/python/eager/function.py\u001b[0m in \u001b[0;36m_call_flat\u001b[0;34m(self, args, captured_inputs, cancellation_manager)\u001b[0m\n\u001b[1;32m   1852\u001b[0m       \u001b[0;31m# No tape is watching; skip to running the function.\u001b[0m\u001b[0;34m\u001b[0m\u001b[0;34m\u001b[0m\u001b[0;34m\u001b[0m\u001b[0m\n\u001b[1;32m   1853\u001b[0m       return self._build_call_outputs(self._inference_function.call(\n\u001b[0;32m-> 1854\u001b[0;31m           ctx, args, cancellation_manager=cancellation_manager))\n\u001b[0m\u001b[1;32m   1855\u001b[0m     forward_backward = self._select_forward_and_backward_functions(\n\u001b[1;32m   1856\u001b[0m         \u001b[0margs\u001b[0m\u001b[0;34m,\u001b[0m\u001b[0;34m\u001b[0m\u001b[0;34m\u001b[0m\u001b[0m\n",
            "\u001b[0;32m/usr/local/lib/python3.7/dist-packages/tensorflow/python/eager/function.py\u001b[0m in \u001b[0;36mcall\u001b[0;34m(self, ctx, args, cancellation_manager)\u001b[0m\n\u001b[1;32m    502\u001b[0m               \u001b[0minputs\u001b[0m\u001b[0;34m=\u001b[0m\u001b[0margs\u001b[0m\u001b[0;34m,\u001b[0m\u001b[0;34m\u001b[0m\u001b[0;34m\u001b[0m\u001b[0m\n\u001b[1;32m    503\u001b[0m               \u001b[0mattrs\u001b[0m\u001b[0;34m=\u001b[0m\u001b[0mattrs\u001b[0m\u001b[0;34m,\u001b[0m\u001b[0;34m\u001b[0m\u001b[0;34m\u001b[0m\u001b[0m\n\u001b[0;32m--> 504\u001b[0;31m               ctx=ctx)\n\u001b[0m\u001b[1;32m    505\u001b[0m         \u001b[0;32melse\u001b[0m\u001b[0;34m:\u001b[0m\u001b[0;34m\u001b[0m\u001b[0;34m\u001b[0m\u001b[0m\n\u001b[1;32m    506\u001b[0m           outputs = execute.execute_with_cancellation(\n",
            "\u001b[0;32m/usr/local/lib/python3.7/dist-packages/tensorflow/python/eager/execute.py\u001b[0m in \u001b[0;36mquick_execute\u001b[0;34m(op_name, num_outputs, inputs, attrs, ctx, name)\u001b[0m\n\u001b[1;32m     53\u001b[0m     \u001b[0mctx\u001b[0m\u001b[0;34m.\u001b[0m\u001b[0mensure_initialized\u001b[0m\u001b[0;34m(\u001b[0m\u001b[0;34m)\u001b[0m\u001b[0;34m\u001b[0m\u001b[0;34m\u001b[0m\u001b[0m\n\u001b[1;32m     54\u001b[0m     tensors = pywrap_tfe.TFE_Py_Execute(ctx._handle, device_name, op_name,\n\u001b[0;32m---> 55\u001b[0;31m                                         inputs, attrs, num_outputs)\n\u001b[0m\u001b[1;32m     56\u001b[0m   \u001b[0;32mexcept\u001b[0m \u001b[0mcore\u001b[0m\u001b[0;34m.\u001b[0m\u001b[0m_NotOkStatusException\u001b[0m \u001b[0;32mas\u001b[0m \u001b[0me\u001b[0m\u001b[0;34m:\u001b[0m\u001b[0;34m\u001b[0m\u001b[0;34m\u001b[0m\u001b[0m\n\u001b[1;32m     57\u001b[0m     \u001b[0;32mif\u001b[0m \u001b[0mname\u001b[0m \u001b[0;32mis\u001b[0m \u001b[0;32mnot\u001b[0m \u001b[0;32mNone\u001b[0m\u001b[0;34m:\u001b[0m\u001b[0;34m\u001b[0m\u001b[0;34m\u001b[0m\u001b[0m\n",
            "\u001b[0;31mKeyboardInterrupt\u001b[0m: "
          ]
        }
      ],
      "source": [
        "nb_epochs =2\n",
        "steps_per_epoch =100\n",
        "hist = vxm_model.fit(train_generator,\n",
        "                               epochs=nb_epochs,\n",
        "                               steps_per_epoch=steps_per_epoch,\n",
        "                               verbose=2,\n",
        "                               callbacks=[es,checkpoint],\n",
        "                               validation_data=val_generator(data_dir,1,1584,.3)\n",
        "                    );"
      ]
    },
    {
      "cell_type": "code",
      "execution_count": null,
      "metadata": {
        "id": "9TpdYEVf0Tas"
      },
      "outputs": [],
      "source": [
        "vxm_model.save_weights(\"/content/drive/MyDrive/data/new/test.h5\")"
      ]
    },
    {
      "cell_type": "code",
      "source": [
        "with open('/trainHistoryDict', 'wb') as file_pi:\n",
        "     pickle.dump(history.history, file_pi)"
      ],
      "metadata": {
        "id": "os3ZIIP7uoI7"
      },
      "execution_count": null,
      "outputs": []
    },
    {
      "cell_type": "code",
      "source": [
        "vxm_model.save_weights(\"/content/drive/MyDrive/data/new/MSE_la0_model2.h5\")"
      ],
      "metadata": {
        "id": "-jgJrCcGdfei"
      },
      "execution_count": null,
      "outputs": []
    },
    {
      "cell_type": "code",
      "execution_count": null,
      "metadata": {
        "id": "flVUoksh0Tat"
      },
      "outputs": [],
      "source": [
        "def plot_history(hist, loss_name='loss'):\n",
        "    # Simple function to plot training history.\n",
        "    plt.figure()\n",
        "    plt.plot(hist.epoch, hist.history[loss_name], '.-')\n",
        "    plt.ylabel('loss')\n",
        "    plt.xlabel('epoch')\n",
        "    plt.show()\n"
      ]
    },
    {
      "cell_type": "code",
      "execution_count": null,
      "metadata": {
        "id": "M_Navfe80Tat"
      },
      "outputs": [],
      "source": [
        "print(history.history.keys())"
      ]
    },
    {
      "cell_type": "code",
      "execution_count": null,
      "metadata": {
        "id": "GyidT-ng0Tau",
        "outputId": "5df308d6-395e-4867-d28c-f41ee478e353",
        "colab": {
          "base_uri": "https://localhost:8080/",
          "height": 283
        }
      },
      "outputs": [
        {
          "output_type": "display_data",
          "data": {
            "image/png": "[encoded data removed]",
            "text/plain": [
              "<Figure size 432x288 with 1 Axes>"
            ]
          },
          "metadata": {
            "needs_background": "light"
          }
        }
      ],
      "source": [
        "\n",
        "plot_history(hist)"
      ]
    },
    {
      "cell_type": "code",
      "execution_count": null,
      "metadata": {
        "id": "OS_d7ebW0Tau"
      },
      "outputs": [],
      "source": [
        "data_dir_TEST='/home/mahdi/Desktop/data_selection_D7'"
      ]
    },
    {
      "cell_type": "code",
      "execution_count": null,
      "metadata": {
        "id": "lyGKUTue0Tau"
      },
      "outputs": [],
      "source": [
        "# let's get some data\n",
        "val_generator = data_generator(data_dir_TEST,32,m,.3)\n",
        "val_input, _ = next(val_generator)"
      ]
    },
    {
      "cell_type": "code",
      "execution_count": null,
      "metadata": {
        "id": "6qJXWceq0Tav"
      },
      "outputs": [],
      "source": [
        "val_pred = vxm_model.predict(val_input)"
      ]
    },
    {
      "cell_type": "code",
      "execution_count": null,
      "metadata": {
        "id": "9qQMN3v10Tav"
      },
      "outputs": [],
      "source": [
        "# visualize\n",
        "images = [img[18, :, :, 0] for img in val_input + val_pred] \n",
        "titles = ['moving', 'fixed', 'moved', 'flow']\n",
        "ne.plot.slices(images, titles=titles, cmaps=['gray'], do_colorbars=True);"
      ]
    },
    {
      "cell_type": "code",
      "execution_count": null,
      "metadata": {
        "id": "CWsn84Ux0Tav"
      },
      "outputs": [],
      "source": [
        "ne.plot.flow([val_pred[1][18].squeeze()], width=10)"
      ]
    },
    {
      "cell_type": "code",
      "execution_count": null,
      "metadata": {
        "id": "KwXQkGbB0Taw"
      },
      "outputs": [],
      "source": [
        ""
      ]
    }
  ],
  "metadata": {
    "kernelspec": {
      "display_name": "Python 3",
      "language": "python",
      "name": "python3"
    },
    "language_info": {
      "codemirror_mode": {
        "name": "ipython",
        "version": 3
      },
      "file_extension": ".py",
      "mimetype": "text/x-python",
      "name": "python",
      "nbconvert_exporter": "python",
      "pygments_lexer": "ipython3",
      "version": "3.7.9"
    },
    "colab": {
      "name": "train_with validation data.ipynb",
      "provenance": []
    },
    "accelerator": "GPU"
  },
  "nbformat": 4,
  "nbformat_minor": 0
}