{
  "cells": [
    {
      "cell_type": "markdown",
      "source": [
        "[![Open In Colab](https://colab.research.google.com/assets/colab-badge.svg)](https://colab.research.google.com/github/mahdimplus/DeepRetroMoco/blob/main/network/train_with_validtiondatafunctions.ipynb)"
      ],
      "metadata": {
        "id": "CouPttSA0YgZ"
      }
    },
    {
      "cell_type": "code",
      "source": [
        "from google.colab import drive\n",
        "drive.mount('/content/drive')\n",
        "\n"
      ],
      "metadata": {
        "id": "-rzBTKnjJmAs",
        "outputId": "92e5473a-1bc6-4f5c-c641-360a8310546b",
        "colab": {
          "base_uri": "https://localhost:8080/",
          "height": 352
        }
      },
      "execution_count": 1,
      "outputs": [
        {
          "output_type": "error",
          "ename": "MessageError",
          "evalue": "ignored",
          "traceback": [
            "\u001b[0;31m---------------------------------------------------------------------------\u001b[0m",
            "\u001b[0;31mMessageError\u001b[0m                              Traceback (most recent call last)",
            "\u001b[0;32m<ipython-input-1-b80391d2b2cf>\u001b[0m in \u001b[0;36m<module>\u001b[0;34m()\u001b[0m\n\u001b[1;32m      1\u001b[0m \u001b[0;32mfrom\u001b[0m \u001b[0mgoogle\u001b[0m\u001b[0;34m.\u001b[0m\u001b[0mcolab\u001b[0m \u001b[0;32mimport\u001b[0m \u001b[0mdrive\u001b[0m\u001b[0;34m\u001b[0m\u001b[0;34m\u001b[0m\u001b[0m\n\u001b[0;32m----> 2\u001b[0;31m \u001b[0mdrive\u001b[0m\u001b[0;34m.\u001b[0m\u001b[0mmount\u001b[0m\u001b[0;34m(\u001b[0m\u001b[0;34m'/content/drive'\u001b[0m\u001b[0;34m)\u001b[0m\u001b[0;34m\u001b[0m\u001b[0;34m\u001b[0m\u001b[0m\n\u001b[0m\u001b[1;32m      3\u001b[0m \u001b[0;34m\u001b[0m\u001b[0m\n",
            "\u001b[0;32m/usr/local/lib/python3.7/dist-packages/google/colab/drive.py\u001b[0m in \u001b[0;36mmount\u001b[0;34m(mountpoint, force_remount, timeout_ms, use_metadata_server)\u001b[0m\n\u001b[1;32m    113\u001b[0m       \u001b[0mforce_remount\u001b[0m\u001b[0;34m=\u001b[0m\u001b[0mforce_remount\u001b[0m\u001b[0;34m,\u001b[0m\u001b[0;34m\u001b[0m\u001b[0;34m\u001b[0m\u001b[0m\n\u001b[1;32m    114\u001b[0m       \u001b[0mtimeout_ms\u001b[0m\u001b[0;34m=\u001b[0m\u001b[0mtimeout_ms\u001b[0m\u001b[0;34m,\u001b[0m\u001b[0;34m\u001b[0m\u001b[0;34m\u001b[0m\u001b[0m\n\u001b[0;32m--> 115\u001b[0;31m       ephemeral=True)\n\u001b[0m\u001b[1;32m    116\u001b[0m \u001b[0;34m\u001b[0m\u001b[0m\n\u001b[1;32m    117\u001b[0m \u001b[0;34m\u001b[0m\u001b[0m\n",
            "\u001b[0;32m/usr/local/lib/python3.7/dist-packages/google/colab/drive.py\u001b[0m in \u001b[0;36m_mount\u001b[0;34m(mountpoint, force_remount, timeout_ms, use_metadata_server, ephemeral)\u001b[0m\n\u001b[1;32m    133\u001b[0m   \u001b[0;32mif\u001b[0m \u001b[0mephemeral\u001b[0m\u001b[0;34m:\u001b[0m\u001b[0;34m\u001b[0m\u001b[0;34m\u001b[0m\u001b[0m\n\u001b[1;32m    134\u001b[0m     _message.blocking_request(\n\u001b[0;32m--> 135\u001b[0;31m         'request_auth', request={'authType': 'dfs_ephemeral'}, timeout_sec=None)\n\u001b[0m\u001b[1;32m    136\u001b[0m \u001b[0;34m\u001b[0m\u001b[0m\n\u001b[1;32m    137\u001b[0m   \u001b[0mmountpoint\u001b[0m \u001b[0;34m=\u001b[0m \u001b[0m_os\u001b[0m\u001b[0;34m.\u001b[0m\u001b[0mpath\u001b[0m\u001b[0;34m.\u001b[0m\u001b[0mexpanduser\u001b[0m\u001b[0;34m(\u001b[0m\u001b[0mmountpoint\u001b[0m\u001b[0;34m)\u001b[0m\u001b[0;34m\u001b[0m\u001b[0;34m\u001b[0m\u001b[0m\n",
            "\u001b[0;32m/usr/local/lib/python3.7/dist-packages/google/colab/_message.py\u001b[0m in \u001b[0;36mblocking_request\u001b[0;34m(request_type, request, timeout_sec, parent)\u001b[0m\n\u001b[1;32m    173\u001b[0m   request_id = send_request(\n\u001b[1;32m    174\u001b[0m       request_type, request, parent=parent, expect_reply=True)\n\u001b[0;32m--> 175\u001b[0;31m   \u001b[0;32mreturn\u001b[0m \u001b[0mread_reply_from_input\u001b[0m\u001b[0;34m(\u001b[0m\u001b[0mrequest_id\u001b[0m\u001b[0;34m,\u001b[0m \u001b[0mtimeout_sec\u001b[0m\u001b[0;34m)\u001b[0m\u001b[0;34m\u001b[0m\u001b[0;34m\u001b[0m\u001b[0m\n\u001b[0m",
            "\u001b[0;32m/usr/local/lib/python3.7/dist-packages/google/colab/_message.py\u001b[0m in \u001b[0;36mread_reply_from_input\u001b[0;34m(message_id, timeout_sec)\u001b[0m\n\u001b[1;32m    104\u001b[0m         reply.get('colab_msg_id') == message_id):\n\u001b[1;32m    105\u001b[0m       \u001b[0;32mif\u001b[0m \u001b[0;34m'error'\u001b[0m \u001b[0;32min\u001b[0m \u001b[0mreply\u001b[0m\u001b[0;34m:\u001b[0m\u001b[0;34m\u001b[0m\u001b[0;34m\u001b[0m\u001b[0m\n\u001b[0;32m--> 106\u001b[0;31m         \u001b[0;32mraise\u001b[0m \u001b[0mMessageError\u001b[0m\u001b[0;34m(\u001b[0m\u001b[0mreply\u001b[0m\u001b[0;34m[\u001b[0m\u001b[0;34m'error'\u001b[0m\u001b[0;34m]\u001b[0m\u001b[0;34m)\u001b[0m\u001b[0;34m\u001b[0m\u001b[0;34m\u001b[0m\u001b[0m\n\u001b[0m\u001b[1;32m    107\u001b[0m       \u001b[0;32mreturn\u001b[0m \u001b[0mreply\u001b[0m\u001b[0;34m.\u001b[0m\u001b[0mget\u001b[0m\u001b[0;34m(\u001b[0m\u001b[0;34m'data'\u001b[0m\u001b[0;34m,\u001b[0m \u001b[0;32mNone\u001b[0m\u001b[0;34m)\u001b[0m\u001b[0;34m\u001b[0m\u001b[0;34m\u001b[0m\u001b[0m\n\u001b[1;32m    108\u001b[0m \u001b[0;34m\u001b[0m\u001b[0m\n",
            "\u001b[0;31mMessageError\u001b[0m: Error: credential propagation was unsuccessful"
          ]
        }
      ]
    },
    {
      "cell_type": "code",
      "source": [
        "!apt-get install -y -qq software-properties-common python-software-properties module-init-tools\n",
        "!add-apt-repository -y ppa:alessandro-strada/ppa 2>&1 > /dev/null\n",
        "!apt-get update -qq 2>&1 > /dev/null\n",
        "!apt-get -y install -qq google-drive-ocamlfuse fuse\n",
        "from google.colab import auth\n",
        "auth.authenticate_user()\n",
        "from oauth2client.client import GoogleCredentials\n",
        "creds = GoogleCredentials.get_application_default()\n",
        "import getpass\n",
        "!google-drive-ocamlfuse -headless -id={creds.client_id} -secret={creds.client_secret} < /dev/null 2>&1 | grep URL\n",
        "vcode = getpass.getpass()\n",
        "!echo {vcode} | google-drive-ocamlfuse -headless -id={creds.client_id} -secret={creds.client_secret}\n",
        "%cd /content\n",
        "!mkdir drive\n",
        "%cd drive\n",
        "!mkdir MyDrive\n",
        "%cd ..\n",
        "%cd ..\n",
        "!google-drive-ocamlfuse /content/drive/MyDrive"
      ],
      "metadata": {
        "id": "sMjV-kBrjccB"
      },
      "execution_count": null,
      "outputs": []
    },
    {
      "cell_type": "code",
      "source": [
        "pip install voxelmorph\n"
      ],
      "metadata": {
        "id": "80X4he9ILFFL",
        "outputId": "3e7c1028-f5de-4a1e-db5e-78b47222ff06",
        "colab": {
          "base_uri": "https://localhost:8080/"
        }
      },
      "execution_count": null,
      "outputs": [
        {
          "output_type": "stream",
          "name": "stdout",
          "text": [
            "Collecting voxelmorph\n",
            "  Downloading voxelmorph-0.1-py3-none-any.whl (75 kB)\n",
            "\u001b[?25l\r\u001b[K     |████▍                           | 10 kB 19.4 MB/s eta 0:00:01\r\u001b[K     |████████▊                       | 20 kB 11.5 MB/s eta 0:00:01\r\u001b[K     |█████████████                   | 30 kB 9.1 MB/s eta 0:00:01\r\u001b[K     |█████████████████▌              | 40 kB 8.2 MB/s eta 0:00:01\r\u001b[K     |█████████████████████▉          | 51 kB 4.6 MB/s eta 0:00:01\r\u001b[K     |██████████████████████████▏     | 61 kB 5.5 MB/s eta 0:00:01\r\u001b[K     |██████████████████████████████▌ | 71 kB 5.8 MB/s eta 0:00:01\r\u001b[K     |████████████████████████████████| 75 kB 2.5 MB/s \n",
            "\u001b[?25hRequirement already satisfied: scikit-image in /usr/local/lib/python3.7/dist-packages (from voxelmorph) (0.18.3)\n",
            "Requirement already satisfied: h5py in /usr/local/lib/python3.7/dist-packages (from voxelmorph) (3.1.0)\n",
            "Requirement already satisfied: numpy in /usr/local/lib/python3.7/dist-packages (from voxelmorph) (1.21.5)\n",
            "Collecting neurite\n",
            "  Downloading neurite-0.1-py3-none-any.whl (86 kB)\n",
            "\u001b[K     |████████████████████████████████| 86 kB 5.5 MB/s \n",
            "\u001b[?25hRequirement already satisfied: scipy in /usr/local/lib/python3.7/dist-packages (from voxelmorph) (1.4.1)\n",
            "Requirement already satisfied: nibabel in /usr/local/lib/python3.7/dist-packages (from voxelmorph) (3.0.2)\n",
            "Requirement already satisfied: cached-property in /usr/local/lib/python3.7/dist-packages (from h5py->voxelmorph) (1.5.2)\n",
            "Requirement already satisfied: six in /usr/local/lib/python3.7/dist-packages (from neurite->voxelmorph) (1.15.0)\n",
            "Collecting pystrum\n",
            "  Downloading pystrum-0.1-py3-none-any.whl (18 kB)\n",
            "Requirement already satisfied: matplotlib in /usr/local/lib/python3.7/dist-packages (from neurite->voxelmorph) (3.2.2)\n",
            "Requirement already satisfied: scikit-learn in /usr/local/lib/python3.7/dist-packages (from neurite->voxelmorph) (1.0.2)\n",
            "Requirement already satisfied: tqdm in /usr/local/lib/python3.7/dist-packages (from neurite->voxelmorph) (4.62.3)\n",
            "Requirement already satisfied: cycler>=0.10 in /usr/local/lib/python3.7/dist-packages (from matplotlib->neurite->voxelmorph) (0.11.0)\n",
            "Requirement already satisfied: kiwisolver>=1.0.1 in /usr/local/lib/python3.7/dist-packages (from matplotlib->neurite->voxelmorph) (1.3.2)\n",
            "Requirement already satisfied: python-dateutil>=2.1 in /usr/local/lib/python3.7/dist-packages (from matplotlib->neurite->voxelmorph) (2.8.2)\n",
            "Requirement already satisfied: pyparsing!=2.0.4,!=2.1.2,!=2.1.6,>=2.0.1 in /usr/local/lib/python3.7/dist-packages (from matplotlib->neurite->voxelmorph) (3.0.7)\n",
            "Requirement already satisfied: tifffile>=2019.7.26 in /usr/local/lib/python3.7/dist-packages (from scikit-image->voxelmorph) (2021.11.2)\n",
            "Requirement already satisfied: networkx>=2.0 in /usr/local/lib/python3.7/dist-packages (from scikit-image->voxelmorph) (2.6.3)\n",
            "Requirement already satisfied: pillow!=7.1.0,!=7.1.1,>=4.3.0 in /usr/local/lib/python3.7/dist-packages (from scikit-image->voxelmorph) (7.1.2)\n",
            "Requirement already satisfied: PyWavelets>=1.1.1 in /usr/local/lib/python3.7/dist-packages (from scikit-image->voxelmorph) (1.2.0)\n",
            "Requirement already satisfied: imageio>=2.3.0 in /usr/local/lib/python3.7/dist-packages (from scikit-image->voxelmorph) (2.4.1)\n",
            "Requirement already satisfied: threadpoolctl>=2.0.0 in /usr/local/lib/python3.7/dist-packages (from scikit-learn->neurite->voxelmorph) (3.1.0)\n",
            "Requirement already satisfied: joblib>=0.11 in /usr/local/lib/python3.7/dist-packages (from scikit-learn->neurite->voxelmorph) (1.1.0)\n",
            "Installing collected packages: pystrum, neurite, voxelmorph\n",
            "Successfully installed neurite-0.1 pystrum-0.1 voxelmorph-0.1\n"
          ]
        }
      ]
    },
    {
      "cell_type": "code",
      "execution_count": null,
      "metadata": {
        "id": "mXdTYidN0Tac"
      },
      "outputs": [],
      "source": [
        "# imports\n",
        "# local imports\n",
        "import voxelmorph as vxm\n",
        "import neurite as ne\n",
        "import os, sys\n",
        "\n",
        "# third party imports\n",
        "import numpy as np\n",
        "import tensorflow as tf\n",
        "assert tf.__version__.startswith('2.'), 'This tutorial assumes Tensorflow 2.0+'\n",
        "import matplotlib.pyplot as plt\n",
        "import cv2\n",
        "\n",
        "%matplotlib inline\n",
        "import nibabel as nib\n",
        "\n",
        "#import nbimporter\n",
        "#from functions import *\n"
      ]
    },
    {
      "cell_type": "code",
      "execution_count": null,
      "metadata": {
        "id": "fzES90Vp0Tai"
      },
      "outputs": [],
      "source": [
        "#m=maxx(data_dir)\n",
        "m=1584 "
      ]
    },
    {
      "cell_type": "code",
      "source": [
        "import random\n",
        "def load_m (file_path):\n",
        "    \n",
        "    img = nib.load(file_path)\n",
        "    img_data = img.get_fdata()\n",
        "    \n",
        "    if img.shape[0:2]!=(64,64):\n",
        "    \n",
        "        img_data = img_data[23:87,23:87,:,:]\n",
        "        \n",
        "    if not (file_path.endswith(\".nii\") or file_path.endswith(\".nii.gz\")):\n",
        "        raise ValueError(\n",
        "              f\"Nifti file path must end with .nii or .nii.gz, got {file_path}.\"\n",
        "                        )\n",
        "    return img_data \n",
        "def count (data_dir):\n",
        "    train_dir = os.path.join(data_dir)\n",
        "\n",
        "    train_data_num = []\n",
        "    for file in os.listdir(train_dir):\n",
        "            train_data_num.append([file])\n",
        "    train_data_num=np.array(train_data_num) \n",
        "    n=train_data_num.shape[0] \n",
        "\n",
        "    return n,train_data_num"
      ],
      "metadata": {
        "id": "B4ghNO6uS9Fw"
      },
      "execution_count": null,
      "outputs": []
    },
    {
      "cell_type": "code",
      "source": [
        "def data_generator(data_dir, batch_size,m,split):\n",
        "    \"\"\"4\n",
        "    Generator that takes in data of size [N, H, W], and yields data for\n",
        "    our custom vxm model. Note that we need to provide numpy data for each\n",
        "    input, and each output.\n",
        "\n",
        "    inputs:  moving [bs, H, W, 1], fixed image [bs, H, W, 1]\n",
        "    outputs: moved image [bs, H, W, 1], zero-gradient [bs, H, W, 2]\n",
        "    \n",
        "    m= maximum between all subject \n",
        "    split= percent of validation data\n",
        "    \n",
        "    \n",
        "    \"\"\"\n",
        "    \n",
        "    n,train_data_num=count(data_dir)\n",
        "    n_train=n-int(split*n)\n",
        " \n",
        "    \n",
        "    subject_ID=random.randint(0,n_train-1)\n",
        "    d=load_m(data_dir+'/'+str(train_data_num[subject_ID][0]))\n",
        "\n",
        "    \n",
        "    s=d.shape[2]\n",
        "    slice_ID =random.randint(0,s-1)\n",
        "    v=d.shape[3]\n",
        "    \n",
        " # preliminary sizing\n",
        "    vol_shape = d.shape[:2] # extract data shape\n",
        "    ndims = len(vol_shape)\n",
        "    \n",
        "    \n",
        "    d=d[:,:,slice_ID,:]\n",
        "    d = np.einsum('jki->ijk', d)\n",
        "\n",
        "    \n",
        "    \n",
        "   \n",
        "    \n",
        "    # prepare a zero array the size of the deformation\n",
        "    # we'll explain this below\n",
        "    zero_phi = np.zeros([batch_size, *vol_shape, ndims])\n",
        "    \n",
        "    while True:\n",
        "        # prepare inputs:\n",
        "        # images need to be of the size [batch_size, H, W, 1]\n",
        "        idx1 = np.random.randint(0, v, size=batch_size)\n",
        "        moving_images = d[idx1, ..., np.newaxis]\n",
        "        moving_images=moving_images/m\n",
        "        \n",
        "        idx2 = np.random.randint(0, v, size=batch_size)\n",
        "        fixed_images = d[idx2, ..., np.newaxis]\n",
        "        fixed_images=fixed_images/m\n",
        "        \n",
        "        inputs = [moving_images, fixed_images]\n",
        "        \n",
        "        # prepare outputs (the 'true' moved image):\n",
        "        # of course, we don't have this, but we know we want to compare \n",
        "        # the resulting moved image with the fixed image. \n",
        "        # we also wish to penalize the deformation field. \n",
        "        outputs = [fixed_images, zero_phi]\n",
        "        \n",
        "        yield (inputs, outputs)\n",
        "\n",
        "\n",
        "\n",
        "def val_generator(data_dir, batch_size,m,split):\n",
        "  \n",
        "    n,train_data_num=count(data_dir)\n",
        "    n_train=n-int(split*n)\n",
        "    a=n_train\n",
        "    \n",
        "    \n",
        "    subject_ID=random.randint(a,n-1)\n",
        "    d=load_m(data_dir+'/'+str(train_data_num[subject_ID][0]))\n",
        "\n",
        "    \n",
        "    s=d.shape[2]\n",
        "    slice_ID =random.randint(0,s-1)\n",
        "    v=d.shape[3]\n",
        "    \n",
        "    # preliminary sizing\n",
        "    vol_shape = d.shape[:2] # extract data shape\n",
        "    ndims = len(vol_shape)\n",
        "    \n",
        "    \n",
        "    d=d[:,:,slice_ID,:]\n",
        "    d = np.einsum('jki->ijk', d)\n",
        "\n",
        " \n",
        "    # prepare a zero array the size of the deformation\n",
        "    # we'll explain this below\n",
        "    zero_phi = np.zeros([batch_size, *vol_shape, ndims])\n",
        "    \n",
        "    # prepare inputs:\n",
        "    # images need to be of the size [batch_size, H, W, 1]\n",
        "    idx1 = np.random.randint(0, v, size=batch_size)\n",
        "    moving_images = d[idx1, ..., np.newaxis]\n",
        "    moving_images=moving_images/m\n",
        "\n",
        "    idx2 = np.random.randint(0, v, size=batch_size)\n",
        "    fixed_images = d[idx2, ..., np.newaxis]\n",
        "    fixed_images=fixed_images/m\n",
        "\n",
        "    inputs = [moving_images, fixed_images]\n",
        "\n",
        "    # prepare outputs (the 'true' moved image):\n",
        "    # of course, we don't have this, but we know we want to compare \n",
        "    # the resulting moved image with the fixed image. \n",
        "    # we also wish to penalize the deformation field. \n",
        "    outputs = [fixed_images,zero_phi]\n",
        "\n",
        "    return (inputs, outputs)\n",
        "\n",
        "\n",
        "\n",
        "\n",
        "\n"
      ],
      "metadata": {
        "id": "KPxDR9SZSxxi"
      },
      "execution_count": null,
      "outputs": []
    },
    {
      "cell_type": "code",
      "source": [
        "data_dir='/content/drive/MyDrive/data/data selection_D1'"
      ],
      "metadata": {
        "id": "SSerd10qT06W"
      },
      "execution_count": null,
      "outputs": []
    },
    {
      "cell_type": "code",
      "execution_count": null,
      "metadata": {
        "id": "I9b6tv3m0Taj",
        "outputId": "ffdb5cbb-505a-4693-a7b6-1d9b60f959e6",
        "colab": {
          "base_uri": "https://localhost:8080/",
          "height": 267
        }
      },
      "outputs": [
        {
          "output_type": "display_data",
          "data": {
            "image/png": "[encoded data removed]",
            "text/plain": [
              "<Figure size 1080x270 with 8 Axes>"
            ]
          },
          "metadata": {
            "needs_background": "light"
          }
        }
      ],
      "source": [
        "split=0.3  # it means 70% for train and 30% for validation\n",
        "\n",
        "\n",
        "train_generator = data_generator(data_dir,100,m,split)\n",
        "in_sample, out_sample = next(train_generator)\n",
        "\n",
        "# visualize\n",
        "images = [img[0, :, :, 0] for img in in_sample + out_sample] \n",
        "titles = ['moving', 'fixed', 'moved ground-truth (fixed)', 'zeros']\n",
        "ne.plot.slices(images, titles=titles, cmaps=['gray'], do_colorbars=True);\n"
      ]
    },
    {
      "cell_type": "code",
      "execution_count": null,
      "metadata": {
        "id": "bwSxd8fu0Tal"
      },
      "outputs": [],
      "source": [
        "# configure unet input shape (concatenation of moving and fixed images)\n",
        "ndim = 2\n",
        "unet_input_features = 2\n",
        "# data shape 64*64\n",
        "s=in_sample[0].shape[1:3]\n",
        "inshape = (*s, unet_input_features)\n",
        "\n",
        "# configure unet features \n",
        "# nb_features = [\n",
        "#    [64, 64, 64, 64],         # encoder features\n",
        "#    [64, 64, 64, 64, 64, 32,16]  # decoder features\n",
        "#]\n",
        "\n",
        "nb_features = [\n",
        "    [32, 32, 32, 32],         # encoder features\n",
        "    [32, 32, 32, 32, 32,16]  # decoder features\n",
        "            ]"
      ]
    },
    {
      "cell_type": "code",
      "execution_count": null,
      "metadata": {
        "id": "vN0tjwud0Tam",
        "outputId": "d3dfdf5e-ac67-492e-a3fb-09e535f92bbb",
        "colab": {
          "base_uri": "https://localhost:8080/"
        }
      },
      "outputs": [
        {
          "output_type": "execute_result",
          "data": {
            "text/plain": [
              "(64, 64)"
            ]
          },
          "metadata": {},
          "execution_count": 10
        }
      ],
      "source": [
        "s"
      ]
    },
    {
      "cell_type": "code",
      "execution_count": null,
      "metadata": {
        "id": "6JVD05Hx0Tan",
        "outputId": "89aed9af-77a2-4961-c171-560664fd83bf",
        "colab": {
          "base_uri": "https://localhost:8080/"
        }
      },
      "outputs": [
        {
          "metadata": {
            "tags": null
          },
          "name": "stdout",
          "output_type": "stream",
          "text": [
            "WARNING:tensorflow:From /usr/local/lib/python3.7/dist-packages/tensorflow/python/util/deprecation.py:616: calling map_fn_v2 (from tensorflow.python.ops.map_fn) with dtype is deprecated and will be removed in a future version.\n",
            "Instructions for updating:\n",
            "Use fn_output_signature instead\n"
          ]
        }
      ],
      "source": [
        "# build model using VxmDense\n",
        "inshape =s\n",
        "vxm_model = vxm.networks.VxmDense(inshape, nb_features, int_steps=0)"
      ]
    },
    {
      "cell_type": "code",
      "execution_count": null,
      "metadata": {
        "scrolled": true,
        "id": "U-dO1Opg0Tap",
        "outputId": "20924146-09a6-4df6-c4a6-47490d5acf92",
        "colab": {
          "base_uri": "https://localhost:8080/"
        }
      },
      "outputs": [
        {
          "output_type": "stream",
          "name": "stdout",
          "text": [
            "Model: \"vxm_dense\"\n",
            "__________________________________________________________________________________________________\n",
            " Layer (type)                   Output Shape         Param #     Connected to                     \n",
            "==================================================================================================\n",
            " source_input (InputLayer)      [(None, 64, 64, 1)]  0           []                               \n",
            "                                                                                                  \n",
            " target_input (InputLayer)      [(None, 64, 64, 1)]  0           []                               \n",
            "                                                                                                  \n",
            " unet_input_concat (Concatenate  (None, 64, 64, 2)   0           ['source_input[0][0]',           \n",
            " )                                                                'target_input[0][0]']           \n",
            "                                                                                                  \n",
            " unet_enc_conv_0_0 (Conv2D)     (None, 64, 64, 32)   608         ['unet_input_concat[0][0]']      \n",
            "                                                                                                  \n",
            " unet_enc_conv_0_0_activation (  (None, 64, 64, 32)  0           ['unet_enc_conv_0_0[0][0]']      \n",
            " LeakyReLU)                                                                                       \n",
            "                                                                                                  \n",
            " unet_enc_pooling_0 (MaxPooling  (None, 32, 32, 32)  0           ['unet_enc_conv_0_0_activation[0]\n",
            " 2D)                                                             [0]']                            \n",
            "                                                                                                  \n",
            " unet_enc_conv_1_0 (Conv2D)     (None, 32, 32, 32)   9248        ['unet_enc_pooling_0[0][0]']     \n",
            "                                                                                                  \n",
            " unet_enc_conv_1_0_activation (  (None, 32, 32, 32)  0           ['unet_enc_conv_1_0[0][0]']      \n",
            " LeakyReLU)                                                                                       \n",
            "                                                                                                  \n",
            " unet_enc_pooling_1 (MaxPooling  (None, 16, 16, 32)  0           ['unet_enc_conv_1_0_activation[0]\n",
            " 2D)                                                             [0]']                            \n",
            "                                                                                                  \n",
            " unet_enc_conv_2_0 (Conv2D)     (None, 16, 16, 32)   9248        ['unet_enc_pooling_1[0][0]']     \n",
            "                                                                                                  \n",
            " unet_enc_conv_2_0_activation (  (None, 16, 16, 32)  0           ['unet_enc_conv_2_0[0][0]']      \n",
            " LeakyReLU)                                                                                       \n",
            "                                                                                                  \n",
            " unet_enc_pooling_2 (MaxPooling  (None, 8, 8, 32)    0           ['unet_enc_conv_2_0_activation[0]\n",
            " 2D)                                                             [0]']                            \n",
            "                                                                                                  \n",
            " unet_enc_conv_3_0 (Conv2D)     (None, 8, 8, 32)     9248        ['unet_enc_pooling_2[0][0]']     \n",
            "                                                                                                  \n",
            " unet_enc_conv_3_0_activation (  (None, 8, 8, 32)    0           ['unet_enc_conv_3_0[0][0]']      \n",
            " LeakyReLU)                                                                                       \n",
            "                                                                                                  \n",
            " unet_enc_pooling_3 (MaxPooling  (None, 4, 4, 32)    0           ['unet_enc_conv_3_0_activation[0]\n",
            " 2D)                                                             [0]']                            \n",
            "                                                                                                  \n",
            " unet_dec_conv_3_0 (Conv2D)     (None, 4, 4, 32)     9248        ['unet_enc_pooling_3[0][0]']     \n",
            "                                                                                                  \n",
            " unet_dec_conv_3_0_activation (  (None, 4, 4, 32)    0           ['unet_dec_conv_3_0[0][0]']      \n",
            " LeakyReLU)                                                                                       \n",
            "                                                                                                  \n",
            " unet_dec_upsample_3 (UpSamplin  (None, 8, 8, 32)    0           ['unet_dec_conv_3_0_activation[0]\n",
            " g2D)                                                            [0]']                            \n",
            "                                                                                                  \n",
            " unet_dec_upsample_3_concat (Co  (None, 8, 8, 64)    0           ['unet_dec_upsample_3[0][0]',    \n",
            " ncatenate)                                                       'unet_enc_conv_3_0_activation[0]\n",
            "                                                                 [0]']                            \n",
            "                                                                                                  \n",
            " unet_dec_conv_2_0 (Conv2D)     (None, 8, 8, 32)     18464       ['unet_dec_upsample_3_concat[0][0\n",
            "                                                                 ]']                              \n",
            "                                                                                                  \n",
            " unet_dec_conv_2_0_activation (  (None, 8, 8, 32)    0           ['unet_dec_conv_2_0[0][0]']      \n",
            " LeakyReLU)                                                                                       \n",
            "                                                                                                  \n",
            " unet_dec_upsample_2 (UpSamplin  (None, 16, 16, 32)  0           ['unet_dec_conv_2_0_activation[0]\n",
            " g2D)                                                            [0]']                            \n",
            "                                                                                                  \n",
            " unet_dec_upsample_2_concat (Co  (None, 16, 16, 64)  0           ['unet_dec_upsample_2[0][0]',    \n",
            " ncatenate)                                                       'unet_enc_conv_2_0_activation[0]\n",
            "                                                                 [0]']                            \n",
            "                                                                                                  \n",
            " unet_dec_conv_1_0 (Conv2D)     (None, 16, 16, 32)   18464       ['unet_dec_upsample_2_concat[0][0\n",
            "                                                                 ]']                              \n",
            "                                                                                                  \n",
            " unet_dec_conv_1_0_activation (  (None, 16, 16, 32)  0           ['unet_dec_conv_1_0[0][0]']      \n",
            " LeakyReLU)                                                                                       \n",
            "                                                                                                  \n",
            " unet_dec_upsample_1 (UpSamplin  (None, 32, 32, 32)  0           ['unet_dec_conv_1_0_activation[0]\n",
            " g2D)                                                            [0]']                            \n",
            "                                                                                                  \n",
            " unet_dec_upsample_1_concat (Co  (None, 32, 32, 64)  0           ['unet_dec_upsample_1[0][0]',    \n",
            " ncatenate)                                                       'unet_enc_conv_1_0_activation[0]\n",
            "                                                                 [0]']                            \n",
            "                                                                                                  \n",
            " unet_dec_conv_0_0 (Conv2D)     (None, 32, 32, 32)   18464       ['unet_dec_upsample_1_concat[0][0\n",
            "                                                                 ]']                              \n",
            "                                                                                                  \n",
            " unet_dec_conv_0_0_activation (  (None, 32, 32, 32)  0           ['unet_dec_conv_0_0[0][0]']      \n",
            " LeakyReLU)                                                                                       \n",
            "                                                                                                  \n",
            " unet_dec_upsample_0 (UpSamplin  (None, 64, 64, 32)  0           ['unet_dec_conv_0_0_activation[0]\n",
            " g2D)                                                            [0]']                            \n",
            "                                                                                                  \n",
            " unet_dec_upsample_0_concat (Co  (None, 64, 64, 64)  0           ['unet_dec_upsample_0[0][0]',    \n",
            " ncatenate)                                                       'unet_enc_conv_0_0_activation[0]\n",
            "                                                                 [0]']                            \n",
            "                                                                                                  \n",
            " unet_dec_final_conv_0 (Conv2D)  (None, 64, 64, 32)  18464       ['unet_dec_upsample_0_concat[0][0\n",
            "                                                                 ]']                              \n",
            "                                                                                                  \n",
            " unet_dec_final_conv_0_activati  (None, 64, 64, 32)  0           ['unet_dec_final_conv_0[0][0]']  \n",
            " on (LeakyReLU)                                                                                   \n",
            "                                                                                                  \n",
            " unet_dec_final_conv_1 (Conv2D)  (None, 64, 64, 16)  4624        ['unet_dec_final_conv_0_activatio\n",
            "                                                                 n[0][0]']                        \n",
            "                                                                                                  \n",
            " unet_dec_final_conv_1_activati  (None, 64, 64, 16)  0           ['unet_dec_final_conv_1[0][0]']  \n",
            " on (LeakyReLU)                                                                                   \n",
            "                                                                                                  \n",
            " flow (Conv2D)                  (None, 64, 64, 2)    290         ['unet_dec_final_conv_1_activatio\n",
            "                                                                 n[0][0]']                        \n",
            "                                                                                                  \n",
            " transformer (SpatialTransforme  (None, 64, 64, 1)   0           ['source_input[0][0]',           \n",
            " r)                                                               'flow[0][0]']                   \n",
            "                                                                                                  \n",
            "==================================================================================================\n",
            "Total params: 116,370\n",
            "Trainable params: 116,370\n",
            "Non-trainable params: 0\n",
            "__________________________________________________________________________________________________\n"
          ]
        }
      ],
      "source": [
        "vxm_model.summary()"
      ]
    },
    {
      "cell_type": "code",
      "execution_count": null,
      "metadata": {
        "id": "4_aLG24o0Taq"
      },
      "outputs": [],
      "source": [
        "# voxelmorph has a variety of custom loss classes\n",
        "losses = [vxm.losses.MSE().loss, vxm.losses.Grad('l2').loss]\n",
        "\n",
        "# usually, we have to balance the two losses by a hyper-parameter\n",
        "lambda_param = 0.05\n",
        "loss_weights = [1, lambda_param]"
      ]
    },
    {
      "cell_type": "code",
      "execution_count": null,
      "metadata": {
        "id": "iLSulsKn0Tar"
      },
      "outputs": [],
      "source": [
        "vxm_model.compile(optimizer='Adam', loss=losses, loss_weights=loss_weights, metrics=['accuracy'])"
      ]
    },
    {
      "cell_type": "code",
      "execution_count": null,
      "metadata": {
        "id": "PwmPqwEA0Tar"
      },
      "outputs": [],
      "source": [
        "from keras.callbacks import ModelCheckpoint, ReduceLROnPlateau,EarlyStopping\n",
        "es = EarlyStopping(monitor='val_accuracy', mode='max', min_delta=1, patience=5, verbose=1)\n",
        "#annealer = ReduceLROnPlateau(monitor=['val_accuracy','val_mse'] ,factor=0.5, patience=5, verbose=1, min_lr=1e-3)\n",
        "checkpoint = ModelCheckpoint('model.h5', verbose=1, save_best_only=True)"
      ]
    },
    {
      "cell_type": "code",
      "execution_count": null,
      "metadata": {
        "scrolled": true,
        "id": "Mwpi1kcX0Tas",
        "outputId": "a8e132c8-34cc-4bb8-f6b2-f81102e6c779",
        "colab": {
          "base_uri": "https://localhost:8080/"
        }
      },
      "outputs": [
        {
          "output_type": "stream",
          "name": "stdout",
          "text": [
            "Epoch 1/200\n",
            "WARNING:tensorflow:Early stopping conditioned on metric `val_accuracy` which is not available. Available metrics are: loss,transformer_loss,flow_loss,transformer_accuracy,flow_accuracy,val_loss,val_transformer_loss,val_flow_loss,val_transformer_accuracy,val_flow_accuracy\n",
            "\n",
            "Epoch 1: val_loss improved from inf to 0.00136, saving model to model.h5\n",
            "100/100 - 67s - loss: 5.8404e-04 - transformer_loss: 5.7150e-04 - flow_loss: 2.5070e-04 - transformer_accuracy: 0.0000e+00 - flow_accuracy: 0.6695 - val_loss: 0.0014 - val_transformer_loss: 0.0013 - val_flow_loss: 5.9413e-04 - val_transformer_accuracy: 0.0000e+00 - val_flow_accuracy: 0.0000e+00 - 67s/epoch - 673ms/step\n",
            "Epoch 2/200\n",
            "WARNING:tensorflow:Early stopping conditioned on metric `val_accuracy` which is not available. Available metrics are: loss,transformer_loss,flow_loss,transformer_accuracy,flow_accuracy,val_loss,val_transformer_loss,val_flow_loss,val_transformer_accuracy,val_flow_accuracy\n",
            "\n",
            "Epoch 2: val_loss improved from 0.00136 to 0.00092, saving model to model.h5\n",
            "100/100 - 48s - loss: 4.0367e-04 - transformer_loss: 3.8593e-04 - flow_loss: 3.5476e-04 - transformer_accuracy: 0.0000e+00 - flow_accuracy: 0.4199 - val_loss: 9.2104e-04 - val_transformer_loss: 9.0495e-04 - val_flow_loss: 3.2169e-04 - val_transformer_accuracy: 0.0000e+00 - val_flow_accuracy: 0.0000e+00 - 48s/epoch - 484ms/step\n",
            "Epoch 3/200\n",
            "WARNING:tensorflow:Early stopping conditioned on metric `val_accuracy` which is not available. Available metrics are: loss,transformer_loss,flow_loss,transformer_accuracy,flow_accuracy,val_loss,val_transformer_loss,val_flow_loss,val_transformer_accuracy,val_flow_accuracy\n",
            "\n",
            "Epoch 3: val_loss did not improve from 0.00092\n",
            "100/100 - 51s - loss: 3.8447e-04 - transformer_loss: 3.6566e-04 - flow_loss: 3.7618e-04 - transformer_accuracy: 0.0000e+00 - flow_accuracy: 0.4051 - val_loss: 9.9392e-04 - val_transformer_loss: 9.7375e-04 - val_flow_loss: 4.0349e-04 - val_transformer_accuracy: 0.0000e+00 - val_flow_accuracy: 0.0000e+00 - 51s/epoch - 509ms/step\n",
            "Epoch 4/200\n",
            "WARNING:tensorflow:Early stopping conditioned on metric `val_accuracy` which is not available. Available metrics are: loss,transformer_loss,flow_loss,transformer_accuracy,flow_accuracy,val_loss,val_transformer_loss,val_flow_loss,val_transformer_accuracy,val_flow_accuracy\n",
            "\n",
            "Epoch 4: val_loss improved from 0.00092 to 0.00085, saving model to model.h5\n",
            "100/100 - 40s - loss: 3.6614e-04 - transformer_loss: 3.4714e-04 - flow_loss: 3.8014e-04 - transformer_accuracy: 0.0000e+00 - flow_accuracy: 0.4220 - val_loss: 8.4898e-04 - val_transformer_loss: 8.3118e-04 - val_flow_loss: 3.5609e-04 - val_transformer_accuracy: 0.0000e+00 - val_flow_accuracy: 0.0000e+00 - 40s/epoch - 399ms/step\n",
            "Epoch 5/200\n",
            "WARNING:tensorflow:Early stopping conditioned on metric `val_accuracy` which is not available. Available metrics are: loss,transformer_loss,flow_loss,transformer_accuracy,flow_accuracy,val_loss,val_transformer_loss,val_flow_loss,val_transformer_accuracy,val_flow_accuracy\n",
            "\n",
            "Epoch 5: val_loss improved from 0.00085 to 0.00083, saving model to model.h5\n",
            "100/100 - 45s - loss: 3.5812e-04 - transformer_loss: 3.3960e-04 - flow_loss: 3.7039e-04 - transformer_accuracy: 0.0000e+00 - flow_accuracy: 0.4265 - val_loss: 8.3213e-04 - val_transformer_loss: 8.1321e-04 - val_flow_loss: 3.7851e-04 - val_transformer_accuracy: 0.0000e+00 - val_flow_accuracy: 0.0000e+00 - 45s/epoch - 451ms/step\n",
            "Epoch 6/200\n",
            "WARNING:tensorflow:Early stopping conditioned on metric `val_accuracy` which is not available. Available metrics are: loss,transformer_loss,flow_loss,transformer_accuracy,flow_accuracy,val_loss,val_transformer_loss,val_flow_loss,val_transformer_accuracy,val_flow_accuracy\n",
            "\n",
            "Epoch 6: val_loss improved from 0.00083 to 0.00078, saving model to model.h5\n",
            "100/100 - 45s - loss: 3.4827e-04 - transformer_loss: 3.2957e-04 - flow_loss: 3.7397e-04 - transformer_accuracy: 0.0000e+00 - flow_accuracy: 0.4333 - val_loss: 7.8199e-04 - val_transformer_loss: 7.6131e-04 - val_flow_loss: 4.1356e-04 - val_transformer_accuracy: 0.0000e+00 - val_flow_accuracy: 0.0000e+00 - 45s/epoch - 452ms/step\n",
            "Epoch 7/200\n",
            "WARNING:tensorflow:Early stopping conditioned on metric `val_accuracy` which is not available. Available metrics are: loss,transformer_loss,flow_loss,transformer_accuracy,flow_accuracy,val_loss,val_transformer_loss,val_flow_loss,val_transformer_accuracy,val_flow_accuracy\n",
            "\n",
            "Epoch 7: val_loss improved from 0.00078 to 0.00077, saving model to model.h5\n",
            "100/100 - 40s - loss: 3.4516e-04 - transformer_loss: 3.2570e-04 - flow_loss: 3.8913e-04 - transformer_accuracy: 0.0000e+00 - flow_accuracy: 0.4359 - val_loss: 7.6902e-04 - val_transformer_loss: 7.4744e-04 - val_flow_loss: 4.3160e-04 - val_transformer_accuracy: 0.0000e+00 - val_flow_accuracy: 0.0000e+00 - 40s/epoch - 402ms/step\n",
            "Epoch 8/200\n",
            "WARNING:tensorflow:Early stopping conditioned on metric `val_accuracy` which is not available. Available metrics are: loss,transformer_loss,flow_loss,transformer_accuracy,flow_accuracy,val_loss,val_transformer_loss,val_flow_loss,val_transformer_accuracy,val_flow_accuracy\n",
            "\n",
            "Epoch 8: val_loss improved from 0.00077 to 0.00076, saving model to model.h5\n",
            "100/100 - 40s - loss: 3.4089e-04 - transformer_loss: 3.2078e-04 - flow_loss: 4.0216e-04 - transformer_accuracy: 0.0000e+00 - flow_accuracy: 0.4230 - val_loss: 7.5929e-04 - val_transformer_loss: 7.3694e-04 - val_flow_loss: 4.4696e-04 - val_transformer_accuracy: 0.0000e+00 - val_flow_accuracy: 0.0000e+00 - 40s/epoch - 403ms/step\n",
            "Epoch 9/200\n",
            "WARNING:tensorflow:Early stopping conditioned on metric `val_accuracy` which is not available. Available metrics are: loss,transformer_loss,flow_loss,transformer_accuracy,flow_accuracy,val_loss,val_transformer_loss,val_flow_loss,val_transformer_accuracy,val_flow_accuracy\n",
            "\n",
            "Epoch 9: val_loss improved from 0.00076 to 0.00074, saving model to model.h5\n",
            "100/100 - 42s - loss: 3.3893e-04 - transformer_loss: 3.1812e-04 - flow_loss: 4.1610e-04 - transformer_accuracy: 0.0000e+00 - flow_accuracy: 0.4334 - val_loss: 7.4377e-04 - val_transformer_loss: 7.2150e-04 - val_flow_loss: 4.4552e-04 - val_transformer_accuracy: 0.0000e+00 - val_flow_accuracy: 0.0000e+00 - 42s/epoch - 417ms/step\n",
            "Epoch 10/200\n",
            "WARNING:tensorflow:Early stopping conditioned on metric `val_accuracy` which is not available. Available metrics are: loss,transformer_loss,flow_loss,transformer_accuracy,flow_accuracy,val_loss,val_transformer_loss,val_flow_loss,val_transformer_accuracy,val_flow_accuracy\n",
            "\n",
            "Epoch 10: val_loss improved from 0.00074 to 0.00073, saving model to model.h5\n",
            "100/100 - 41s - loss: 3.3719e-04 - transformer_loss: 3.1571e-04 - flow_loss: 4.2958e-04 - transformer_accuracy: 0.0000e+00 - flow_accuracy: 0.4368 - val_loss: 7.3248e-04 - val_transformer_loss: 7.0841e-04 - val_flow_loss: 4.8147e-04 - val_transformer_accuracy: 0.0000e+00 - val_flow_accuracy: 7.3242e-04 - 41s/epoch - 414ms/step\n",
            "Epoch 11/200\n",
            "WARNING:tensorflow:Early stopping conditioned on metric `val_accuracy` which is not available. Available metrics are: loss,transformer_loss,flow_loss,transformer_accuracy,flow_accuracy,val_loss,val_transformer_loss,val_flow_loss,val_transformer_accuracy,val_flow_accuracy\n",
            "\n",
            "Epoch 11: val_loss did not improve from 0.00073\n",
            "100/100 - 41s - loss: 3.3518e-04 - transformer_loss: 3.1347e-04 - flow_loss: 4.3420e-04 - transformer_accuracy: 0.0000e+00 - flow_accuracy: 0.4343 - val_loss: 7.3935e-04 - val_transformer_loss: 7.1317e-04 - val_flow_loss: 5.2367e-04 - val_transformer_accuracy: 0.0000e+00 - val_flow_accuracy: 0.0000e+00 - 41s/epoch - 410ms/step\n",
            "Epoch 12/200\n",
            "WARNING:tensorflow:Early stopping conditioned on metric `val_accuracy` which is not available. Available metrics are: loss,transformer_loss,flow_loss,transformer_accuracy,flow_accuracy,val_loss,val_transformer_loss,val_flow_loss,val_transformer_accuracy,val_flow_accuracy\n",
            "\n",
            "Epoch 12: val_loss improved from 0.00073 to 0.00073, saving model to model.h5\n",
            "100/100 - 41s - loss: 3.3244e-04 - transformer_loss: 3.1011e-04 - flow_loss: 4.4660e-04 - transformer_accuracy: 0.0000e+00 - flow_accuracy: 0.4330 - val_loss: 7.2637e-04 - val_transformer_loss: 6.9940e-04 - val_flow_loss: 5.3946e-04 - val_transformer_accuracy: 0.0000e+00 - val_flow_accuracy: 0.0000e+00 - 41s/epoch - 408ms/step\n",
            "Epoch 13/200\n",
            "WARNING:tensorflow:Early stopping conditioned on metric `val_accuracy` which is not available. Available metrics are: loss,transformer_loss,flow_loss,transformer_accuracy,flow_accuracy,val_loss,val_transformer_loss,val_flow_loss,val_transformer_accuracy,val_flow_accuracy\n",
            "\n",
            "Epoch 13: val_loss improved from 0.00073 to 0.00072, saving model to model.h5\n",
            "100/100 - 41s - loss: 3.3122e-04 - transformer_loss: 3.0870e-04 - flow_loss: 4.5045e-04 - transformer_accuracy: 0.0000e+00 - flow_accuracy: 0.4302 - val_loss: 7.1642e-04 - val_transformer_loss: 6.8945e-04 - val_flow_loss: 5.3939e-04 - val_transformer_accuracy: 0.0000e+00 - val_flow_accuracy: 0.0012 - 41s/epoch - 409ms/step\n",
            "Epoch 14/200\n",
            "WARNING:tensorflow:Early stopping conditioned on metric `val_accuracy` which is not available. Available metrics are: loss,transformer_loss,flow_loss,transformer_accuracy,flow_accuracy,val_loss,val_transformer_loss,val_flow_loss,val_transformer_accuracy,val_flow_accuracy\n",
            "\n",
            "Epoch 14: val_loss did not improve from 0.00072\n",
            "100/100 - 41s - loss: 3.3111e-04 - transformer_loss: 3.0765e-04 - flow_loss: 4.6927e-04 - transformer_accuracy: 0.0000e+00 - flow_accuracy: 0.4363 - val_loss: 7.2000e-04 - val_transformer_loss: 6.9215e-04 - val_flow_loss: 5.5700e-04 - val_transformer_accuracy: 0.0000e+00 - val_flow_accuracy: 0.0000e+00 - 41s/epoch - 406ms/step\n",
            "Epoch 15/200\n",
            "WARNING:tensorflow:Early stopping conditioned on metric `val_accuracy` which is not available. Available metrics are: loss,transformer_loss,flow_loss,transformer_accuracy,flow_accuracy,val_loss,val_transformer_loss,val_flow_loss,val_transformer_accuracy,val_flow_accuracy\n",
            "\n",
            "Epoch 15: val_loss improved from 0.00072 to 0.00071, saving model to model.h5\n",
            "100/100 - 41s - loss: 3.2963e-04 - transformer_loss: 3.0630e-04 - flow_loss: 4.6662e-04 - transformer_accuracy: 0.0000e+00 - flow_accuracy: 0.4410 - val_loss: 7.1341e-04 - val_transformer_loss: 6.8521e-04 - val_flow_loss: 5.6393e-04 - val_transformer_accuracy: 0.0000e+00 - val_flow_accuracy: 2.4414e-04 - 41s/epoch - 408ms/step\n",
            "Epoch 16/200\n",
            "WARNING:tensorflow:Early stopping conditioned on metric `val_accuracy` which is not available. Available metrics are: loss,transformer_loss,flow_loss,transformer_accuracy,flow_accuracy,val_loss,val_transformer_loss,val_flow_loss,val_transformer_accuracy,val_flow_accuracy\n",
            "\n",
            "Epoch 16: val_loss improved from 0.00071 to 0.00071, saving model to model.h5\n",
            "100/100 - 41s - loss: 3.3010e-04 - transformer_loss: 3.0668e-04 - flow_loss: 4.6829e-04 - transformer_accuracy: 0.0000e+00 - flow_accuracy: 0.4399 - val_loss: 7.0795e-04 - val_transformer_loss: 6.7937e-04 - val_flow_loss: 5.7160e-04 - val_transformer_accuracy: 0.0000e+00 - val_flow_accuracy: 9.7656e-04 - 41s/epoch - 412ms/step\n",
            "Epoch 17/200\n",
            "WARNING:tensorflow:Early stopping conditioned on metric `val_accuracy` which is not available. Available metrics are: loss,transformer_loss,flow_loss,transformer_accuracy,flow_accuracy,val_loss,val_transformer_loss,val_flow_loss,val_transformer_accuracy,val_flow_accuracy\n",
            "\n",
            "Epoch 17: val_loss did not improve from 0.00071\n",
            "100/100 - 41s - loss: 3.2834e-04 - transformer_loss: 3.0459e-04 - flow_loss: 4.7505e-04 - transformer_accuracy: 0.0000e+00 - flow_accuracy: 0.4327 - val_loss: 7.1096e-04 - val_transformer_loss: 6.8134e-04 - val_flow_loss: 5.9236e-04 - val_transformer_accuracy: 0.0000e+00 - val_flow_accuracy: 2.4414e-04 - 41s/epoch - 407ms/step\n",
            "Epoch 18/200\n",
            "WARNING:tensorflow:Early stopping conditioned on metric `val_accuracy` which is not available. Available metrics are: loss,transformer_loss,flow_loss,transformer_accuracy,flow_accuracy,val_loss,val_transformer_loss,val_flow_loss,val_transformer_accuracy,val_flow_accuracy\n",
            "\n",
            "Epoch 18: val_loss improved from 0.00071 to 0.00070, saving model to model.h5\n",
            "100/100 - 41s - loss: 3.2789e-04 - transformer_loss: 3.0386e-04 - flow_loss: 4.8045e-04 - transformer_accuracy: 0.0000e+00 - flow_accuracy: 0.4394 - val_loss: 7.0480e-04 - val_transformer_loss: 6.7612e-04 - val_flow_loss: 5.7377e-04 - val_transformer_accuracy: 0.0000e+00 - val_flow_accuracy: 2.4414e-04 - 41s/epoch - 406ms/step\n",
            "Epoch 19/200\n",
            "WARNING:tensorflow:Early stopping conditioned on metric `val_accuracy` which is not available. Available metrics are: loss,transformer_loss,flow_loss,transformer_accuracy,flow_accuracy,val_loss,val_transformer_loss,val_flow_loss,val_transformer_accuracy,val_flow_accuracy\n",
            "\n",
            "Epoch 19: val_loss improved from 0.00070 to 0.00070, saving model to model.h5\n",
            "100/100 - 41s - loss: 3.2593e-04 - transformer_loss: 3.0199e-04 - flow_loss: 4.7881e-04 - transformer_accuracy: 0.0000e+00 - flow_accuracy: 0.4446 - val_loss: 7.0413e-04 - val_transformer_loss: 6.7467e-04 - val_flow_loss: 5.8906e-04 - val_transformer_accuracy: 0.0000e+00 - val_flow_accuracy: 7.3242e-04 - 41s/epoch - 409ms/step\n",
            "Epoch 20/200\n",
            "WARNING:tensorflow:Early stopping conditioned on metric `val_accuracy` which is not available. Available metrics are: loss,transformer_loss,flow_loss,transformer_accuracy,flow_accuracy,val_loss,val_transformer_loss,val_flow_loss,val_transformer_accuracy,val_flow_accuracy\n",
            "\n",
            "Epoch 20: val_loss improved from 0.00070 to 0.00070, saving model to model.h5\n",
            "100/100 - 42s - loss: 3.2554e-04 - transformer_loss: 3.0117e-04 - flow_loss: 4.8722e-04 - transformer_accuracy: 0.0000e+00 - flow_accuracy: 0.4358 - val_loss: 7.0064e-04 - val_transformer_loss: 6.6912e-04 - val_flow_loss: 6.3039e-04 - val_transformer_accuracy: 0.0000e+00 - val_flow_accuracy: 0.0027 - 42s/epoch - 418ms/step\n",
            "Epoch 21/200\n",
            "WARNING:tensorflow:Early stopping conditioned on metric `val_accuracy` which is not available. Available metrics are: loss,transformer_loss,flow_loss,transformer_accuracy,flow_accuracy,val_loss,val_transformer_loss,val_flow_loss,val_transformer_accuracy,val_flow_accuracy\n",
            "\n",
            "Epoch 21: val_loss improved from 0.00070 to 0.00070, saving model to model.h5\n",
            "100/100 - 42s - loss: 3.2445e-04 - transformer_loss: 3.0010e-04 - flow_loss: 4.8698e-04 - transformer_accuracy: 0.0000e+00 - flow_accuracy: 0.4443 - val_loss: 6.9798e-04 - val_transformer_loss: 6.6681e-04 - val_flow_loss: 6.2341e-04 - val_transformer_accuracy: 0.0000e+00 - val_flow_accuracy: 0.0017 - 42s/epoch - 415ms/step\n",
            "Epoch 22/200\n",
            "WARNING:tensorflow:Early stopping conditioned on metric `val_accuracy` which is not available. Available metrics are: loss,transformer_loss,flow_loss,transformer_accuracy,flow_accuracy,val_loss,val_transformer_loss,val_flow_loss,val_transformer_accuracy,val_flow_accuracy\n",
            "\n",
            "Epoch 22: val_loss did not improve from 0.00070\n",
            "100/100 - 41s - loss: 3.2578e-04 - transformer_loss: 3.0148e-04 - flow_loss: 4.8588e-04 - transformer_accuracy: 0.0000e+00 - flow_accuracy: 0.4413 - val_loss: 6.9901e-04 - val_transformer_loss: 6.6885e-04 - val_flow_loss: 6.0327e-04 - val_transformer_accuracy: 0.0000e+00 - val_flow_accuracy: 2.4414e-04 - 41s/epoch - 413ms/step\n",
            "Epoch 23/200\n",
            "WARNING:tensorflow:Early stopping conditioned on metric `val_accuracy` which is not available. Available metrics are: loss,transformer_loss,flow_loss,transformer_accuracy,flow_accuracy,val_loss,val_transformer_loss,val_flow_loss,val_transformer_accuracy,val_flow_accuracy\n",
            "\n",
            "Epoch 23: val_loss did not improve from 0.00070\n",
            "100/100 - 41s - loss: 3.2226e-04 - transformer_loss: 2.9755e-04 - flow_loss: 4.9430e-04 - transformer_accuracy: 0.0000e+00 - flow_accuracy: 0.4402 - val_loss: 7.0001e-04 - val_transformer_loss: 6.6835e-04 - val_flow_loss: 6.3319e-04 - val_transformer_accuracy: 0.0000e+00 - val_flow_accuracy: 0.0012 - 41s/epoch - 408ms/step\n",
            "Epoch 24/200\n",
            "WARNING:tensorflow:Early stopping conditioned on metric `val_accuracy` which is not available. Available metrics are: loss,transformer_loss,flow_loss,transformer_accuracy,flow_accuracy,val_loss,val_transformer_loss,val_flow_loss,val_transformer_accuracy,val_flow_accuracy\n",
            "\n",
            "Epoch 24: val_loss improved from 0.00070 to 0.00069, saving model to model.h5\n",
            "100/100 - 41s - loss: 3.2229e-04 - transformer_loss: 2.9729e-04 - flow_loss: 5.0000e-04 - transformer_accuracy: 0.0000e+00 - flow_accuracy: 0.4404 - val_loss: 6.9441e-04 - val_transformer_loss: 6.6253e-04 - val_flow_loss: 6.3749e-04 - val_transformer_accuracy: 0.0000e+00 - val_flow_accuracy: 0.0017 - 41s/epoch - 406ms/step\n",
            "Epoch 25/200\n",
            "WARNING:tensorflow:Early stopping conditioned on metric `val_accuracy` which is not available. Available metrics are: loss,transformer_loss,flow_loss,transformer_accuracy,flow_accuracy,val_loss,val_transformer_loss,val_flow_loss,val_transformer_accuracy,val_flow_accuracy\n",
            "\n",
            "Epoch 25: val_loss improved from 0.00069 to 0.00069, saving model to model.h5\n",
            "100/100 - 40s - loss: 3.2301e-04 - transformer_loss: 2.9772e-04 - flow_loss: 5.0582e-04 - transformer_accuracy: 0.0000e+00 - flow_accuracy: 0.4491 - val_loss: 6.9413e-04 - val_transformer_loss: 6.6076e-04 - val_flow_loss: 6.6749e-04 - val_transformer_accuracy: 0.0000e+00 - val_flow_accuracy: 0.0034 - 40s/epoch - 401ms/step\n",
            "Epoch 26/200\n",
            "WARNING:tensorflow:Early stopping conditioned on metric `val_accuracy` which is not available. Available metrics are: loss,transformer_loss,flow_loss,transformer_accuracy,flow_accuracy,val_loss,val_transformer_loss,val_flow_loss,val_transformer_accuracy,val_flow_accuracy\n",
            "\n",
            "Epoch 26: val_loss improved from 0.00069 to 0.00069, saving model to model.h5\n",
            "100/100 - 40s - loss: 3.2229e-04 - transformer_loss: 2.9701e-04 - flow_loss: 5.0554e-04 - transformer_accuracy: 0.0000e+00 - flow_accuracy: 0.4314 - val_loss: 6.9089e-04 - val_transformer_loss: 6.5883e-04 - val_flow_loss: 6.4123e-04 - val_transformer_accuracy: 0.0000e+00 - val_flow_accuracy: 0.0039 - 40s/epoch - 397ms/step\n",
            "Epoch 27/200\n",
            "WARNING:tensorflow:Early stopping conditioned on metric `val_accuracy` which is not available. Available metrics are: loss,transformer_loss,flow_loss,transformer_accuracy,flow_accuracy,val_loss,val_transformer_loss,val_flow_loss,val_transformer_accuracy,val_flow_accuracy\n",
            "\n",
            "Epoch 27: val_loss did not improve from 0.00069\n",
            "100/100 - 40s - loss: 3.2330e-04 - transformer_loss: 2.9791e-04 - flow_loss: 5.0783e-04 - transformer_accuracy: 0.0000e+00 - flow_accuracy: 0.4469 - val_loss: 6.9455e-04 - val_transformer_loss: 6.5985e-04 - val_flow_loss: 6.9412e-04 - val_transformer_accuracy: 0.0000e+00 - val_flow_accuracy: 0.0042 - 40s/epoch - 404ms/step\n",
            "Epoch 28/200\n",
            "WARNING:tensorflow:Early stopping conditioned on metric `val_accuracy` which is not available. Available metrics are: loss,transformer_loss,flow_loss,transformer_accuracy,flow_accuracy,val_loss,val_transformer_loss,val_flow_loss,val_transformer_accuracy,val_flow_accuracy\n",
            "\n",
            "Epoch 28: val_loss did not improve from 0.00069\n",
            "100/100 - 40s - loss: 3.1997e-04 - transformer_loss: 2.9449e-04 - flow_loss: 5.0959e-04 - transformer_accuracy: 0.0000e+00 - flow_accuracy: 0.4425 - val_loss: 6.9558e-04 - val_transformer_loss: 6.6121e-04 - val_flow_loss: 6.8749e-04 - val_transformer_accuracy: 0.0000e+00 - val_flow_accuracy: 0.0068 - 40s/epoch - 400ms/step\n",
            "Epoch 29/200\n",
            "WARNING:tensorflow:Early stopping conditioned on metric `val_accuracy` which is not available. Available metrics are: loss,transformer_loss,flow_loss,transformer_accuracy,flow_accuracy,val_loss,val_transformer_loss,val_flow_loss,val_transformer_accuracy,val_flow_accuracy\n",
            "\n",
            "Epoch 29: val_loss did not improve from 0.00069\n",
            "100/100 - 40s - loss: 3.2136e-04 - transformer_loss: 2.9571e-04 - flow_loss: 5.1300e-04 - transformer_accuracy: 0.0000e+00 - flow_accuracy: 0.4392 - val_loss: 6.9121e-04 - val_transformer_loss: 6.5740e-04 - val_flow_loss: 6.7624e-04 - val_transformer_accuracy: 0.0000e+00 - val_flow_accuracy: 0.0054 - 40s/epoch - 398ms/step\n",
            "Epoch 30/200\n",
            "WARNING:tensorflow:Early stopping conditioned on metric `val_accuracy` which is not available. Available metrics are: loss,transformer_loss,flow_loss,transformer_accuracy,flow_accuracy,val_loss,val_transformer_loss,val_flow_loss,val_transformer_accuracy,val_flow_accuracy\n",
            "\n",
            "Epoch 30: val_loss improved from 0.00069 to 0.00069, saving model to model.h5\n",
            "100/100 - 40s - loss: 3.2207e-04 - transformer_loss: 2.9608e-04 - flow_loss: 5.1975e-04 - transformer_accuracy: 0.0000e+00 - flow_accuracy: 0.4395 - val_loss: 6.8800e-04 - val_transformer_loss: 6.5422e-04 - val_flow_loss: 6.7548e-04 - val_transformer_accuracy: 0.0000e+00 - val_flow_accuracy: 0.0044 - 40s/epoch - 402ms/step\n",
            "Epoch 31/200\n",
            "WARNING:tensorflow:Early stopping conditioned on metric `val_accuracy` which is not available. Available metrics are: loss,transformer_loss,flow_loss,transformer_accuracy,flow_accuracy,val_loss,val_transformer_loss,val_flow_loss,val_transformer_accuracy,val_flow_accuracy\n",
            "\n",
            "Epoch 31: val_loss did not improve from 0.00069\n",
            "100/100 - 40s - loss: 3.1859e-04 - transformer_loss: 2.9265e-04 - flow_loss: 5.1883e-04 - transformer_accuracy: 0.0000e+00 - flow_accuracy: 0.4453 - val_loss: 6.9087e-04 - val_transformer_loss: 6.5478e-04 - val_flow_loss: 7.2193e-04 - val_transformer_accuracy: 0.0000e+00 - val_flow_accuracy: 0.0066 - 40s/epoch - 404ms/step\n",
            "Epoch 32/200\n",
            "WARNING:tensorflow:Early stopping conditioned on metric `val_accuracy` which is not available. Available metrics are: loss,transformer_loss,flow_loss,transformer_accuracy,flow_accuracy,val_loss,val_transformer_loss,val_flow_loss,val_transformer_accuracy,val_flow_accuracy\n",
            "\n",
            "Epoch 32: val_loss did not improve from 0.00069\n",
            "100/100 - 40s - loss: 3.2166e-04 - transformer_loss: 2.9560e-04 - flow_loss: 5.2122e-04 - transformer_accuracy: 0.0000e+00 - flow_accuracy: 0.4408 - val_loss: 6.9110e-04 - val_transformer_loss: 6.5521e-04 - val_flow_loss: 7.1787e-04 - val_transformer_accuracy: 0.0000e+00 - val_flow_accuracy: 0.0042 - 40s/epoch - 400ms/step\n",
            "Epoch 33/200\n",
            "WARNING:tensorflow:Early stopping conditioned on metric `val_accuracy` which is not available. Available metrics are: loss,transformer_loss,flow_loss,transformer_accuracy,flow_accuracy,val_loss,val_transformer_loss,val_flow_loss,val_transformer_accuracy,val_flow_accuracy\n",
            "\n",
            "Epoch 33: val_loss improved from 0.00069 to 0.00069, saving model to model.h5\n",
            "100/100 - 40s - loss: 3.2031e-04 - transformer_loss: 2.9406e-04 - flow_loss: 5.2497e-04 - transformer_accuracy: 0.0000e+00 - flow_accuracy: 0.4490 - val_loss: 6.8561e-04 - val_transformer_loss: 6.5142e-04 - val_flow_loss: 6.8381e-04 - val_transformer_accuracy: 0.0000e+00 - val_flow_accuracy: 0.0024 - 40s/epoch - 400ms/step\n",
            "Epoch 34/200\n",
            "WARNING:tensorflow:Early stopping conditioned on metric `val_accuracy` which is not available. Available metrics are: loss,transformer_loss,flow_loss,transformer_accuracy,flow_accuracy,val_loss,val_transformer_loss,val_flow_loss,val_transformer_accuracy,val_flow_accuracy\n",
            "\n",
            "Epoch 34: val_loss did not improve from 0.00069\n",
            "100/100 - 40s - loss: 3.2022e-04 - transformer_loss: 2.9409e-04 - flow_loss: 5.2262e-04 - transformer_accuracy: 0.0000e+00 - flow_accuracy: 0.4419 - val_loss: 6.8926e-04 - val_transformer_loss: 6.5432e-04 - val_flow_loss: 6.9877e-04 - val_transformer_accuracy: 0.0000e+00 - val_flow_accuracy: 0.0068 - 40s/epoch - 401ms/step\n",
            "Epoch 35/200\n",
            "WARNING:tensorflow:Early stopping conditioned on metric `val_accuracy` which is not available. Available metrics are: loss,transformer_loss,flow_loss,transformer_accuracy,flow_accuracy,val_loss,val_transformer_loss,val_flow_loss,val_transformer_accuracy,val_flow_accuracy\n",
            "\n",
            "Epoch 35: val_loss did not improve from 0.00069\n",
            "100/100 - 40s - loss: 3.2048e-04 - transformer_loss: 2.9432e-04 - flow_loss: 5.2318e-04 - transformer_accuracy: 0.0000e+00 - flow_accuracy: 0.4476 - val_loss: 6.9099e-04 - val_transformer_loss: 6.5521e-04 - val_flow_loss: 7.1551e-04 - val_transformer_accuracy: 0.0000e+00 - val_flow_accuracy: 0.0046 - 40s/epoch - 401ms/step\n",
            "Epoch 36/200\n",
            "WARNING:tensorflow:Early stopping conditioned on metric `val_accuracy` which is not available. Available metrics are: loss,transformer_loss,flow_loss,transformer_accuracy,flow_accuracy,val_loss,val_transformer_loss,val_flow_loss,val_transformer_accuracy,val_flow_accuracy\n",
            "\n",
            "Epoch 36: val_loss did not improve from 0.00069\n",
            "100/100 - 40s - loss: 3.1797e-04 - transformer_loss: 2.9187e-04 - flow_loss: 5.2195e-04 - transformer_accuracy: 0.0000e+00 - flow_accuracy: 0.4464 - val_loss: 6.8683e-04 - val_transformer_loss: 6.5059e-04 - val_flow_loss: 7.2496e-04 - val_transformer_accuracy: 0.0000e+00 - val_flow_accuracy: 0.0073 - 40s/epoch - 404ms/step\n",
            "Epoch 37/200\n",
            "WARNING:tensorflow:Early stopping conditioned on metric `val_accuracy` which is not available. Available metrics are: loss,transformer_loss,flow_loss,transformer_accuracy,flow_accuracy,val_loss,val_transformer_loss,val_flow_loss,val_transformer_accuracy,val_flow_accuracy\n",
            "\n",
            "Epoch 37: val_loss improved from 0.00069 to 0.00068, saving model to model.h5\n",
            "100/100 - 41s - loss: 3.1990e-04 - transformer_loss: 2.9339e-04 - flow_loss: 5.3026e-04 - transformer_accuracy: 0.0000e+00 - flow_accuracy: 0.4454 - val_loss: 6.8460e-04 - val_transformer_loss: 6.4762e-04 - val_flow_loss: 7.3952e-04 - val_transformer_accuracy: 0.0000e+00 - val_flow_accuracy: 0.0049 - 41s/epoch - 413ms/step\n",
            "Epoch 38/200\n",
            "WARNING:tensorflow:Early stopping conditioned on metric `val_accuracy` which is not available. Available metrics are: loss,transformer_loss,flow_loss,transformer_accuracy,flow_accuracy,val_loss,val_transformer_loss,val_flow_loss,val_transformer_accuracy,val_flow_accuracy\n",
            "\n",
            "Epoch 38: val_loss improved from 0.00068 to 0.00068, saving model to model.h5\n",
            "100/100 - 41s - loss: 3.1887e-04 - transformer_loss: 2.9221e-04 - flow_loss: 5.3320e-04 - transformer_accuracy: 0.0000e+00 - flow_accuracy: 0.4379 - val_loss: 6.8406e-04 - val_transformer_loss: 6.4784e-04 - val_flow_loss: 7.2433e-04 - val_transformer_accuracy: 0.0000e+00 - val_flow_accuracy: 0.0049 - 41s/epoch - 409ms/step\n",
            "Epoch 39/200\n",
            "WARNING:tensorflow:Early stopping conditioned on metric `val_accuracy` which is not available. Available metrics are: loss,transformer_loss,flow_loss,transformer_accuracy,flow_accuracy,val_loss,val_transformer_loss,val_flow_loss,val_transformer_accuracy,val_flow_accuracy\n",
            "\n",
            "Epoch 39: val_loss improved from 0.00068 to 0.00068, saving model to model.h5\n",
            "100/100 - 41s - loss: 3.1572e-04 - transformer_loss: 2.8939e-04 - flow_loss: 5.2653e-04 - transformer_accuracy: 0.0000e+00 - flow_accuracy: 0.4415 - val_loss: 6.8366e-04 - val_transformer_loss: 6.4841e-04 - val_flow_loss: 7.0510e-04 - val_transformer_accuracy: 0.0000e+00 - val_flow_accuracy: 0.0071 - 41s/epoch - 406ms/step\n",
            "Epoch 40/200\n",
            "WARNING:tensorflow:Early stopping conditioned on metric `val_accuracy` which is not available. Available metrics are: loss,transformer_loss,flow_loss,transformer_accuracy,flow_accuracy,val_loss,val_transformer_loss,val_flow_loss,val_transformer_accuracy,val_flow_accuracy\n",
            "\n",
            "Epoch 40: val_loss improved from 0.00068 to 0.00068, saving model to model.h5\n",
            "100/100 - 41s - loss: 3.1760e-04 - transformer_loss: 2.9086e-04 - flow_loss: 5.3472e-04 - transformer_accuracy: 0.0000e+00 - flow_accuracy: 0.4487 - val_loss: 6.8363e-04 - val_transformer_loss: 6.4779e-04 - val_flow_loss: 7.1673e-04 - val_transformer_accuracy: 0.0000e+00 - val_flow_accuracy: 0.0063 - 41s/epoch - 406ms/step\n",
            "Epoch 41/200\n",
            "WARNING:tensorflow:Early stopping conditioned on metric `val_accuracy` which is not available. Available metrics are: loss,transformer_loss,flow_loss,transformer_accuracy,flow_accuracy,val_loss,val_transformer_loss,val_flow_loss,val_transformer_accuracy,val_flow_accuracy\n",
            "\n",
            "Epoch 41: val_loss improved from 0.00068 to 0.00068, saving model to model.h5\n",
            "100/100 - 41s - loss: 3.1972e-04 - transformer_loss: 2.9281e-04 - flow_loss: 5.3828e-04 - transformer_accuracy: 0.0000e+00 - flow_accuracy: 0.4427 - val_loss: 6.8284e-04 - val_transformer_loss: 6.4662e-04 - val_flow_loss: 7.2451e-04 - val_transformer_accuracy: 0.0000e+00 - val_flow_accuracy: 0.0049 - 41s/epoch - 405ms/step\n",
            "Epoch 42/200\n",
            "WARNING:tensorflow:Early stopping conditioned on metric `val_accuracy` which is not available. Available metrics are: loss,transformer_loss,flow_loss,transformer_accuracy,flow_accuracy,val_loss,val_transformer_loss,val_flow_loss,val_transformer_accuracy,val_flow_accuracy\n",
            "\n",
            "Epoch 42: val_loss improved from 0.00068 to 0.00068, saving model to model.h5\n",
            "100/100 - 41s - loss: 3.1764e-04 - transformer_loss: 2.9097e-04 - flow_loss: 5.3343e-04 - transformer_accuracy: 0.0000e+00 - flow_accuracy: 0.4432 - val_loss: 6.8206e-04 - val_transformer_loss: 6.4538e-04 - val_flow_loss: 7.3344e-04 - val_transformer_accuracy: 0.0000e+00 - val_flow_accuracy: 0.0071 - 41s/epoch - 409ms/step\n",
            "Epoch 43/200\n",
            "WARNING:tensorflow:Early stopping conditioned on metric `val_accuracy` which is not available. Available metrics are: loss,transformer_loss,flow_loss,transformer_accuracy,flow_accuracy,val_loss,val_transformer_loss,val_flow_loss,val_transformer_accuracy,val_flow_accuracy\n",
            "\n",
            "Epoch 43: val_loss improved from 0.00068 to 0.00068, saving model to model.h5\n",
            "100/100 - 41s - loss: 3.1528e-04 - transformer_loss: 2.8884e-04 - flow_loss: 5.2870e-04 - transformer_accuracy: 0.0000e+00 - flow_accuracy: 0.4479 - val_loss: 6.8025e-04 - val_transformer_loss: 6.4456e-04 - val_flow_loss: 7.1384e-04 - val_transformer_accuracy: 0.0000e+00 - val_flow_accuracy: 0.0068 - 41s/epoch - 415ms/step\n",
            "Epoch 44/200\n"
          ]
        }
      ],
      "source": [
        "nb_epochs =200\n",
        "steps_per_epoch =100\n",
        "import time\n",
        "start=time.time()\n",
        "hist = vxm_model.fit(train_generator,\n",
        "                               epochs=nb_epochs,\n",
        "                               steps_per_epoch=steps_per_epoch,\n",
        "                               verbose=2,\n",
        "                               callbacks=[es,checkpoint],\n",
        "                               validation_data=val_generator(data_dir,1,1584,.3)\n",
        "                    );\n",
        "stop=time.time()\n",
        "print(f\"Training Time:{stop-start}s\")"
      ]
    },
    {
      "cell_type": "code",
      "execution_count": null,
      "metadata": {
        "id": "9TpdYEVf0Tas"
      },
      "outputs": [],
      "source": [
        "vxm_model.save(\"/content/drive/MyDrive/final/new/MSE_la0.05_model2.h5\")"
      ]
    },
    {
      "cell_type": "code",
      "source": [
        "vxm_model.save_weights(\"/content/drive/MyDrive/data/final/MSE_la0.05_weight2.h5\")"
      ],
      "metadata": {
        "id": "-jgJrCcGdfei"
      },
      "execution_count": null,
      "outputs": []
    },
    {
      "cell_type": "code",
      "source": [
        "import pickle"
      ],
      "metadata": {
        "id": "QpCyFLYxYxG0"
      },
      "execution_count": null,
      "outputs": []
    },
    {
      "cell_type": "code",
      "source": [
        "with open('/content/drive/MyDrive/data/final/M052', 'wb') as file_pi:\n",
        "     pickle.dump(hist.history, file_pi)"
      ],
      "metadata": {
        "id": "os3ZIIP7uoI7"
      },
      "execution_count": null,
      "outputs": []
    },
    {
      "cell_type": "code",
      "source": [
        "history = pickle.load(open('/trainHistoryDict', \"rb\"))"
      ],
      "metadata": {
        "id": "tjdgEQ9iZK9a"
      },
      "execution_count": null,
      "outputs": []
    },
    {
      "cell_type": "code",
      "execution_count": null,
      "metadata": {
        "id": "flVUoksh0Tat"
      },
      "outputs": [],
      "source": [
        "def plot_history(hist, loss_name='loss'):\n",
        "    # Simple function to plot training history.\n",
        "    plt.figure()\n",
        "    plt.plot(hist.epoch, hist.history[loss_name], '.-')\n",
        "    plt.ylabel('loss')\n",
        "    plt.xlabel('epoch')\n",
        "    plt.show()\n"
      ]
    },
    {
      "cell_type": "code",
      "execution_count": null,
      "metadata": {
        "id": "M_Navfe80Tat"
      },
      "outputs": [],
      "source": [
        "print(history.history.keys())"
      ]
    },
    {
      "cell_type": "code",
      "execution_count": null,
      "metadata": {
        "id": "GyidT-ng0Tau",
        "outputId": "5df308d6-395e-4867-d28c-f41ee478e353",
        "colab": {
          "base_uri": "https://localhost:8080/",
          "height": 283
        }
      },
      "outputs": [
        {
          "output_type": "display_data",
          "data": {
            "image/png": "[encoded data removed]",
            "text/plain": [
              "<Figure size 432x288 with 1 Axes>"
            ]
          },
          "metadata": {
            "needs_background": "light"
          }
        }
      ],
      "source": [
        "plot_history(hist)"
      ]
    },
    {
      "cell_type": "code",
      "execution_count": null,
      "metadata": {
        "id": "OS_d7ebW0Tau"
      },
      "outputs": [],
      "source": [
        "data_dir_TEST='/home/mahdi/Desktop/data_selection_D7'"
      ]
    },
    {
      "cell_type": "code",
      "execution_count": null,
      "metadata": {
        "id": "lyGKUTue0Tau"
      },
      "outputs": [],
      "source": [
        "# let's get some data\n",
        "val_generator = data_generator(data_dir_TEST,32,m,.3)\n",
        "val_input, _ = next(val_generator)"
      ]
    },
    {
      "cell_type": "code",
      "execution_count": null,
      "metadata": {
        "id": "6qJXWceq0Tav"
      },
      "outputs": [],
      "source": [
        "val_pred = vxm_model.predict(val_input)"
      ]
    },
    {
      "cell_type": "code",
      "execution_count": null,
      "metadata": {
        "id": "9qQMN3v10Tav"
      },
      "outputs": [],
      "source": [
        "# visualize\n",
        "images = [img[18, :, :, 0] for img in val_input + val_pred] \n",
        "titles = ['moving', 'fixed', 'moved', 'flow']\n",
        "ne.plot.slices(images, titles=titles, cmaps=['gray'], do_colorbars=True);"
      ]
    },
    {
      "cell_type": "code",
      "execution_count": null,
      "metadata": {
        "id": "CWsn84Ux0Tav"
      },
      "outputs": [],
      "source": [
        "ne.plot.flow([val_pred[1][18].squeeze()], width=10)"
      ]
    },
    {
      "cell_type": "code",
      "execution_count": null,
      "metadata": {
        "id": "KwXQkGbB0Taw"
      },
      "outputs": [],
      "source": [
        ""
      ]
    }
  ],
  "metadata": {
    "kernelspec": {
      "display_name": "Python 3",
      "language": "python",
      "name": "python3"
    },
    "language_info": {
      "codemirror_mode": {
        "name": "ipython",
        "version": 3
      },
      "file_extension": ".py",
      "mimetype": "text/x-python",
      "name": "python",
      "nbconvert_exporter": "python",
      "pygments_lexer": "ipython3",
      "version": "3.7.9"
    },
    "colab": {
      "name": "train_with validation data.ipynb",
      "provenance": []
    },
    "accelerator": "GPU"
  },
  "nbformat": 4,
  "nbformat_minor": 0
}