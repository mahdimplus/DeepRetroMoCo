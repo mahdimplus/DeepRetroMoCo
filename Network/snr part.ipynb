{
 "cells": [
  {
   "cell_type": "code",
   "execution_count": 1,
   "metadata": {},
   "outputs": [],
   "source": [
    "import pandas as pd\n",
    "import numpy as np\n",
    "import nibabel as nib\n",
    "import nbimporter\n",
    "from functions import *\n",
    "from numpy import *\n",
    "import matplotlib.pyplot as plt\n",
    "%matplotlib inline\n",
    "\n",
    "import os\n",
    "import subprocess"
   ]
  },
  {
   "cell_type": "markdown",
   "metadata": {},
   "source": [
    "# 1- make structure for files"
   ]
  },
  {
   "cell_type": "code",
   "execution_count": null,
   "metadata": {},
   "outputs": [],
   "source": [
    "if not os.path.exists('/home/mahdi/Desktop/valid'):\n",
    "     os.makedirs('/home/mahdi/Desktop/valid')\n",
    "\n",
    "for i in range(1,82):\n",
    "    os.makedirs('/home/mahdi/Desktop/valid/'+str(i))\n",
    "    \n",
    "    os.makedirs('/home/mahdi/Desktop/valid/'+str(i)+'/main_seg')\n",
    "    os.makedirs('/home/mahdi/Desktop/valid/'+str(i)+'/sct_seg')\n",
    "    os.makedirs('/home/mahdi/Desktop/valid/'+str(i)+'/my_seg/first_ref')\n",
    "    os.makedirs('/home/mahdi/Desktop/valid/'+str(i)+'/my_seg/zero_ref')\n",
    "    os.makedirs('/home/mahdi/Desktop/valid/'+str(i)+'/my_seg/mean_ref')\n",
    "\n"
   ]
  },
  {
   "cell_type": "markdown",
   "metadata": {},
   "source": [
    "# 2- resize main data to valid folder"
   ]
  },
  {
   "cell_type": "code",
   "execution_count": null,
   "metadata": {},
   "outputs": [],
   "source": [
    "def resize (file_path: str,output_direction):\n",
    "    if not (file_path.endswith(\".nii\") or file_path.endswith(\".nii.gz\")):\n",
    "        raise ValueError(\n",
    "              f\"Nifti file path must end with .nii or .nii.gz, got {file_path}.\"\n",
    "                        )\n",
    "    img = nib.load(file_path)\n",
    "    img_data = img.get_fdata()\n",
    "    img_data = img_data[23:87,23:87,:,:]\n",
    "    \n",
    "    header=img.header  \n",
    "    ## edit the header for shape\n",
    "    header['dim'][1:5]=img_data.shape\n",
    "    img_mask_affine = img.affine\n",
    "    \n",
    "    img_reshape = nib.Nifti1Image(img_data, affine=img_mask_affine, header=header)\n",
    "    return nib.save(img_reshape,output_direction) "
   ]
  },
  {
   "cell_type": "code",
   "execution_count": 2,
   "metadata": {
    "scrolled": true
   },
   "outputs": [],
   "source": [
    "D7_dir='/home/mahdi/Desktop/data_selection_D7'\n",
    "n,name=count(D7_dir)"
   ]
  },
  {
   "cell_type": "code",
   "execution_count": 2,
   "metadata": {
    "scrolled": true
   },
   "outputs": [],
   "source": [
    "out_dir='/home/mahdi/Desktop/valid'\n",
    "n1,name1=count(out_dir)"
   ]
  },
  {
   "cell_type": "code",
   "execution_count": 3,
   "metadata": {},
   "outputs": [
    {
     "data": {
      "text/plain": [
       "array([['76'],\n",
       "       ['70'],\n",
       "       ['13'],\n",
       "       ['52'],\n",
       "       ['32'],\n",
       "       ['16'],\n",
       "       ['30'],\n",
       "       ['39'],\n",
       "       ['49'],\n",
       "       ['73'],\n",
       "       ['21'],\n",
       "       ['55'],\n",
       "       ['35'],\n",
       "       ['27'],\n",
       "       ['66'],\n",
       "       ['51'],\n",
       "       ['14'],\n",
       "       ['5'],\n",
       "       ['81'],\n",
       "       ['75'],\n",
       "       ['61'],\n",
       "       ['60'],\n",
       "       ['63'],\n",
       "       ['59'],\n",
       "       ['77'],\n",
       "       ['7'],\n",
       "       ['9'],\n",
       "       ['48'],\n",
       "       ['56'],\n",
       "       ['22'],\n",
       "       ['33'],\n",
       "       ['44'],\n",
       "       ['41'],\n",
       "       ['26'],\n",
       "       ['36'],\n",
       "       ['24'],\n",
       "       ['23'],\n",
       "       ['46'],\n",
       "       ['45'],\n",
       "       ['74'],\n",
       "       ['57'],\n",
       "       ['72'],\n",
       "       ['2'],\n",
       "       ['62'],\n",
       "       ['15'],\n",
       "       ['47'],\n",
       "       ['43'],\n",
       "       ['18'],\n",
       "       ['17'],\n",
       "       ['42'],\n",
       "       ['19'],\n",
       "       ['69'],\n",
       "       ['64'],\n",
       "       ['10'],\n",
       "       ['65'],\n",
       "       ['71'],\n",
       "       ['78'],\n",
       "       ['54'],\n",
       "       ['3'],\n",
       "       ['38'],\n",
       "       ['58'],\n",
       "       ['20'],\n",
       "       ['79'],\n",
       "       ['11'],\n",
       "       ['80'],\n",
       "       ['6'],\n",
       "       ['12'],\n",
       "       ['40'],\n",
       "       ['68'],\n",
       "       ['37'],\n",
       "       ['67'],\n",
       "       ['25'],\n",
       "       ['8'],\n",
       "       ['4'],\n",
       "       ['50'],\n",
       "       ['1'],\n",
       "       ['28'],\n",
       "       ['29'],\n",
       "       ['53'],\n",
       "       ['34'],\n",
       "       ['31']], dtype='<U2')"
      ]
     },
     "execution_count": 3,
     "metadata": {},
     "output_type": "execute_result"
    }
   ],
   "source": [
    "name1"
   ]
  },
  {
   "cell_type": "code",
   "execution_count": 4,
   "metadata": {},
   "outputs": [
    {
     "data": {
      "text/plain": [
       "array(['S24_RND.nii.gz'], dtype='<U17')"
      ]
     },
     "execution_count": 4,
     "metadata": {},
     "output_type": "execute_result"
    }
   ],
   "source": [
    "name[10]"
   ]
  },
  {
   "cell_type": "code",
   "execution_count": 5,
   "metadata": {},
   "outputs": [
    {
     "data": {
      "text/plain": [
       "array(['21'], dtype='<U2')"
      ]
     },
     "execution_count": 5,
     "metadata": {},
     "output_type": "execute_result"
    }
   ],
   "source": [
    "name1[10]"
   ]
  },
  {
   "cell_type": "code",
   "execution_count": null,
   "metadata": {},
   "outputs": [],
   "source": [
    "for i in range(n):\n",
    "    resize(D7_dir+'/'+name[i][0],out_dir+'/'+name1[i][0]+'/'+'main_seg'+'/'+name[i][0])"
   ]
  },
  {
   "cell_type": "markdown",
   "metadata": {},
   "source": [
    "# 3- make mean data"
   ]
  },
  {
   "cell_type": "code",
   "execution_count": null,
   "metadata": {},
   "outputs": [],
   "source": [
    "for j in range(20,81):\n",
    "    data_dir=out_dir+'/'+name1[j][0]+'/'+'main_seg'+'/'+name[j][0]\n",
    "    out='/home/mahdi/Desktop/valid/'+name1[j][0]+'/main_seg/mean.nii'\n",
    "    \n",
    "    \n",
    "    subprocess.Popen(['sct_maths','-i',data_dir,'-mean','t' ,'-o',out ]) \n"
   ]
  },
  {
   "cell_type": "markdown",
   "metadata": {},
   "source": [
    "# 4- get result from my algo to related folder"
   ]
  },
  {
   "cell_type": "markdown",
   "metadata": {},
   "source": [
    "### mean ref"
   ]
  },
  {
   "cell_type": "code",
   "execution_count": null,
   "metadata": {
    "scrolled": true
   },
   "outputs": [],
   "source": [
    "maximum_intensity=1705\n",
    "model='200epoch_with_val.h5'\n",
    "\n",
    "for i in range(40,n):\n",
    "    \n",
    "    x=(len(name[i][0][:])-7)\n",
    "    output_direction_mean='/home/mahdi/Desktop/valid/'+name1[i][0]+'/my_seg/mean_ref/'+name[i][0][:x]+'_plus.'+name[i][0][-6:]\n",
    "    input_direction=out_dir+'/'+name1[i][0]+'/'+'main_seg'+'/'+name[i][0]\n",
    "    reference='/home/mahdi/Desktop/valid/'+name1[i][0]+'/main_seg/mean.nii'\n",
    "    \n",
    "    main(input_direction,reference,output_direction_mean,maximum_intensity,model)\n",
    "\n",
    "   \n",
    "    "
   ]
  },
  {
   "cell_type": "markdown",
   "metadata": {},
   "source": [
    "### zero ref "
   ]
  },
  {
   "cell_type": "code",
   "execution_count": null,
   "metadata": {
    "scrolled": true
   },
   "outputs": [],
   "source": [
    "for i in range(n):\n",
    "    \n",
    "    x=(len(name[i][0][:])-7)\n",
    "    output_direction_mean='/home/mahdi/Desktop/valid/'+name1[i][0]+'/my_seg/zero_ref/'+name[i][0][:x]+'_plus.'+name[i][0][-6:]\n",
    "    input_direction=out_dir+'/'+name1[i][0]+'/'+'main_seg'+'/'+name[i][0]\n",
    "    reference='0'\n",
    "    \n",
    "    main(input_direction,reference,output_direction_mean,maximum_intensity,model)"
   ]
  },
  {
   "cell_type": "code",
   "execution_count": null,
   "metadata": {},
   "outputs": [],
   "source": [
    "i=8\n",
    "maximum_intensity=1705\n",
    "model='200epoch_with_val.h5'\n",
    "\n",
    "x=(len(name[i][0][:])-7)\n",
    "output_direction_mean='/home/mahdi/Desktop/'+name[i][0][:x]+'_plus_mid.'+name[i][0][-6:]\n",
    "input_direction=out_dir+'/'+name1[i][0]+'/'+'main_seg'+'/'+name[i][0]\n",
    "reference='101'\n",
    "\n",
    "main(input_direction,reference,output_direction_mean,maximum_intensity,model)"
   ]
  },
  {
   "cell_type": "code",
   "execution_count": null,
   "metadata": {},
   "outputs": [],
   "source": [
    "img = nib.load(input_direction)\n",
    "img.shape"
   ]
  },
  {
   "cell_type": "code",
   "execution_count": null,
   "metadata": {},
   "outputs": [],
   "source": [
    "i=8\n",
    "maximum_intensity=1705\n",
    "model='200epoch_with_val.h5'\n",
    "\n",
    "x=(len(name[i][0][:])-7)\n",
    "output_direction_mean='/home/mahdi/Desktop/'+name[i][0][:x]+'_plus_zero_mean.'+name[i][0][-6:]\n",
    "input_direction=out_dir+'/'+name1[i][0]+'/'+'main_seg'+'/'+name[i][0]\n",
    "reference='/home/mahdi/Desktop/valid/'+name1[i][0]+'/main_seg/mean.nii'\n",
    "\n",
    "main(input_direction,reference,output_direction_mean,maximum_intensity,model)"
   ]
  },
  {
   "cell_type": "code",
   "execution_count": null,
   "metadata": {},
   "outputs": [],
   "source": [
    "name[8][0]"
   ]
  },
  {
   "cell_type": "markdown",
   "metadata": {},
   "source": [
    "### mid ref "
   ]
  },
  {
   "cell_type": "code",
   "execution_count": null,
   "metadata": {
    "scrolled": true
   },
   "outputs": [],
   "source": [
    "for i in range(n):\n",
    "    \n",
    "    x=(len(name[i][0][:])-7)\n",
    "    output_direction_mean='/home/mahdi/Desktop/valid/'+name1[i][0]+'/my_seg/first_ref/'+name[i][0][:x]+'_plus.'+name[i][0][-6:]\n",
    "    input_direction=out_dir+'/'+name1[i][0]+'/'+'main_seg'+'/'+name[i][0]\n",
    "    y=int(nib.load(input_direction).shape[3]/2)\n",
    "    reference=str(y)\n",
    "    \n",
    "    main(input_direction,reference,output_direction_mean,maximum_intensity,model)"
   ]
  },
  {
   "cell_type": "code",
   "execution_count": null,
   "metadata": {},
   "outputs": [],
   "source": [
    "i=8\n",
    "maximum_intensity=1705\n",
    "model='200epoch_with_val_landa_0.01.h5'\n",
    "x=(len(name[i][0][:])-7)\n",
    "output_direction_mean='/home/mahdi/Desktop/'+name[i][0][:x]+'_plus.'+name[i][0][-6:]\n",
    "input_direction=out_dir+'/'+name1[i][0]+'/'+'main_seg'+'/'+name[i][0]\n",
    "y=int(nib.load(input_direction).shape[3]/2)\n",
    "reference=str(y)\n",
    "\n",
    "main(input_direction,reference,output_direction_mean,maximum_intensity,model)"
   ]
  },
  {
   "cell_type": "markdown",
   "metadata": {},
   "source": [
    "# 5- resize sct data"
   ]
  },
  {
   "cell_type": "code",
   "execution_count": null,
   "metadata": {},
   "outputs": [],
   "source": [
    "for j in range(n):\n",
    "    input_dir='/home/mahdi/Desktop/valid/'+name1[j][0]+'/sct_seg/fmri_rmvol_moco.nii.gz'\n",
    "    out_dir='/home/mahdi/Desktop/valid/'+name1[j][0]+'/sct_seg/fmri_rmvol_moco.nii.gz'\n",
    "    resize(input_dir,out_dir)"
   ]
  },
  {
   "cell_type": "markdown",
   "metadata": {},
   "source": [
    "# 6- make TSNR data"
   ]
  },
  {
   "cell_type": "markdown",
   "metadata": {},
   "source": [
    "### For main"
   ]
  },
  {
   "cell_type": "code",
   "execution_count": null,
   "metadata": {},
   "outputs": [],
   "source": [
    "for j in range(20,n):\n",
    "    data_dir=out_dir+'/'+name1[j][0]+'/'+'main_seg'+'/'+name[j][0]\n",
    "    out='/home/mahdi/Desktop/valid/'+name1[j][0]+'/main_seg/tsnr.nii'\n",
    "    \n",
    "    \n",
    "    subprocess.Popen(['sct_fmri_compute_tsnr','-i',data_dir,'-o',out ]) "
   ]
  },
  {
   "cell_type": "markdown",
   "metadata": {},
   "source": [
    "### For mine "
   ]
  },
  {
   "cell_type": "code",
   "execution_count": null,
   "metadata": {},
   "outputs": [],
   "source": [
    "for j in range(n):\n",
    "    \n",
    "    x=(len(name[j][0][:])-7)\n",
    "    data_dir='/home/mahdi/Desktop/valid/'+name1[j][0]+'/my_seg/mean_ref/'+name[j][0][:x]+'_plus.'+name[j][0][-6:]\n",
    "    \n",
    "    out='/home/mahdi/Desktop/valid/'+name1[j][0]+'/my_seg/mean_ref/tsnr.nii'\n",
    "    \n",
    "    \n",
    "    subprocess.Popen(['sct_fmri_compute_tsnr','-i',data_dir,'-o',out ]) "
   ]
  },
  {
   "cell_type": "code",
   "execution_count": null,
   "metadata": {},
   "outputs": [],
   "source": [
    "for j in range(n):\n",
    "    \n",
    "    x=(len(name[j][0][:])-7)\n",
    "    data_dir='/home/mahdi/Desktop/valid/'+name1[j][0]+'/my_seg/zero_ref/'+name[j][0][:x]+'_plus.'+name[j][0][-6:]\n",
    "    \n",
    "    out='/home/mahdi/Desktop/valid/'+name1[j][0]+'/my_seg/zero_ref/tsnr.nii'\n",
    "    \n",
    "    \n",
    "    subprocess.Popen(['sct_fmri_compute_tsnr','-i',data_dir,'-o',out ]) "
   ]
  },
  {
   "cell_type": "code",
   "execution_count": null,
   "metadata": {},
   "outputs": [],
   "source": [
    "for j in range(n):\n",
    "    \n",
    "    x=(len(name[j][0][:])-7)\n",
    "    data_dir='/home/mahdi/Desktop/valid/'+name1[j][0]+'/my_seg/first_ref/'+name[j][0][:x]+'_plus.'+name[j][0][-6:]\n",
    "    \n",
    "    out='/home/mahdi/Desktop/valid/'+name1[j][0]+'/my_seg/first_ref/tsnr.nii'\n",
    "    \n",
    "    \n",
    "    subprocess.Popen(['sct_fmri_compute_tsnr','-i',data_dir,'-o',out ]) "
   ]
  },
  {
   "cell_type": "markdown",
   "metadata": {},
   "source": [
    "### For sct"
   ]
  },
  {
   "cell_type": "code",
   "execution_count": null,
   "metadata": {},
   "outputs": [],
   "source": [
    "for j in range(n):\n",
    "    data_dir=out_dir+'/'+name1[j][0]+'/'+'sct_seg'+'/'+'fmri_rmvol_moco.nii.gz'\n",
    "    out='/home/mahdi/Desktop/valid/'+name1[j][0]+'/sct_seg/tsnr.nii'\n",
    "    \n",
    "    \n",
    "    subprocess.Popen(['sct_fmri_compute_tsnr','-i',data_dir,'-o',out ]) "
   ]
  },
  {
   "cell_type": "markdown",
   "metadata": {},
   "source": [
    "# 7- resize and copy segmentation file"
   ]
  },
  {
   "cell_type": "code",
   "execution_count": null,
   "metadata": {},
   "outputs": [],
   "source": [
    "def resize_seg (file_path: str,output_direction):\n",
    "    if not (file_path.endswith(\".nii\") or file_path.endswith(\".nii.gz\")):\n",
    "        raise ValueError(\n",
    "              f\"Nifti file path must end with .nii or .nii.gz, got {file_path}.\"\n",
    "                        )\n",
    "    img = nib.load(file_path)\n",
    "    img_data = img.get_fdata()\n",
    "    img_data = img_data[23:87,23:87,:]\n",
    "    \n",
    "    header=img.header  \n",
    "    ## edit the header for shape\n",
    "    header['dim'][1:4]=img_data.shape\n",
    "    img_mask_affine = img.affine\n",
    "    \n",
    "    img_reshape = nib.Nifti1Image(img_data, affine=img_mask_affine, header=header)\n",
    "    return nib.save(img_reshape,output_direction) "
   ]
  },
  {
   "cell_type": "markdown",
   "metadata": {},
   "source": [
    "### resize csf part "
   ]
  },
  {
   "cell_type": "code",
   "execution_count": null,
   "metadata": {},
   "outputs": [],
   "source": [
    "for i in range(n):\n",
    "    \n",
    "    data_dir1=out_dir+'/'+name1[i][0]+'/'+'/'+'mask_seg2_Dil_CSF.nii.gz'\n",
    "    \n",
    "    output1='/home/mahdi/Desktop/valid/'+name1[i][0]+'/sct_seg/csf_part.nii'\n",
    "    output2='/home/mahdi/Desktop/valid/'+name1[i][0]+'/main_seg/csf_part.nii'\n",
    "    output3_1='/home/mahdi/Desktop/valid/'+name1[i][0]+'/my_seg/zero_ref/csf_part.nii'\n",
    "    output3_2='/home/mahdi/Desktop/valid/'+name1[i][0]+'/my_seg/first_ref/csf_part.nii'\n",
    "    output3_3='/home/mahdi/Desktop/valid/'+name1[i][0]+'/my_seg/mean_ref/csf_part.nii'\n",
    "\n",
    "    resize_seg(data_dir1,output1)\n",
    "    resize_seg(data_dir1,output2)\n",
    "    resize_seg(data_dir1,output3_1)\n",
    "    resize_seg(data_dir1,output3_2)\n",
    "    resize_seg(data_dir1,output3_3)\n"
   ]
  },
  {
   "cell_type": "markdown",
   "metadata": {},
   "source": [
    "### resize spine part"
   ]
  },
  {
   "cell_type": "code",
   "execution_count": null,
   "metadata": {},
   "outputs": [],
   "source": [
    "for i in range(n):\n",
    "    \n",
    "    data_dir2=out_dir+'/'+name1[i][0]+'/'+'/'+'tmp_t2s_seg_reg.nii.gz'\n",
    "    \n",
    "    output4='/home/mahdi/Desktop/valid/'+name1[i][0]+'/sct_seg/spine_part.nii'\n",
    "    output5='/home/mahdi/Desktop/valid/'+name1[i][0]+'/main_seg/spine_part.nii'\n",
    "    output6_1='/home/mahdi/Desktop/valid/'+name1[i][0]+'/my_seg/zero_ref/spine_part.nii'\n",
    "    output6_2='/home/mahdi/Desktop/valid/'+name1[i][0]+'/my_seg/first_ref/spine_part.nii'\n",
    "    output6_3='/home/mahdi/Desktop/valid/'+name1[i][0]+'/my_seg/mean_ref/spine_part.nii'   \n",
    "    \n",
    "    resize_seg(data_dir2,output4)\n",
    "    resize_seg(data_dir2,output5)\n",
    "    resize_seg(data_dir2,output6_1)\n",
    "    resize_seg(data_dir2,output6_2)\n",
    "    resize_seg(data_dir2,output6_3)        "
   ]
  },
  {
   "cell_type": "markdown",
   "metadata": {},
   "source": [
    "# 8- edit all segmentation "
   ]
  },
  {
   "cell_type": "markdown",
   "metadata": {},
   "source": [
    "# 9- create mask "
   ]
  },
  {
   "cell_type": "markdown",
   "metadata": {},
   "source": [
    "### sct mask"
   ]
  },
  {
   "cell_type": "code",
   "execution_count": null,
   "metadata": {},
   "outputs": [],
   "source": [
    "for i in range(n):\n",
    "    second_1='/home/mahdi/Desktop/valid/'+name1[i][0]+'/sct_seg/tsnr.nii'\n",
    "\n",
    "    \n",
    "    input1='/home/mahdi/Desktop/valid/'+name1[i][0]+'/sct_seg/csf_part.nii'\n",
    "    output1='/home/mahdi/Desktop/valid/'+name1[i][0]+'/sct_seg/csf_mask.nii'\n",
    "    subprocess.Popen(['sct_maths','-i',input1,'-mul',second_1 ,'-o',output1]) \n",
    "    \n",
    "    input1='/home/mahdi/Desktop/valid/'+name1[i][0]+'/sct_seg/spine_part.nii'\n",
    "    output1='/home/mahdi/Desktop/valid/'+name1[i][0]+'/sct_seg/spine_mask.nii'\n",
    "    subprocess.Popen(['sct_maths','-i',input1,'-mul',second_1 ,'-o',output1]) \n",
    "    "
   ]
  },
  {
   "cell_type": "markdown",
   "metadata": {},
   "source": [
    "### main mask"
   ]
  },
  {
   "cell_type": "code",
   "execution_count": null,
   "metadata": {},
   "outputs": [],
   "source": [
    "for i in range(n):\n",
    "    second_2='/home/mahdi/Desktop/valid/'+name1[i][0]+'/main_seg/tsnr.nii' \n",
    "\n",
    "    input2='/home/mahdi/Desktop/valid/'+name1[i][0]+'/sct_seg/csf_part.nii'\n",
    "    output2='/home/mahdi/Desktop/valid/'+name1[i][0]+'/main_seg/csf_mask.nii'\n",
    "    subprocess.Popen(['sct_maths','-i',input2,'-mul',second_2 ,'-o', output2])\n",
    "    \n",
    "    input2='/home/mahdi/Desktop/valid/'+name1[i][0]+'/sct_seg/spine_part.nii'\n",
    "    output2='/home/mahdi/Desktop/valid/'+name1[i][0]+'/main_seg/spine_mask.nii'\n",
    "    subprocess.Popen(['sct_maths','-i',input2,'-mul',second_2 ,'-o', output2])"
   ]
  },
  {
   "cell_type": "markdown",
   "metadata": {},
   "source": [
    "## my mask "
   ]
  },
  {
   "cell_type": "markdown",
   "metadata": {},
   "source": [
    "### zero_ref"
   ]
  },
  {
   "cell_type": "code",
   "execution_count": null,
   "metadata": {},
   "outputs": [],
   "source": [
    "for i in range(40,n):\n",
    "    second3_3='/home/mahdi/Desktop/valid/'+name1[i][0]+'/my_seg/zero_ref/tsnr.nii'\n",
    "\n",
    "    input3_3='/home/mahdi/Desktop/valid/'+name1[i][0]+'/sct_seg/csf_part.nii'\n",
    "    output3_3='/home/mahdi/Desktop/valid/'+name1[i][0]+'/my_seg/zero_ref/csf_mask.nii'\n",
    "    subprocess.Popen(['sct_maths','-i',input3_3,'-mul',second3_3 ,'-o', output3_3]) \n",
    "    \n",
    "    input3_3='/home/mahdi/Desktop/valid/'+name1[i][0]+'/sct_seg/spine_part.nii'\n",
    "    output3_3='/home/mahdi/Desktop/valid/'+name1[i][0]+'/my_seg/zero_ref/spine_mask.nii'\n",
    "    subprocess.Popen(['sct_maths','-i',input3_3,'-mul',second3_3 ,'-o', output3_3]) \n",
    "    "
   ]
  },
  {
   "cell_type": "markdown",
   "metadata": {},
   "source": [
    "### mid_ref "
   ]
  },
  {
   "cell_type": "code",
   "execution_count": null,
   "metadata": {},
   "outputs": [],
   "source": [
    "for i in range(40,n):\n",
    "    second3_3='/home/mahdi/Desktop/valid/'+name1[i][0]+'/my_seg/first_ref/tsnr.nii'\n",
    "\n",
    "    input3_3='/home/mahdi/Desktop/valid/'+name1[i][0]+'/sct_seg/csf_part.nii'\n",
    "    output3_3='/home/mahdi/Desktop/valid/'+name1[i][0]+'/my_seg/first_ref/csf_mask.nii'\n",
    "    subprocess.Popen(['sct_maths','-i',input3_3,'-mul',second3_3 ,'-o', output3_3]) \n",
    "    \n",
    "    input3_3='/home/mahdi/Desktop/valid/'+name1[i][0]+'/sct_seg/spine_part.nii'\n",
    "    output3_3='/home/mahdi/Desktop/valid/'+name1[i][0]+'/my_seg/first_ref/spine_mask.nii'\n",
    "    subprocess.Popen(['sct_maths','-i',input3_3,'-mul',second3_3 ,'-o', output3_3]) \n",
    "    "
   ]
  },
  {
   "cell_type": "markdown",
   "metadata": {},
   "source": [
    "### mean_ref "
   ]
  },
  {
   "cell_type": "code",
   "execution_count": null,
   "metadata": {},
   "outputs": [],
   "source": [
    "for i in range(40,n):\n",
    "    second3_3='/home/mahdi/Desktop/valid/'+name1[i][0]+'/my_seg/mean_ref/tsnr.nii'\n",
    "\n",
    "    input3_3='/home/mahdi/Desktop/valid/'+name1[i][0]+'/sct_seg/csf_part.nii'\n",
    "    output3_3='/home/mahdi/Desktop/valid/'+name1[i][0]+'/my_seg/mean_ref/csf_mask.nii'\n",
    "    subprocess.Popen(['sct_maths','-i',input3_3,'-mul',second3_3 ,'-o', output3_3]) \n",
    "    \n",
    "    input3_3='/home/mahdi/Desktop/valid/'+name1[i][0]+'/sct_seg/spine_part.nii'\n",
    "    output3_3='/home/mahdi/Desktop/valid/'+name1[i][0]+'/my_seg/mean_ref/spine_mask.nii'\n",
    "    subprocess.Popen(['sct_maths','-i',input3_3,'-mul',second3_3 ,'-o', output3_3]) \n",
    "    "
   ]
  },
  {
   "cell_type": "markdown",
   "metadata": {},
   "source": [
    "# 10-Tsnr mean and compare result"
   ]
  },
  {
   "cell_type": "code",
   "execution_count": 12,
   "metadata": {
    "scrolled": true
   },
   "outputs": [
    {
     "name": "stdout",
     "output_type": "stream",
     "text": [
      "--- 369.800829410553 second ---\n"
     ]
    },
    {
     "data": {
      "text/html": [
       "<div>\n",
       "<style scoped>\n",
       "    .dataframe tbody tr th:only-of-type {\n",
       "        vertical-align: middle;\n",
       "    }\n",
       "\n",
       "    .dataframe tbody tr th {\n",
       "        vertical-align: top;\n",
       "    }\n",
       "\n",
       "    .dataframe thead th {\n",
       "        text-align: right;\n",
       "    }\n",
       "</style>\n",
       "<table border=\"1\" class=\"dataframe\">\n",
       "  <thead>\n",
       "    <tr style=\"text-align: right;\">\n",
       "      <th></th>\n",
       "      <th>0</th>\n",
       "    </tr>\n",
       "  </thead>\n",
       "  <tbody>\n",
       "    <tr>\n",
       "      <th>main_csf_tsnr</th>\n",
       "      <td>4.038673</td>\n",
       "    </tr>\n",
       "    <tr>\n",
       "      <th>sct_csf_tsnr</th>\n",
       "      <td>7.146877</td>\n",
       "    </tr>\n",
       "    <tr>\n",
       "      <th>my_csf_tsnr_first</th>\n",
       "      <td>7.989082</td>\n",
       "    </tr>\n",
       "    <tr>\n",
       "      <th>my_csf_tsnr_mid</th>\n",
       "      <td>8.317330</td>\n",
       "    </tr>\n",
       "    <tr>\n",
       "      <th>my_csf_tsnr_mean</th>\n",
       "      <td>8.828488</td>\n",
       "    </tr>\n",
       "    <tr>\n",
       "      <th>main_spine_tsnr</th>\n",
       "      <td>7.104279</td>\n",
       "    </tr>\n",
       "    <tr>\n",
       "      <th>sct_spine_tsnr</th>\n",
       "      <td>12.899953</td>\n",
       "    </tr>\n",
       "    <tr>\n",
       "      <th>my_spine_tsnr_first</th>\n",
       "      <td>12.603740</td>\n",
       "    </tr>\n",
       "    <tr>\n",
       "      <th>my_spine_tsnr_mid</th>\n",
       "      <td>12.411145</td>\n",
       "    </tr>\n",
       "    <tr>\n",
       "      <th>my_spine_tsnr_mean</th>\n",
       "      <td>13.092095</td>\n",
       "    </tr>\n",
       "  </tbody>\n",
       "</table>\n",
       "</div>"
      ],
      "text/plain": [
       "                             0\n",
       "main_csf_tsnr         4.038673\n",
       "sct_csf_tsnr          7.146877\n",
       "my_csf_tsnr_first     7.989082\n",
       "my_csf_tsnr_mid       8.317330\n",
       "my_csf_tsnr_mean      8.828488\n",
       "main_spine_tsnr       7.104279\n",
       "sct_spine_tsnr       12.899953\n",
       "my_spine_tsnr_first  12.603740\n",
       "my_spine_tsnr_mid    12.411145\n",
       "my_spine_tsnr_mean   13.092095"
      ]
     },
     "execution_count": 12,
     "metadata": {},
     "output_type": "execute_result"
    }
   ],
   "source": [
    "csf_main1=[]\n",
    "csf_sct1 =[]\n",
    "csf_mine1=[]\n",
    "csf_mine2=[]\n",
    "csf_mine3=[]\n",
    "spine_main1=[]\n",
    "spine_mine1=[]\n",
    "spine_mine2=[]\n",
    "spine_mine3=[]\n",
    "spine_sct1 =[]\n",
    "start_time=time.time()\n",
    "\n",
    "for i in range(n):\n",
    "    output_sct_csf='/home/mahdi/Desktop/valid/'+name1[i][0]+'/sct_seg/csf_mask.nii'\n",
    "    output_main_csf='/home/mahdi/Desktop/valid/'+name1[i][0]+'/main_seg/csf_mask.nii'\n",
    "    output_mine_zeroref_csf='/home/mahdi/Desktop/valid/'+name1[i][0]+'/my_seg/zero_ref/csf_mask.nii'\n",
    "    \n",
    "    output_mine_midref_csf='/home/mahdi/Desktop/valid/'+name1[i][0]+'/my_seg/first_ref/csf_mask.nii'\n",
    "    output_mine_meanref_csf='/home/mahdi/Desktop/valid/'+name1[i][0]+'/my_seg/mean_ref/csf_mask.nii'\n",
    "\n",
    "    \n",
    "    \n",
    "    \n",
    "    output_sct_spine='/home/mahdi/Desktop/valid/'+name1[i][0]+'/sct_seg/spine_mask.nii'\n",
    "    output_main_spine='/home/mahdi/Desktop/valid/'+name1[i][0]+'/main_seg/spine_mask.nii'\n",
    "    output_mine_zeroref_spine='/home/mahdi/Desktop/valid/'+name1[i][0]+'/my_seg/zero_ref/spine_mask.nii' \n",
    "    \n",
    "    output_mine_midref_spine='/home/mahdi/Desktop/valid/'+name1[i][0]+'/my_seg/first_ref/spine_mask.nii' \n",
    "    output_mine_meanref_spine='/home/mahdi/Desktop/valid/'+name1[i][0]+'/my_seg/mean_ref/spine_mask.nii' \n",
    "\n",
    "    \n",
    "    \n",
    "    \n",
    "    csf_main=mean_all(output_main_csf)\n",
    "    csf_main1.append(csf_main)\n",
    "    csf_sct=mean_all(output_sct_csf)\n",
    "    csf_sct1.append(csf_sct)\n",
    "    \n",
    "    csf_mine=mean_all(output_mine_zeroref_csf)\n",
    "    csf_mine1.append(csf_mine)\n",
    "    csf_mine_mid=mean_all(output_mine_midref_csf)\n",
    "    csf_mine2.append(csf_mine_mid)\n",
    "    csf_mine_mean=mean_all(output_mine_meanref_csf)\n",
    "    csf_mine3.append(csf_mine_mean)\n",
    "    \n",
    "    \n",
    "    spine_main=mean_all(output_main_spine)\n",
    "    spine_main1.append(spine_main)\n",
    "    spine_sct=mean_all(output_sct_spine)\n",
    "    spine_sct1.append(spine_sct)\n",
    "    \n",
    "    \n",
    "    spine_mine=mean_all(output_mine_zeroref_spine)\n",
    "    spine_mine1.append(spine_mine)\n",
    "    spine_mine_mid=mean_all(output_mine_midref_spine)\n",
    "    spine_mine2.append(spine_mine_mid)\n",
    "    spine_mine_mean=mean_all(output_mine_meanref_spine)\n",
    "    spine_mine3.append(spine_mine_mean)\n",
    "\n",
    "    \n",
    "    \n",
    "\n",
    "csf_main=np.mean(csf_main1)\n",
    "csf_sct=np.mean(csf_sct1)\n",
    "csf_mine_zero=np.mean(csf_mine1)\n",
    "csf_mine_mid=np.mean(csf_mine2)\n",
    "csf_mine_mean=np.mean(csf_mine3)\n",
    "\n",
    "\n",
    "\n",
    "\n",
    "spine_main=np.mean(spine_main1)\n",
    "spine_sct=np.mean(spine_sct1)\n",
    "spine_mine_zero=np.mean(spine_mine1)\n",
    "spine_mine_mid=np.mean(spine_mine2)\n",
    "spine_mine_mean=np.mean(spine_mine3)\n",
    "\n",
    "print(\"--- %s second ---\" % (time.time() - start_time))\n",
    "\n",
    "    \n",
    "pd.DataFrame([csf_main,csf_sct,csf_mine_zero,csf_mine_mid,csf_mine_mean,spine_main,spine_sct,spine_mine_zero,spine_mine_mid,spine_mine_mean],\n",
    "         index=['main_csf_tsnr', 'sct_csf_tsnr', 'my_csf_tsnr_first','my_csf_tsnr_mid','my_csf_tsnr_mean',\n",
    "                'main_spine_tsnr','sct_spine_tsnr','my_spine_tsnr_first','my_spine_tsnr_mid','my_spine_tsnr_mean']\n",
    "        )"
   ]
  },
  {
   "cell_type": "code",
   "execution_count": null,
   "metadata": {},
   "outputs": [],
   "source": [
    "(4.038673+7.104279)/2"
   ]
  },
  {
   "cell_type": "code",
   "execution_count": null,
   "metadata": {
    "scrolled": true
   },
   "outputs": [],
   "source": [
    "print(p.shape)\n",
    "64*64"
   ]
  },
  {
   "cell_type": "code",
   "execution_count": null,
   "metadata": {},
   "outputs": [],
   "source": [
    "final=np.array([csf_main1 , csf_sct1,csf_mine1,csf_mine2,csf_mine3,\n",
    "                spine_main1,spine_sct1,spine_mine1,spine_mine2,spine_mine3])\n",
    "pd.DataFrame(final,index=['csf_nomoco','csf_sct','csf_myalgo_zero_ref','csf_myalgo_mid_ref','csf_myalgo_mean_ref','spine_nomoco','spine_sct','spine_myalgo_zero_ref','spine_myalgo_mid_ref','spine_myalgo_mean_ref']).to_csv('/home/mahdi/Desktop/result/tsnr_result.csv')"
   ]
  },
  {
   "cell_type": "markdown",
   "metadata": {},
   "source": [
    "# 11- calculate Dvars"
   ]
  },
  {
   "cell_type": "markdown",
   "metadata": {},
   "source": [
    "### for main "
   ]
  },
  {
   "cell_type": "code",
   "execution_count": null,
   "metadata": {},
   "outputs": [],
   "source": [
    "for j in range(n):\n",
    "    data_dir=out_dir+'/'+name1[j][0]+'/'+'main_seg'+'/'+name[j][0]\n",
    "    out='/home/mahdi/Desktop/valid/'+name1[j][0]+'/main_seg'\n",
    "    subprocess.Popen(['fsl_motion_outliers','-i',data_dir,'-s',out+'/Dvars','-o',out+'/e' ]) "
   ]
  },
  {
   "cell_type": "markdown",
   "metadata": {},
   "source": [
    "### for sct"
   ]
  },
  {
   "cell_type": "code",
   "execution_count": null,
   "metadata": {},
   "outputs": [],
   "source": [
    "for j in range(n):\n",
    "    data_dir=out_dir+'/'+name1[j][0]+'/'+'sct_seg'+'/'+'fmri_rmvol_moco.nii.gz'\n",
    "    out='/home/mahdi/Desktop/valid/'+name1[j][0]+'/sct_seg'\n",
    "    subprocess.Popen(['fsl_motion_outliers','-i',data_dir,'-s',out+'/Dvars','-o',out+'/e' ]) "
   ]
  },
  {
   "cell_type": "markdown",
   "metadata": {},
   "source": [
    "### for mine "
   ]
  },
  {
   "cell_type": "code",
   "execution_count": null,
   "metadata": {},
   "outputs": [],
   "source": [
    "for j in range(n):\n",
    "    \n",
    "    x=(len(name[j][0][:])-7)\n",
    "    data_dir='/home/mahdi/Desktop/valid/'+name1[j][0]+'/my_seg/mean_ref/'+name[j][0][:x]+'_plus.'+name[j][0][-6:]\n",
    "    out='/home/mahdi/Desktop/valid/'+name1[j][0]+'/my_seg/mean_ref'\n",
    "    subprocess.Popen(['fsl_motion_outliers','-i',data_dir,'-s',out+'/Dvars','-o',out+'/e' ]) "
   ]
  },
  {
   "cell_type": "code",
   "execution_count": null,
   "metadata": {},
   "outputs": [],
   "source": [
    "for j in range(n):\n",
    "    \n",
    "    x=(len(name[j][0][:])-7)\n",
    "    data_dir='/home/mahdi/Desktop/valid/'+name1[j][0]+'/my_seg/zero_ref/'+name[j][0][:x]+'_plus.'+name[j][0][-6:]\n",
    "    out='/home/mahdi/Desktop/valid/'+name1[j][0]+'/my_seg/zero_ref'\n",
    "    subprocess.Popen(['fsl_motion_outliers','-i',data_dir,'-s',out+'/Dvars','-o',out+'/e' ]) "
   ]
  },
  {
   "cell_type": "code",
   "execution_count": null,
   "metadata": {},
   "outputs": [],
   "source": [
    "for j in range(n):\n",
    "    \n",
    "    x=(len(name[j][0][:])-7)\n",
    "    data_dir='/home/mahdi/Desktop/valid/'+name1[j][0]+'/my_seg/first_ref/'+name[j][0][:x]+'_plus.'+name[j][0][-6:]\n",
    "    out='/home/mahdi/Desktop/valid/'+name1[j][0]+'/my_seg/first_ref'\n",
    "    subprocess.Popen(['fsl_motion_outliers','-i',data_dir,'-s',out+'/Dvars','-o',out+'/e' ]) "
   ]
  },
  {
   "cell_type": "markdown",
   "metadata": {},
   "source": [
    "# 12- Dvars "
   ]
  },
  {
   "cell_type": "markdown",
   "metadata": {},
   "source": [
    "### main\n"
   ]
  },
  {
   "cell_type": "code",
   "execution_count": 5,
   "metadata": {},
   "outputs": [
    {
     "data": {
      "text/html": [
       "<div>\n",
       "<style scoped>\n",
       "    .dataframe tbody tr th:only-of-type {\n",
       "        vertical-align: middle;\n",
       "    }\n",
       "\n",
       "    .dataframe tbody tr th {\n",
       "        vertical-align: top;\n",
       "    }\n",
       "\n",
       "    .dataframe thead th {\n",
       "        text-align: right;\n",
       "    }\n",
       "</style>\n",
       "<table border=\"1\" class=\"dataframe\">\n",
       "  <thead>\n",
       "    <tr style=\"text-align: right;\">\n",
       "      <th></th>\n",
       "      <th>0</th>\n",
       "    </tr>\n",
       "  </thead>\n",
       "  <tbody>\n",
       "    <tr>\n",
       "      <th>0</th>\n",
       "      <td>0.033274</td>\n",
       "    </tr>\n",
       "    <tr>\n",
       "      <th>1</th>\n",
       "      <td>0.027648</td>\n",
       "    </tr>\n",
       "    <tr>\n",
       "      <th>2</th>\n",
       "      <td>0.022165</td>\n",
       "    </tr>\n",
       "    <tr>\n",
       "      <th>3</th>\n",
       "      <td>0.044346</td>\n",
       "    </tr>\n",
       "    <tr>\n",
       "      <th>4</th>\n",
       "      <td>0.044644</td>\n",
       "    </tr>\n",
       "    <tr>\n",
       "      <th>...</th>\n",
       "      <td>...</td>\n",
       "    </tr>\n",
       "    <tr>\n",
       "      <th>76</th>\n",
       "      <td>0.052032</td>\n",
       "    </tr>\n",
       "    <tr>\n",
       "      <th>77</th>\n",
       "      <td>0.020753</td>\n",
       "    </tr>\n",
       "    <tr>\n",
       "      <th>78</th>\n",
       "      <td>0.028959</td>\n",
       "    </tr>\n",
       "    <tr>\n",
       "      <th>79</th>\n",
       "      <td>0.031971</td>\n",
       "    </tr>\n",
       "    <tr>\n",
       "      <th>80</th>\n",
       "      <td>0.034878</td>\n",
       "    </tr>\n",
       "  </tbody>\n",
       "</table>\n",
       "<p>81 rows × 1 columns</p>\n",
       "</div>"
      ],
      "text/plain": [
       "           0\n",
       "0   0.033274\n",
       "1   0.027648\n",
       "2   0.022165\n",
       "3   0.044346\n",
       "4   0.044644\n",
       "..       ...\n",
       "76  0.052032\n",
       "77  0.020753\n",
       "78  0.028959\n",
       "79  0.031971\n",
       "80  0.034878\n",
       "\n",
       "[81 rows x 1 columns]"
      ]
     },
     "execution_count": 5,
     "metadata": {},
     "output_type": "execute_result"
    }
   ],
   "source": [
    "main_Dvars=[]\n",
    "for j in range(n):\n",
    "    data_dir=out_dir+'/'+name1[j][0]+'/'+'main_seg'+'/Dvars'\n",
    "    main_Dvars.append(np.mean(pd.read_csv(data_dir)))\n",
    "mean_main_Dvars=np.mean(main_Dvars) \n",
    "pd.DataFrame(main_Dvars)  \n",
    "#pd.DataFrame(main_Dvars).to_csv('/home/mahdi/Desktop/result/main_Dvars.csv')"
   ]
  },
  {
   "cell_type": "markdown",
   "metadata": {},
   "source": [
    "### sct"
   ]
  },
  {
   "cell_type": "code",
   "execution_count": 6,
   "metadata": {},
   "outputs": [
    {
     "data": {
      "text/html": [
       "<div>\n",
       "<style scoped>\n",
       "    .dataframe tbody tr th:only-of-type {\n",
       "        vertical-align: middle;\n",
       "    }\n",
       "\n",
       "    .dataframe tbody tr th {\n",
       "        vertical-align: top;\n",
       "    }\n",
       "\n",
       "    .dataframe thead th {\n",
       "        text-align: right;\n",
       "    }\n",
       "</style>\n",
       "<table border=\"1\" class=\"dataframe\">\n",
       "  <thead>\n",
       "    <tr style=\"text-align: right;\">\n",
       "      <th></th>\n",
       "      <th>0</th>\n",
       "    </tr>\n",
       "  </thead>\n",
       "  <tbody>\n",
       "    <tr>\n",
       "      <th>0</th>\n",
       "      <td>0.035907</td>\n",
       "    </tr>\n",
       "    <tr>\n",
       "      <th>1</th>\n",
       "      <td>0.025350</td>\n",
       "    </tr>\n",
       "    <tr>\n",
       "      <th>2</th>\n",
       "      <td>0.019106</td>\n",
       "    </tr>\n",
       "    <tr>\n",
       "      <th>3</th>\n",
       "      <td>0.042239</td>\n",
       "    </tr>\n",
       "    <tr>\n",
       "      <th>4</th>\n",
       "      <td>0.041873</td>\n",
       "    </tr>\n",
       "    <tr>\n",
       "      <th>...</th>\n",
       "      <td>...</td>\n",
       "    </tr>\n",
       "    <tr>\n",
       "      <th>76</th>\n",
       "      <td>0.049396</td>\n",
       "    </tr>\n",
       "    <tr>\n",
       "      <th>77</th>\n",
       "      <td>0.021202</td>\n",
       "    </tr>\n",
       "    <tr>\n",
       "      <th>78</th>\n",
       "      <td>0.028252</td>\n",
       "    </tr>\n",
       "    <tr>\n",
       "      <th>79</th>\n",
       "      <td>0.025799</td>\n",
       "    </tr>\n",
       "    <tr>\n",
       "      <th>80</th>\n",
       "      <td>0.030255</td>\n",
       "    </tr>\n",
       "  </tbody>\n",
       "</table>\n",
       "<p>81 rows × 1 columns</p>\n",
       "</div>"
      ],
      "text/plain": [
       "           0\n",
       "0   0.035907\n",
       "1   0.025350\n",
       "2   0.019106\n",
       "3   0.042239\n",
       "4   0.041873\n",
       "..       ...\n",
       "76  0.049396\n",
       "77  0.021202\n",
       "78  0.028252\n",
       "79  0.025799\n",
       "80  0.030255\n",
       "\n",
       "[81 rows x 1 columns]"
      ]
     },
     "execution_count": 6,
     "metadata": {},
     "output_type": "execute_result"
    }
   ],
   "source": [
    "sct_Dvars=[]\n",
    "for j in range(n):\n",
    "    data_dir=out_dir+'/'+name1[j][0]+'/'+'sct_seg'+'/Dvars'\n",
    "    sct_Dvars.append(np.mean(pd.read_csv(data_dir)))\n",
    "mean_sct_Dvars=np.mean(sct_Dvars)   \n",
    "pd.DataFrame(sct_Dvars)  \n",
    "#pd.DataFrame(sct_Dvars).to_csv('/home/mahdi/Desktop/result/sct_Dvars.csv')"
   ]
  },
  {
   "cell_type": "markdown",
   "metadata": {},
   "source": [
    "## my algo"
   ]
  },
  {
   "cell_type": "markdown",
   "metadata": {},
   "source": [
    "### zero ref"
   ]
  },
  {
   "cell_type": "code",
   "execution_count": 7,
   "metadata": {},
   "outputs": [
    {
     "data": {
      "text/html": [
       "<div>\n",
       "<style scoped>\n",
       "    .dataframe tbody tr th:only-of-type {\n",
       "        vertical-align: middle;\n",
       "    }\n",
       "\n",
       "    .dataframe tbody tr th {\n",
       "        vertical-align: top;\n",
       "    }\n",
       "\n",
       "    .dataframe thead th {\n",
       "        text-align: right;\n",
       "    }\n",
       "</style>\n",
       "<table border=\"1\" class=\"dataframe\">\n",
       "  <thead>\n",
       "    <tr style=\"text-align: right;\">\n",
       "      <th></th>\n",
       "      <th>0</th>\n",
       "    </tr>\n",
       "  </thead>\n",
       "  <tbody>\n",
       "    <tr>\n",
       "      <th>0</th>\n",
       "      <td>0.023267</td>\n",
       "    </tr>\n",
       "    <tr>\n",
       "      <th>1</th>\n",
       "      <td>0.022712</td>\n",
       "    </tr>\n",
       "    <tr>\n",
       "      <th>2</th>\n",
       "      <td>0.019411</td>\n",
       "    </tr>\n",
       "    <tr>\n",
       "      <th>3</th>\n",
       "      <td>0.033088</td>\n",
       "    </tr>\n",
       "    <tr>\n",
       "      <th>4</th>\n",
       "      <td>0.035725</td>\n",
       "    </tr>\n",
       "    <tr>\n",
       "      <th>...</th>\n",
       "      <td>...</td>\n",
       "    </tr>\n",
       "    <tr>\n",
       "      <th>76</th>\n",
       "      <td>0.034692</td>\n",
       "    </tr>\n",
       "    <tr>\n",
       "      <th>77</th>\n",
       "      <td>0.017572</td>\n",
       "    </tr>\n",
       "    <tr>\n",
       "      <th>78</th>\n",
       "      <td>0.027254</td>\n",
       "    </tr>\n",
       "    <tr>\n",
       "      <th>79</th>\n",
       "      <td>0.028584</td>\n",
       "    </tr>\n",
       "    <tr>\n",
       "      <th>80</th>\n",
       "      <td>0.029416</td>\n",
       "    </tr>\n",
       "  </tbody>\n",
       "</table>\n",
       "<p>81 rows × 1 columns</p>\n",
       "</div>"
      ],
      "text/plain": [
       "           0\n",
       "0   0.023267\n",
       "1   0.022712\n",
       "2   0.019411\n",
       "3   0.033088\n",
       "4   0.035725\n",
       "..       ...\n",
       "76  0.034692\n",
       "77  0.017572\n",
       "78  0.027254\n",
       "79  0.028584\n",
       "80  0.029416\n",
       "\n",
       "[81 rows x 1 columns]"
      ]
     },
     "execution_count": 7,
     "metadata": {},
     "output_type": "execute_result"
    }
   ],
   "source": [
    "my_zero_Dvars=[]\n",
    "for j in range(n):\n",
    "    data_dir=out_dir+'/'+name1[j][0]+'/my_seg/zero_ref/Dvars'\n",
    "    my_zero_Dvars.append(np.mean(pd.read_csv(data_dir)))\n",
    "mean_my_zero_Dvars=np.mean(my_zero_Dvars)\n",
    "pd.DataFrame(my_zero_Dvars)  \n",
    "#pd.DataFrame(my_zero_Dvars).to_csv('/home/mahdi/Desktop/result/my_zero_Dvars.csv')"
   ]
  },
  {
   "cell_type": "markdown",
   "metadata": {},
   "source": [
    "### mid_ref"
   ]
  },
  {
   "cell_type": "code",
   "execution_count": 8,
   "metadata": {},
   "outputs": [
    {
     "data": {
      "text/html": [
       "<div>\n",
       "<style scoped>\n",
       "    .dataframe tbody tr th:only-of-type {\n",
       "        vertical-align: middle;\n",
       "    }\n",
       "\n",
       "    .dataframe tbody tr th {\n",
       "        vertical-align: top;\n",
       "    }\n",
       "\n",
       "    .dataframe thead th {\n",
       "        text-align: right;\n",
       "    }\n",
       "</style>\n",
       "<table border=\"1\" class=\"dataframe\">\n",
       "  <thead>\n",
       "    <tr style=\"text-align: right;\">\n",
       "      <th></th>\n",
       "      <th>0</th>\n",
       "    </tr>\n",
       "  </thead>\n",
       "  <tbody>\n",
       "    <tr>\n",
       "      <th>0</th>\n",
       "      <td>0.023435</td>\n",
       "    </tr>\n",
       "    <tr>\n",
       "      <th>1</th>\n",
       "      <td>0.021614</td>\n",
       "    </tr>\n",
       "    <tr>\n",
       "      <th>2</th>\n",
       "      <td>0.020340</td>\n",
       "    </tr>\n",
       "    <tr>\n",
       "      <th>3</th>\n",
       "      <td>0.033807</td>\n",
       "    </tr>\n",
       "    <tr>\n",
       "      <th>4</th>\n",
       "      <td>0.038333</td>\n",
       "    </tr>\n",
       "    <tr>\n",
       "      <th>...</th>\n",
       "      <td>...</td>\n",
       "    </tr>\n",
       "    <tr>\n",
       "      <th>76</th>\n",
       "      <td>0.037197</td>\n",
       "    </tr>\n",
       "    <tr>\n",
       "      <th>77</th>\n",
       "      <td>0.015802</td>\n",
       "    </tr>\n",
       "    <tr>\n",
       "      <th>78</th>\n",
       "      <td>0.024575</td>\n",
       "    </tr>\n",
       "    <tr>\n",
       "      <th>79</th>\n",
       "      <td>0.027589</td>\n",
       "    </tr>\n",
       "    <tr>\n",
       "      <th>80</th>\n",
       "      <td>0.027982</td>\n",
       "    </tr>\n",
       "  </tbody>\n",
       "</table>\n",
       "<p>81 rows × 1 columns</p>\n",
       "</div>"
      ],
      "text/plain": [
       "           0\n",
       "0   0.023435\n",
       "1   0.021614\n",
       "2   0.020340\n",
       "3   0.033807\n",
       "4   0.038333\n",
       "..       ...\n",
       "76  0.037197\n",
       "77  0.015802\n",
       "78  0.024575\n",
       "79  0.027589\n",
       "80  0.027982\n",
       "\n",
       "[81 rows x 1 columns]"
      ]
     },
     "execution_count": 8,
     "metadata": {},
     "output_type": "execute_result"
    }
   ],
   "source": [
    "my_mid_Dvars=[]\n",
    "for j in range(n):\n",
    "    data_dir=out_dir+'/'+name1[j][0]+'/my_seg/first_ref/Dvars'\n",
    "    my_mid_Dvars.append(np.mean(pd.read_csv(data_dir)))\n",
    "mean_my_mid_Dvars=np.mean(my_mid_Dvars)\n",
    "pd.DataFrame(my_mid_Dvars)  \n",
    "#pd.DataFrame(my_mid_Dvars).to_csv('/home/mahdi/Desktop/result/my_mid_Dvars.csv')"
   ]
  },
  {
   "cell_type": "markdown",
   "metadata": {},
   "source": [
    "### mean ref "
   ]
  },
  {
   "cell_type": "code",
   "execution_count": 9,
   "metadata": {},
   "outputs": [],
   "source": [
    "my_mean_Dvars=[]\n",
    "for j in range(n):\n",
    "    data_dir=out_dir+'/'+name1[j][0]+'/my_seg/mean_ref/Dvars'\n",
    "    my_mean_Dvars.append(np.mean(pd.read_csv(data_dir)))\n",
    "mean_my_mean_Dvars=np.mean(my_mean_Dvars)\n",
    "#pd.DataFrame(my_mean_Dvars)  \n",
    "#pd.DataFrame(my_mean_Dvars).to_csv('/home/mahdi/Desktop/result/my_mean_Dvars.csv')"
   ]
  },
  {
   "cell_type": "markdown",
   "metadata": {},
   "source": [
    "## Dvars result"
   ]
  },
  {
   "cell_type": "code",
   "execution_count": 10,
   "metadata": {},
   "outputs": [
    {
     "data": {
      "text/html": [
       "<div>\n",
       "<style scoped>\n",
       "    .dataframe tbody tr th:only-of-type {\n",
       "        vertical-align: middle;\n",
       "    }\n",
       "\n",
       "    .dataframe tbody tr th {\n",
       "        vertical-align: top;\n",
       "    }\n",
       "\n",
       "    .dataframe thead th {\n",
       "        text-align: right;\n",
       "    }\n",
       "</style>\n",
       "<table border=\"1\" class=\"dataframe\">\n",
       "  <thead>\n",
       "    <tr style=\"text-align: right;\">\n",
       "      <th></th>\n",
       "      <th>0</th>\n",
       "    </tr>\n",
       "  </thead>\n",
       "  <tbody>\n",
       "    <tr>\n",
       "      <th>mean_main_Dvars</th>\n",
       "      <td>0.034251</td>\n",
       "    </tr>\n",
       "    <tr>\n",
       "      <th>mean_sct_Dvars</th>\n",
       "      <td>0.031623</td>\n",
       "    </tr>\n",
       "    <tr>\n",
       "      <th>mean_my_zero_Dvars</th>\n",
       "      <td>0.026921</td>\n",
       "    </tr>\n",
       "    <tr>\n",
       "      <th>mean_my_mid_Dvars</th>\n",
       "      <td>0.027148</td>\n",
       "    </tr>\n",
       "    <tr>\n",
       "      <th>mean_my_mean_Dvars</th>\n",
       "      <td>0.024749</td>\n",
       "    </tr>\n",
       "  </tbody>\n",
       "</table>\n",
       "</div>"
      ],
      "text/plain": [
       "                           0\n",
       "mean_main_Dvars     0.034251\n",
       "mean_sct_Dvars      0.031623\n",
       "mean_my_zero_Dvars  0.026921\n",
       "mean_my_mid_Dvars   0.027148\n",
       "mean_my_mean_Dvars  0.024749"
      ]
     },
     "execution_count": 10,
     "metadata": {},
     "output_type": "execute_result"
    }
   ],
   "source": [
    "pd.DataFrame([mean_main_Dvars,mean_sct_Dvars,mean_my_zero_Dvars,mean_my_mid_Dvars,mean_my_mean_Dvars],\n",
    "            index=['mean_main_Dvars', 'mean_sct_Dvars', 'mean_my_zero_Dvars','mean_my_mid_Dvars','mean_my_mean_Dvars',\n",
    "                ])"
   ]
  },
  {
   "cell_type": "code",
   "execution_count": 11,
   "metadata": {
    "scrolled": true
   },
   "outputs": [],
   "source": [
    "final_Dvars=np.array([main_Dvars ,sct_Dvars ,my_zero_Dvars ,my_mid_Dvars ,my_mean_Dvars])\n",
    "final_Dvars=final_Dvars[:,:,0]\n",
    "pd.DataFrame(final_Dvars,index=['main_Dvars','sct_Dvars','myalgo_zero_Dvars','myalgo_mid_Dvars','myalgo_mean_Dvars']).to_csv('/home/mahdi/Desktop/result/Dvars_result.csv')\n"
   ]
  },
  {
   "cell_type": "code",
   "execution_count": null,
   "metadata": {},
   "outputs": [],
   "source": []
  }
 ],
 "metadata": {
  "kernelspec": {
   "display_name": "Python 3",
   "language": "python",
   "name": "python3"
  },
  "language_info": {
   "codemirror_mode": {
    "name": "ipython",
    "version": 3
   },
   "file_extension": ".py",
   "mimetype": "text/x-python",
   "name": "python",
   "nbconvert_exporter": "python",
   "pygments_lexer": "ipython3",
   "version": "3.7.9"
  }
 },
 "nbformat": 4,
 "nbformat_minor": 4
}
