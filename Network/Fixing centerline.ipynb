{
 "cells": [
  {
   "cell_type": "code",
   "execution_count": null,
   "metadata": {},
   "outputs": [],
   "source": [
    "import pandas as pd\n",
    "import numpy as np\n",
    "import nibabel as nib\n",
    "import nbimporter\n",
    "from functions import *\n",
    "from numpy import *\n",
    "import matplotlib.pyplot as plt\n",
    "%matplotlib inline\n",
    "import shutil\n",
    "import os\n",
    "import subprocess"
   ]
  },
  {
   "cell_type": "code",
   "execution_count": null,
   "metadata": {},
   "outputs": [],
   "source": [
    "D7_dir='/home/mahdi/Desktop/data_selection_D7'\n",
    "n,name=count(D7_dir)\n",
    "\n",
    "out_dir='/home/mahdi/Desktop/valid'\n",
    "n1,name1=count(out_dir)"
   ]
  },
  {
   "cell_type": "code",
   "execution_count": null,
   "metadata": {},
   "outputs": [],
   "source": [
    "maximum_intensity=1705\n",
    "model='200epoch_with_val.h5'\n",
    "reference=0\n",
    "\n",
    "for i in range(1,n):\n",
    "    x=(len(name[i][0][:])-7)\n",
    "    source_centerline_directory = '/home/mahdi/Desktop/centerline/'+name1[i][0]+'/center/centerline_volume0000.csv'\n",
    "    centerlines_directory='/home/mahdi/Desktop/centerline/'+name1[i][0]+'/center/'\n",
    "    main_data_directory='/home/mahdi/Desktop/centerline/'+name1[i][0]+'/3D_data/'+name[i][0]\n",
    "    center_fix_directory='/home/mahdi/Desktop/centerline/'+name1[i][0]+'/output/zero_ref/'+name[i][0][:x]+'_c.'+name[i][0][-6:]\n",
    "    final_cplus_directory='/home/mahdi/Desktop/'\n",
    "    mean_directory='/home/mahdi/Desktop/centerline/'+name1[i][0]+'/output/mean_ref/mean'\n",
    "    \n",
    "\n",
    "    cplus(source_centerline_directory,centerlines_directory,main_data_directory,\n",
    "            center_fix_directory,final_cplus_directory,\n",
    "            maximum_intensity,\n",
    "          model,\n",
    "          reference,\n",
    "          mean_directory)"
   ]
  },
  {
   "cell_type": "markdown",
   "metadata": {},
   "source": [
    "# 1- make structure"
   ]
  },
  {
   "cell_type": "code",
   "execution_count": null,
   "metadata": {},
   "outputs": [],
   "source": [
    "if not os.path.exists('/home/mahdi/Desktop/centerline'):\n",
    "     os.makedirs('/home/mahdi/Desktop/centerline')\n",
    "\n",
    "for i in range(1,82):\n",
    "    os.makedirs('/home/mahdi/Desktop/centerline/'+str(i))\n",
    "    os.makedirs('/home/mahdi/Desktop/centerline/'+str(i)+'/3D_data')\n",
    "    os.makedirs('/home/mahdi/Desktop/centerline/'+str(i)+'/center')\n",
    "    \n",
    "    os.makedirs('/home/mahdi/Desktop/centerline/'+str(i)+'/output/mid_ref')\n",
    "    os.makedirs('/home/mahdi/Desktop/centerline/'+str(i)+'/output/zero_ref')\n",
    "    os.makedirs('/home/mahdi/Desktop/centerline/'+str(i)+'/output/mean_ref')\n",
    "    \n",
    "    \n",
    "   "
   ]
  },
  {
   "cell_type": "markdown",
   "metadata": {},
   "source": [
    "# 2- copy files"
   ]
  },
  {
   "cell_type": "code",
   "execution_count": null,
   "metadata": {},
   "outputs": [],
   "source": [
    "for i in range(n):\n",
    "    x=(len(name[i][0][:])-7)\n",
    "    input_mid='/home/mahdi/Desktop/data_selection_D7/'+name[i][0]\n",
    "    dest_folder='/home/mahdi/Desktop/centerline/'+name1[i][0]+'/3D_data'\n",
    "    shutil.copy(input_mid, dest_folder)"
   ]
  },
  {
   "cell_type": "markdown",
   "metadata": {},
   "source": [
    "# 3- make 3D data\n"
   ]
  },
  {
   "cell_type": "code",
   "execution_count": null,
   "metadata": {},
   "outputs": [],
   "source": [
    "for i in range(n):\n",
    "    data_dir='/home/mahdi/Desktop/centerline/'+name1[i][0]+'/3D_data/'+name[i][0]\n",
    "    output_direction='/home/mahdi/Desktop/centerline/'+name1[i][0]+'/3D_data/vol'\n",
    "\n",
    "    subprocess.Popen(['fslsplit',data_dir,output_direction,'-t']) ## just change the output names."
   ]
  },
  {
   "cell_type": "markdown",
   "metadata": {},
   "source": [
    "# 4- calculate centerline"
   ]
  },
  {
   "cell_type": "code",
   "execution_count": null,
   "metadata": {},
   "outputs": [],
   "source": [
    "for k in range(1,n):\n",
    "    data_dir ='/home/mahdi/Desktop/centerline/'+name1[k][0]+'/3D_data/'\n",
    "    count,file_names=count_startwith(data_dir,'vol')\n",
    "    for j in range(count):\n",
    "        output_dir='/home/mahdi/Desktop/centerline/'+name1[k][0]+'/center/'\n",
    "        input_dir=data_dir+file_names[j][0]\n",
    "        subprocess.Popen(['sct_get_centerline','-i',input_dir,'-o',output_dir+'centerline_volume'+file_names[j][0][3:7],'-c','t2s']) ## just change the output names.\n"
   ]
  },
  {
   "cell_type": "code",
   "execution_count": null,
   "metadata": {},
   "outputs": [],
   "source": [
    "name1[i][0]"
   ]
  },
  {
   "cell_type": "markdown",
   "metadata": {},
   "source": [
    "# 5- shift image"
   ]
  },
  {
   "cell_type": "markdown",
   "metadata": {},
   "source": [
    "### make reference"
   ]
  },
  {
   "cell_type": "code",
   "execution_count": null,
   "metadata": {},
   "outputs": [],
   "source": [
    "#i=8\n",
    "for i in range(1):\n",
    "    Xs=[]\n",
    "    Ys=[]\n",
    "    source = pd.read_csv('/home/mahdi/Desktop/centerline/'+name1[i][0]+'/center/centerline_volume0000.csv', header=None)\n",
    "    \n",
    "    source.columns=['x','y','delete']\n",
    "    source = source[['x','y']]\n",
    "\n",
    "    for s in range(source.shape[0]):\n",
    "        c=source.loc[s]\n",
    "        xs=int(c['x'])\n",
    "        ys=int(c['y'])\n",
    "        Xs.append(xs)\n",
    "        Ys.append(ys)\n",
    "\n",
    "    n2,name2=count_endwith('/home/mahdi/Desktop/centerline/'+name1[i][0]+'/center','.csv')\n",
    "\n",
    "    dx=[]\n",
    "    dy=[]\n",
    "    for s in range(0,source.shape[0]):\n",
    "         for j in range(n2):\n",
    "                df = pd.read_csv('/home/mahdi/Desktop/centerline/'+name1[i][0]+'/center/'+name2[j][0], header=None)\n",
    "                df.columns=['x','y','delete']\n",
    "                df=df[['x','y']]\n",
    "                c=df.loc[s]\n",
    "                x=int(c['x'])\n",
    "                y=int(c['y'])\n",
    "\n",
    "                #xs=int((xs+x)/2)\n",
    "                #xs=int((xs+x)/2)\n",
    "\n",
    "                dx.append(Xs[s]-x)\n",
    "                dy.append(Ys[s]-y)  \n",
    "                \n",
    "    input_direction='/home/mahdi/Desktop/centerline/'+name1[i][0]+'/3D_data/'+name[i][0]\n",
    "    img  = nib.load(input_direction)\n",
    "    img_data=img.get_fdata()\n",
    "    img_mask_affine = img.affine\n",
    "    header = img.header\n",
    "    nb_img = header.get_data_shape()\n",
    "    o=np.zeros((nb_img[0],nb_img[1],nb_img[2],nb_img[3]))\n",
    "\n",
    "\n",
    "    DX=np.zeros(len(dy))\n",
    "\n",
    "\n",
    "    start=0            \n",
    "    for s in range(0,source.shape[0]):\n",
    "        for v in range(n2):\n",
    "                    a= shift_image(img_data[:,:,s,v],dy[v+start],DX[v+start])\n",
    "                    o[:,:,s, v] = a            \n",
    "        start=start + n2\n",
    "\n",
    "    x=(len(name[i][0][:])-7)\n",
    "    input_direction='/home/mahdi/Desktop/centerline/'+name1[i][0]+'/output/zero_ref/'+name[i][0][:x]+'_c.'+name[i][0][-6:]\n",
    "    img_reg = nib.Nifti1Image(o, affine=img_mask_affine, header=header)\n",
    "    nib.save(img_reg,input_direction)\n",
    "    \n",
    "    \n",
    "    maximum_intensity=1705\n",
    "    model='200epoch_with_val.h5'\n",
    "    output_direction_mean='/home/mahdi/Desktop/centerline/'+name1[i][0]+'/output/zero_ref/'+name[i][0][:x]+'_cplus.'+name[i][0][-6:]\n",
    "    reference='0'\n",
    "    main(input_direction,reference,output_direction_mean,maximum_intensity,model)\n"
   ]
  },
  {
   "cell_type": "code",
   "execution_count": null,
   "metadata": {},
   "outputs": [],
   "source": [
    "maximum_intensity=1705\n",
    "model='200epoch_with_val.h5'\n",
    "reference=0\n",
    "\n",
    "for i in range(1,n):\n",
    "    x=(len(name[i][0][:])-7)\n",
    "    source_centerline_directory = '/home/mahdi/Desktop/centerline/'+name1[i][0]+'/center/centerline_volume0000.csv'\n",
    "    centerlines_directory='/home/mahdi/Desktop/centerline/'+name1[i][0]+'/center/'\n",
    "    main_data_directory='/home/mahdi/Desktop/centerline/'+name1[i][0]+'/3D_data/'+name[i][0]\n",
    "    center_fix_directory='/home/mahdi/Desktop/centerline/'+name1[i][0]+'/output/zero_ref/'+name[i][0][:x]+'_c.'+name[i][0][-6:]\n",
    "    final_cplus_directory='/home/mahdi/Desktop/centerline/'+name1[i][0]+'/output/zero_ref/'+name[i][0][:x]+'_cplus.'+name[i][0][-6:]\n",
    "    mean_directory='/home/mahdi/Desktop/centerline/'+name1[i][0]+'/output/mean_ref/mean'\n",
    "    \n",
    "\n",
    "    cplus(source_centerline_directory,centerlines_directory,main_data_directory,\n",
    "            center_fix_directory,final_cplus_directory,\n",
    "            maximum_intensity,\n",
    "          model,\n",
    "          reference,\n",
    "          mean_directory)"
   ]
  },
  {
   "cell_type": "code",
   "execution_count": null,
   "metadata": {},
   "outputs": [],
   "source": [
    "maximum_intensity=1705\n",
    "model='200epoch_with_val.h5'\n",
    "reference=-1\n",
    "\n",
    "for i in range(59,n):\n",
    "    x=(len(name[i][0][:])-7)\n",
    "    source_centerline_directory = '/home/mahdi/Desktop/centerline/'+name1[i][0]+'/center/centerline_volume0000.csv'\n",
    "    centerlines_directory='/home/mahdi/Desktop/centerline/'+name1[i][0]+'/center/'\n",
    "    main_data_directory='/home/mahdi/Desktop/centerline/'+name1[i][0]+'/3D_data/'+name[i][0]\n",
    "    center_fix_directory='/home/mahdi/Desktop/centerline/'+name1[i][0]+'/output/mid_ref/'+name[i][0][:x]+'_c.'+name[i][0][-6:]\n",
    "    final_cplus_directory='/home/mahdi/Desktop/centerline/'+name1[i][0]+'/output/mid_ref/'+name[i][0][:x]+'_cplus.'+name[i][0][-6:]\n",
    "    mean_directory='/home/mahdi/Desktop/centerline/'+name1[i][0]+'/output/mean_ref/mean'\n",
    "    \n",
    "\n",
    "    cplus(source_centerline_directory,centerlines_directory,main_data_directory,\n",
    "            center_fix_directory,final_cplus_directory,\n",
    "            maximum_intensity,\n",
    "          model,\n",
    "          reference,\n",
    "          mean_directory)"
   ]
  },
  {
   "cell_type": "markdown",
   "metadata": {},
   "source": [
    "# make mean data"
   ]
  },
  {
   "cell_type": "code",
   "execution_count": null,
   "metadata": {},
   "outputs": [],
   "source": [
    "for i in range(40,n):\n",
    "    data_dir='/home/mahdi/Desktop/centerline/'+name1[i][0]+'/3D_data/'+name[i][0]\n",
    "    out='/home/mahdi/Desktop/centerline/'+name1[i][0]+'/output/mean_ref/mean.nii'\n",
    "    \n",
    "    \n",
    "    subprocess.Popen(['sct_maths','-i',data_dir,'-mean','t' ,'-o',out ]) "
   ]
  },
  {
   "cell_type": "code",
   "execution_count": null,
   "metadata": {
    "scrolled": true
   },
   "outputs": [],
   "source": [
    "maximum_intensity=1705\n",
    "model='200epoch_with_val.h5'\n",
    "reference=-2\n",
    "\n",
    "for i in range(n):\n",
    "    x=(len(name[i][0][:])-7)\n",
    "    source_centerline_directory = '/home/mahdi/Desktop/centerline/'+name1[i][0]+'/center/centerline_volume0000.csv'\n",
    "    centerlines_directory='/home/mahdi/Desktop/centerline/'+name1[i][0]+'/center/'\n",
    "    main_data_directory='/home/mahdi/Desktop/centerline/'+name1[i][0]+'/3D_data/'+name[i][0]\n",
    "    center_fix_directory='/home/mahdi/Desktop/centerline/'+name1[i][0]+'/output/mean_ref/'+name[i][0][:x]+'_c.'+name[i][0][-6:]\n",
    "    final_cplus_directory='/home/mahdi/Desktop/centerline/'+name1[i][0]+'/output/mean_ref/'+name[i][0][:x]+'_cplus.'+name[i][0][-6:]\n",
    "    mean_directory='/home/mahdi/Desktop/centerline/'+name1[i][0]+'/output/mean_ref/mean.nii'\n",
    "    \n",
    "\n",
    "    cplus(source_centerline_directory,centerlines_directory,main_data_directory,\n",
    "            center_fix_directory,final_cplus_directory,\n",
    "            maximum_intensity,\n",
    "          model,\n",
    "          reference,\n",
    "          mean_directory)"
   ]
  },
  {
   "cell_type": "markdown",
   "metadata": {},
   "source": [
    "# TSNR for mid-ref"
   ]
  },
  {
   "cell_type": "code",
   "execution_count": null,
   "metadata": {},
   "outputs": [],
   "source": [
    "for i in range(n):\n",
    "    \n",
    "    x=(len(name[i][0][:])-7)\n",
    "    data_dir='/home/mahdi/Desktop/centerline/'+name1[i][0]+'/output/mid_ref/'+name[i][0][:x]+'_cplus.'+name[i][0][-6:]\n",
    "    \n",
    "    out='/home/mahdi/Desktop/centerline/'+name1[i][0]+'/output/mid_ref/tsnr.nii'\n",
    "    \n",
    "    \n",
    "    subprocess.Popen(['sct_fmri_compute_tsnr','-i',data_dir,'-o',out ]) "
   ]
  },
  {
   "cell_type": "markdown",
   "metadata": {},
   "source": [
    "# TSNR for zero-ref"
   ]
  },
  {
   "cell_type": "code",
   "execution_count": null,
   "metadata": {},
   "outputs": [],
   "source": [
    "for i in range(n):\n",
    "    \n",
    "    x=(len(name[i][0][:])-7)\n",
    "    data_dir='/home/mahdi/Desktop/centerline/'+name1[i][0]+'/output/zero_ref/'+name[i][0][:x]+'_cplus.'+name[i][0][-6:]\n",
    "    \n",
    "    out='/home/mahdi/Desktop/centerline/'+name1[i][0]+'/output/zero_ref/tsnr.nii'\n",
    "    \n",
    "    \n",
    "    subprocess.Popen(['sct_fmri_compute_tsnr','-i',data_dir,'-o',out ]) "
   ]
  },
  {
   "cell_type": "markdown",
   "metadata": {},
   "source": [
    "# TSNR for mean-ref"
   ]
  },
  {
   "cell_type": "code",
   "execution_count": null,
   "metadata": {},
   "outputs": [],
   "source": [
    "for i in range(n):\n",
    "    \n",
    "    x=(len(name[i][0][:])-7)\n",
    "    data_dir='/home/mahdi/Desktop/centerline/'+name1[i][0]+'/output/mean_ref/'+name[i][0][:x]+'_cplus.'+name[i][0][-6:]\n",
    "    \n",
    "    out='/home/mahdi/Desktop/centerline/'+name1[i][0]+'/output/mean_ref/tsnr.nii'\n",
    "    \n",
    "    \n",
    "    subprocess.Popen(['sct_fmri_compute_tsnr','-i',data_dir,'-o',out ]) "
   ]
  },
  {
   "cell_type": "markdown",
   "metadata": {},
   "source": [
    "# mask"
   ]
  },
  {
   "cell_type": "code",
   "execution_count": null,
   "metadata": {},
   "outputs": [],
   "source": [
    "for i in range(40,n):\n",
    "    second3_3='/home/mahdi/Desktop/centerline/'+name1[i][0]+'/output/zero_ref/tsnr.nii'\n",
    "\n",
    "    input3_3='/home/mahdi/Desktop/valid/'+name1[i][0]+'/sct_seg/csf_part.nii'\n",
    "    output3_3='/home/mahdi/Desktop/centerline/'+name1[i][0]+'/output/zero_ref/csf_mask.nii'\n",
    "    subprocess.Popen(['sct_maths','-i',input3_3,'-mul',second3_3 ,'-o', output3_3]) \n",
    "    \n",
    "    input3_3='/home/mahdi/Desktop/valid/'+name1[i][0]+'/sct_seg/spine_part.nii'\n",
    "    output3_3='/home/mahdi/Desktop/centerline/'+name1[i][0]+'/output/zero_ref/spine_mask.nii'\n",
    "    subprocess.Popen(['sct_maths','-i',input3_3,'-mul',second3_3 ,'-o', output3_3]) \n",
    "    "
   ]
  },
  {
   "cell_type": "code",
   "execution_count": null,
   "metadata": {},
   "outputs": [],
   "source": [
    "for i in range(40,n):\n",
    "    second3_3='/home/mahdi/Desktop/centerline/'+name1[i][0]+'/output/mid_ref/tsnr.nii'\n",
    "\n",
    "    input3_3='/home/mahdi/Desktop/valid/'+name1[i][0]+'/sct_seg/csf_part.nii'\n",
    "    output3_3='/home/mahdi/Desktop/centerline/'+name1[i][0]+'/output/mid_ref/csf_mask.nii'\n",
    "    subprocess.Popen(['sct_maths','-i',input3_3,'-mul',second3_3 ,'-o', output3_3]) \n",
    "    \n",
    "    input3_3='/home/mahdi/Desktop/valid/'+name1[i][0]+'/sct_seg/spine_part.nii'\n",
    "    output3_3='/home/mahdi/Desktop/centerline/'+name1[i][0]+'/output/mid_ref/spine_mask.nii'\n",
    "    subprocess.Popen(['sct_maths','-i',input3_3,'-mul',second3_3 ,'-o', output3_3]) "
   ]
  },
  {
   "cell_type": "code",
   "execution_count": null,
   "metadata": {},
   "outputs": [],
   "source": [
    "for i in range(40,n):\n",
    "    second3_3='/home/mahdi/Desktop/centerline/'+name1[i][0]+'/output/mean_ref/tsnr.nii'\n",
    "\n",
    "    input3_3='/home/mahdi/Desktop/valid/'+name1[i][0]+'/sct_seg/csf_part.nii'\n",
    "    output3_3='/home/mahdi/Desktop/centerline/'+name1[i][0]+'/output/mean_ref/csf_mask.nii'\n",
    "    subprocess.Popen(['sct_maths','-i',input3_3,'-mul',second3_3 ,'-o', output3_3]) \n",
    "    \n",
    "    input3_3='/home/mahdi/Desktop/valid/'+name1[i][0]+'/sct_seg/spine_part.nii'\n",
    "    output3_3='/home/mahdi/Desktop/centerline/'+name1[i][0]+'/output/mean_ref/spine_mask.nii'\n",
    "    subprocess.Popen(['sct_maths','-i',input3_3,'-mul',second3_3 ,'-o', output3_3]) "
   ]
  },
  {
   "cell_type": "markdown",
   "metadata": {},
   "source": [
    "# result"
   ]
  },
  {
   "cell_type": "code",
   "execution_count": null,
   "metadata": {},
   "outputs": [],
   "source": [
    "csf_main1=[]\n",
    "csf_sct1 =[]\n",
    "csf_mine1=[]\n",
    "csf_mine2=[]\n",
    "csf_mine3=[]\n",
    "spine_main1=[]\n",
    "spine_mine1=[]\n",
    "spine_mine2=[]\n",
    "spine_mine3=[]\n",
    "spine_sct1 =[]\n",
    "start_time=time.time()\n",
    "\n",
    "for i in range(n):\n",
    "    output_sct_csf='/home/mahdi/Desktop/valid/'+name1[i][0]+'/sct_seg/csf_mask.nii'\n",
    "    output_main_csf='/home/mahdi/Desktop/valid/'+name1[i][0]+'/main_seg/csf_mask.nii'\n",
    "    output_mine_zeroref_csf='/home/mahdi/Desktop/centerline/'+name1[i][0]+'/output/zero_ref/csf_mask.nii'\n",
    "    output_mine_midref_csf='/home/mahdi/Desktop/centerline/'+name1[i][0]+'/output/mid_ref/csf_mask.nii'\n",
    "    output_mine_meanref_csf='/home/mahdi/Desktop/centerline/'+name1[i][0]+'/output/mean_ref/csf_mask.nii'\n",
    "\n",
    "\n",
    "    \n",
    "    output_sct_spine='/home/mahdi/Desktop/valid/'+name1[i][0]+'/sct_seg/spine_mask.nii'\n",
    "    output_main_spine='/home/mahdi/Desktop/valid/'+name1[i][0]+'/main_seg/spine_mask.nii'\n",
    "    output_mine_zeroref_spine='/home/mahdi/Desktop/centerline/'+name1[i][0]+'/output/zero_ref/spine_mask.nii'\n",
    "    output_mine_midref_spine='/home/mahdi/Desktop/centerline/'+name1[i][0]+'/output/mid_ref/spine_mask.nii'\n",
    "    output_mine_meanref_spine='/home/mahdi/Desktop/centerline/'+name1[i][0]+'/output/mean_ref/spine_mask.nii'\n",
    "\n",
    "    \n",
    "    \n",
    "    \n",
    "    csf_main=mean_all(output_main_csf)\n",
    "    csf_main1.append(csf_main)\n",
    "    csf_sct=mean_all(output_sct_csf)\n",
    "    csf_sct1.append(csf_sct)\n",
    "    \n",
    "    csf_mine=mean_all(output_mine_zeroref_csf)\n",
    "    csf_mine1.append(csf_mine)\n",
    "    csf_mine_mid=mean_all(output_mine_midref_csf)\n",
    "    csf_mine2.append(csf_mine_mid)\n",
    "    csf_mine_mean=mean_all(output_mine_meanref_csf)\n",
    "    csf_mine3.append(csf_mine_mean)\n",
    "    \n",
    "    \n",
    "    spine_main=mean_all(output_main_spine)\n",
    "    spine_main1.append(spine_main)\n",
    "    spine_sct=mean_all(output_sct_spine)\n",
    "    spine_sct1.append(spine_sct)\n",
    "    \n",
    "    \n",
    "    spine_mine=mean_all(output_mine_zeroref_spine)\n",
    "    spine_mine1.append(spine_mine)\n",
    "    spine_mine_mid=mean_all(output_mine_midref_spine)\n",
    "    spine_mine2.append(spine_mine_mid)\n",
    "    spine_mine_mean=mean_all(output_mine_meanref_spine)\n",
    "    spine_mine3.append(spine_mine_mean)\n",
    "\n",
    "    \n",
    "    \n",
    "\n",
    "csf_main=np.mean(csf_main1)\n",
    "csf_sct=np.mean(csf_sct1)\n",
    "csf_mine_zero=np.mean(csf_mine1)\n",
    "csf_mine_mid=np.mean(csf_mine2)\n",
    "csf_mine_mean=np.mean(csf_mine3)\n",
    "\n",
    "\n",
    "\n",
    "\n",
    "spine_main=np.mean(spine_main1)\n",
    "spine_sct=np.mean(spine_sct1)\n",
    "spine_mine_zero=np.mean(spine_mine1)\n",
    "spine_mine_mid=np.mean(spine_mine2)\n",
    "spine_mine_mean=np.mean(spine_mine3)\n",
    "\n",
    "print(\"--- %s second ---\" % (time.time() - start_time))\n",
    "\n",
    "    \n",
    "pd.DataFrame([csf_main,csf_sct,csf_mine_zero,csf_mine_mid,csf_mine_mean,spine_main,spine_sct,spine_mine_zero,spine_mine_mid,spine_mine_mean],\n",
    "         index=['main_csf_tsnr', 'sct_csf_tsnr', 'my_csf_tsnr_first','my_csf_tsnr_mid','my_csf_tsnr_mean',\n",
    "                'main_spine_tsnr','sct_spine_tsnr','my_spine_tsnr_first','my_spine_tsnr_mid','my_spine_tsnr_mean']\n",
    "        )"
   ]
  },
  {
   "cell_type": "markdown",
   "metadata": {},
   "source": [
    "# sort in row"
   ]
  },
  {
   "cell_type": "code",
   "execution_count": null,
   "metadata": {},
   "outputs": [],
   "source": [
    "#final=np.array([csf_main1 , csf_sct1,csf_mine1,csf_mine2,csf_mine3,\n",
    "                spine_main1,spine_sct1,spine_mine1,spine_mine2,spine_mine3])\n",
    "#out_dir='/home/mahdi/Desktop/result/tsnr_centerfix_result.csv'\n",
    "#pd.DataFrame(final,index=['csf_nomoco','csf_sct','csf_myalgo_zero_ref','csf_myalgo_mid_ref','csf_myalgo_mean_ref','spine_nomoco','spine_sct','spine_myalgo_zero_ref','spine_myalgo_mid_ref','spine_myalgo_mean_ref']).to_csv(out_dir)"
   ]
  },
  {
   "cell_type": "markdown",
   "metadata": {},
   "source": [
    "# sort in column"
   ]
  },
  {
   "cell_type": "code",
   "execution_count": null,
   "metadata": {},
   "outputs": [],
   "source": [
    "final=pd.DataFrame([csf_main1 , csf_sct1,csf_mine1,csf_mine2,csf_mine3,\n",
    "                spine_main1,spine_sct1,spine_mine1,spine_mine2,spine_mine3])\n",
    "\n",
    "final_transpose=final.T\n",
    "final_transpose.columns=['csf_nomoco','csf_sct','csf_myalgo_zero_ref','csf_myalgo_mid_ref','csf_myalgo_mean_ref','spine_nomoco','spine_sct','spine_myalgo_zero_ref','spine_myalgo_mid_ref','spine_myalgo_mean_ref']\n",
    "outt_dir='/home/mahdi/Desktop/result/tsnr_centerfix_column_result.csv'\n",
    "pd.DataFrame(final_transpose).to_csv(outt_dir)\n",
    "final_transpose"
   ]
  },
  {
   "cell_type": "markdown",
   "metadata": {},
   "source": [
    "# Dvars"
   ]
  },
  {
   "cell_type": "code",
   "execution_count": null,
   "metadata": {},
   "outputs": [],
   "source": [
    "for i in range(n):\n",
    "    \n",
    "    x=(len(name[i][0][:])-7)\n",
    "    data_dir='/home/mahdi/Desktop/centerline/'+name1[i][0]+'/output/zero_ref/'+name[i][0][:x]+'_cplus.'+name[i][0][-6:]\n",
    "    out='/home/mahdi/Desktop/centerline/'+name1[i][0]+'/output/zero_ref'\n",
    "    subprocess.Popen(['fsl_motion_outliers','-i',data_dir,'-s',out+'/Dvars','-o',out+'/e' ]) "
   ]
  },
  {
   "cell_type": "code",
   "execution_count": null,
   "metadata": {},
   "outputs": [],
   "source": [
    "for i in range(n):\n",
    "    \n",
    "    x=(len(name[i][0][:])-7)\n",
    "    data_dir='/home/mahdi/Desktop/centerline/'+name1[i][0]+'/output/mid_ref/'+name[i][0][:x]+'_cplus.'+name[i][0][-6:]\n",
    "    out='/home/mahdi/Desktop/centerline/'+name1[i][0]+'/output/mid_ref'\n",
    "    subprocess.Popen(['fsl_motion_outliers','-i',data_dir,'-s',out+'/Dvars','-o',out+'/e' ]) "
   ]
  },
  {
   "cell_type": "code",
   "execution_count": null,
   "metadata": {},
   "outputs": [],
   "source": [
    "for i in range(n):\n",
    "    \n",
    "    x=(len(name[i][0][:])-7)\n",
    "    data_dir='/home/mahdi/Desktop/centerline/'+name1[i][0]+'/output/mean_ref/'+name[i][0][:x]+'_cplus.'+name[i][0][-6:]\n",
    "    out='/home/mahdi/Desktop/centerline/'+name1[i][0]+'/output/mean_ref'\n",
    "    subprocess.Popen(['fsl_motion_outliers','-i',data_dir,'-s',out+'/Dvars','-o',out+'/e' ]) "
   ]
  },
  {
   "cell_type": "markdown",
   "metadata": {},
   "source": [
    "# calculate result"
   ]
  },
  {
   "cell_type": "code",
   "execution_count": 4,
   "metadata": {},
   "outputs": [
    {
     "data": {
      "text/html": [
       "<div>\n",
       "<style scoped>\n",
       "    .dataframe tbody tr th:only-of-type {\n",
       "        vertical-align: middle;\n",
       "    }\n",
       "\n",
       "    .dataframe tbody tr th {\n",
       "        vertical-align: top;\n",
       "    }\n",
       "\n",
       "    .dataframe thead th {\n",
       "        text-align: right;\n",
       "    }\n",
       "</style>\n",
       "<table border=\"1\" class=\"dataframe\">\n",
       "  <thead>\n",
       "    <tr style=\"text-align: right;\">\n",
       "      <th></th>\n",
       "      <th>0</th>\n",
       "    </tr>\n",
       "  </thead>\n",
       "  <tbody>\n",
       "    <tr>\n",
       "      <th>0</th>\n",
       "      <td>0.033274</td>\n",
       "    </tr>\n",
       "    <tr>\n",
       "      <th>1</th>\n",
       "      <td>0.027648</td>\n",
       "    </tr>\n",
       "    <tr>\n",
       "      <th>2</th>\n",
       "      <td>0.022165</td>\n",
       "    </tr>\n",
       "    <tr>\n",
       "      <th>3</th>\n",
       "      <td>0.044346</td>\n",
       "    </tr>\n",
       "    <tr>\n",
       "      <th>4</th>\n",
       "      <td>0.044644</td>\n",
       "    </tr>\n",
       "    <tr>\n",
       "      <th>...</th>\n",
       "      <td>...</td>\n",
       "    </tr>\n",
       "    <tr>\n",
       "      <th>76</th>\n",
       "      <td>0.052032</td>\n",
       "    </tr>\n",
       "    <tr>\n",
       "      <th>77</th>\n",
       "      <td>0.020753</td>\n",
       "    </tr>\n",
       "    <tr>\n",
       "      <th>78</th>\n",
       "      <td>0.028959</td>\n",
       "    </tr>\n",
       "    <tr>\n",
       "      <th>79</th>\n",
       "      <td>0.031971</td>\n",
       "    </tr>\n",
       "    <tr>\n",
       "      <th>80</th>\n",
       "      <td>0.034878</td>\n",
       "    </tr>\n",
       "  </tbody>\n",
       "</table>\n",
       "<p>81 rows × 1 columns</p>\n",
       "</div>"
      ],
      "text/plain": [
       "           0\n",
       "0   0.033274\n",
       "1   0.027648\n",
       "2   0.022165\n",
       "3   0.044346\n",
       "4   0.044644\n",
       "..       ...\n",
       "76  0.052032\n",
       "77  0.020753\n",
       "78  0.028959\n",
       "79  0.031971\n",
       "80  0.034878\n",
       "\n",
       "[81 rows x 1 columns]"
      ]
     },
     "execution_count": 4,
     "metadata": {},
     "output_type": "execute_result"
    }
   ],
   "source": [
    "main_Dvars=[]\n",
    "for j in range(n):\n",
    "    data_dir=out_dir+'/'+name1[j][0]+'/'+'main_seg'+'/Dvars'\n",
    "    main_Dvars.append(np.mean(pd.read_csv(data_dir)))\n",
    "mean_main_Dvars=np.mean(main_Dvars) \n",
    "pd.DataFrame(main_Dvars) "
   ]
  },
  {
   "cell_type": "code",
   "execution_count": 5,
   "metadata": {},
   "outputs": [
    {
     "data": {
      "text/html": [
       "<div>\n",
       "<style scoped>\n",
       "    .dataframe tbody tr th:only-of-type {\n",
       "        vertical-align: middle;\n",
       "    }\n",
       "\n",
       "    .dataframe tbody tr th {\n",
       "        vertical-align: top;\n",
       "    }\n",
       "\n",
       "    .dataframe thead th {\n",
       "        text-align: right;\n",
       "    }\n",
       "</style>\n",
       "<table border=\"1\" class=\"dataframe\">\n",
       "  <thead>\n",
       "    <tr style=\"text-align: right;\">\n",
       "      <th></th>\n",
       "      <th>0</th>\n",
       "    </tr>\n",
       "  </thead>\n",
       "  <tbody>\n",
       "    <tr>\n",
       "      <th>0</th>\n",
       "      <td>0.035907</td>\n",
       "    </tr>\n",
       "    <tr>\n",
       "      <th>1</th>\n",
       "      <td>0.025350</td>\n",
       "    </tr>\n",
       "    <tr>\n",
       "      <th>2</th>\n",
       "      <td>0.019106</td>\n",
       "    </tr>\n",
       "    <tr>\n",
       "      <th>3</th>\n",
       "      <td>0.042239</td>\n",
       "    </tr>\n",
       "    <tr>\n",
       "      <th>4</th>\n",
       "      <td>0.041873</td>\n",
       "    </tr>\n",
       "    <tr>\n",
       "      <th>...</th>\n",
       "      <td>...</td>\n",
       "    </tr>\n",
       "    <tr>\n",
       "      <th>76</th>\n",
       "      <td>0.049396</td>\n",
       "    </tr>\n",
       "    <tr>\n",
       "      <th>77</th>\n",
       "      <td>0.021202</td>\n",
       "    </tr>\n",
       "    <tr>\n",
       "      <th>78</th>\n",
       "      <td>0.028252</td>\n",
       "    </tr>\n",
       "    <tr>\n",
       "      <th>79</th>\n",
       "      <td>0.025799</td>\n",
       "    </tr>\n",
       "    <tr>\n",
       "      <th>80</th>\n",
       "      <td>0.030255</td>\n",
       "    </tr>\n",
       "  </tbody>\n",
       "</table>\n",
       "<p>81 rows × 1 columns</p>\n",
       "</div>"
      ],
      "text/plain": [
       "           0\n",
       "0   0.035907\n",
       "1   0.025350\n",
       "2   0.019106\n",
       "3   0.042239\n",
       "4   0.041873\n",
       "..       ...\n",
       "76  0.049396\n",
       "77  0.021202\n",
       "78  0.028252\n",
       "79  0.025799\n",
       "80  0.030255\n",
       "\n",
       "[81 rows x 1 columns]"
      ]
     },
     "execution_count": 5,
     "metadata": {},
     "output_type": "execute_result"
    }
   ],
   "source": [
    "sct_Dvars=[]\n",
    "for j in range(n):\n",
    "    data_dir=out_dir+'/'+name1[j][0]+'/'+'sct_seg'+'/Dvars'\n",
    "    sct_Dvars.append(np.mean(pd.read_csv(data_dir)))\n",
    "mean_sct_Dvars=np.mean(sct_Dvars)   \n",
    "pd.DataFrame(sct_Dvars)  "
   ]
  },
  {
   "cell_type": "code",
   "execution_count": 6,
   "metadata": {},
   "outputs": [
    {
     "data": {
      "text/html": [
       "<div>\n",
       "<style scoped>\n",
       "    .dataframe tbody tr th:only-of-type {\n",
       "        vertical-align: middle;\n",
       "    }\n",
       "\n",
       "    .dataframe tbody tr th {\n",
       "        vertical-align: top;\n",
       "    }\n",
       "\n",
       "    .dataframe thead th {\n",
       "        text-align: right;\n",
       "    }\n",
       "</style>\n",
       "<table border=\"1\" class=\"dataframe\">\n",
       "  <thead>\n",
       "    <tr style=\"text-align: right;\">\n",
       "      <th></th>\n",
       "      <th>0</th>\n",
       "    </tr>\n",
       "  </thead>\n",
       "  <tbody>\n",
       "    <tr>\n",
       "      <th>0</th>\n",
       "      <td>0.022779</td>\n",
       "    </tr>\n",
       "    <tr>\n",
       "      <th>1</th>\n",
       "      <td>0.021928</td>\n",
       "    </tr>\n",
       "    <tr>\n",
       "      <th>2</th>\n",
       "      <td>0.019264</td>\n",
       "    </tr>\n",
       "    <tr>\n",
       "      <th>3</th>\n",
       "      <td>0.047516</td>\n",
       "    </tr>\n",
       "    <tr>\n",
       "      <th>4</th>\n",
       "      <td>0.033296</td>\n",
       "    </tr>\n",
       "    <tr>\n",
       "      <th>...</th>\n",
       "      <td>...</td>\n",
       "    </tr>\n",
       "    <tr>\n",
       "      <th>76</th>\n",
       "      <td>0.035477</td>\n",
       "    </tr>\n",
       "    <tr>\n",
       "      <th>77</th>\n",
       "      <td>0.016770</td>\n",
       "    </tr>\n",
       "    <tr>\n",
       "      <th>78</th>\n",
       "      <td>0.025652</td>\n",
       "    </tr>\n",
       "    <tr>\n",
       "      <th>79</th>\n",
       "      <td>0.050358</td>\n",
       "    </tr>\n",
       "    <tr>\n",
       "      <th>80</th>\n",
       "      <td>0.024708</td>\n",
       "    </tr>\n",
       "  </tbody>\n",
       "</table>\n",
       "<p>81 rows × 1 columns</p>\n",
       "</div>"
      ],
      "text/plain": [
       "           0\n",
       "0   0.022779\n",
       "1   0.021928\n",
       "2   0.019264\n",
       "3   0.047516\n",
       "4   0.033296\n",
       "..       ...\n",
       "76  0.035477\n",
       "77  0.016770\n",
       "78  0.025652\n",
       "79  0.050358\n",
       "80  0.024708\n",
       "\n",
       "[81 rows x 1 columns]"
      ]
     },
     "execution_count": 6,
     "metadata": {},
     "output_type": "execute_result"
    }
   ],
   "source": [
    "my_zero_Dvars=[]\n",
    "for j in range(n):\n",
    "    data_dir='/home/mahdi/Desktop/centerline/'+name1[j][0]+'/output/zero_ref/Dvars'\n",
    "    my_zero_Dvars.append(np.mean(pd.read_csv(data_dir)))\n",
    "mean_my_zero_Dvars=np.mean(my_zero_Dvars)\n",
    "pd.DataFrame(my_zero_Dvars)  \n",
    "#pd.DataFrame(my_zero_Dvars).to_csv('/home/mahdi/Desktop/result/my_zero_Dvars.csv')"
   ]
  },
  {
   "cell_type": "code",
   "execution_count": 7,
   "metadata": {},
   "outputs": [
    {
     "data": {
      "text/html": [
       "<div>\n",
       "<style scoped>\n",
       "    .dataframe tbody tr th:only-of-type {\n",
       "        vertical-align: middle;\n",
       "    }\n",
       "\n",
       "    .dataframe tbody tr th {\n",
       "        vertical-align: top;\n",
       "    }\n",
       "\n",
       "    .dataframe thead th {\n",
       "        text-align: right;\n",
       "    }\n",
       "</style>\n",
       "<table border=\"1\" class=\"dataframe\">\n",
       "  <thead>\n",
       "    <tr style=\"text-align: right;\">\n",
       "      <th></th>\n",
       "      <th>0</th>\n",
       "    </tr>\n",
       "  </thead>\n",
       "  <tbody>\n",
       "    <tr>\n",
       "      <th>0</th>\n",
       "      <td>0.022225</td>\n",
       "    </tr>\n",
       "    <tr>\n",
       "      <th>1</th>\n",
       "      <td>0.021830</td>\n",
       "    </tr>\n",
       "    <tr>\n",
       "      <th>2</th>\n",
       "      <td>0.019980</td>\n",
       "    </tr>\n",
       "    <tr>\n",
       "      <th>3</th>\n",
       "      <td>0.047995</td>\n",
       "    </tr>\n",
       "    <tr>\n",
       "      <th>4</th>\n",
       "      <td>0.034826</td>\n",
       "    </tr>\n",
       "    <tr>\n",
       "      <th>...</th>\n",
       "      <td>...</td>\n",
       "    </tr>\n",
       "    <tr>\n",
       "      <th>76</th>\n",
       "      <td>0.038065</td>\n",
       "    </tr>\n",
       "    <tr>\n",
       "      <th>77</th>\n",
       "      <td>0.015886</td>\n",
       "    </tr>\n",
       "    <tr>\n",
       "      <th>78</th>\n",
       "      <td>0.023788</td>\n",
       "    </tr>\n",
       "    <tr>\n",
       "      <th>79</th>\n",
       "      <td>0.045621</td>\n",
       "    </tr>\n",
       "    <tr>\n",
       "      <th>80</th>\n",
       "      <td>0.024524</td>\n",
       "    </tr>\n",
       "  </tbody>\n",
       "</table>\n",
       "<p>81 rows × 1 columns</p>\n",
       "</div>"
      ],
      "text/plain": [
       "           0\n",
       "0   0.022225\n",
       "1   0.021830\n",
       "2   0.019980\n",
       "3   0.047995\n",
       "4   0.034826\n",
       "..       ...\n",
       "76  0.038065\n",
       "77  0.015886\n",
       "78  0.023788\n",
       "79  0.045621\n",
       "80  0.024524\n",
       "\n",
       "[81 rows x 1 columns]"
      ]
     },
     "execution_count": 7,
     "metadata": {},
     "output_type": "execute_result"
    }
   ],
   "source": [
    "my_mid_Dvars=[]\n",
    "for j in range(n):\n",
    "    data_dir='/home/mahdi/Desktop/centerline/'+name1[j][0]+'/output/mid_ref/Dvars'\n",
    "    my_mid_Dvars.append(np.mean(pd.read_csv(data_dir)))\n",
    "mean_my_mid_Dvars=np.mean(my_mid_Dvars)\n",
    "pd.DataFrame(my_mid_Dvars)  \n",
    "#pd.DataFrame(my_zero_Dvars).to_csv('/home/mahdi/Desktop/result/my_zero_Dvars.csv')"
   ]
  },
  {
   "cell_type": "code",
   "execution_count": 17,
   "metadata": {},
   "outputs": [],
   "source": [
    "my_mean_Dvars=[]\n",
    "for j in range(n):\n",
    "    data_dir='/home/mahdi/Desktop/centerline/'+name1[j][0]+'/output/mean_ref/Dvars'\n",
    "    my_mean_Dvars.append(np.mean(pd.read_csv(data_dir)))\n",
    "mean_my_mean_Dvars=np.mean(my_mean_Dvars)\n",
    "#pd.DataFrame(my_mean_Dvars)  \n",
    "#pd.DataFrame(my_zero_Dvars).to_csv('/home/mahdi/Desktop/result/my_zero_Dvars.csv')"
   ]
  },
  {
   "cell_type": "code",
   "execution_count": 10,
   "metadata": {},
   "outputs": [
    {
     "data": {
      "text/html": [
       "<div>\n",
       "<style scoped>\n",
       "    .dataframe tbody tr th:only-of-type {\n",
       "        vertical-align: middle;\n",
       "    }\n",
       "\n",
       "    .dataframe tbody tr th {\n",
       "        vertical-align: top;\n",
       "    }\n",
       "\n",
       "    .dataframe thead th {\n",
       "        text-align: right;\n",
       "    }\n",
       "</style>\n",
       "<table border=\"1\" class=\"dataframe\">\n",
       "  <thead>\n",
       "    <tr style=\"text-align: right;\">\n",
       "      <th></th>\n",
       "      <th>0</th>\n",
       "    </tr>\n",
       "  </thead>\n",
       "  <tbody>\n",
       "    <tr>\n",
       "      <th>mean_main_Dvars</th>\n",
       "      <td>0.034251</td>\n",
       "    </tr>\n",
       "    <tr>\n",
       "      <th>mean_sct_Dvars</th>\n",
       "      <td>0.031623</td>\n",
       "    </tr>\n",
       "    <tr>\n",
       "      <th>mean_my_zero_Dvars</th>\n",
       "      <td>0.028224</td>\n",
       "    </tr>\n",
       "    <tr>\n",
       "      <th>mean_my_mid_Dvars</th>\n",
       "      <td>0.029199</td>\n",
       "    </tr>\n",
       "    <tr>\n",
       "      <th>mean_my_mean_Dvars</th>\n",
       "      <td>0.028631</td>\n",
       "    </tr>\n",
       "  </tbody>\n",
       "</table>\n",
       "</div>"
      ],
      "text/plain": [
       "                           0\n",
       "mean_main_Dvars     0.034251\n",
       "mean_sct_Dvars      0.031623\n",
       "mean_my_zero_Dvars  0.028224\n",
       "mean_my_mid_Dvars   0.029199\n",
       "mean_my_mean_Dvars  0.028631"
      ]
     },
     "execution_count": 10,
     "metadata": {},
     "output_type": "execute_result"
    }
   ],
   "source": [
    "pd.DataFrame([mean_main_Dvars,mean_sct_Dvars,mean_my_zero_Dvars,mean_my_mid_Dvars,mean_my_mean_Dvars],\n",
    "            index=['mean_main_Dvars', 'mean_sct_Dvars', 'mean_my_zero_Dvars','mean_my_mid_Dvars','mean_my_mean_Dvars',\n",
    "                ])"
   ]
  },
  {
   "cell_type": "markdown",
   "metadata": {},
   "source": [
    "# row order"
   ]
  },
  {
   "cell_type": "code",
   "execution_count": null,
   "metadata": {},
   "outputs": [],
   "source": [
    "#final_Dvars=np.array([main_Dvars ,sct_Dvars ,my_zero_Dvars ,my_mid_Dvars ,my_mean_Dvars])\n",
    "#final_Dvars=final_Dvars[:,:,0]\n",
    "#pd.DataFrame(final_Dvars,index=['main_Dvars','sct_Dvars','myalgo_zero_Dvars','myalgo_mid_Dvars','myalgo_mean_Dvars']).to_csv('/home/mahdi/Desktop/result/Dvars_centerfix_result.csv')\n"
   ]
  },
  {
   "cell_type": "markdown",
   "metadata": {},
   "source": [
    "# column order"
   ]
  },
  {
   "cell_type": "code",
   "execution_count": 23,
   "metadata": {},
   "outputs": [],
   "source": [
    "final_Dvars=np.array([main_Dvars ,sct_Dvars ,my_zero_Dvars ,my_mid_Dvars ,my_mean_Dvars])\n",
    "final_Dvars=final_Dvars[:,:,0]\n",
    "final_Dvars=pd.DataFrame(final_Dvars)\n",
    "\n",
    "final_Dvars_transpose=final_Dvars.T\n",
    "final_Dvars_transpose.columns=['main_Dvars','sct_Dvars','myalgo_zero_Dvars','myalgo_mid_Dvars','myalgo_mean_Dvars']\n",
    "pd.DataFrame(final_Dvars_transpose).to_csv('/home/mahdi/Desktop/result/Dvars_centerfix_column_result.csv')\n",
    "\n"
   ]
  },
  {
   "cell_type": "code",
   "execution_count": 1,
   "metadata": {},
   "outputs": [
    {
     "ename": "NameError",
     "evalue": "name 'val_input' is not defined",
     "output_type": "error",
     "traceback": [
      "\u001b[0;31m---------------------------------------------------------------------------\u001b[0m",
      "\u001b[0;31mNameError\u001b[0m                                 Traceback (most recent call last)",
      "\u001b[0;32m<ipython-input-1-94b1d16b9edd>\u001b[0m in \u001b[0;36m<module>\u001b[0;34m\u001b[0m\n\u001b[1;32m      1\u001b[0m \u001b[0mv\u001b[0m\u001b[0;34m=\u001b[0m\u001b[0;36m101\u001b[0m\u001b[0;34m\u001b[0m\u001b[0;34m\u001b[0m\u001b[0m\n\u001b[0;32m----> 2\u001b[0;31m \u001b[0mimages\u001b[0m \u001b[0;34m=\u001b[0m \u001b[0;34m[\u001b[0m\u001b[0mimg\u001b[0m\u001b[0;34m[\u001b[0m\u001b[0mv\u001b[0m\u001b[0;34m,\u001b[0m \u001b[0;34m:\u001b[0m\u001b[0;34m,\u001b[0m \u001b[0;34m:\u001b[0m\u001b[0;34m,\u001b[0m \u001b[0;36m0\u001b[0m\u001b[0;34m]\u001b[0m \u001b[0;32mfor\u001b[0m \u001b[0mimg\u001b[0m \u001b[0;32min\u001b[0m \u001b[0mval_input\u001b[0m \u001b[0;34m+\u001b[0m \u001b[0mval_pred\u001b[0m\u001b[0;34m]\u001b[0m\u001b[0;34m\u001b[0m\u001b[0;34m\u001b[0m\u001b[0m\n\u001b[0m\u001b[1;32m      3\u001b[0m \u001b[0mtitles\u001b[0m \u001b[0;34m=\u001b[0m \u001b[0;34m[\u001b[0m\u001b[0;34m'moving'\u001b[0m\u001b[0;34m,\u001b[0m \u001b[0;34m'fixed'\u001b[0m\u001b[0;34m,\u001b[0m \u001b[0;34m'moved'\u001b[0m\u001b[0;34m,\u001b[0m \u001b[0;34m'flow'\u001b[0m\u001b[0;34m]\u001b[0m\u001b[0;34m\u001b[0m\u001b[0;34m\u001b[0m\u001b[0m\n\u001b[1;32m      4\u001b[0m \u001b[0mne\u001b[0m\u001b[0;34m.\u001b[0m\u001b[0mplot\u001b[0m\u001b[0;34m.\u001b[0m\u001b[0mslices\u001b[0m\u001b[0;34m(\u001b[0m\u001b[0mimages\u001b[0m\u001b[0;34m,\u001b[0m \u001b[0mtitles\u001b[0m\u001b[0;34m=\u001b[0m\u001b[0mtitles\u001b[0m\u001b[0;34m,\u001b[0m \u001b[0mcmaps\u001b[0m\u001b[0;34m=\u001b[0m\u001b[0;34m[\u001b[0m\u001b[0;34m'gray'\u001b[0m\u001b[0;34m]\u001b[0m\u001b[0;34m,\u001b[0m \u001b[0mdo_colorbars\u001b[0m\u001b[0;34m=\u001b[0m\u001b[0;32mTrue\u001b[0m\u001b[0;34m)\u001b[0m\u001b[0;34m;\u001b[0m\u001b[0;34m\u001b[0m\u001b[0;34m\u001b[0m\u001b[0m\n",
      "\u001b[0;31mNameError\u001b[0m: name 'val_input' is not defined"
     ]
    }
   ],
   "source": [
    "v=101\n",
    "images = [img[v, :, :, 0] for img in val_input + val_pred] \n",
    "titles = ['moving', 'fixed', 'moved', 'flow']\n",
    "ne.plot.slices(images, titles=titles, cmaps=['gray'], do_colorbars=True);\n"
   ]
  },
  {
   "cell_type": "code",
   "execution_count": null,
   "metadata": {
    "scrolled": false
   },
   "outputs": [],
   "source": [
    "ne.plot.flow([val_pred[1][v,...].squeeze()], width=5)"
   ]
  }
 ],
 "metadata": {
  "kernelspec": {
   "display_name": "Python 3",
   "language": "python",
   "name": "python3"
  },
  "language_info": {
   "codemirror_mode": {
    "name": "ipython",
    "version": 3
   },
   "file_extension": ".py",
   "mimetype": "text/x-python",
   "name": "python",
   "nbconvert_exporter": "python",
   "pygments_lexer": "ipython3",
   "version": "3.7.9"
  }
 },
 "nbformat": 4,
 "nbformat_minor": 4
}
