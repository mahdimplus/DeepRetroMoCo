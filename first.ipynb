{
 "cells": [
  {
   "cell_type": "code",
   "execution_count": 1,
   "metadata": {},
   "outputs": [],
   "source": [
    "def load_m (file_path):\n",
    "    \n",
    "    img = nib.load(file_path)\n",
    "    img_data = img.get_fdata()\n",
    "    \n",
    "    if img.shape[0:2]!=(64,64):\n",
    "    \n",
    "        img_data = img_data[23:87,23:87,:,:]\n",
    "        \n",
    "    if not (file_path.endswith(\".nii\") or file_path.endswith(\".nii.gz\")):\n",
    "        raise ValueError(\n",
    "              f\"Nifti file path must end with .nii or .nii.gz, got {file_path}.\"\n",
    "                        )\n",
    "    return img_data \n",
    "\n",
    "def load_with_head (file_path: str):\n",
    "    \n",
    "    img = nib.load(file_path)\n",
    "    img_data = img.get_fdata()\n",
    "    if img.shape[0:2]!=(64,64):\n",
    "    \n",
    "        img_data = img_data[23:87,23:87,:,:]\n",
    "        header=img.header  \n",
    "        ## edit the header for shape\n",
    "        header['dim'][1:5]=img_data.shape\n",
    "        \n",
    "    if not (file_path.endswith(\".nii\") or file_path.endswith(\".nii.gz\")):\n",
    "        raise ValueError(\n",
    "              f\"Nifti file path must end with .nii or .nii.gz, got {file_path}.\"\n",
    "                        )\n",
    "    return img_data ,img"
   ]
  },
  {
   "cell_type": "code",
   "execution_count": null,
   "metadata": {},
   "outputs": [],
   "source": []
  },
  {
   "cell_type": "code",
   "execution_count": null,
   "metadata": {},
   "outputs": [],
   "source": []
  }
 ],
 "metadata": {
  "kernelspec": {
   "display_name": "Python 3",
   "language": "python",
   "name": "python3"
  },
  "language_info": {
   "codemirror_mode": {
    "name": "ipython",
    "version": 3
   },
   "file_extension": ".py",
   "mimetype": "text/x-python",
   "name": "python",
   "nbconvert_exporter": "python",
   "pygments_lexer": "ipython3",
   "version": "3.8.5"
  }
 },
 "nbformat": 4,
 "nbformat_minor": 4
}
