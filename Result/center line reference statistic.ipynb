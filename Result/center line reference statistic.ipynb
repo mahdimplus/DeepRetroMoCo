{
 "cells": [
  {
   "cell_type": "code",
   "execution_count": 13,
   "metadata": {},
   "outputs": [],
   "source": [
    "import pandas as pd\n",
    "import numpy as np\n",
    "import nbimporter\n",
    "from functions import *\n",
    "from numpy import *\n",
    "import matplotlib.pyplot as plt\n",
    "%matplotlib inline\n",
    "import statistics\n",
    "from sklearn.metrics import mean_squared_error\n"
   ]
  },
  {
   "cell_type": "code",
   "execution_count": 2,
   "metadata": {},
   "outputs": [],
   "source": [
    "D7_dir='/home/mahdi/Desktop/data_selection_D7'\n",
    "n,name=count(D7_dir)"
   ]
  },
  {
   "cell_type": "code",
   "execution_count": 3,
   "metadata": {},
   "outputs": [],
   "source": [
    "out_dir='/home/mahdi/Desktop/valid'\n",
    "n1,name1=count(out_dir)"
   ]
  },
  {
   "cell_type": "code",
   "execution_count": 4,
   "metadata": {},
   "outputs": [],
   "source": [
    "for i in range(n1):\n",
    "    \n",
    "    n2,name2=count_endwith('/home/mahdi/Desktop/centerline/'+name1[i][0]+'/center','.csv')\n",
    "    source = pd.read_csv('/home/mahdi/Desktop/centerline/'+name1[i][0]+'/center/centerline_volume0000.csv', header=None)\n",
    "    if source.shape[0]<10:\n",
    "        continue\n",
    "    source.columns=['x','y','delete']\n",
    "    source = source[['x','y']]\n",
    "\n",
    "    for v in range(1,n2):\n",
    "\n",
    "        df = pd.read_csv('/home/mahdi/Desktop/centerline/'+name1[i][0]+'/center/'+name2[v][0], header=None)\n",
    "        df.columns=['x','y','delete']\n",
    "        df=df[['x','y']]\n",
    "        \n",
    "        if i==0  :\n",
    "            source=np.concatenate([source,df],axis=1)\n",
    "            source1=source  \n",
    "            \n",
    "          \n",
    "        \n",
    "        elif  i>0 :\n",
    "            source=np.concatenate([source,df],axis=1)\n",
    "            \n",
    "           \n",
    "    if i>=1:       \n",
    "        source1=np.concatenate([source1,source],axis=1)\n",
    "    "
   ]
  },
  {
   "cell_type": "code",
   "execution_count": 5,
   "metadata": {},
   "outputs": [],
   "source": [
    "y_data=source1[:, 1::2]\n",
    "    \n",
    "x_data=source1[:, ::2]"
   ]
  },
  {
   "cell_type": "code",
   "execution_count": 6,
   "metadata": {},
   "outputs": [
    {
     "data": {
      "text/plain": [
       "array([[58., 58., 58., ..., 45., 46., 45.],\n",
       "       [59., 58., 59., ..., 46., 46., 46.],\n",
       "       [59., 58., 59., ..., 48., 48., 48.],\n",
       "       ...,\n",
       "       [52., 51., 52., ..., 42., 41., 41.],\n",
       "       [50., 49., 50., ..., 38., 38., 38.],\n",
       "       [47., 47., 47., ..., 34., 33., 33.]])"
      ]
     },
     "execution_count": 6,
     "metadata": {},
     "output_type": "execute_result"
    }
   ],
   "source": [
    "y_data"
   ]
  },
  {
   "cell_type": "code",
   "execution_count": 7,
   "metadata": {},
   "outputs": [
    {
     "data": {
      "text/plain": [
       "array([[57., 57., 57., ..., 53., 55., 54.],\n",
       "       [57., 57., 57., ..., 53., 54., 53.],\n",
       "       [58., 58., 58., ..., 53., 53., 52.],\n",
       "       ...,\n",
       "       [58., 58., 59., ..., 52., 52., 53.],\n",
       "       [58., 58., 59., ..., 52., 52., 53.],\n",
       "       [58., 58., 58., ..., 53., 53., 53.]])"
      ]
     },
     "execution_count": 7,
     "metadata": {},
     "output_type": "execute_result"
    }
   ],
   "source": [
    "x_data"
   ]
  },
  {
   "cell_type": "code",
   "execution_count": 8,
   "metadata": {},
   "outputs": [],
   "source": [
    "\n",
    "x_var=np.zeros((10,81))\n",
    "y_var=np.zeros((10,81))\n",
    "\n",
    "start=0\n",
    "for i in range(81):\n",
    "    n2,name2=count_endwith('/home/mahdi/Desktop/centerline/'+name1[i][0]+'/center','.csv')\n",
    "    source = pd.read_csv('/home/mahdi/Desktop/centerline/'+name1[i][0]+'/center/centerline_volume0000.csv', header=None)\n",
    "    if source.shape[0]<10:\n",
    "        continue\n",
    "    for s in range(10):\n",
    "\n",
    "        x_var[s,i]=(statistics.variance(x_data[s,start:n2+start]))\n",
    "        y_var[s,i]=(statistics.variance(y_data[s,start:n2+start]))\n",
    "    start=n2"
   ]
  },
  {
   "cell_type": "code",
   "execution_count": 39,
   "metadata": {},
   "outputs": [],
   "source": [
    "x_mse=np.zeros((10,81))\n",
    "y_mse=np.zeros((10,81))\n",
    "\n",
    "start=0\n",
    "for i in range(81):\n",
    "    n2,name2=count_endwith('/home/mahdi/Desktop/centerline/'+name1[i][0]+'/center','.csv')\n",
    "    source = pd.read_csv('/home/mahdi/Desktop/centerline/'+name1[i][0]+'/center/centerline_volume0000.csv', header=None)\n",
    "    if source.shape[0]<10:\n",
    "        continue\n",
    "    for s in range(10):\n",
    "        \n",
    "        Yx_true =np.ones((n2+start)-start)*source[0][s]\n",
    "        Yy_true =np.ones((n2+start)-start)*source[1][s]\n",
    "\n",
    "        x_mse[s,i]=mean_squared_error(Yx_true ,x_data[s,start:n2+start])\n",
    "        y_mse[s,i]=mean_squared_error(Yy_true ,y_data[s,start:n2+start])\n",
    "    start=n2"
   ]
  },
  {
   "cell_type": "code",
   "execution_count": 64,
   "metadata": {},
   "outputs": [
    {
     "name": "stdout",
     "output_type": "stream",
     "text": [
      "mse_x= [12.10482914 11.72734849  8.05850495  8.58300885 11.62525339  9.55223146\n",
      "  7.30136581  6.56182191  3.88810546  3.66924193]\n",
      "mse_y= [63.46146679 63.9253806  62.78385461 45.36904655 38.90687518 27.30662432\n",
      " 22.13618343 21.70358326 28.29792304 38.1520638 ]\n"
     ]
    }
   ],
   "source": [
    "mean_mse_x=np.zeros(10)\n",
    "mean_mse_y=np.zeros(10)\n",
    "\n",
    "for s in range(10):\n",
    "    mean_mse_x[s]=sum(x_mse[s])/(81-3)\n",
    "    mean_mse_y[s]=sum(y_mse[s])/(81-3)\n",
    "    \n",
    "\n",
    "print('mse_x=',mean_mse_x)\n",
    "print('mse_y=',mean_mse_y)"
   ]
  },
  {
   "cell_type": "code",
   "execution_count": 65,
   "metadata": {},
   "outputs": [
    {
     "name": "stdout",
     "output_type": "stream",
     "text": [
      "8.307171138999308\n"
     ]
    },
    {
     "data": {
      "text/plain": [
       "41.20430015918783"
      ]
     },
     "execution_count": 65,
     "metadata": {},
     "output_type": "execute_result"
    }
   ],
   "source": [
    "print(np.mean(mean_mse_x))\n",
    "np.mean(mean_mse_y)"
   ]
  },
  {
   "cell_type": "markdown",
   "metadata": {},
   "source": [
    "# three data are outlier "
   ]
  },
  {
   "cell_type": "code",
   "execution_count": 10,
   "metadata": {},
   "outputs": [
    {
     "name": "stdout",
     "output_type": "stream",
     "text": [
      "mx= [1.46180129 1.24328409 0.90730675 1.01242655 1.63410636 1.17692734\n",
      " 1.04806989 0.76539909 0.51049557 0.52626492]\n",
      "my= [1.31148444 2.10696853 2.52511491 1.92037342 0.9642815  0.7044985\n",
      " 0.66776019 0.46885933 0.85936558 1.10195805]\n"
     ]
    }
   ],
   "source": [
    "mean_var_x=np.zeros(10)\n",
    "mean_var_y=np.zeros(10)\n",
    "\n",
    "for s in range(10):\n",
    "    mean_var_x[s]=sum(x_var[s,:])/(81-3)\n",
    "    mean_var_y[s]=sum(y_var[s,:])/(81-3)\n",
    "    \n",
    "\n",
    "print('mx=',mean_var_x)\n",
    "print('my=',mean_var_y)"
   ]
  },
  {
   "cell_type": "code",
   "execution_count": 11,
   "metadata": {},
   "outputs": [
    {
     "data": {
      "text/plain": [
       "1.0286081830912275"
      ]
     },
     "execution_count": 11,
     "metadata": {},
     "output_type": "execute_result"
    }
   ],
   "source": [
    "np.mean(mean_var_x)"
   ]
  },
  {
   "cell_type": "code",
   "execution_count": 12,
   "metadata": {},
   "outputs": [
    {
     "data": {
      "text/plain": [
       "1.2630664455137104"
      ]
     },
     "execution_count": 12,
     "metadata": {},
     "output_type": "execute_result"
    }
   ],
   "source": [
    "np.mean(mean_var_y)"
   ]
  },
  {
   "cell_type": "code",
   "execution_count": null,
   "metadata": {},
   "outputs": [],
   "source": []
  }
 ],
 "metadata": {
  "kernelspec": {
   "display_name": "Python 3",
   "language": "python",
   "name": "python3"
  },
  "language_info": {
   "codemirror_mode": {
    "name": "ipython",
    "version": 3
   },
   "file_extension": ".py",
   "mimetype": "text/x-python",
   "name": "python",
   "nbconvert_exporter": "python",
   "pygments_lexer": "ipython3",
   "version": "3.7.9"
  }
 },
 "nbformat": 4,
 "nbformat_minor": 4
}
