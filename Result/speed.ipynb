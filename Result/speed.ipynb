{
 "cells": [
  {
   "cell_type": "code",
   "execution_count": 1,
   "metadata": {},
   "outputs": [],
   "source": [
    "import pandas as pd\n",
    "import numpy as np\n",
    "import nibabel as nib\n",
    "import nbimporter\n",
    "from functions import *\n",
    "from numpy import *\n",
    "import matplotlib.pyplot as plt\n",
    "%matplotlib inline\n",
    "import shutil\n",
    "import os\n",
    "import subprocess\n",
    "import time\n"
   ]
  },
  {
   "cell_type": "code",
   "execution_count": 2,
   "metadata": {},
   "outputs": [],
   "source": [
    "D7_dir='/home/mahdi/Desktop/data_selection_D7'\n",
    "n,name=count(D7_dir)\n",
    "\n",
    "out_dir='/home/mahdi/Desktop/valid'\n",
    "n1,name1=count(out_dir)"
   ]
  },
  {
   "cell_type": "code",
   "execution_count": null,
   "metadata": {},
   "outputs": [],
   "source": [
    "name1[41][0]"
   ]
  },
  {
   "cell_type": "code",
   "execution_count": null,
   "metadata": {},
   "outputs": [],
   "source": [
    "for i in range(1,82):\n",
    "    if not os.path.exists('/media/mahdi/HD710 PRO/R&d/DRM/'+str(i)+'/center'):\n",
    "        os.makedirs('/media/mahdi/HD710 PRO/R&d/DRM/'+str(i)+'/center')\n"
   ]
  },
  {
   "cell_type": "code",
   "execution_count": null,
   "metadata": {},
   "outputs": [],
   "source": [
    "for i in range(n):\n",
    "    x=(len(name[i][0][:])-7)\n",
    "    input_mid='/home/mahdi/Desktop/data_selection_D7/'+name[i][0]\n",
    "    dest_folder='/media/mahdi/HD710 PRO/R&d/DRM/'+name1[i][0]\n",
    "    shutil.copy(input_mid, dest_folder)"
   ]
  },
  {
   "cell_type": "code",
   "execution_count": 38,
   "metadata": {},
   "outputs": [
    {
     "data": {
      "text/plain": [
       "'0282'"
      ]
     },
     "execution_count": 38,
     "metadata": {},
     "output_type": "execute_result"
    }
   ],
   "source": [
    "file_names[j][0][3:7]"
   ]
  },
  {
   "cell_type": "code",
   "execution_count": null,
   "metadata": {},
   "outputs": [],
   "source": [
    "j"
   ]
  },
  {
   "cell_type": "code",
   "execution_count": 54,
   "metadata": {
    "scrolled": true
   },
   "outputs": [
    {
     "name": "stdout",
     "output_type": "stream",
     "text": [
      "0191 ['44']\n",
      "--- 22.63979148864746 second ---\n",
      "--- 115.56618762016296 second ---\n",
      "0199 ['41']\n",
      "--- 26.553515672683716 second ---\n",
      "--- 129.40500378608704 second ---\n",
      "0152 ['26']\n",
      "--- 18.266656160354614 second ---\n",
      "--- 97.83960175514221 second ---\n",
      "0215 ['36']\n",
      "--- 29.5955913066864 second ---\n",
      "--- 139.73467230796814 second ---\n"
     ]
    }
   ],
   "source": [
    "for i in range(31,35):\n",
    "\n",
    "    start_time = time.time()\n",
    "\n",
    "    data_dir='/media/mahdi/HD710 PRO/R&d/DRM/'+name1[i][0]+'/'+name[i][0]\n",
    "    output_direction='/media/mahdi/HD710 PRO/R&d/DRM/'+name1[i][0]+'/vol'\n",
    "\n",
    "    subprocess.Popen(['fslsplit',data_dir,output_direction,'-t']) ## just change the output names.\n",
    "\n",
    "    time.sleep(1)\n",
    "    data_dir ='/media/mahdi/HD710 PRO/R&d/DRM/'+name1[i][0]\n",
    "    count,file_names=count_startwith(data_dir,'vol')\n",
    "    for j in range(count):\n",
    "        output_dir='/media/mahdi/HD710 PRO/R&d/DRM/'+name1[i][0]+'/center/'\n",
    "        input_dir=data_dir+'/'+file_names[j][0]\n",
    "        subprocess.Popen(['sct_get_centerline','-i',input_dir,'-o',output_dir+'centerline_volume'+file_names[j][0][3:7],'-c','t2s']) ## just change the output names.\n",
    "\n",
    "    file_path='/media/mahdi/HD710 PRO/R&d/DRM/'+name1[i][0]+'/center/centerline_volume'+file_names[j][0][3:7]+'.csv'\n",
    "    while not os.path.exists(file_path):\n",
    "          time.sleep(1)\n",
    "    #time.sleep(40)\n",
    "    print(file_names[j][0][3:7],name1[i])\n",
    "    Xs=[]\n",
    "    Ys=[]\n",
    "    source = pd.read_csv('/media/mahdi/HD710 PRO/R&d/DRM/'+name1[i][0]+'/center/centerline_volume0000.csv', header=None)\n",
    "\n",
    "    source.columns=['x','y','delete']\n",
    "    source = source[['x','y']]\n",
    "\n",
    "    for s in range(source.shape[0]):\n",
    "        c=source.loc[s]\n",
    "        xs=int(c['x'])\n",
    "        ys=int(c['y'])\n",
    "        Xs.append(xs)\n",
    "        Ys.append(ys)\n",
    "\n",
    "    n2,name2=count_endwith('/media/mahdi/HD710 PRO/R&d/DRM/'+name1[i][0]+'/center','.csv')\n",
    "\n",
    "    dx=[]\n",
    "    dy=[]\n",
    "    for s in range(0,source.shape[0]):\n",
    "         for j in range(n2):\n",
    "                df = pd.read_csv('/media/mahdi/HD710 PRO/R&d/DRM/'+name1[i][0]+'/center/'+name2[j][0], header=None)\n",
    "                df.columns=['x','y','delete']\n",
    "                df=df[['x','y']]\n",
    "                c=df.loc[s]\n",
    "                x=int(c['x'])\n",
    "                y=int(c['y'])\n",
    "\n",
    "                #xs=int((xs+x)/2)\n",
    "                #xs=int((xs+x)/2)\n",
    "\n",
    "                dx.append(Xs[s]-x)\n",
    "                dy.append(Ys[s]-y)  \n",
    "\n",
    "    input_direction='/media/mahdi/HD710 PRO/R&d/DRM/'+name1[i][0]+'/'+name[i][0]\n",
    "    img  = nib.load(input_direction)\n",
    "    img_data=img.get_fdata()\n",
    "    img_mask_affine = img.affine\n",
    "    header = img.header\n",
    "    nb_img = header.get_data_shape()\n",
    "    o=np.zeros((nb_img[0],nb_img[1],nb_img[2],nb_img[3]))\n",
    "\n",
    "\n",
    "    DX=np.zeros(len(dy))\n",
    "\n",
    "\n",
    "    start=0            \n",
    "    for s in range(0,source.shape[0]):\n",
    "        for v in range(n2):\n",
    "                    a= shift_image(img_data[:,:,s,v],dy[v+start],DX[v+start])\n",
    "                    o[:,:,s, v] = a            \n",
    "        start=start + n2\n",
    "\n",
    "    x=(len(name[i][0][:])-7)\n",
    "    input_direction='/media/mahdi/HD710 PRO/R&d/DRM/'+name1[i][0]+'/'+name[i][0][:x]+'_c.'+name[i][0][-6:]\n",
    "    img_reg = nib.Nifti1Image(o, affine=img_mask_affine, header=header)\n",
    "    nib.save(img_reg,input_direction)\n",
    "\n",
    "\n",
    "    maximum_intensity=1705\n",
    "    model='200epoch_with_val.h5'\n",
    "    output_direction_mean='/media/mahdi/HD710 PRO/R&d/DRM/'+name1[i][0]+'/'+name[i][0][:x]+'_cplus.'+name[i][0][-6:]\n",
    "    reference='0'\n",
    "    main(input_direction,reference,output_direction_mean,maximum_intensity,model)\n",
    "\n",
    "    print(\"--- %s second ---\" % (time.time() - start_time))\n",
    "\n"
   ]
  },
  {
   "cell_type": "code",
   "execution_count": 25,
   "metadata": {},
   "outputs": [
    {
     "data": {
      "text/plain": [
       "'/media/mahdi/HD710 PRO/R&d/DRM/55/center/centerline_volume0152.csv'"
      ]
     },
     "execution_count": 25,
     "metadata": {},
     "output_type": "execute_result"
    }
   ],
   "source": [
    "'/media/mahdi/HD710 PRO/R&d/DRM/'+name1[i][0]+'/center/centerline_volume'+file_names[j][0][3:7]+'.csv'"
   ]
  },
  {
   "cell_type": "code",
   "execution_count": 27,
   "metadata": {},
   "outputs": [],
   "source": [
    "file_path='/media/mahdi/HD710 PRO/R&d/DRM/'+name1[i][0]+'/center/centerline_volume'+file_names[j][0][3:7]+'.csv'\n",
    "while not os.path.exists(file_path):\n",
    "      time.sleep(1)\n"
   ]
  },
  {
   "cell_type": "code",
   "execution_count": null,
   "metadata": {},
   "outputs": [],
   "source": [
    "\n",
    "34\n",
    "32\n",
    "31"
   ]
  },
  {
   "cell_type": "code",
   "execution_count": 53,
   "metadata": {},
   "outputs": [
    {
     "data": {
      "text/plain": [
       "array(['44'], dtype='<U2')"
      ]
     },
     "execution_count": 53,
     "metadata": {},
     "output_type": "execute_result"
    }
   ],
   "source": [
    "name1[31]\n"
   ]
  },
  {
   "cell_type": "code",
   "execution_count": 45,
   "metadata": {},
   "outputs": [
    {
     "data": {
      "text/plain": [
       "array([['76'],\n",
       "       ['70'],\n",
       "       ['13'],\n",
       "       ['52'],\n",
       "       ['32'],\n",
       "       ['16'],\n",
       "       ['30'],\n",
       "       ['39'],\n",
       "       ['49'],\n",
       "       ['73'],\n",
       "       ['21'],\n",
       "       ['55'],\n",
       "       ['35'],\n",
       "       ['27'],\n",
       "       ['66'],\n",
       "       ['51'],\n",
       "       ['14'],\n",
       "       ['5'],\n",
       "       ['81'],\n",
       "       ['75'],\n",
       "       ['61'],\n",
       "       ['60'],\n",
       "       ['63'],\n",
       "       ['59'],\n",
       "       ['77'],\n",
       "       ['7'],\n",
       "       ['9'],\n",
       "       ['48'],\n",
       "       ['56'],\n",
       "       ['22'],\n",
       "       ['33'],\n",
       "       ['44'],\n",
       "       ['41'],\n",
       "       ['26'],\n",
       "       ['36'],\n",
       "       ['24'],\n",
       "       ['23'],\n",
       "       ['46'],\n",
       "       ['45'],\n",
       "       ['74'],\n",
       "       ['57'],\n",
       "       ['72'],\n",
       "       ['2'],\n",
       "       ['62'],\n",
       "       ['15'],\n",
       "       ['47'],\n",
       "       ['43'],\n",
       "       ['18'],\n",
       "       ['17'],\n",
       "       ['42'],\n",
       "       ['19'],\n",
       "       ['69'],\n",
       "       ['64'],\n",
       "       ['10'],\n",
       "       ['65'],\n",
       "       ['71'],\n",
       "       ['78'],\n",
       "       ['54'],\n",
       "       ['3'],\n",
       "       ['38'],\n",
       "       ['58'],\n",
       "       ['20'],\n",
       "       ['79'],\n",
       "       ['11'],\n",
       "       ['80'],\n",
       "       ['6'],\n",
       "       ['12'],\n",
       "       ['40'],\n",
       "       ['68'],\n",
       "       ['37'],\n",
       "       ['67'],\n",
       "       ['25'],\n",
       "       ['8'],\n",
       "       ['4'],\n",
       "       ['50'],\n",
       "       ['1'],\n",
       "       ['28'],\n",
       "       ['29'],\n",
       "       ['53'],\n",
       "       ['34'],\n",
       "       ['31']], dtype='<U2')"
      ]
     },
     "execution_count": 45,
     "metadata": {},
     "output_type": "execute_result"
    }
   ],
   "source": [
    "name1"
   ]
  }
 ],
 "metadata": {
  "kernelspec": {
   "display_name": "Python 3",
   "language": "python",
   "name": "python3"
  },
  "language_info": {
   "codemirror_mode": {
    "name": "ipython",
    "version": 3
   },
   "file_extension": ".py",
   "mimetype": "text/x-python",
   "name": "python",
   "nbconvert_exporter": "python",
   "pygments_lexer": "ipython3",
   "version": "3.7.9"
  }
 },
 "nbformat": 4,
 "nbformat_minor": 4
}
